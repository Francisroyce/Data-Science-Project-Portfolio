{
  "nbformat": 4,
  "nbformat_minor": 0,
  "metadata": {
    "colab": {
      "provenance": [],
      "gpuType": "T4",
      "mount_file_id": "1GfFywqaB_WJeJ6OLV2f5YkVBxuzdp-gd",
      "authorship_tag": "ABX9TyNz+eVmuo8cDz2zoMKz6S1G",
      "include_colab_link": true
    },
    "kernelspec": {
      "name": "python3",
      "display_name": "Python 3"
    },
    "language_info": {
      "name": "python"
    },
    "accelerator": "GPU",
    "gpuClass": "standard"
  },
  "cells": [
    {
      "cell_type": "markdown",
      "metadata": {
        "id": "view-in-github",
        "colab_type": "text"
      },
      "source": [
        "<a href=\"https://colab.research.google.com/github/Francisroyce/Francisroyce/blob/main/dog_and_cat_vision.ipynb\" target=\"_parent\"><img src=\"https://colab.research.google.com/assets/colab-badge.svg\" alt=\"Open In Colab\"/></a>"
      ]
    },
    {
      "cell_type": "code",
      "execution_count": 1,
      "metadata": {
        "id": "iIEQJeB_8xZM"
      },
      "outputs": [],
      "source": [
        "# !unzip 'drive/MyDrive/cat and dog vision/archive.zip' -d 'drive/MyDrive/cat and dog vision'\n",
        "     "
      ]
    },
    {
      "cell_type": "markdown",
      "source": [
        "Get our workspace ready"
      ],
      "metadata": {
        "id": "aYxDmy8BDbNd"
      }
    },
    {
      "cell_type": "code",
      "source": [
        "import numpy as np\n",
        "import pandas as pd\n",
        "import matplotlib.pyplot as plt\n",
        "import seaborn as sns\n",
        "import tensorflow as tf\n",
        "from tensorflow.keras.preprocessing.image import ImageDataGenerator\n",
        "from tensorflow.keras.models import Sequential\n",
        "from tensorflow.keras.layers import Conv2D, MaxPooling2D, Flatten, Dense, Dropout\n"
      ],
      "metadata": {
        "id": "P2_7jlGeEaoc"
      },
      "execution_count": 2,
      "outputs": []
    },
    {
      "cell_type": "code",
      "source": [
        "print('GPU', 'available (YESSSS!!!!!!)' if tf.config.list_physical_devices('GPU') else 'not available : ()')\n",
        "gpus = tf.config.experimental.list_physical_devices('GPU')\n",
        "len(gpus)"
      ],
      "metadata": {
        "colab": {
          "base_uri": "https://localhost:8080/"
        },
        "id": "AOiK5hC7G7-K",
        "outputId": "a95a6eb0-b11f-43e9-e2a9-147b58cf34bb"
      },
      "execution_count": 8,
      "outputs": [
        {
          "output_type": "stream",
          "name": "stdout",
          "text": [
            "GPU available (YESSSS!!!!!!)\n"
          ]
        },
        {
          "output_type": "execute_result",
          "data": {
            "text/plain": [
              "1"
            ]
          },
          "metadata": {},
          "execution_count": 8
        }
      ]
    },
    {
      "cell_type": "code",
      "source": [
        "import os\n",
        "cat_folder = 'drive/MyDrive/cat and dog vision/training_set/training_set/cats'\n",
        "dog_folder = 'drive/MyDrive/cat and dog vision/training_set/training_set/dogs'\n",
        "\n",
        "dog_count = len(os.listdir(dog_folder))\n",
        "cat_count = len (os.listdir(cat_folder))\n",
        "print('Number of dogs:', dog_count)\n",
        "print('Number of cats:', cat_count)"
      ],
      "metadata": {
        "colab": {
          "base_uri": "https://localhost:8080/"
        },
        "id": "TgVS4M1jFhNN",
        "outputId": "8f39aa57-5604-4faa-e178-eec3e1e8b318"
      },
      "execution_count": 5,
      "outputs": [
        {
          "output_type": "stream",
          "name": "stdout",
          "text": [
            "Number of dogs: 3992\n",
            "Number of cats: 3987\n"
          ]
        }
      ]
    },
    {
      "cell_type": "code",
      "source": [
        "if dog_count == len(set(os.listdir(dog_folder))):\n",
        "    print('All dog files have unique identities')\n",
        "else:\n",
        "    print('There are duplicate identities in the dog folder')\n",
        "\n",
        "# Checking for unique identity in the cat folder\n",
        "if cat_count == len(set(os.listdir(cat_folder))):\n",
        "    print('All cat files have unique identities')\n",
        "else:\n",
        "    print('There are duplicate identities in the cat folder')"
      ],
      "metadata": {
        "colab": {
          "base_uri": "https://localhost:8080/"
        },
        "id": "ZMuzxnI-LSNw",
        "outputId": "18ce2143-c9ce-476b-85fc-f5a5a2a0b1e5"
      },
      "execution_count": 7,
      "outputs": [
        {
          "output_type": "stream",
          "name": "stdout",
          "text": [
            "All dog files have unique identities\n",
            "All cat files have unique identities\n"
          ]
        }
      ]
    },
    {
      "cell_type": "code",
      "source": [],
      "metadata": {
        "id": "-OvTtW_hKRW1"
      },
      "execution_count": null,
      "outputs": []
    }
  ]
}