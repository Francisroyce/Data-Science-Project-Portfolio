{
  "nbformat": 4,
  "nbformat_minor": 0,
  "metadata": {
    "colab": {
      "provenance": [],
      "gpuType": "T4",
      "mount_file_id": "1dvEoAk4UhgSoHKjzbeirZEe5pD0uKUA9",
      "authorship_tag": "ABX9TyPV27PlR74aqLMzX8H0uPQH",
      "include_colab_link": true
    },
    "kernelspec": {
      "name": "python3",
      "display_name": "Python 3"
    },
    "language_info": {
      "name": "python"
    },
    "accelerator": "GPU"
  },
  "cells": [
    {
      "cell_type": "markdown",
      "metadata": {
        "id": "view-in-github",
        "colab_type": "text"
      },
      "source": [
        "<a href=\"https://colab.research.google.com/github/Francisroyce/Francisroyce/blob/main/Copy_of_Deep_learning_model_that_can_lip_read.ipynb\" target=\"_parent\"><img src=\"https://colab.research.google.com/assets/colab-badge.svg\" alt=\"Open In Colab\"/></a>"
      ]
    },
    {
      "cell_type": "markdown",
      "source": [
        "Install and import Dependencies"
      ],
      "metadata": {
        "id": "BBl0t5Z5J-UM"
      }
    },
    {
      "cell_type": "code",
      "execution_count": null,
      "metadata": {
        "id": "y-kodJ1ZHi7G"
      },
      "outputs": [],
      "source": [
        "# !pip install opencv-python matplotlib imageio gdown tensorflow"
      ]
    },
    {
      "cell_type": "code",
      "source": [
        "# pip list"
      ],
      "metadata": {
        "id": "Wo7d6OqYKLe7"
      },
      "execution_count": null,
      "outputs": []
    },
    {
      "cell_type": "code",
      "source": [
        "import os\n",
        "import cv2\n",
        "import tensorflow as tf\n",
        "import numpy as np\n",
        "import matplotlib.pyplot as plt\n",
        "import imageio\n",
        "from typing import List"
      ],
      "metadata": {
        "id": "OX6443SDKvXk"
      },
      "execution_count": null,
      "outputs": []
    },
    {
      "cell_type": "code",
      "source": [],
      "metadata": {
        "id": "mH5qog21LRnp"
      },
      "execution_count": null,
      "outputs": []
    }
  ]
}