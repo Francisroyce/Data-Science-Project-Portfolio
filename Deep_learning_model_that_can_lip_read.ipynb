{
  "cells": [
    {
      "cell_type": "markdown",
      "metadata": {
        "id": "view-in-github",
        "colab_type": "text"
      },
      "source": [
        "<a href=\"https://colab.research.google.com/github/Francisroyce/Francisroyce/blob/main/Deep_learning_model_that_can_lip_read.ipynb\" target=\"_parent\"><img src=\"https://colab.research.google.com/assets/colab-badge.svg\" alt=\"Open In Colab\"/></a>"
      ]
    },
    {
      "cell_type": "markdown",
      "metadata": {
        "id": "BBl0t5Z5J-UM"
      },
      "source": [
        "# Install and import Dependencies"
      ]
    },
    {
      "cell_type": "code",
      "execution_count": 40,
      "metadata": {
        "id": "y-kodJ1ZHi7G"
      },
      "outputs": [],
      "source": [
        "# !pip install opencv-python matplotlib imageio gdown tensorflow"
      ]
    },
    {
      "cell_type": "code",
      "execution_count": 41,
      "metadata": {
        "id": "Wo7d6OqYKLe7"
      },
      "outputs": [],
      "source": [
        "# pip list"
      ]
    },
    {
      "cell_type": "code",
      "execution_count": 42,
      "metadata": {
        "id": "OX6443SDKvXk"
      },
      "outputs": [],
      "source": [
        "import os\n",
        "import cv2\n",
        "import tensorflow as tf\n",
        "import numpy as np\n",
        "import matplotlib.pyplot as plt\n",
        "import imageio\n",
        "from typing import List"
      ]
    },
    {
      "cell_type": "code",
      "execution_count": 43,
      "metadata": {
        "id": "mH5qog21LRnp"
      },
      "outputs": [],
      "source": [
        "physical_devices = tf.config.list_physical_devices('GPU')\n",
        "try:\n",
        "  tf.config.experimental.set_memory_growth(physical_devices[0], True)\n",
        "except:\n",
        "    pass"
      ]
    },
    {
      "cell_type": "code",
      "execution_count": 44,
      "metadata": {
        "colab": {
          "base_uri": "https://localhost:8080/"
        },
        "id": "zttTn1SaM0J7",
        "outputId": "ddb2ba0c-0251-48de-ee1c-a2be62927679"
      },
      "outputs": [
        {
          "output_type": "execute_result",
          "data": {
            "text/plain": [
              "[PhysicalDevice(name='/physical_device:GPU:0', device_type='GPU')]"
            ]
          },
          "metadata": {},
          "execution_count": 44
        }
      ],
      "source": [
        " tf.config.list_physical_devices('GPU')"
      ]
    },
    {
      "cell_type": "code",
      "execution_count": 45,
      "metadata": {
        "colab": {
          "base_uri": "https://localhost:8080/"
        },
        "id": "cNgKziHjNE9Y",
        "outputId": "f49882a8-f5b5-432d-eac7-a3a455ecdffe"
      },
      "outputs": [
        {
          "output_type": "stream",
          "name": "stdout",
          "text": [
            "GPU device: /device:GPU:0\n"
          ]
        }
      ],
      "source": [
        "import tensorflow as tf\n",
        "\n",
        "device_name = tf.test.gpu_device_name()\n",
        "\n",
        "if device_name:\n",
        "    print(\"GPU device:\", device_name)\n",
        "else:\n",
        "    print(\"CPU\")\n"
      ]
    },
    {
      "cell_type": "markdown",
      "metadata": {
        "id": "XnfE2BgSNYU2"
      },
      "source": [
        "# Building Data Loading Functions"
      ]
    },
    {
      "cell_type": "code",
      "execution_count": 46,
      "metadata": {
        "id": "pAt6JRnoNuI0"
      },
      "outputs": [],
      "source": [
        "import gdown"
      ]
    },
    {
      "cell_type": "code",
      "execution_count": 47,
      "metadata": {
        "id": "xm54VIZ8Sn07"
      },
      "outputs": [],
      "source": [
        "# # downloading our data from an external google drive\n",
        "# url = 'https://drive.google.com/uc?id=1YlvpDLix3S-U8fd-gqRwPcWXAXm8JwjL'\n",
        "# output = 'data.zip'\n",
        "# gdown.download(url, output, quiet=False)\n",
        "# gdown.extractall('data.zip')"
      ]
    },
    {
      "cell_type": "code",
      "execution_count": 48,
      "metadata": {
        "id": "R00BFqEmTNh_"
      },
      "outputs": [],
      "source": [
        "# Creating a function to load videos\n",
        "def load_video(path: str) -> List[float]:\n",
        "    cap = cv2.VideoCapture(path)\n",
        "    frames = []\n",
        "    for _ in range(int(cap.get(cv2.CAP_PROP_FRAME_COUNT))):\n",
        "        ret, frame = cap.read()\n",
        "        frame = tf.image.rgb_to_grayscale(frame)\n",
        "        frames.append(frame[190:236, 80:220, :])\n",
        "    cap.release()\n",
        "\n",
        "    mean = tf.math.reduce_mean(frames)\n",
        "    std = tf.math.reduce_std(tf.cast(frames, tf.float32))\n",
        "    return tf.cast((frames - mean), tf.float32) / std"
      ]
    },
    {
      "cell_type": "markdown",
      "metadata": {
        "id": "uXijy56JboSP"
      },
      "source": [
        "This function, `load_video`, takes a path to a video file as input and returns a normalized representation of the video frames as a list of tensors.\n",
        "\n",
        "Here's a breakdown of what the function does:\n",
        "\n",
        "1. It imports the necessary libraries: `cv2` for video capture and `tensorflow` for image processing.\n",
        "2. The function accepts a `path` parameter, which specifies the path to the video file to be loaded.\n",
        "3. It initializes a video capture object `cap` using `cv2.VideoCapture(path)` to open the video file.\n",
        "4. An empty list `frames` is created to store the processed video frames.\n",
        "5. The function enters a loop that continues until there are no more frames to read (`cap.isOpened()`).\n",
        "6. Within the loop, it reads each frame using `cap.read()`. The return value `ret` indicates whether the frame was successfully read.\n",
        "7. If `ret` is `False`, it means there are no more frames to read, and the loop is terminated using `break`.\n",
        "8. The current frame is converted to grayscale using `tf.image.rgb_to_grayscale(frame)`.\n",
        "9. A specific region of interest (ROI) is extracted from the frame using indexing: `frame[190:236, 80:220, :]`. This ROI represents a rectangular portion of the frame defined by the specified coordinates.\n",
        "10. The extracted ROI is appended to the `frames` list.\n",
        "11. After all frames have been processed, the video capture object is released using `cap.release()` to free up system resources.\n",
        "12. The list of frames is converted into a tensor using `tf.stack(frames)`. This results in a tensor with the shape `[num_frames, height, width, channels]`.\n",
        "13. The mean value of the tensor is calculated using `tf.reduce_mean(frames)`.\n",
        "14. The standard deviation of the tensor is calculated using `tf.math.reduce_std(frames)`.\n",
        "15. The tensor is normalized by subtracting the mean and dividing by the standard deviation. This is achieved with `(frames - mean) / std`.\n",
        "16. Finally, the normalized tensor is casted to `tf.float32` using `tf.cast(..., tf.float32)` and returned as the output of the function.\n",
        "\n",
        "Overall, this function loads a video file, extracts specific regions of interest from each frame, calculates the mean and standard deviation of the frames, and returns the normalized frames as a tensor."
      ]
    },
    {
      "cell_type": "code",
      "execution_count": 49,
      "metadata": {
        "colab": {
          "base_uri": "https://localhost:8080/"
        },
        "id": "WKM5Yfk6bvhx",
        "outputId": "88327164-0127-4843-8e8f-787e0d4532b8"
      },
      "outputs": [
        {
          "output_type": "execute_result",
          "data": {
            "text/plain": [
              "['a',\n",
              " 'b',\n",
              " 'c',\n",
              " 'd',\n",
              " 'e',\n",
              " 'f',\n",
              " 'g',\n",
              " 'h',\n",
              " 'i',\n",
              " 'j',\n",
              " 'k',\n",
              " 'l',\n",
              " 'm',\n",
              " 'n',\n",
              " 'o',\n",
              " 'p',\n",
              " 'q',\n",
              " 'r',\n",
              " 's',\n",
              " 't',\n",
              " 'u',\n",
              " 'v',\n",
              " 'w',\n",
              " 'x',\n",
              " 'y',\n",
              " 'z',\n",
              " \"'\",\n",
              " '?',\n",
              " '!',\n",
              " '1',\n",
              " '2',\n",
              " '3',\n",
              " '4',\n",
              " '5',\n",
              " '6',\n",
              " '7',\n",
              " '8',\n",
              " '9']"
            ]
          },
          "metadata": {},
          "execution_count": 49
        }
      ],
      "source": [
        "# vocabulary= words or letter we may encounter in data\n",
        "vocab = [x for x in \"abcdefghijklmnopqrstuvwxyz'?!123456789\"]\n",
        "vocab"
      ]
    },
    {
      "cell_type": "code",
      "execution_count": 50,
      "metadata": {
        "colab": {
          "base_uri": "https://localhost:8080/"
        },
        "id": "C4L_cQEzc_BV",
        "outputId": "529bd4b1-f24e-463a-876a-588ead09ae2f"
      },
      "outputs": [
        {
          "output_type": "stream",
          "name": "stdout",
          "text": [
            "The vocabulary is: ['', 'a', 'b', 'c', 'd', 'e', 'f', 'g', 'h', 'i', 'j', 'k', 'l', 'm', 'n', 'o', 'p', 'q', 'r', 's', 't', 'u', 'v', 'w', 'x', 'y', 'z', \"'\", '?', '!', '1', '2', '3', '4', '5', '6', '7', '8', '9'] (size = <bound method IndexLookup.vocabulary_size of <keras.layers.preprocessing.string_lookup.StringLookup object at 0x7feb50da6920>>)\n"
          ]
        }
      ],
      "source": [
        "# converting characters to numbers and vice versa\n",
        "char_to_num = tf.keras.layers.StringLookup(vocabulary=vocab, oov_token=\"\")\n",
        "num_to_char = tf.keras.layers.StringLookup(vocabulary=char_to_num.get_vocabulary(), oov_token=\"\", invert=True)\n",
        "\n",
        "print(f\"The vocabulary is: {char_to_num.get_vocabulary()}\"\n",
        "      f\" (size = {char_to_num.vocabulary_size})\")\n"
      ]
    },
    {
      "cell_type": "markdown",
      "metadata": {
        "id": "FV5yuTWKdAzP"
      },
      "source": [
        "This code uses the TensorFlow library to define and initialize two layers for mapping characters to numbers and vice versa. Here's a breakdown of what each line does:\n",
        "\n",
        "1. `char_to_num = tf.keras.layers.StringLookup(vocabulary=vocab, oov_token=\"\")`: This line creates a `StringLookup` layer named `char_to_num`. It takes two arguments: `vocabulary` and `oov_token`. The `vocabulary` parameter is set to `vocab`, which represents a list or set of characters or words that the layer will use for mapping. The `oov_token` parameter specifies the out-of-vocabulary token, which is an empty string (`\"\"`) in this case. The `StringLookup` layer is responsible for converting characters/strings to numerical indices.\n",
        "\n",
        "2. `num_to_char = tf.keras.layers.StringLookup(vocabulary=char_to_num.get_vocabulary(), oov_token=\"\", invert=True)`: This line creates another `StringLookup` layer named `num_to_char`. It uses the `get_vocabulary()` method of `char_to_num` to retrieve the vocabulary learned by the previous layer. By setting `invert=True`, this layer will map numerical indices back to the original characters/strings.\n",
        "\n",
        "3. `print(f\"The vocabulary is: {char_to_num.get_vocabulary()}\" f\" (size = {char_to_num.vocabulary_size})\")`: This line prints the vocabulary learned by the `char_to_num` layer, as well as its size. It uses f-string formatting to include the values in the string output.\n",
        "\n",
        "Overall, this code sets up two layers for converting characters to numbers and vice versa, and then prints the vocabulary learned by the first layer."
      ]
    },
    {
      "cell_type": "code",
      "execution_count": 51,
      "metadata": {
        "colab": {
          "base_uri": "https://localhost:8080/"
        },
        "id": "3Q5r1P9ffZ9k",
        "outputId": "8b7096eb-e5cb-41e1-fa9c-283595d58d78"
      },
      "outputs": [
        {
          "output_type": "execute_result",
          "data": {
            "text/plain": [
              "<tf.Tensor: shape=(4,), dtype=int64, numpy=array([1, 2, 3, 4])>"
            ]
          },
          "metadata": {},
          "execution_count": 51
        }
      ],
      "source": [
        "# you can see it is converted to numbers\n",
        "char_to_num(['a', 'b', 'c', 'd'])"
      ]
    },
    {
      "cell_type": "code",
      "execution_count": 52,
      "metadata": {
        "colab": {
          "base_uri": "https://localhost:8080/"
        },
        "id": "RXKI1C1vf1xY",
        "outputId": "2b4f9502-5dbc-4730-f3bd-04335fd62a91"
      },
      "outputs": [
        {
          "output_type": "execute_result",
          "data": {
            "text/plain": [
              "<tf.Tensor: shape=(4,), dtype=string, numpy=array([b'a', b'b', b'c', b'd'], dtype=object)>"
            ]
          },
          "metadata": {},
          "execution_count": 52
        }
      ],
      "source": [
        "# number to char\n",
        "num_to_char([1, 2, 3, 4])"
      ]
    },
    {
      "cell_type": "code",
      "execution_count": 53,
      "metadata": {
        "id": "xSoPID9JgOj-"
      },
      "outputs": [],
      "source": [
        "# Loading alignments function\n",
        "def load_alignments(path: str) -> List[str]:\n",
        "    with open(path, 'r') as f:\n",
        "        lines = f.readlines()\n",
        "    tokens = []\n",
        "    for line in lines:\n",
        "        line = line.split()\n",
        "        if line[2] != 'sil':\n",
        "            tokens.extend([' ', line[2]])\n",
        "    return char_to_num(tf.reshape(tf.strings.unicode_split(tokens, input_encoding='UTF-8'), (-1)))[1:]\n"
      ]
    },
    {
      "cell_type": "markdown",
      "metadata": {
        "id": "G2B15omHi9QL"
      },
      "source": [
        "This code appears to load alignments from a file and convert them into a numerical representation. Let's break it down step by step:\n",
        "\n",
        "1. The function `load_alignments` takes a parameter `path`, which is the path to the file containing alignments, and it returns a list of strings.\n",
        "\n",
        "2. It opens the file specified by `path` using the `open()` function, in read mode ('r'), and assigns the file object to the variable `f`.\n",
        "\n",
        "3. It reads all the lines from the file using the `readlines()` method of the file object `f`, and assigns the resulting list of lines to the variable `lines`.\n",
        "\n",
        "4. It initializes an empty list called `tokens` to store the alignment tokens.\n",
        "\n",
        "5. It iterates over each line in the `lines` list using a for loop.\n",
        "\n",
        "6. Inside the loop, it splits the line into a list of words using the `split()` method, and assigns it to the variable `line`.\n",
        "\n",
        "7. It checks if the third element (`line[2]`) of the `line` list is not equal to the string 'sil'.\n",
        "\n",
        "8. If the condition is true, it appends the third element (`line[2]`) to the `tokens` list using the list concatenation operator `[*tokens, ' ', line[2]]`. The ' ' is added as a space separator between tokens.\n",
        "\n",
        "9. Finally, it converts the `tokens` list into a numerical representation. It reshapes the list into a tensor using `tf.reshape()`, then splits the strings into Unicode characters using `tf.strings.unicode_split()`, and converts the characters into numerical values using `char_to_num()`.\n",
        "\n",
        "10. The resulting numerical representation of the tokens is returned as the output of the function."
      ]
    },
    {
      "cell_type": "code",
      "execution_count": 54,
      "metadata": {
        "id": "7G-2mmZ1jH6X"
      },
      "outputs": [],
      "source": [
        "import os\n",
        "# load data function\n",
        "def load_data(path: str):\n",
        "    path = bytes.decode(path.numpy())\n",
        "    file_name = path.split('/')[-1].split('.')[0]\n",
        "    video_path = os.path.join('/content/drive/MyDrive/data/s1', f'{file_name}.mpg')\n",
        "    alignment_path = os.path.join('/content/drive/MyDrive/data/alignments/s1', f'{file_name}.align')\n",
        "    frames = load_video(video_path)\n",
        "    alignments = load_alignments(alignment_path)\n",
        "\n",
        "    return frames, alignments\n"
      ]
    },
    {
      "cell_type": "markdown",
      "metadata": {
        "id": "8vC2XPR9CDJx"
      },
      "source": [
        "The function load_data takes a single argument path, which is expected to be a string.\n",
        "\n",
        "The path argument is converted from a numpy array to a regular string using the bytes.decode() method.\n",
        "\n",
        "The code then extracts the file name from the path string by splitting it using the backslash (\\) as the delimiter. It takes the last element of the resulting list, which should be the file name, and removes the file extension by splitting it again using the dot (.) as the delimiter. It takes the first element of this new list, which should be the file name without the extension. The resulting file name is stored in the file_name variable.\n",
        "\n",
        "The video_path variable is created by joining the strings 'data', 's1', and the file_name with the .mpg extension. This suggests that the code is constructing a file path to load a video file from a specific directory.\n",
        "\n",
        "The alignment_path variable is created by joining the strings 'data', 'alignment', 's1', and the file_name with the .align extension. This suggests that the code is constructing a file path to load alignment data from a specific directory.\n",
        "\n",
        "The code calls two unspecified functions, load_video() and load_alignments(), passing in the video_path and alignment_path respectively. These functions are expected to load video frames and alignment data, but their implementations are not shown in the provided code snippet.\n",
        "\n",
        "The function returns the loaded frames and alignments as a tuple."
      ]
    },
    {
      "cell_type": "code",
      "execution_count": 55,
      "metadata": {
        "id": "nkWZ2OWvCkfb"
      },
      "outputs": [],
      "source": [
        "test_path = '/content/drive/MyDrive/data/s1/bbaf2n.mpg'"
      ]
    },
    {
      "cell_type": "code",
      "execution_count": 56,
      "metadata": {
        "colab": {
          "base_uri": "https://localhost:8080/",
          "height": 36
        },
        "id": "lI3rLfcpRxTs",
        "outputId": "92c77470-3071-4d3f-ccd9-007e27d2e8ad"
      },
      "outputs": [
        {
          "output_type": "execute_result",
          "data": {
            "text/plain": [
              "'bbaf2n'"
            ],
            "application/vnd.google.colaboratory.intrinsic+json": {
              "type": "string"
            }
          },
          "metadata": {},
          "execution_count": 56
        }
      ],
      "source": [
        "tf.convert_to_tensor(test_path).numpy().decode('utf-8').split('/')[-1].split('.')[0]"
      ]
    },
    {
      "cell_type": "code",
      "execution_count": 57,
      "metadata": {
        "colab": {
          "base_uri": "https://localhost:8080/"
        },
        "id": "QHIW1ijDHJ_l",
        "outputId": "86a9c1ee-0b32-400a-d885-cd1cfbe52c51"
      },
      "outputs": [
        {
          "output_type": "execute_result",
          "data": {
            "text/plain": [
              "(<tf.Tensor: shape=(75, 46, 140, 1), dtype=float32, numpy=\n",
              " array([[[[1.4991663 ],\n",
              "          [1.4991663 ],\n",
              "          [1.4616871 ],\n",
              "          ...,\n",
              "          [0.41227072],\n",
              "          [0.41227072],\n",
              "          [0.41227072]],\n",
              " \n",
              "         [[1.4991663 ],\n",
              "          [1.4991663 ],\n",
              "          [1.4616871 ],\n",
              "          ...,\n",
              "          [0.41227072],\n",
              "          [0.41227072],\n",
              "          [0.41227072]],\n",
              " \n",
              "         [[1.4616871 ],\n",
              "          [1.4616871 ],\n",
              "          [1.4991663 ],\n",
              "          ...,\n",
              "          [0.3373124 ],\n",
              "          [0.3373124 ],\n",
              "          [0.3373124 ]],\n",
              " \n",
              "         ...,\n",
              " \n",
              "         [[1.0494163 ],\n",
              "          [1.0494163 ],\n",
              "          [1.0119373 ],\n",
              "          ...,\n",
              "          [0.11243746],\n",
              "          [0.11243746],\n",
              "          [0.07495831]],\n",
              " \n",
              "         [[1.0494163 ],\n",
              "          [1.0494163 ],\n",
              "          [1.0119373 ],\n",
              "          ...,\n",
              "          [0.11243746],\n",
              "          [0.07495831],\n",
              "          [0.07495831]],\n",
              " \n",
              "         [[1.0494163 ],\n",
              "          [1.0494163 ],\n",
              "          [1.0119373 ],\n",
              "          ...,\n",
              "          [0.07495831],\n",
              "          [0.07495831],\n",
              "          [0.03747915]]],\n",
              " \n",
              " \n",
              "        [[[1.4242079 ],\n",
              "          [1.4242079 ],\n",
              "          [1.4242079 ],\n",
              "          ...,\n",
              "          [0.3373124 ],\n",
              "          [0.3373124 ],\n",
              "          [0.3373124 ]],\n",
              " \n",
              "         [[1.4242079 ],\n",
              "          [1.4242079 ],\n",
              "          [1.4242079 ],\n",
              "          ...,\n",
              "          [0.3373124 ],\n",
              "          [0.3373124 ],\n",
              "          [0.3373124 ]],\n",
              " \n",
              "         [[1.4242079 ],\n",
              "          [1.4242079 ],\n",
              "          [1.4242079 ],\n",
              "          ...,\n",
              "          [0.29983324],\n",
              "          [0.29983324],\n",
              "          [0.29983324]],\n",
              " \n",
              "         ...,\n",
              " \n",
              "         [[1.0494163 ],\n",
              "          [1.0494163 ],\n",
              "          [1.0119373 ],\n",
              "          ...,\n",
              "          [0.11243746],\n",
              "          [0.11243746],\n",
              "          [0.07495831]],\n",
              " \n",
              "         [[1.0494163 ],\n",
              "          [1.0494163 ],\n",
              "          [1.0119373 ],\n",
              "          ...,\n",
              "          [0.11243746],\n",
              "          [0.07495831],\n",
              "          [0.07495831]],\n",
              " \n",
              "         [[1.0494163 ],\n",
              "          [1.0494163 ],\n",
              "          [1.0119373 ],\n",
              "          ...,\n",
              "          [0.07495831],\n",
              "          [0.07495831],\n",
              "          [0.03747915]]],\n",
              " \n",
              " \n",
              "        [[[1.3492496 ],\n",
              "          [1.3492496 ],\n",
              "          [1.3492496 ],\n",
              "          ...,\n",
              "          [0.3373124 ],\n",
              "          [0.3373124 ],\n",
              "          [0.3373124 ]],\n",
              " \n",
              "         [[1.3492496 ],\n",
              "          [1.3492496 ],\n",
              "          [1.3492496 ],\n",
              "          ...,\n",
              "          [0.3373124 ],\n",
              "          [0.3373124 ],\n",
              "          [0.3373124 ]],\n",
              " \n",
              "         [[1.4242079 ],\n",
              "          [1.4242079 ],\n",
              "          [1.3867288 ],\n",
              "          ...,\n",
              "          [0.26235408],\n",
              "          [0.29983324],\n",
              "          [0.29983324]],\n",
              " \n",
              "         ...,\n",
              " \n",
              "         [[0.97445804],\n",
              "          [0.97445804],\n",
              "          [0.9369789 ],\n",
              "          ...,\n",
              "          [0.11243746],\n",
              "          [0.11243746],\n",
              "          [0.07495831]],\n",
              " \n",
              "         [[0.97445804],\n",
              "          [0.97445804],\n",
              "          [0.9369789 ],\n",
              "          ...,\n",
              "          [0.11243746],\n",
              "          [0.07495831],\n",
              "          [0.07495831]],\n",
              " \n",
              "         [[0.97445804],\n",
              "          [0.97445804],\n",
              "          [0.9369789 ],\n",
              "          ...,\n",
              "          [0.07495831],\n",
              "          [0.07495831],\n",
              "          [0.03747915]]],\n",
              " \n",
              " \n",
              "        ...,\n",
              " \n",
              " \n",
              "        [[[1.4991663 ],\n",
              "          [1.4991663 ],\n",
              "          [1.4991663 ],\n",
              "          ...,\n",
              "          [0.29983324],\n",
              "          [0.29983324],\n",
              "          [0.29983324]],\n",
              " \n",
              "         [[1.4242079 ],\n",
              "          [1.4242079 ],\n",
              "          [1.4242079 ],\n",
              "          ...,\n",
              "          [0.29983324],\n",
              "          [0.29983324],\n",
              "          [0.29983324]],\n",
              " \n",
              "         [[1.4616871 ],\n",
              "          [1.4616871 ],\n",
              "          [1.4242079 ],\n",
              "          ...,\n",
              "          [0.29983324],\n",
              "          [0.26235408],\n",
              "          [0.26235408]],\n",
              " \n",
              "         ...,\n",
              " \n",
              "         [[1.0868955 ],\n",
              "          [1.0494163 ],\n",
              "          [1.0494163 ],\n",
              "          ...,\n",
              "          [0.07495831],\n",
              "          [0.07495831],\n",
              "          [0.07495831]],\n",
              " \n",
              "         [[1.0494163 ],\n",
              "          [1.0494163 ],\n",
              "          [1.0494163 ],\n",
              "          ...,\n",
              "          [0.07495831],\n",
              "          [0.07495831],\n",
              "          [0.07495831]],\n",
              " \n",
              "         [[1.0494163 ],\n",
              "          [1.0494163 ],\n",
              "          [1.0494163 ],\n",
              "          ...,\n",
              "          [0.07495831],\n",
              "          [0.07495831],\n",
              "          [0.03747915]]],\n",
              " \n",
              " \n",
              "        [[[1.4991663 ],\n",
              "          [1.4991663 ],\n",
              "          [1.5366454 ],\n",
              "          ...,\n",
              "          [0.3373124 ],\n",
              "          [0.29983324],\n",
              "          [0.29983324]],\n",
              " \n",
              "         [[1.4242079 ],\n",
              "          [1.4242079 ],\n",
              "          [1.4616871 ],\n",
              "          ...,\n",
              "          [0.3373124 ],\n",
              "          [0.29983324],\n",
              "          [0.29983324]],\n",
              " \n",
              "         [[1.4616871 ],\n",
              "          [1.4616871 ],\n",
              "          [1.4242079 ],\n",
              "          ...,\n",
              "          [0.26235408],\n",
              "          [0.29983324],\n",
              "          [0.29983324]],\n",
              " \n",
              "         ...,\n",
              " \n",
              "         [[1.0494163 ],\n",
              "          [1.0119373 ],\n",
              "          [1.0119373 ],\n",
              "          ...,\n",
              "          [0.03747915],\n",
              "          [0.03747915],\n",
              "          [0.03747915]],\n",
              " \n",
              "         [[1.0494163 ],\n",
              "          [1.0119373 ],\n",
              "          [1.0119373 ],\n",
              "          ...,\n",
              "          [0.03747915],\n",
              "          [0.03747915],\n",
              "          [0.03747915]],\n",
              " \n",
              "         [[1.0119373 ],\n",
              "          [1.0119373 ],\n",
              "          [0.97445804],\n",
              "          ...,\n",
              "          [0.03747915],\n",
              "          [0.03747915],\n",
              "          [0.        ]]],\n",
              " \n",
              " \n",
              "        [[[1.4616871 ],\n",
              "          [1.4616871 ],\n",
              "          [1.4616871 ],\n",
              "          ...,\n",
              "          [0.29983324],\n",
              "          [0.29983324],\n",
              "          [0.29983324]],\n",
              " \n",
              "         [[1.4616871 ],\n",
              "          [1.4616871 ],\n",
              "          [1.4616871 ],\n",
              "          ...,\n",
              "          [0.29983324],\n",
              "          [0.29983324],\n",
              "          [0.29983324]],\n",
              " \n",
              "         [[1.4242079 ],\n",
              "          [1.4242079 ],\n",
              "          [1.3867288 ],\n",
              "          ...,\n",
              "          [0.29983324],\n",
              "          [0.29983324],\n",
              "          [0.29983324]],\n",
              " \n",
              "         ...,\n",
              " \n",
              "         [[1.0494163 ],\n",
              "          [1.0119373 ],\n",
              "          [1.0119373 ],\n",
              "          ...,\n",
              "          [0.03747915],\n",
              "          [0.03747915],\n",
              "          [0.03747915]],\n",
              " \n",
              "         [[0.97445804],\n",
              "          [0.9369789 ],\n",
              "          [0.97445804],\n",
              "          ...,\n",
              "          [0.03747915],\n",
              "          [0.03747915],\n",
              "          [0.03747915]],\n",
              " \n",
              "         [[0.97445804],\n",
              "          [0.9369789 ],\n",
              "          [0.97445804],\n",
              "          ...,\n",
              "          [0.03747915],\n",
              "          [0.03747915],\n",
              "          [0.        ]]]], dtype=float32)>,\n",
              " <tf.Tensor: shape=(21,), dtype=int64, numpy=\n",
              " array([ 2,  9, 14,  0,  2, 12, 21,  5,  0,  1, 20,  0,  6,  0, 20, 23, 15,\n",
              "         0, 14, 15, 23])>)"
            ]
          },
          "metadata": {},
          "execution_count": 57
        }
      ],
      "source": [
        "load_data(tf.convert_to_tensor(test_path))"
      ]
    },
    {
      "cell_type": "code",
      "execution_count": 58,
      "metadata": {
        "id": "pmO4mCukHLky"
      },
      "outputs": [],
      "source": [
        "frames , alignments = load_data(tf.convert_to_tensor(test_path))"
      ]
    },
    {
      "cell_type": "code",
      "execution_count": 59,
      "metadata": {
        "colab": {
          "base_uri": "https://localhost:8080/"
        },
        "id": "_D62wyZKRUJg",
        "outputId": "f8e7710b-c84e-4b43-e129-00fd08ff34ad"
      },
      "outputs": [
        {
          "output_type": "execute_result",
          "data": {
            "text/plain": [
              "<tf.Tensor: shape=(75, 46, 140, 1), dtype=float32, numpy=\n",
              "array([[[[1.4991663 ],\n",
              "         [1.4991663 ],\n",
              "         [1.4616871 ],\n",
              "         ...,\n",
              "         [0.41227072],\n",
              "         [0.41227072],\n",
              "         [0.41227072]],\n",
              "\n",
              "        [[1.4991663 ],\n",
              "         [1.4991663 ],\n",
              "         [1.4616871 ],\n",
              "         ...,\n",
              "         [0.41227072],\n",
              "         [0.41227072],\n",
              "         [0.41227072]],\n",
              "\n",
              "        [[1.4616871 ],\n",
              "         [1.4616871 ],\n",
              "         [1.4991663 ],\n",
              "         ...,\n",
              "         [0.3373124 ],\n",
              "         [0.3373124 ],\n",
              "         [0.3373124 ]],\n",
              "\n",
              "        ...,\n",
              "\n",
              "        [[1.0494163 ],\n",
              "         [1.0494163 ],\n",
              "         [1.0119373 ],\n",
              "         ...,\n",
              "         [0.11243746],\n",
              "         [0.11243746],\n",
              "         [0.07495831]],\n",
              "\n",
              "        [[1.0494163 ],\n",
              "         [1.0494163 ],\n",
              "         [1.0119373 ],\n",
              "         ...,\n",
              "         [0.11243746],\n",
              "         [0.07495831],\n",
              "         [0.07495831]],\n",
              "\n",
              "        [[1.0494163 ],\n",
              "         [1.0494163 ],\n",
              "         [1.0119373 ],\n",
              "         ...,\n",
              "         [0.07495831],\n",
              "         [0.07495831],\n",
              "         [0.03747915]]],\n",
              "\n",
              "\n",
              "       [[[1.4242079 ],\n",
              "         [1.4242079 ],\n",
              "         [1.4242079 ],\n",
              "         ...,\n",
              "         [0.3373124 ],\n",
              "         [0.3373124 ],\n",
              "         [0.3373124 ]],\n",
              "\n",
              "        [[1.4242079 ],\n",
              "         [1.4242079 ],\n",
              "         [1.4242079 ],\n",
              "         ...,\n",
              "         [0.3373124 ],\n",
              "         [0.3373124 ],\n",
              "         [0.3373124 ]],\n",
              "\n",
              "        [[1.4242079 ],\n",
              "         [1.4242079 ],\n",
              "         [1.4242079 ],\n",
              "         ...,\n",
              "         [0.29983324],\n",
              "         [0.29983324],\n",
              "         [0.29983324]],\n",
              "\n",
              "        ...,\n",
              "\n",
              "        [[1.0494163 ],\n",
              "         [1.0494163 ],\n",
              "         [1.0119373 ],\n",
              "         ...,\n",
              "         [0.11243746],\n",
              "         [0.11243746],\n",
              "         [0.07495831]],\n",
              "\n",
              "        [[1.0494163 ],\n",
              "         [1.0494163 ],\n",
              "         [1.0119373 ],\n",
              "         ...,\n",
              "         [0.11243746],\n",
              "         [0.07495831],\n",
              "         [0.07495831]],\n",
              "\n",
              "        [[1.0494163 ],\n",
              "         [1.0494163 ],\n",
              "         [1.0119373 ],\n",
              "         ...,\n",
              "         [0.07495831],\n",
              "         [0.07495831],\n",
              "         [0.03747915]]],\n",
              "\n",
              "\n",
              "       [[[1.3492496 ],\n",
              "         [1.3492496 ],\n",
              "         [1.3492496 ],\n",
              "         ...,\n",
              "         [0.3373124 ],\n",
              "         [0.3373124 ],\n",
              "         [0.3373124 ]],\n",
              "\n",
              "        [[1.3492496 ],\n",
              "         [1.3492496 ],\n",
              "         [1.3492496 ],\n",
              "         ...,\n",
              "         [0.3373124 ],\n",
              "         [0.3373124 ],\n",
              "         [0.3373124 ]],\n",
              "\n",
              "        [[1.4242079 ],\n",
              "         [1.4242079 ],\n",
              "         [1.3867288 ],\n",
              "         ...,\n",
              "         [0.26235408],\n",
              "         [0.29983324],\n",
              "         [0.29983324]],\n",
              "\n",
              "        ...,\n",
              "\n",
              "        [[0.97445804],\n",
              "         [0.97445804],\n",
              "         [0.9369789 ],\n",
              "         ...,\n",
              "         [0.11243746],\n",
              "         [0.11243746],\n",
              "         [0.07495831]],\n",
              "\n",
              "        [[0.97445804],\n",
              "         [0.97445804],\n",
              "         [0.9369789 ],\n",
              "         ...,\n",
              "         [0.11243746],\n",
              "         [0.07495831],\n",
              "         [0.07495831]],\n",
              "\n",
              "        [[0.97445804],\n",
              "         [0.97445804],\n",
              "         [0.9369789 ],\n",
              "         ...,\n",
              "         [0.07495831],\n",
              "         [0.07495831],\n",
              "         [0.03747915]]],\n",
              "\n",
              "\n",
              "       ...,\n",
              "\n",
              "\n",
              "       [[[1.4991663 ],\n",
              "         [1.4991663 ],\n",
              "         [1.4991663 ],\n",
              "         ...,\n",
              "         [0.29983324],\n",
              "         [0.29983324],\n",
              "         [0.29983324]],\n",
              "\n",
              "        [[1.4242079 ],\n",
              "         [1.4242079 ],\n",
              "         [1.4242079 ],\n",
              "         ...,\n",
              "         [0.29983324],\n",
              "         [0.29983324],\n",
              "         [0.29983324]],\n",
              "\n",
              "        [[1.4616871 ],\n",
              "         [1.4616871 ],\n",
              "         [1.4242079 ],\n",
              "         ...,\n",
              "         [0.29983324],\n",
              "         [0.26235408],\n",
              "         [0.26235408]],\n",
              "\n",
              "        ...,\n",
              "\n",
              "        [[1.0868955 ],\n",
              "         [1.0494163 ],\n",
              "         [1.0494163 ],\n",
              "         ...,\n",
              "         [0.07495831],\n",
              "         [0.07495831],\n",
              "         [0.07495831]],\n",
              "\n",
              "        [[1.0494163 ],\n",
              "         [1.0494163 ],\n",
              "         [1.0494163 ],\n",
              "         ...,\n",
              "         [0.07495831],\n",
              "         [0.07495831],\n",
              "         [0.07495831]],\n",
              "\n",
              "        [[1.0494163 ],\n",
              "         [1.0494163 ],\n",
              "         [1.0494163 ],\n",
              "         ...,\n",
              "         [0.07495831],\n",
              "         [0.07495831],\n",
              "         [0.03747915]]],\n",
              "\n",
              "\n",
              "       [[[1.4991663 ],\n",
              "         [1.4991663 ],\n",
              "         [1.5366454 ],\n",
              "         ...,\n",
              "         [0.3373124 ],\n",
              "         [0.29983324],\n",
              "         [0.29983324]],\n",
              "\n",
              "        [[1.4242079 ],\n",
              "         [1.4242079 ],\n",
              "         [1.4616871 ],\n",
              "         ...,\n",
              "         [0.3373124 ],\n",
              "         [0.29983324],\n",
              "         [0.29983324]],\n",
              "\n",
              "        [[1.4616871 ],\n",
              "         [1.4616871 ],\n",
              "         [1.4242079 ],\n",
              "         ...,\n",
              "         [0.26235408],\n",
              "         [0.29983324],\n",
              "         [0.29983324]],\n",
              "\n",
              "        ...,\n",
              "\n",
              "        [[1.0494163 ],\n",
              "         [1.0119373 ],\n",
              "         [1.0119373 ],\n",
              "         ...,\n",
              "         [0.03747915],\n",
              "         [0.03747915],\n",
              "         [0.03747915]],\n",
              "\n",
              "        [[1.0494163 ],\n",
              "         [1.0119373 ],\n",
              "         [1.0119373 ],\n",
              "         ...,\n",
              "         [0.03747915],\n",
              "         [0.03747915],\n",
              "         [0.03747915]],\n",
              "\n",
              "        [[1.0119373 ],\n",
              "         [1.0119373 ],\n",
              "         [0.97445804],\n",
              "         ...,\n",
              "         [0.03747915],\n",
              "         [0.03747915],\n",
              "         [0.        ]]],\n",
              "\n",
              "\n",
              "       [[[1.4616871 ],\n",
              "         [1.4616871 ],\n",
              "         [1.4616871 ],\n",
              "         ...,\n",
              "         [0.29983324],\n",
              "         [0.29983324],\n",
              "         [0.29983324]],\n",
              "\n",
              "        [[1.4616871 ],\n",
              "         [1.4616871 ],\n",
              "         [1.4616871 ],\n",
              "         ...,\n",
              "         [0.29983324],\n",
              "         [0.29983324],\n",
              "         [0.29983324]],\n",
              "\n",
              "        [[1.4242079 ],\n",
              "         [1.4242079 ],\n",
              "         [1.3867288 ],\n",
              "         ...,\n",
              "         [0.29983324],\n",
              "         [0.29983324],\n",
              "         [0.29983324]],\n",
              "\n",
              "        ...,\n",
              "\n",
              "        [[1.0494163 ],\n",
              "         [1.0119373 ],\n",
              "         [1.0119373 ],\n",
              "         ...,\n",
              "         [0.03747915],\n",
              "         [0.03747915],\n",
              "         [0.03747915]],\n",
              "\n",
              "        [[0.97445804],\n",
              "         [0.9369789 ],\n",
              "         [0.97445804],\n",
              "         ...,\n",
              "         [0.03747915],\n",
              "         [0.03747915],\n",
              "         [0.03747915]],\n",
              "\n",
              "        [[0.97445804],\n",
              "         [0.9369789 ],\n",
              "         [0.97445804],\n",
              "         ...,\n",
              "         [0.03747915],\n",
              "         [0.03747915],\n",
              "         [0.        ]]]], dtype=float32)>"
            ]
          },
          "metadata": {},
          "execution_count": 59
        }
      ],
      "source": [
        "frames"
      ]
    },
    {
      "cell_type": "code",
      "execution_count": 60,
      "metadata": {
        "colab": {
          "base_uri": "https://localhost:8080/",
          "height": 227
        },
        "id": "Z1mWpWS0RVPL",
        "outputId": "e9e9ca63-0e4f-407e-b8ac-91af21d12df6"
      },
      "outputs": [
        {
          "output_type": "display_data",
          "data": {
            "text/plain": [
              "<Figure size 640x480 with 1 Axes>"
            ],
            "image/png": "[encoded data removed]"
          },
          "metadata": {}
        }
      ],
      "source": [
        "plt.imshow(frames[70]);\n",
        "# showing lips from the videos"
      ]
    },
    {
      "cell_type": "code",
      "execution_count": 61,
      "metadata": {
        "colab": {
          "base_uri": "https://localhost:8080/",
          "height": 391
        },
        "id": "fIgTImq8RbUJ",
        "outputId": "38b70dd9-6828-484c-ea4d-bb62a12ebcc0"
      },
      "outputs": [
        {
          "output_type": "display_data",
          "data": {
            "text/plain": [
              "<Figure size 640x480 with 11 Axes>"
            ],
            "image/png": "[encoded data removed]"
          },
          "metadata": {}
        }
      ],
      "source": [
        "# Plot frames from 0 to 10\n",
        "for i in range(11):  # Range from 0 to 10 (inclusive)\n",
        "    plt.subplot(3, 4, i+1)  # Creating a 3x4 grid of subplots, adjust the dimensions as needed\n",
        "    plt.imshow(frames[i])\n",
        "    plt.title(f'Frame {i}')\n",
        "    plt.axis('off')  # Turn off the axis labels\n",
        "\n",
        "plt.tight_layout()  # Adjust spacing between subplots if needed\n",
        "plt.show()\n",
        "\n",
        "# this frame is showing different lips"
      ]
    },
    {
      "cell_type": "code",
      "execution_count": 62,
      "metadata": {
        "colab": {
          "base_uri": "https://localhost:8080/"
        },
        "id": "Eefzzd8BTcw8",
        "outputId": "7c643aeb-f52c-451f-ca03-6ee0495f4f02"
      },
      "outputs": [
        {
          "output_type": "execute_result",
          "data": {
            "text/plain": [
              "<tf.Tensor: shape=(21,), dtype=int64, numpy=\n",
              "array([ 2,  9, 14,  0,  2, 12, 21,  5,  0,  1, 20,  0,  6,  0, 20, 23, 15,\n",
              "        0, 14, 15, 23])>"
            ]
          },
          "metadata": {},
          "execution_count": 62
        }
      ],
      "source": [
        "alignments"
      ]
    },
    {
      "cell_type": "code",
      "execution_count": 63,
      "metadata": {
        "colab": {
          "base_uri": "https://localhost:8080/"
        },
        "id": "YpECkukxUWMF",
        "outputId": "38a007cd-9905-4bf5-d6ae-e143e7f122b8"
      },
      "outputs": [
        {
          "output_type": "execute_result",
          "data": {
            "text/plain": [
              "<tf.Tensor: shape=(21,), dtype=string, numpy=\n",
              "array([b'b', b'i', b'n', b'', b'b', b'l', b'u', b'e', b'', b'a', b't',\n",
              "       b'', b'f', b'', b't', b'w', b'o', b'', b'n', b'o', b'w'],\n",
              "      dtype=object)>"
            ]
          },
          "metadata": {},
          "execution_count": 63
        }
      ],
      "source": [
        "num_to_char(alignments)"
      ]
    },
    {
      "cell_type": "code",
      "execution_count": 64,
      "metadata": {
        "colab": {
          "base_uri": "https://localhost:8080/"
        },
        "id": "yGKKKc46UZ5G",
        "outputId": "a5044fde-f791-4a55-ced2-3a8f3a0eb7bf"
      },
      "outputs": [
        {
          "output_type": "stream",
          "name": "stdout",
          "text": [
            "['b', 'i', 'n', '', 'b', 'l', 'u', 'e', '', 'a', 't', '', 'f', '', 't', 'w', 'o', '', 'n', 'o', 'w']\n"
          ]
        }
      ],
      "source": [
        "print([bytes.decode(x) for x in num_to_char(alignments.numpy()).numpy()])"
      ]
    },
    {
      "cell_type": "code",
      "execution_count": 65,
      "metadata": {
        "id": "FRqXH27WWXXA"
      },
      "outputs": [],
      "source": [
        "# tf.strings.reduce_join([bytes.decode(x) for x in num_to_char(alignments.numpy()).numpy()])"
      ]
    },
    {
      "cell_type": "code",
      "source": [
        "import nltk\n",
        "\n",
        "# Download the necessary resources (only required for the first time)\n",
        "nltk.download('punkt')\n",
        "\n",
        "aligned_string = tf.strings.reduce_join([bytes.decode(x) for x in num_to_char(alignments.numpy()).numpy()])\n",
        "\n",
        "aligned_string_str = aligned_string.numpy().decode()\n",
        "\n",
        "words = nltk.word_tokenize(aligned_string_str)\n",
        "\n",
        "for word in words:\n",
        "    print(word)\n"
      ],
      "metadata": {
        "colab": {
          "base_uri": "https://localhost:8080/"
        },
        "id": "f1ks80-e5nMq",
        "outputId": "51d39f2a-9d72-4f7c-a7a2-c591d278bc8b"
      },
      "execution_count": 66,
      "outputs": [
        {
          "output_type": "stream",
          "name": "stdout",
          "text": [
            "binblueatftwonow\n"
          ]
        },
        {
          "output_type": "stream",
          "name": "stderr",
          "text": [
            "[nltk_data] Downloading package punkt to /root/nltk_data...\n",
            "[nltk_data]   Package punkt is already up-to-date!\n"
          ]
        }
      ]
    },
    {
      "cell_type": "code",
      "execution_count": 67,
      "metadata": {
        "id": "ihyKt6IqW9DN"
      },
      "outputs": [],
      "source": [
        "# mapple function\n",
        "def mappable_function(path:str) ->List[str]:\n",
        "    result = tf.py_function(load_data, [path], (tf.float32, tf.int64))\n",
        "    return result\n",
        "\n"
      ]
    },
    {
      "cell_type": "markdown",
      "metadata": {
        "id": "PgImnQPzZyEJ"
      },
      "source": [
        "The mapple_function passes the path argument to the load_data function using tf.py_function, which wraps the load_data function and ensures it can be executed within TensorFlow's graph. It specifies that the expected output types are tf.float32 and tf.float64.\n",
        "\n",
        "The result of tf.py_function is stored in the result variable and then returned as the output of the mapple_function. Since the result is returned as a list of strings (List[str]), it suggests that the load_data function may convert the processed data into string format before returning it.\n",
        "\n",
        "To fully understand the functionality of this code, you would need to examine the implementation of the load_data function and any related functions or modules it depends on.\n",
        "\n",
        "\n",
        "\n",
        "\n",
        "\n"
      ]
    },
    {
      "cell_type": "markdown",
      "metadata": {
        "id": "Ga6hGO5-aYvs"
      },
      "source": [
        "# Create Data Pipeline"
      ]
    },
    {
      "cell_type": "code",
      "execution_count": 68,
      "metadata": {
        "id": "zc5mbuydQe9j"
      },
      "outputs": [],
      "source": [
        "data = tf.data.Dataset.list_files('./drive/MyDrive/data/s1/*.mpg')\n",
        "data = data.shuffle(500)\n",
        "data = data.map(mappable_function)\n",
        "data = data.padded_batch(2, padded_shapes=([75,None,None,None],[40]))\n",
        "data = data.prefetch(tf.data.AUTOTUNE)"
      ]
    },
    {
      "cell_type": "code",
      "execution_count": 69,
      "metadata": {
        "id": "rMVUll4YS3XU"
      },
      "outputs": [],
      "source": [
        "frames, alignments = data.as_numpy_iterator().next()"
      ]
    },
    {
      "cell_type": "code",
      "source": [
        "frames"
      ],
      "metadata": {
        "colab": {
          "base_uri": "https://localhost:8080/"
        },
        "id": "2j8loqzOnOzQ",
        "outputId": "690b4eff-2c67-4bf2-e801-021b1b0e9fdd"
      },
      "execution_count": 70,
      "outputs": [
        {
          "output_type": "execute_result",
          "data": {
            "text/plain": [
              "array([[[[[10.342452  ],\n",
              "          [10.342452  ],\n",
              "          [10.342452  ],\n",
              "          ...,\n",
              "          [10.342452  ],\n",
              "          [10.342452  ],\n",
              "          [10.342452  ]],\n",
              "\n",
              "         [[10.342452  ],\n",
              "          [10.342452  ],\n",
              "          [10.342452  ],\n",
              "          ...,\n",
              "          [10.342452  ],\n",
              "          [10.342452  ],\n",
              "          [10.342452  ]],\n",
              "\n",
              "         [[10.342452  ],\n",
              "          [10.342452  ],\n",
              "          [10.342452  ],\n",
              "          ...,\n",
              "          [10.342452  ],\n",
              "          [10.342452  ],\n",
              "          [10.342452  ]],\n",
              "\n",
              "         ...,\n",
              "\n",
              "         [[10.342452  ],\n",
              "          [10.342452  ],\n",
              "          [10.342452  ],\n",
              "          ...,\n",
              "          [10.342452  ],\n",
              "          [10.342452  ],\n",
              "          [10.342452  ]],\n",
              "\n",
              "         [[10.342452  ],\n",
              "          [10.342452  ],\n",
              "          [10.342452  ],\n",
              "          ...,\n",
              "          [10.342452  ],\n",
              "          [10.342452  ],\n",
              "          [10.342452  ]],\n",
              "\n",
              "         [[10.342452  ],\n",
              "          [10.342452  ],\n",
              "          [10.342452  ],\n",
              "          ...,\n",
              "          [10.342452  ],\n",
              "          [10.342452  ],\n",
              "          [10.342452  ]]],\n",
              "\n",
              "\n",
              "        [[[10.342452  ],\n",
              "          [10.342452  ],\n",
              "          [10.342452  ],\n",
              "          ...,\n",
              "          [10.342452  ],\n",
              "          [10.342452  ],\n",
              "          [10.342452  ]],\n",
              "\n",
              "         [[10.342452  ],\n",
              "          [10.342452  ],\n",
              "          [10.342452  ],\n",
              "          ...,\n",
              "          [10.342452  ],\n",
              "          [10.342452  ],\n",
              "          [10.342452  ]],\n",
              "\n",
              "         [[10.342452  ],\n",
              "          [10.342452  ],\n",
              "          [10.342452  ],\n",
              "          ...,\n",
              "          [10.342452  ],\n",
              "          [10.342452  ],\n",
              "          [10.342452  ]],\n",
              "\n",
              "         ...,\n",
              "\n",
              "         [[10.342452  ],\n",
              "          [10.342452  ],\n",
              "          [10.342452  ],\n",
              "          ...,\n",
              "          [10.342452  ],\n",
              "          [10.342452  ],\n",
              "          [10.342452  ]],\n",
              "\n",
              "         [[10.342452  ],\n",
              "          [10.342452  ],\n",
              "          [10.342452  ],\n",
              "          ...,\n",
              "          [10.342452  ],\n",
              "          [10.342452  ],\n",
              "          [10.342452  ]],\n",
              "\n",
              "         [[10.342452  ],\n",
              "          [10.342452  ],\n",
              "          [10.342452  ],\n",
              "          ...,\n",
              "          [10.342452  ],\n",
              "          [10.342452  ],\n",
              "          [10.342452  ]]],\n",
              "\n",
              "\n",
              "        [[[10.342452  ],\n",
              "          [10.342452  ],\n",
              "          [10.342452  ],\n",
              "          ...,\n",
              "          [10.342452  ],\n",
              "          [10.342452  ],\n",
              "          [10.342452  ]],\n",
              "\n",
              "         [[10.342452  ],\n",
              "          [10.342452  ],\n",
              "          [10.342452  ],\n",
              "          ...,\n",
              "          [10.342452  ],\n",
              "          [10.342452  ],\n",
              "          [10.342452  ]],\n",
              "\n",
              "         [[10.342452  ],\n",
              "          [10.342452  ],\n",
              "          [10.342452  ],\n",
              "          ...,\n",
              "          [10.342452  ],\n",
              "          [10.342452  ],\n",
              "          [10.342452  ]],\n",
              "\n",
              "         ...,\n",
              "\n",
              "         [[10.342452  ],\n",
              "          [10.342452  ],\n",
              "          [10.342452  ],\n",
              "          ...,\n",
              "          [10.342452  ],\n",
              "          [10.342452  ],\n",
              "          [10.342452  ]],\n",
              "\n",
              "         [[10.342452  ],\n",
              "          [10.342452  ],\n",
              "          [10.342452  ],\n",
              "          ...,\n",
              "          [10.342452  ],\n",
              "          [10.342452  ],\n",
              "          [10.342452  ]],\n",
              "\n",
              "         [[10.342452  ],\n",
              "          [10.342452  ],\n",
              "          [10.342452  ],\n",
              "          ...,\n",
              "          [10.342452  ],\n",
              "          [10.342452  ],\n",
              "          [10.342452  ]]],\n",
              "\n",
              "\n",
              "        ...,\n",
              "\n",
              "\n",
              "        [[[ 1.5013237 ],\n",
              "          [ 1.626434  ],\n",
              "          [ 1.7098409 ],\n",
              "          ...,\n",
              "          [ 0.16681375],\n",
              "          [ 0.16681375],\n",
              "          [ 0.16681375]],\n",
              "\n",
              "         [[ 1.4596202 ],\n",
              "          [ 1.626434  ],\n",
              "          [ 1.7515442 ],\n",
              "          ...,\n",
              "          [ 0.16681375],\n",
              "          [ 0.16681375],\n",
              "          [ 0.16681375]],\n",
              "\n",
              "         [[ 1.5430272 ],\n",
              "          [ 1.5430272 ],\n",
              "          [ 1.5430272 ],\n",
              "          ...,\n",
              "          [ 0.16681375],\n",
              "          [ 0.16681375],\n",
              "          [ 0.12511031]],\n",
              "\n",
              "         ...,\n",
              "\n",
              "         [[ 1.1259928 ],\n",
              "          [ 1.1259928 ],\n",
              "          [ 1.0842893 ],\n",
              "          ...,\n",
              "          [10.550969  ],\n",
              "          [10.550969  ],\n",
              "          [10.550969  ]],\n",
              "\n",
              "         [[ 1.1259928 ],\n",
              "          [ 1.1259928 ],\n",
              "          [ 1.0842893 ],\n",
              "          ...,\n",
              "          [10.550969  ],\n",
              "          [10.550969  ],\n",
              "          [10.550969  ]],\n",
              "\n",
              "         [[ 1.1259928 ],\n",
              "          [ 1.1259928 ],\n",
              "          [ 1.0425858 ],\n",
              "          ...,\n",
              "          [10.509266  ],\n",
              "          [10.509266  ],\n",
              "          [10.509266  ]]],\n",
              "\n",
              "\n",
              "        [[[ 1.5430272 ],\n",
              "          [ 1.5847305 ],\n",
              "          [ 1.5847305 ],\n",
              "          ...,\n",
              "          [ 0.12511031],\n",
              "          [ 0.16681375],\n",
              "          [ 0.16681375]],\n",
              "\n",
              "         [[ 1.5430272 ],\n",
              "          [ 1.5847305 ],\n",
              "          [ 1.6681374 ],\n",
              "          ...,\n",
              "          [ 0.12511031],\n",
              "          [ 0.16681375],\n",
              "          [ 0.16681375]],\n",
              "\n",
              "         [[ 1.5430272 ],\n",
              "          [ 1.5430272 ],\n",
              "          [ 1.5430272 ],\n",
              "          ...,\n",
              "          [ 0.16681375],\n",
              "          [ 0.16681375],\n",
              "          [ 0.12511031]],\n",
              "\n",
              "         ...,\n",
              "\n",
              "         [[ 1.1676962 ],\n",
              "          [ 1.1676962 ],\n",
              "          [ 1.1259928 ],\n",
              "          ...,\n",
              "          [10.550969  ],\n",
              "          [10.550969  ],\n",
              "          [10.550969  ]],\n",
              "\n",
              "         [[ 1.1259928 ],\n",
              "          [ 1.1259928 ],\n",
              "          [ 1.0842893 ],\n",
              "          ...,\n",
              "          [10.550969  ],\n",
              "          [10.550969  ],\n",
              "          [10.550969  ]],\n",
              "\n",
              "         [[ 1.1259928 ],\n",
              "          [ 1.1259928 ],\n",
              "          [ 1.0425858 ],\n",
              "          ...,\n",
              "          [10.509266  ],\n",
              "          [10.509266  ],\n",
              "          [10.509266  ]]],\n",
              "\n",
              "\n",
              "        [[[ 1.5847305 ],\n",
              "          [ 1.626434  ],\n",
              "          [ 1.5847305 ],\n",
              "          ...,\n",
              "          [ 0.16681375],\n",
              "          [ 0.16681375],\n",
              "          [ 0.16681375]],\n",
              "\n",
              "         [[ 1.626434  ],\n",
              "          [ 1.5847305 ],\n",
              "          [ 1.5847305 ],\n",
              "          ...,\n",
              "          [ 0.16681375],\n",
              "          [ 0.16681375],\n",
              "          [ 0.16681375]],\n",
              "\n",
              "         [[ 1.5430272 ],\n",
              "          [ 1.5430272 ],\n",
              "          [ 1.626434  ],\n",
              "          ...,\n",
              "          [ 0.16681375],\n",
              "          [ 0.16681375],\n",
              "          [ 0.16681375]],\n",
              "\n",
              "         ...,\n",
              "\n",
              "         [[ 1.1676962 ],\n",
              "          [ 1.1676962 ],\n",
              "          [ 1.1259928 ],\n",
              "          ...,\n",
              "          [10.550969  ],\n",
              "          [10.550969  ],\n",
              "          [10.550969  ]],\n",
              "\n",
              "         [[ 1.1676962 ],\n",
              "          [ 1.1259928 ],\n",
              "          [ 1.0842893 ],\n",
              "          ...,\n",
              "          [10.509266  ],\n",
              "          [10.550969  ],\n",
              "          [10.550969  ]],\n",
              "\n",
              "         [[ 1.1259928 ],\n",
              "          [ 1.1259928 ],\n",
              "          [ 1.0425858 ],\n",
              "          ...,\n",
              "          [10.509266  ],\n",
              "          [10.509266  ],\n",
              "          [10.509266  ]]]],\n",
              "\n",
              "\n",
              "\n",
              "       [[[[ 1.439421  ],\n",
              "          [ 1.5530596 ],\n",
              "          [ 1.4773006 ],\n",
              "          ...,\n",
              "          [ 0.45455402],\n",
              "          [ 0.37879503],\n",
              "          [ 0.34091553]],\n",
              "\n",
              "         [[ 1.5530596 ],\n",
              "          [ 1.5530596 ],\n",
              "          [ 1.3636621 ],\n",
              "          ...,\n",
              "          [ 0.45455402],\n",
              "          [ 0.37879503],\n",
              "          [ 0.34091553]],\n",
              "\n",
              "         [[ 1.6288186 ],\n",
              "          [ 1.6288186 ],\n",
              "          [ 1.5530596 ],\n",
              "          ...,\n",
              "          [ 0.37879503],\n",
              "          [ 0.34091553],\n",
              "          [ 0.34091553]],\n",
              "\n",
              "         ...,\n",
              "\n",
              "         [[ 1.0985056 ],\n",
              "          [ 1.0985056 ],\n",
              "          [ 1.060626  ],\n",
              "          ...,\n",
              "          [ 0.07575901],\n",
              "          [ 0.07575901],\n",
              "          [ 0.07575901]],\n",
              "\n",
              "         [[ 1.0985056 ],\n",
              "          [ 1.0985056 ],\n",
              "          [ 1.060626  ],\n",
              "          ...,\n",
              "          [ 0.0378795 ],\n",
              "          [ 0.0378795 ],\n",
              "          [ 0.0378795 ]],\n",
              "\n",
              "         [[ 1.0985056 ],\n",
              "          [ 1.0985056 ],\n",
              "          [ 1.060626  ],\n",
              "          ...,\n",
              "          [ 0.0378795 ],\n",
              "          [ 0.0378795 ],\n",
              "          [ 0.0378795 ]]],\n",
              "\n",
              "\n",
              "        [[[ 1.3636621 ],\n",
              "          [ 1.5909392 ],\n",
              "          [ 1.4773006 ],\n",
              "          ...,\n",
              "          [ 0.41667452],\n",
              "          [ 0.30303603],\n",
              "          [ 0.22727701]],\n",
              "\n",
              "         [[ 1.5151801 ],\n",
              "          [ 1.3636621 ],\n",
              "          [ 1.4773006 ],\n",
              "          ...,\n",
              "          [ 0.41667452],\n",
              "          [ 0.30303603],\n",
              "          [ 0.22727701]],\n",
              "\n",
              "         [[ 1.6288186 ],\n",
              "          [ 1.6288186 ],\n",
              "          [ 1.5151801 ],\n",
              "          ...,\n",
              "          [ 0.34091553],\n",
              "          [ 0.34091553],\n",
              "          [ 0.34091553]],\n",
              "\n",
              "         ...,\n",
              "\n",
              "         [[ 1.0985056 ],\n",
              "          [ 1.0985056 ],\n",
              "          [ 1.060626  ],\n",
              "          ...,\n",
              "          [ 0.0378795 ],\n",
              "          [ 0.0378795 ],\n",
              "          [ 0.0378795 ]],\n",
              "\n",
              "         [[ 1.0985056 ],\n",
              "          [ 1.0985056 ],\n",
              "          [ 1.060626  ],\n",
              "          ...,\n",
              "          [ 0.0378795 ],\n",
              "          [ 0.0378795 ],\n",
              "          [ 0.0378795 ]],\n",
              "\n",
              "         [[ 1.060626  ],\n",
              "          [ 1.060626  ],\n",
              "          [ 1.0227466 ],\n",
              "          ...,\n",
              "          [ 0.0378795 ],\n",
              "          [ 0.0378795 ],\n",
              "          [ 0.0378795 ]]],\n",
              "\n",
              "\n",
              "        [[[ 1.4015416 ],\n",
              "          [ 1.5909392 ],\n",
              "          [ 1.4015416 ],\n",
              "          ...,\n",
              "          [ 0.37879503],\n",
              "          [ 0.30303603],\n",
              "          [ 0.22727701]],\n",
              "\n",
              "         [[ 1.5530596 ],\n",
              "          [ 1.4015416 ],\n",
              "          [ 1.4015416 ],\n",
              "          ...,\n",
              "          [ 0.37879503],\n",
              "          [ 0.30303603],\n",
              "          [ 0.22727701]],\n",
              "\n",
              "         [[ 1.6666981 ],\n",
              "          [ 1.6666981 ],\n",
              "          [ 1.5530596 ],\n",
              "          ...,\n",
              "          [ 0.34091553],\n",
              "          [ 0.34091553],\n",
              "          [ 0.34091553]],\n",
              "\n",
              "         ...,\n",
              "\n",
              "         [[ 1.1363851 ],\n",
              "          [ 1.0985056 ],\n",
              "          [ 1.0985056 ],\n",
              "          ...,\n",
              "          [ 0.        ],\n",
              "          [ 0.        ],\n",
              "          [ 0.        ]],\n",
              "\n",
              "         [[ 1.0985056 ],\n",
              "          [ 1.0985056 ],\n",
              "          [ 1.060626  ],\n",
              "          ...,\n",
              "          [ 0.        ],\n",
              "          [ 0.        ],\n",
              "          [ 0.        ]],\n",
              "\n",
              "         [[ 1.0985056 ],\n",
              "          [ 1.060626  ],\n",
              "          [ 1.060626  ],\n",
              "          ...,\n",
              "          [ 0.        ],\n",
              "          [ 0.        ],\n",
              "          [ 0.        ]]],\n",
              "\n",
              "\n",
              "        ...,\n",
              "\n",
              "\n",
              "        [[[ 1.2879031 ],\n",
              "          [ 1.3257825 ],\n",
              "          [ 0.68183106],\n",
              "          ...,\n",
              "          [ 0.34091553],\n",
              "          [ 0.34091553],\n",
              "          [ 0.2651565 ]],\n",
              "\n",
              "         [[ 1.3257825 ],\n",
              "          [ 1.2879031 ],\n",
              "          [ 0.75759006],\n",
              "          ...,\n",
              "          [ 0.34091553],\n",
              "          [ 0.34091553],\n",
              "          [ 0.2651565 ]],\n",
              "\n",
              "         [[ 1.3636621 ],\n",
              "          [ 1.439421  ],\n",
              "          [ 1.2500236 ],\n",
              "          ...,\n",
              "          [ 0.34091553],\n",
              "          [ 0.34091553],\n",
              "          [ 0.2651565 ]],\n",
              "\n",
              "         ...,\n",
              "\n",
              "         [[ 1.0985056 ],\n",
              "          [ 1.0985056 ],\n",
              "          [ 1.0985056 ],\n",
              "          ...,\n",
              "          [ 0.0378795 ],\n",
              "          [ 0.0378795 ],\n",
              "          [ 0.0378795 ]],\n",
              "\n",
              "         [[ 1.0985056 ],\n",
              "          [ 1.0985056 ],\n",
              "          [ 1.0985056 ],\n",
              "          ...,\n",
              "          [ 0.0378795 ],\n",
              "          [ 0.0378795 ],\n",
              "          [ 0.0378795 ]],\n",
              "\n",
              "         [[ 1.0985056 ],\n",
              "          [ 1.0985056 ],\n",
              "          [ 1.060626  ],\n",
              "          ...,\n",
              "          [ 0.0378795 ],\n",
              "          [ 0.0378795 ],\n",
              "          [ 0.        ]]],\n",
              "\n",
              "\n",
              "        [[[ 1.2879031 ],\n",
              "          [ 1.2500236 ],\n",
              "          [ 0.68183106],\n",
              "          ...,\n",
              "          [ 0.34091553],\n",
              "          [ 0.34091553],\n",
              "          [ 0.2651565 ]],\n",
              "\n",
              "         [[ 1.2879031 ],\n",
              "          [ 1.2500236 ],\n",
              "          [ 0.75759006],\n",
              "          ...,\n",
              "          [ 0.34091553],\n",
              "          [ 0.34091553],\n",
              "          [ 0.2651565 ]],\n",
              "\n",
              "         [[ 1.439421  ],\n",
              "          [ 1.439421  ],\n",
              "          [ 1.1742646 ],\n",
              "          ...,\n",
              "          [ 0.34091553],\n",
              "          [ 0.34091553],\n",
              "          [ 0.2651565 ]],\n",
              "\n",
              "         ...,\n",
              "\n",
              "         [[ 1.060626  ],\n",
              "          [ 1.060626  ],\n",
              "          [ 1.060626  ],\n",
              "          ...,\n",
              "          [ 0.07575901],\n",
              "          [ 0.07575901],\n",
              "          [ 0.07575901]],\n",
              "\n",
              "         [[ 1.060626  ],\n",
              "          [ 1.060626  ],\n",
              "          [ 1.060626  ],\n",
              "          ...,\n",
              "          [ 0.07575901],\n",
              "          [ 0.07575901],\n",
              "          [ 0.07575901]],\n",
              "\n",
              "         [[ 1.060626  ],\n",
              "          [ 1.060626  ],\n",
              "          [ 1.060626  ],\n",
              "          ...,\n",
              "          [ 0.07575901],\n",
              "          [ 0.07575901],\n",
              "          [ 0.07575901]]],\n",
              "\n",
              "\n",
              "        [[[ 1.2500236 ],\n",
              "          [ 1.3257825 ],\n",
              "          [ 0.64395154],\n",
              "          ...,\n",
              "          [ 0.34091553],\n",
              "          [ 0.34091553],\n",
              "          [ 0.2651565 ]],\n",
              "\n",
              "         [[ 1.3636621 ],\n",
              "          [ 1.2879031 ],\n",
              "          [ 0.75759006],\n",
              "          ...,\n",
              "          [ 0.34091553],\n",
              "          [ 0.34091553],\n",
              "          [ 0.2651565 ]],\n",
              "\n",
              "         [[ 1.4015416 ],\n",
              "          [ 1.4015416 ],\n",
              "          [ 1.1363851 ],\n",
              "          ...,\n",
              "          [ 0.34091553],\n",
              "          [ 0.34091553],\n",
              "          [ 0.2651565 ]],\n",
              "\n",
              "         ...,\n",
              "\n",
              "         [[ 1.1363851 ],\n",
              "          [ 1.1363851 ],\n",
              "          [ 1.0985056 ],\n",
              "          ...,\n",
              "          [ 0.07575901],\n",
              "          [ 0.0378795 ],\n",
              "          [ 0.0378795 ]],\n",
              "\n",
              "         [[ 1.0985056 ],\n",
              "          [ 1.0985056 ],\n",
              "          [ 1.060626  ],\n",
              "          ...,\n",
              "          [ 0.0378795 ],\n",
              "          [ 0.0378795 ],\n",
              "          [ 0.0378795 ]],\n",
              "\n",
              "         [[ 1.0985056 ],\n",
              "          [ 1.0985056 ],\n",
              "          [ 1.060626  ],\n",
              "          ...,\n",
              "          [ 0.0378795 ],\n",
              "          [ 0.0378795 ],\n",
              "          [ 0.0378795 ]]]]], dtype=float32)"
            ]
          },
          "metadata": {},
          "execution_count": 70
        }
      ]
    },
    {
      "cell_type": "code",
      "source": [
        "len(frames)"
      ],
      "metadata": {
        "colab": {
          "base_uri": "https://localhost:8080/"
        },
        "id": "bZGopss3nSxu",
        "outputId": "71b17b97-13cc-490e-e353-9863e73f7332"
      },
      "execution_count": 71,
      "outputs": [
        {
          "output_type": "execute_result",
          "data": {
            "text/plain": [
              "2"
            ]
          },
          "metadata": {},
          "execution_count": 71
        }
      ]
    },
    {
      "cell_type": "code",
      "source": [
        "alignments"
      ],
      "metadata": {
        "colab": {
          "base_uri": "https://localhost:8080/"
        },
        "id": "16kiF1ToncmC",
        "outputId": "4a469b56-5c57-4255-a119-2ab221a4aa90"
      },
      "execution_count": 72,
      "outputs": [
        {
          "output_type": "execute_result",
          "data": {
            "text/plain": [
              "array([[16, 12,  1,  3,  5,  0,  2, 12, 21,  5,  0, 23,  9, 20,  8,  0,\n",
              "        24,  0, 15, 14,  5,  0, 19, 15, 15, 14,  0,  0,  0,  0,  0,  0,\n",
              "         0,  0,  0,  0,  0,  0,  0,  0],\n",
              "       [ 2,  9, 14,  0, 18,  5,  4,  0,  2, 25,  0, 20,  0, 26,  5, 18,\n",
              "        15,  0, 14, 15, 23,  0,  0,  0,  0,  0,  0,  0,  0,  0,  0,  0,\n",
              "         0,  0,  0,  0,  0,  0,  0,  0]])"
            ]
          },
          "metadata": {},
          "execution_count": 72
        }
      ]
    },
    {
      "cell_type": "code",
      "source": [
        "test = data.as_numpy_iterator()"
      ],
      "metadata": {
        "id": "chbpAZzmsrAQ"
      },
      "execution_count": 73,
      "outputs": []
    },
    {
      "cell_type": "code",
      "source": [
        "test"
      ],
      "metadata": {
        "colab": {
          "base_uri": "https://localhost:8080/"
        },
        "id": "nd1Hx2FWuzXT",
        "outputId": "7e9ef32b-7f48-4414-89f8-359f83d6eb4f"
      },
      "execution_count": 74,
      "outputs": [
        {
          "output_type": "execute_result",
          "data": {
            "text/plain": [
              "<tensorflow.python.data.ops.dataset_ops._NumpyIterator at 0x7feb0c6b82e0>"
            ]
          },
          "metadata": {},
          "execution_count": 74
        }
      ]
    },
    {
      "cell_type": "code",
      "source": [
        "val = test.next(); val[0]"
      ],
      "metadata": {
        "colab": {
          "base_uri": "https://localhost:8080/"
        },
        "id": "gghzV68Zu0ci",
        "outputId": "637b64fc-2a4e-4bb3-f16f-d622ea175309"
      },
      "execution_count": 75,
      "outputs": [
        {
          "output_type": "execute_result",
          "data": {
            "text/plain": [
              "array([[[[[ 1.4617805 ],\n",
              "          [ 1.4617805 ],\n",
              "          [ 1.422273  ],\n",
              "          ...,\n",
              "          [ 0.11852275],\n",
              "          [ 0.15803033],\n",
              "          [ 0.15803033]],\n",
              "\n",
              "         [[ 1.4617805 ],\n",
              "          [ 1.4617805 ],\n",
              "          [ 1.422273  ],\n",
              "          ...,\n",
              "          [ 0.11852275],\n",
              "          [ 0.15803033],\n",
              "          [ 0.15803033]],\n",
              "\n",
              "         [[ 1.3432579 ],\n",
              "          [ 1.3432579 ],\n",
              "          [ 1.3432579 ],\n",
              "          ...,\n",
              "          [ 0.07901517],\n",
              "          [ 0.03950758],\n",
              "          [ 0.03950758]],\n",
              "\n",
              "         ...,\n",
              "\n",
              "         [[ 0.948182  ],\n",
              "          [ 0.948182  ],\n",
              "          [ 0.948182  ],\n",
              "          ...,\n",
              "          [ 9.876896  ],\n",
              "          [ 9.837388  ],\n",
              "          [ 9.837388  ]],\n",
              "\n",
              "         [[ 0.948182  ],\n",
              "          [ 0.948182  ],\n",
              "          [ 0.948182  ],\n",
              "          ...,\n",
              "          [ 9.837388  ],\n",
              "          [ 9.837388  ],\n",
              "          [ 9.837388  ]],\n",
              "\n",
              "         [[ 0.948182  ],\n",
              "          [ 0.948182  ],\n",
              "          [ 0.948182  ],\n",
              "          ...,\n",
              "          [ 9.837388  ],\n",
              "          [ 9.837388  ],\n",
              "          [ 9.837388  ]]],\n",
              "\n",
              "\n",
              "        [[[ 1.422273  ],\n",
              "          [ 1.422273  ],\n",
              "          [ 1.422273  ],\n",
              "          ...,\n",
              "          [ 0.15803033],\n",
              "          [ 0.07901517],\n",
              "          [ 0.07901517]],\n",
              "\n",
              "         [[ 1.422273  ],\n",
              "          [ 1.422273  ],\n",
              "          [ 1.422273  ],\n",
              "          ...,\n",
              "          [ 0.15803033],\n",
              "          [ 0.07901517],\n",
              "          [ 0.07901517]],\n",
              "\n",
              "         [[ 1.3432579 ],\n",
              "          [ 1.3432579 ],\n",
              "          [ 1.3037503 ],\n",
              "          ...,\n",
              "          [ 0.07901517],\n",
              "          [ 0.07901517],\n",
              "          [ 0.07901517]],\n",
              "\n",
              "         ...,\n",
              "\n",
              "         [[ 0.948182  ],\n",
              "          [ 0.948182  ],\n",
              "          [ 0.948182  ],\n",
              "          ...,\n",
              "          [ 9.797881  ],\n",
              "          [ 9.797881  ],\n",
              "          [ 9.797881  ]],\n",
              "\n",
              "         [[ 0.948182  ],\n",
              "          [ 0.948182  ],\n",
              "          [ 0.948182  ],\n",
              "          ...,\n",
              "          [ 9.797881  ],\n",
              "          [ 9.797881  ],\n",
              "          [ 9.797881  ]],\n",
              "\n",
              "         [[ 0.948182  ],\n",
              "          [ 0.948182  ],\n",
              "          [ 0.948182  ],\n",
              "          ...,\n",
              "          [ 9.797881  ],\n",
              "          [ 9.797881  ],\n",
              "          [ 9.797881  ]]],\n",
              "\n",
              "\n",
              "        [[[ 1.3432579 ],\n",
              "          [ 1.3432579 ],\n",
              "          [ 1.3827654 ],\n",
              "          ...,\n",
              "          [ 0.11852275],\n",
              "          [ 0.07901517],\n",
              "          [ 0.07901517]],\n",
              "\n",
              "         [[ 1.3432579 ],\n",
              "          [ 1.3432579 ],\n",
              "          [ 1.3827654 ],\n",
              "          ...,\n",
              "          [ 0.11852275],\n",
              "          [ 0.07901517],\n",
              "          [ 0.07901517]],\n",
              "\n",
              "         [[ 1.3827654 ],\n",
              "          [ 1.3827654 ],\n",
              "          [ 1.3432579 ],\n",
              "          ...,\n",
              "          [ 0.03950758],\n",
              "          [ 0.03950758],\n",
              "          [ 0.        ]],\n",
              "\n",
              "         ...,\n",
              "\n",
              "         [[ 0.948182  ],\n",
              "          [ 0.948182  ],\n",
              "          [ 0.948182  ],\n",
              "          ...,\n",
              "          [ 9.837388  ],\n",
              "          [ 9.837388  ],\n",
              "          [ 9.837388  ]],\n",
              "\n",
              "         [[ 0.948182  ],\n",
              "          [ 0.948182  ],\n",
              "          [ 0.948182  ],\n",
              "          ...,\n",
              "          [ 9.797881  ],\n",
              "          [ 9.797881  ],\n",
              "          [ 9.797881  ]],\n",
              "\n",
              "         [[ 0.948182  ],\n",
              "          [ 0.948182  ],\n",
              "          [ 0.948182  ],\n",
              "          ...,\n",
              "          [ 9.797881  ],\n",
              "          [ 9.797881  ],\n",
              "          [ 9.797881  ]]],\n",
              "\n",
              "\n",
              "        ...,\n",
              "\n",
              "\n",
              "        [[[ 1.3827654 ],\n",
              "          [ 1.3827654 ],\n",
              "          [ 1.422273  ],\n",
              "          ...,\n",
              "          [ 0.03950758],\n",
              "          [ 0.07901517],\n",
              "          [ 0.07901517]],\n",
              "\n",
              "         [[ 1.3827654 ],\n",
              "          [ 1.3827654 ],\n",
              "          [ 1.422273  ],\n",
              "          ...,\n",
              "          [ 0.03950758],\n",
              "          [ 0.07901517],\n",
              "          [ 0.07901517]],\n",
              "\n",
              "         [[ 1.3827654 ],\n",
              "          [ 1.3827654 ],\n",
              "          [ 1.3827654 ],\n",
              "          ...,\n",
              "          [ 0.07901517],\n",
              "          [ 0.07901517],\n",
              "          [ 0.07901517]],\n",
              "\n",
              "         ...,\n",
              "\n",
              "         [[ 1.0667048 ],\n",
              "          [ 1.0271971 ],\n",
              "          [ 1.0271971 ],\n",
              "          ...,\n",
              "          [ 9.916404  ],\n",
              "          [ 9.916404  ],\n",
              "          [ 9.916404  ]],\n",
              "\n",
              "         [[ 1.0271971 ],\n",
              "          [ 1.0271971 ],\n",
              "          [ 1.0271971 ],\n",
              "          ...,\n",
              "          [ 9.916404  ],\n",
              "          [ 9.916404  ],\n",
              "          [ 9.916404  ]],\n",
              "\n",
              "         [[ 1.0271971 ],\n",
              "          [ 1.0271971 ],\n",
              "          [ 1.0271971 ],\n",
              "          ...,\n",
              "          [ 9.876896  ],\n",
              "          [ 9.876896  ],\n",
              "          [ 9.876896  ]]],\n",
              "\n",
              "\n",
              "        [[[ 1.422273  ],\n",
              "          [ 1.422273  ],\n",
              "          [ 1.422273  ],\n",
              "          ...,\n",
              "          [ 0.03950758],\n",
              "          [ 0.07901517],\n",
              "          [ 0.07901517]],\n",
              "\n",
              "         [[ 1.422273  ],\n",
              "          [ 1.422273  ],\n",
              "          [ 1.422273  ],\n",
              "          ...,\n",
              "          [ 0.03950758],\n",
              "          [ 0.07901517],\n",
              "          [ 0.07901517]],\n",
              "\n",
              "         [[ 1.422273  ],\n",
              "          [ 1.3827654 ],\n",
              "          [ 1.3827654 ],\n",
              "          ...,\n",
              "          [ 0.03950758],\n",
              "          [ 0.03950758],\n",
              "          [ 0.03950758]],\n",
              "\n",
              "         ...,\n",
              "\n",
              "         [[ 1.0271971 ],\n",
              "          [ 1.0271971 ],\n",
              "          [ 1.0271971 ],\n",
              "          ...,\n",
              "          [ 9.916404  ],\n",
              "          [ 9.916404  ],\n",
              "          [ 9.916404  ]],\n",
              "\n",
              "         [[ 1.0271971 ],\n",
              "          [ 1.0271971 ],\n",
              "          [ 1.0271971 ],\n",
              "          ...,\n",
              "          [ 9.916404  ],\n",
              "          [ 9.916404  ],\n",
              "          [ 9.916404  ]],\n",
              "\n",
              "         [[ 1.0271971 ],\n",
              "          [ 0.9876896 ],\n",
              "          [ 0.9876896 ],\n",
              "          ...,\n",
              "          [ 9.876896  ],\n",
              "          [ 9.876896  ],\n",
              "          [ 9.876896  ]]],\n",
              "\n",
              "\n",
              "        [[[ 1.3037503 ],\n",
              "          [ 1.3037503 ],\n",
              "          [ 1.3432579 ],\n",
              "          ...,\n",
              "          [ 0.03950758],\n",
              "          [ 0.07901517],\n",
              "          [ 0.07901517]],\n",
              "\n",
              "         [[ 1.3037503 ],\n",
              "          [ 1.3037503 ],\n",
              "          [ 1.3432579 ],\n",
              "          ...,\n",
              "          [ 0.03950758],\n",
              "          [ 0.07901517],\n",
              "          [ 0.07901517]],\n",
              "\n",
              "         [[ 1.422273  ],\n",
              "          [ 1.3827654 ],\n",
              "          [ 1.3827654 ],\n",
              "          ...,\n",
              "          [ 0.07901517],\n",
              "          [ 0.11852275],\n",
              "          [ 0.11852275]],\n",
              "\n",
              "         ...,\n",
              "\n",
              "         [[ 1.0271971 ],\n",
              "          [ 1.0271971 ],\n",
              "          [ 1.0271971 ],\n",
              "          ...,\n",
              "          [ 9.955911  ],\n",
              "          [ 9.955911  ],\n",
              "          [ 9.955911  ]],\n",
              "\n",
              "         [[ 1.0271971 ],\n",
              "          [ 0.9876896 ],\n",
              "          [ 0.9876896 ],\n",
              "          ...,\n",
              "          [ 9.955911  ],\n",
              "          [ 9.955911  ],\n",
              "          [ 9.955911  ]],\n",
              "\n",
              "         [[ 0.9876896 ],\n",
              "          [ 0.9876896 ],\n",
              "          [ 0.9876896 ],\n",
              "          ...,\n",
              "          [ 9.916404  ],\n",
              "          [ 9.916404  ],\n",
              "          [ 9.916404  ]]]],\n",
              "\n",
              "\n",
              "\n",
              "       [[[[ 0.9816434 ],\n",
              "          [ 1.0994406 ],\n",
              "          [ 0.78531474],\n",
              "          ...,\n",
              "          [ 0.2355944 ],\n",
              "          [ 0.2355944 ],\n",
              "          [ 0.2355944 ]],\n",
              "\n",
              "         [[ 1.0209091 ],\n",
              "          [ 0.746049  ],\n",
              "          [ 0.2355944 ],\n",
              "          ...,\n",
              "          [ 0.2355944 ],\n",
              "          [ 0.2355944 ],\n",
              "          [ 0.2355944 ]],\n",
              "\n",
              "         [[ 1.1779721 ],\n",
              "          [ 1.2172378 ],\n",
              "          [ 0.9816434 ],\n",
              "          ...,\n",
              "          [ 0.3141259 ],\n",
              "          [ 0.2355944 ],\n",
              "          [ 0.2355944 ]],\n",
              "\n",
              "         ...,\n",
              "\n",
              "         [[ 1.0994406 ],\n",
              "          [ 1.0994406 ],\n",
              "          [ 1.0994406 ],\n",
              "          ...,\n",
              "          [ 0.03926574],\n",
              "          [ 0.03926574],\n",
              "          [ 0.03926574]],\n",
              "\n",
              "         [[ 1.0601748 ],\n",
              "          [ 1.0601748 ],\n",
              "          [ 1.0601748 ],\n",
              "          ...,\n",
              "          [ 0.03926574],\n",
              "          [ 0.03926574],\n",
              "          [ 0.03926574]],\n",
              "\n",
              "         [[ 1.0601748 ],\n",
              "          [ 1.0601748 ],\n",
              "          [ 1.0601748 ],\n",
              "          ...,\n",
              "          [ 0.03926574],\n",
              "          [ 0.03926574],\n",
              "          [ 0.        ]]],\n",
              "\n",
              "\n",
              "        [[[ 1.0601748 ],\n",
              "          [ 1.0209091 ],\n",
              "          [ 0.82458043],\n",
              "          ...,\n",
              "          [ 0.3141259 ],\n",
              "          [ 0.3141259 ],\n",
              "          [ 0.2355944 ]],\n",
              "\n",
              "         [[ 0.9423776 ],\n",
              "          [ 0.78531474],\n",
              "          [ 0.19632868],\n",
              "          ...,\n",
              "          [ 0.3141259 ],\n",
              "          [ 0.3141259 ],\n",
              "          [ 0.2355944 ]],\n",
              "\n",
              "         [[ 1.1779721 ],\n",
              "          [ 1.2172378 ],\n",
              "          [ 0.9816434 ],\n",
              "          ...,\n",
              "          [ 0.3141259 ],\n",
              "          [ 0.2355944 ],\n",
              "          [ 0.2355944 ]],\n",
              "\n",
              "         ...,\n",
              "\n",
              "         [[ 1.0994406 ],\n",
              "          [ 1.0994406 ],\n",
              "          [ 1.0994406 ],\n",
              "          ...,\n",
              "          [ 0.07853147],\n",
              "          [ 0.07853147],\n",
              "          [ 0.        ]],\n",
              "\n",
              "         [[ 1.0601748 ],\n",
              "          [ 1.0601748 ],\n",
              "          [ 1.0209091 ],\n",
              "          ...,\n",
              "          [ 0.07853147],\n",
              "          [ 0.        ],\n",
              "          [ 0.        ]],\n",
              "\n",
              "         [[ 1.0601748 ],\n",
              "          [ 1.0601748 ],\n",
              "          [ 1.0209091 ],\n",
              "          ...,\n",
              "          [ 0.        ],\n",
              "          [ 0.        ],\n",
              "          [ 0.        ]]],\n",
              "\n",
              "\n",
              "        [[[ 1.0209091 ],\n",
              "          [ 0.9816434 ],\n",
              "          [ 0.82458043],\n",
              "          ...,\n",
              "          [ 0.3141259 ],\n",
              "          [ 0.3141259 ],\n",
              "          [ 0.2355944 ]],\n",
              "\n",
              "         [[ 0.8638462 ],\n",
              "          [ 0.78531474],\n",
              "          [ 0.2355944 ],\n",
              "          ...,\n",
              "          [ 0.3141259 ],\n",
              "          [ 0.3141259 ],\n",
              "          [ 0.2355944 ]],\n",
              "\n",
              "         [[ 1.1779721 ],\n",
              "          [ 1.2172378 ],\n",
              "          [ 0.9816434 ],\n",
              "          ...,\n",
              "          [ 0.3141259 ],\n",
              "          [ 0.3141259 ],\n",
              "          [ 0.2355944 ]],\n",
              "\n",
              "         ...,\n",
              "\n",
              "         [[ 1.0994406 ],\n",
              "          [ 1.0994406 ],\n",
              "          [ 1.0994406 ],\n",
              "          ...,\n",
              "          [ 0.07853147],\n",
              "          [ 0.03926574],\n",
              "          [ 0.        ]],\n",
              "\n",
              "         [[ 1.0601748 ],\n",
              "          [ 1.0601748 ],\n",
              "          [ 1.0601748 ],\n",
              "          ...,\n",
              "          [ 0.03926574],\n",
              "          [ 0.        ],\n",
              "          [ 0.        ]],\n",
              "\n",
              "         [[ 1.0601748 ],\n",
              "          [ 1.0601748 ],\n",
              "          [ 1.0601748 ],\n",
              "          ...,\n",
              "          [ 0.        ],\n",
              "          [ 0.        ],\n",
              "          [10.012763  ]]],\n",
              "\n",
              "\n",
              "        ...,\n",
              "\n",
              "\n",
              "        [[[ 0.8638462 ],\n",
              "          [ 1.335035  ],\n",
              "          [ 1.4528322 ],\n",
              "          ...,\n",
              "          [ 0.2355944 ],\n",
              "          [ 0.2355944 ],\n",
              "          [ 0.2355944 ]],\n",
              "\n",
              "         [[ 0.2355944 ],\n",
              "          [ 0.8638462 ],\n",
              "          [ 1.1779721 ],\n",
              "          ...,\n",
              "          [ 0.2355944 ],\n",
              "          [ 0.2355944 ],\n",
              "          [ 0.2355944 ]],\n",
              "\n",
              "         [[ 0.9423776 ],\n",
              "          [ 1.0209091 ],\n",
              "          [ 0.746049  ],\n",
              "          ...,\n",
              "          [ 0.27486014],\n",
              "          [ 0.27486014],\n",
              "          [ 0.19632868]],\n",
              "\n",
              "         ...,\n",
              "\n",
              "         [[ 1.0994406 ],\n",
              "          [ 1.0994406 ],\n",
              "          [ 1.0994406 ],\n",
              "          ...,\n",
              "          [10.012763  ],\n",
              "          [10.012763  ],\n",
              "          [10.012763  ]],\n",
              "\n",
              "         [[ 1.0601748 ],\n",
              "          [ 1.0601748 ],\n",
              "          [ 1.0994406 ],\n",
              "          ...,\n",
              "          [10.012763  ],\n",
              "          [10.012763  ],\n",
              "          [10.012763  ]],\n",
              "\n",
              "         [[ 1.0601748 ],\n",
              "          [ 1.0601748 ],\n",
              "          [ 1.0601748 ],\n",
              "          ...,\n",
              "          [10.012763  ],\n",
              "          [10.012763  ],\n",
              "          [10.012763  ]]],\n",
              "\n",
              "\n",
              "        [[[ 0.9423776 ],\n",
              "          [ 1.4135665 ],\n",
              "          [ 1.4528322 ],\n",
              "          ...,\n",
              "          [ 0.2355944 ],\n",
              "          [ 0.2355944 ],\n",
              "          [ 0.2355944 ]],\n",
              "\n",
              "         [[ 0.3141259 ],\n",
              "          [ 0.9423776 ],\n",
              "          [ 1.1779721 ],\n",
              "          ...,\n",
              "          [ 0.2355944 ],\n",
              "          [ 0.2355944 ],\n",
              "          [ 0.2355944 ]],\n",
              "\n",
              "         [[ 0.9816434 ],\n",
              "          [ 1.0601748 ],\n",
              "          [ 0.82458043],\n",
              "          ...,\n",
              "          [ 0.27486014],\n",
              "          [ 0.19632868],\n",
              "          [ 0.19632868]],\n",
              "\n",
              "         ...,\n",
              "\n",
              "         [[ 1.0994406 ],\n",
              "          [ 1.0994406 ],\n",
              "          [ 1.0994406 ],\n",
              "          ...,\n",
              "          [10.012763  ],\n",
              "          [10.012763  ],\n",
              "          [10.012763  ]],\n",
              "\n",
              "         [[ 1.0601748 ],\n",
              "          [ 1.0601748 ],\n",
              "          [ 1.0994406 ],\n",
              "          ...,\n",
              "          [10.012763  ],\n",
              "          [10.012763  ],\n",
              "          [10.012763  ]],\n",
              "\n",
              "         [[ 1.0601748 ],\n",
              "          [ 1.0601748 ],\n",
              "          [ 1.0601748 ],\n",
              "          ...,\n",
              "          [ 9.934231  ],\n",
              "          [ 9.934231  ],\n",
              "          [ 9.934231  ]]],\n",
              "\n",
              "\n",
              "        [[[ 0.9816434 ],\n",
              "          [ 1.4528322 ],\n",
              "          [ 1.4528322 ],\n",
              "          ...,\n",
              "          [ 0.2355944 ],\n",
              "          [ 0.2355944 ],\n",
              "          [ 0.2355944 ]],\n",
              "\n",
              "         [[ 0.39265737],\n",
              "          [ 0.90311193],\n",
              "          [ 1.1387063 ],\n",
              "          ...,\n",
              "          [ 0.2355944 ],\n",
              "          [ 0.2355944 ],\n",
              "          [ 0.2355944 ]],\n",
              "\n",
              "         [[ 0.8638462 ],\n",
              "          [ 1.0209091 ],\n",
              "          [ 0.70678324],\n",
              "          ...,\n",
              "          [ 0.27486014],\n",
              "          [ 0.19632868],\n",
              "          [ 0.19632868]],\n",
              "\n",
              "         ...,\n",
              "\n",
              "         [[ 1.0601748 ],\n",
              "          [ 1.0601748 ],\n",
              "          [ 1.0994406 ],\n",
              "          ...,\n",
              "          [ 0.        ],\n",
              "          [ 0.        ],\n",
              "          [ 0.        ]],\n",
              "\n",
              "         [[ 1.0601748 ],\n",
              "          [ 1.0601748 ],\n",
              "          [ 1.0601748 ],\n",
              "          ...,\n",
              "          [10.012763  ],\n",
              "          [10.012763  ],\n",
              "          [10.012763  ]],\n",
              "\n",
              "         [[ 1.0601748 ],\n",
              "          [ 1.0601748 ],\n",
              "          [ 1.0209091 ],\n",
              "          ...,\n",
              "          [ 0.        ],\n",
              "          [ 0.        ],\n",
              "          [ 0.        ]]]]], dtype=float32)"
            ]
          },
          "metadata": {},
          "execution_count": 75
        }
      ]
    },
    {
      "cell_type": "code",
      "source": [
        "imageio.mimsave('./animate.gif', val[0][1], fps=10)"
      ],
      "metadata": {
        "colab": {
          "base_uri": "https://localhost:8080/"
        },
        "id": "s5iM6k3nu3dd",
        "outputId": "9b7b9195-058e-49a4-ca13-bcfdd74b22a5"
      },
      "execution_count": 76,
      "outputs": [
        {
          "output_type": "stream",
          "name": "stderr",
          "text": [
            "WARNING:imageio:Lossy conversion from float32 to uint8. Range [0.0, 10.012763023376465]. Convert image to uint8 prior to saving to suppress this warning.\n",
            "WARNING:imageio:Lossy conversion from float32 to uint8. Range [0.0, 10.012763023376465]. Convert image to uint8 prior to saving to suppress this warning.\n",
            "WARNING:imageio:Lossy conversion from float32 to uint8. Range [0.0, 10.012763023376465]. Convert image to uint8 prior to saving to suppress this warning.\n",
            "WARNING:imageio:Lossy conversion from float32 to uint8. Range [0.0, 10.012763023376465]. Convert image to uint8 prior to saving to suppress this warning.\n",
            "WARNING:imageio:Lossy conversion from float32 to uint8. Range [0.0, 10.012763023376465]. Convert image to uint8 prior to saving to suppress this warning.\n",
            "WARNING:imageio:Lossy conversion from float32 to uint8. Range [0.0, 10.012763023376465]. Convert image to uint8 prior to saving to suppress this warning.\n",
            "WARNING:imageio:Lossy conversion from float32 to uint8. Range [0.0, 10.012763023376465]. Convert image to uint8 prior to saving to suppress this warning.\n",
            "WARNING:imageio:Lossy conversion from float32 to uint8. Range [0.0, 10.012763023376465]. Convert image to uint8 prior to saving to suppress this warning.\n",
            "WARNING:imageio:Lossy conversion from float32 to uint8. Range [0.0, 10.012763023376465]. Convert image to uint8 prior to saving to suppress this warning.\n",
            "WARNING:imageio:Lossy conversion from float32 to uint8. Range [0.0, 10.012763023376465]. Convert image to uint8 prior to saving to suppress this warning.\n",
            "WARNING:imageio:Lossy conversion from float32 to uint8. Range [0.0, 10.012763023376465]. Convert image to uint8 prior to saving to suppress this warning.\n",
            "WARNING:imageio:Lossy conversion from float32 to uint8. Range [0.0, 10.012763023376465]. Convert image to uint8 prior to saving to suppress this warning.\n",
            "WARNING:imageio:Lossy conversion from float32 to uint8. Range [0.0, 10.012763023376465]. Convert image to uint8 prior to saving to suppress this warning.\n",
            "WARNING:imageio:Lossy conversion from float32 to uint8. Range [0.0, 10.012763023376465]. Convert image to uint8 prior to saving to suppress this warning.\n",
            "WARNING:imageio:Lossy conversion from float32 to uint8. Range [0.0, 10.012763023376465]. Convert image to uint8 prior to saving to suppress this warning.\n",
            "WARNING:imageio:Lossy conversion from float32 to uint8. Range [0.0, 10.012763023376465]. Convert image to uint8 prior to saving to suppress this warning.\n",
            "WARNING:imageio:Lossy conversion from float32 to uint8. Range [0.0, 10.012763023376465]. Convert image to uint8 prior to saving to suppress this warning.\n",
            "WARNING:imageio:Lossy conversion from float32 to uint8. Range [0.0, 10.012763023376465]. Convert image to uint8 prior to saving to suppress this warning.\n",
            "WARNING:imageio:Lossy conversion from float32 to uint8. Range [0.0, 10.012763023376465]. Convert image to uint8 prior to saving to suppress this warning.\n",
            "WARNING:imageio:Lossy conversion from float32 to uint8. Range [0.0, 10.012763023376465]. Convert image to uint8 prior to saving to suppress this warning.\n",
            "WARNING:imageio:Lossy conversion from float32 to uint8. Range [0.0, 10.012763023376465]. Convert image to uint8 prior to saving to suppress this warning.\n",
            "WARNING:imageio:Lossy conversion from float32 to uint8. Range [0.0, 10.012763023376465]. Convert image to uint8 prior to saving to suppress this warning.\n",
            "WARNING:imageio:Lossy conversion from float32 to uint8. Range [0.0, 10.012763023376465]. Convert image to uint8 prior to saving to suppress this warning.\n",
            "WARNING:imageio:Lossy conversion from float32 to uint8. Range [0.0, 10.012763023376465]. Convert image to uint8 prior to saving to suppress this warning.\n",
            "WARNING:imageio:Lossy conversion from float32 to uint8. Range [0.0, 10.012763023376465]. Convert image to uint8 prior to saving to suppress this warning.\n",
            "WARNING:imageio:Lossy conversion from float32 to uint8. Range [0.0, 10.012763023376465]. Convert image to uint8 prior to saving to suppress this warning.\n",
            "WARNING:imageio:Lossy conversion from float32 to uint8. Range [0.0, 10.012763023376465]. Convert image to uint8 prior to saving to suppress this warning.\n",
            "WARNING:imageio:Lossy conversion from float32 to uint8. Range [0.0, 10.012763023376465]. Convert image to uint8 prior to saving to suppress this warning.\n",
            "WARNING:imageio:Lossy conversion from float32 to uint8. Range [0.0, 10.012763023376465]. Convert image to uint8 prior to saving to suppress this warning.\n",
            "WARNING:imageio:Lossy conversion from float32 to uint8. Range [0.0, 10.012763023376465]. Convert image to uint8 prior to saving to suppress this warning.\n",
            "WARNING:imageio:Lossy conversion from float32 to uint8. Range [0.0, 10.012763023376465]. Convert image to uint8 prior to saving to suppress this warning.\n",
            "WARNING:imageio:Lossy conversion from float32 to uint8. Range [0.0, 10.012763023376465]. Convert image to uint8 prior to saving to suppress this warning.\n",
            "WARNING:imageio:Lossy conversion from float32 to uint8. Range [0.0, 10.012763023376465]. Convert image to uint8 prior to saving to suppress this warning.\n",
            "WARNING:imageio:Lossy conversion from float32 to uint8. Range [0.0, 10.012763023376465]. Convert image to uint8 prior to saving to suppress this warning.\n",
            "WARNING:imageio:Lossy conversion from float32 to uint8. Range [0.0, 10.012763023376465]. Convert image to uint8 prior to saving to suppress this warning.\n",
            "WARNING:imageio:Lossy conversion from float32 to uint8. Range [0.0, 10.012763023376465]. Convert image to uint8 prior to saving to suppress this warning.\n",
            "WARNING:imageio:Lossy conversion from float32 to uint8. Range [0.0, 10.012763023376465]. Convert image to uint8 prior to saving to suppress this warning.\n",
            "WARNING:imageio:Lossy conversion from float32 to uint8. Range [0.0, 10.012763023376465]. Convert image to uint8 prior to saving to suppress this warning.\n",
            "WARNING:imageio:Lossy conversion from float32 to uint8. Range [0.0, 10.012763023376465]. Convert image to uint8 prior to saving to suppress this warning.\n",
            "WARNING:imageio:Lossy conversion from float32 to uint8. Range [0.0, 10.012763023376465]. Convert image to uint8 prior to saving to suppress this warning.\n",
            "WARNING:imageio:Lossy conversion from float32 to uint8. Range [0.0, 10.012763023376465]. Convert image to uint8 prior to saving to suppress this warning.\n",
            "WARNING:imageio:Lossy conversion from float32 to uint8. Range [0.0, 10.012763023376465]. Convert image to uint8 prior to saving to suppress this warning.\n",
            "WARNING:imageio:Lossy conversion from float32 to uint8. Range [0.0, 10.012763023376465]. Convert image to uint8 prior to saving to suppress this warning.\n",
            "WARNING:imageio:Lossy conversion from float32 to uint8. Range [0.0, 10.012763023376465]. Convert image to uint8 prior to saving to suppress this warning.\n",
            "WARNING:imageio:Lossy conversion from float32 to uint8. Range [0.0, 10.012763023376465]. Convert image to uint8 prior to saving to suppress this warning.\n",
            "WARNING:imageio:Lossy conversion from float32 to uint8. Range [0.0, 10.012763023376465]. Convert image to uint8 prior to saving to suppress this warning.\n",
            "WARNING:imageio:Lossy conversion from float32 to uint8. Range [0.0, 10.012763023376465]. Convert image to uint8 prior to saving to suppress this warning.\n",
            "WARNING:imageio:Lossy conversion from float32 to uint8. Range [0.0, 10.012763023376465]. Convert image to uint8 prior to saving to suppress this warning.\n",
            "WARNING:imageio:Lossy conversion from float32 to uint8. Range [0.0, 10.012763023376465]. Convert image to uint8 prior to saving to suppress this warning.\n",
            "WARNING:imageio:Lossy conversion from float32 to uint8. Range [0.0, 10.012763023376465]. Convert image to uint8 prior to saving to suppress this warning.\n",
            "WARNING:imageio:Lossy conversion from float32 to uint8. Range [0.0, 10.012763023376465]. Convert image to uint8 prior to saving to suppress this warning.\n",
            "WARNING:imageio:Lossy conversion from float32 to uint8. Range [0.0, 10.012763023376465]. Convert image to uint8 prior to saving to suppress this warning.\n",
            "WARNING:imageio:Lossy conversion from float32 to uint8. Range [0.0, 10.012763023376465]. Convert image to uint8 prior to saving to suppress this warning.\n",
            "WARNING:imageio:Lossy conversion from float32 to uint8. Range [0.0, 10.012763023376465]. Convert image to uint8 prior to saving to suppress this warning.\n",
            "WARNING:imageio:Lossy conversion from float32 to uint8. Range [0.0, 10.012763023376465]. Convert image to uint8 prior to saving to suppress this warning.\n",
            "WARNING:imageio:Lossy conversion from float32 to uint8. Range [0.0, 10.012763023376465]. Convert image to uint8 prior to saving to suppress this warning.\n",
            "WARNING:imageio:Lossy conversion from float32 to uint8. Range [0.0, 10.012763023376465]. Convert image to uint8 prior to saving to suppress this warning.\n",
            "WARNING:imageio:Lossy conversion from float32 to uint8. Range [0.0, 10.012763023376465]. Convert image to uint8 prior to saving to suppress this warning.\n",
            "WARNING:imageio:Lossy conversion from float32 to uint8. Range [0.0, 10.012763023376465]. Convert image to uint8 prior to saving to suppress this warning.\n",
            "WARNING:imageio:Lossy conversion from float32 to uint8. Range [0.0, 10.012763023376465]. Convert image to uint8 prior to saving to suppress this warning.\n",
            "WARNING:imageio:Lossy conversion from float32 to uint8. Range [0.0, 10.012763023376465]. Convert image to uint8 prior to saving to suppress this warning.\n",
            "WARNING:imageio:Lossy conversion from float32 to uint8. Range [0.0, 10.012763023376465]. Convert image to uint8 prior to saving to suppress this warning.\n",
            "WARNING:imageio:Lossy conversion from float32 to uint8. Range [0.0, 10.012763023376465]. Convert image to uint8 prior to saving to suppress this warning.\n",
            "WARNING:imageio:Lossy conversion from float32 to uint8. Range [0.0, 10.012763023376465]. Convert image to uint8 prior to saving to suppress this warning.\n",
            "WARNING:imageio:Lossy conversion from float32 to uint8. Range [0.0, 10.012763023376465]. Convert image to uint8 prior to saving to suppress this warning.\n",
            "WARNING:imageio:Lossy conversion from float32 to uint8. Range [0.0, 10.012763023376465]. Convert image to uint8 prior to saving to suppress this warning.\n",
            "WARNING:imageio:Lossy conversion from float32 to uint8. Range [0.0, 10.012763023376465]. Convert image to uint8 prior to saving to suppress this warning.\n",
            "WARNING:imageio:Lossy conversion from float32 to uint8. Range [0.0, 10.012763023376465]. Convert image to uint8 prior to saving to suppress this warning.\n",
            "WARNING:imageio:Lossy conversion from float32 to uint8. Range [0.0, 10.012763023376465]. Convert image to uint8 prior to saving to suppress this warning.\n",
            "WARNING:imageio:Lossy conversion from float32 to uint8. Range [0.0, 10.012763023376465]. Convert image to uint8 prior to saving to suppress this warning.\n",
            "WARNING:imageio:Lossy conversion from float32 to uint8. Range [0.0, 10.012763023376465]. Convert image to uint8 prior to saving to suppress this warning.\n",
            "WARNING:imageio:Lossy conversion from float32 to uint8. Range [0.0, 10.012763023376465]. Convert image to uint8 prior to saving to suppress this warning.\n",
            "WARNING:imageio:Lossy conversion from float32 to uint8. Range [0.0, 10.012763023376465]. Convert image to uint8 prior to saving to suppress this warning.\n",
            "WARNING:imageio:Lossy conversion from float32 to uint8. Range [0.0, 10.012763023376465]. Convert image to uint8 prior to saving to suppress this warning.\n",
            "WARNING:imageio:Lossy conversion from float32 to uint8. Range [0.0, 10.012763023376465]. Convert image to uint8 prior to saving to suppress this warning.\n"
          ]
        }
      ]
    },
    {
      "cell_type": "code",
      "source": [
        "fig, axs = plt.subplots(1, 2)  # Create a figure with 1 row and 2 columns\n",
        "# 0:videos, 0: 1st video out of the batch,  0: return the first frame in the video\n",
        "axs[0].imshow(val[0][0][0])  # Display the first image in the first subplot\n",
        "axs[1].imshow(val[0][1][50])  # Display the second image in the second subplot\n",
        "\n",
        "plt.show()"
      ],
      "metadata": {
        "colab": {
          "base_uri": "https://localhost:8080/",
          "height": 139
        },
        "id": "DQirSinrvhnP",
        "outputId": "9270d261-efe7-4b8a-8fc3-eb75bf6eee79"
      },
      "execution_count": 77,
      "outputs": [
        {
          "output_type": "display_data",
          "data": {
            "text/plain": [
              "<Figure size 640x480 with 2 Axes>"
            ],
            "image/png": "[encoded data removed]"
          },
          "metadata": {}
        }
      ]
    },
    {
      "cell_type": "code",
      "source": [
        "tf.strings.reduce_join([num_to_char(word) + ' ' for word in val[1][0]])\n"
      ],
      "metadata": {
        "colab": {
          "base_uri": "https://localhost:8080/"
        },
        "id": "u_w2TpmWwwau",
        "outputId": "dccdc225-b5a2-47a7-b858-56703ffc5b4b"
      },
      "execution_count": 78,
      "outputs": [
        {
          "output_type": "execute_result",
          "data": {
            "text/plain": [
              "<tf.Tensor: shape=(), dtype=string, numpy=b'l a y  w h i t e  a t  l  f i v e  a g a i n                '>"
            ]
          },
          "metadata": {},
          "execution_count": 78
        }
      ]
    },
    {
      "cell_type": "markdown",
      "source": [
        "# Design the deep neural network"
      ],
      "metadata": {
        "id": "mg54r4s7zbAU"
      }
    },
    {
      "cell_type": "code",
      "source": [
        "from tensorflow.keras.models import Sequential\n",
        "from tensorflow.keras.layers import Conv3D, LSTM, Dense, Dropout, Bidirectional, MaxPool3D, Activation, Reshape, SpatialDropout3D, TimeDistributed, Flatten\n",
        "from tensorflow.keras.optimizers import Adam\n",
        "from tensorflow.keras.callbacks import ModelCheckpoint, LearningRateScheduler"
      ],
      "metadata": {
        "id": "BDHS20QgALDQ"
      },
      "execution_count": 82,
      "outputs": []
    },
    {
      "cell_type": "markdown",
      "source": [
        "In the code i provided, the use of 3D layers indicates that the video project involves working with three-dimensional data. In particular, the model is built using the TensorFlow Keras library, and it includes various 3D layers such as Conv3D, MaxPool3D, and SpatialDropout3D.\n",
        "\n",
        "Video data is often represented in the form of multiple frames, where each frame contains a two-dimensional image. However, in order to capture temporal information and learn spatiotemporal patterns in videos, it is necessary to consider the three-dimensional nature of the data.\n",
        "\n",
        "The Conv3D layer, for example, performs three-dimensional convolution, taking into account both spatial and temporal dimensions. It allows the model to capture spatial patterns within each frame and also learn temporal dependencies between consecutive frames.\n",
        "\n",
        "Other 3D layers, such as MaxPool3D and SpatialDropout3D, operate similarly to their 2D counterparts but extend their functionality to the third dimension. MaxPool3D performs three-dimensional max pooling, reducing the spatial dimensions while maintaining the temporal dimension. SpatialDropout3D applies dropout regularization specifically in the spatial dimensions, helping prevent overfitting and improving generalization.\n",
        "\n",
        "By utilizing these 3D layers, the model can effectively process and analyze video data, capturing both spatial and temporal features, which is crucial for many video-related tasks such as action recognition, video classification, and video segmentation."
      ],
      "metadata": {
        "id": "JexzfjD4E2Aj"
      }
    },
    {
      "cell_type": "code",
      "source": [
        "model = Sequential()\n",
        "model.add(Conv3D(128, 3, input_shape=(75,46,140,1), padding='same'))\n",
        "model.add(Activation('relu'))\n",
        "model.add(MaxPool3D((1,2,2)))\n",
        "\n",
        "model.add(Conv3D(256, 3, padding='same'))\n",
        "model.add(Activation('relu'))\n",
        "model.add(MaxPool3D((1,2,2)))\n",
        "\n",
        "model.add(Conv3D(75, 3, padding='same'))\n",
        "model.add(Activation('relu'))\n",
        "model.add(MaxPool3D((1,2,2)))\n",
        "\n",
        "model.add(TimeDistributed(Flatten()))\n",
        "\n",
        "model.add(Bidirectional(LSTM(128, kernel_initializer='Orthogonal', return_sequences=True)))\n",
        "model.add(Dropout(.5))\n",
        "\n",
        "model.add(Bidirectional(LSTM(128, kernel_initializer='Orthogonal', return_sequences=True)))\n",
        "model.add(Dropout(.5))\n",
        "\n",
        "model.add(Dense(char_to_num.vocabulary_size()+1, kernel_initializer='he_normal', activation='softmax'))"
      ],
      "metadata": {
        "id": "3Ay61YQJDw3f"
      },
      "execution_count": 87,
      "outputs": []
    },
    {
      "cell_type": "code",
      "source": [
        "data.as_numpy_iterator().next()[0][0].shape"
      ],
      "metadata": {
        "colab": {
          "base_uri": "https://localhost:8080/"
        },
        "id": "MyMFxN6pGd4K",
        "outputId": "a63c463a-3be4-48b8-ec1c-f013e942adfb"
      },
      "execution_count": 88,
      "outputs": [
        {
          "output_type": "execute_result",
          "data": {
            "text/plain": [
              "(75, 46, 140, 1)"
            ]
          },
          "metadata": {},
          "execution_count": 88
        }
      ]
    },
    {
      "cell_type": "markdown",
      "source": [
        "This code defines a sequential model for deep learning using the Keras library. Let's go through it step by step:\n",
        "\n",
        "1. `model = Sequential()`: This creates a sequential model object, which allows us to build a neural network by stacking layers on top of each other.\n",
        "\n",
        "2. `model.add(Conv3D(128, 3, input_shape=(75,46,140,1), padding='same'))`: This adds a 3D convolutional layer with 128 filters, a filter size of 3x3x3, and a padding mode of 'same'. The input shape of the layer is (75, 46, 140, 1), indicating a 5D input tensor with dimensions (batch_size, depth, height, width, channels). The layer applies the convolution operation to the input, extracting spatial features.\n",
        "\n",
        "3. `model.add(Activation('relu'))`: This adds a ReLU activation function to introduce non-linearity after the convolutional layer.\n",
        "\n",
        "4. `model.add(MaxPool3D((1,2,2)))`: This adds a 3D max pooling layer with a pool size of (1, 2, 2). Max pooling reduces the spatial dimensions of the input, retaining the maximum value within each pooling window.\n",
        "\n",
        "5. The next few lines (steps 2-4) add additional convolutional, activation, and max pooling layers, with different filter sizes and numbers of filters. This helps in extracting more complex features from the input data.\n",
        "\n",
        "6. `model.add(TimeDistributed(Flatten()))`: This layer applies the Flatten operation across the temporal dimension of the input. It converts the input from a 3D tensor to a 2D tensor, preparing it for the recurrent layers that follow.\n",
        "\n",
        "7. `model.add(Bidirectional(LSTM(128, kernel_initializer='Orthogonal', return_sequences=True)))`: This adds a bidirectional LSTM layer with 128 units. Bidirectional LSTMs process the input sequence in both directions, capturing information from past and future time steps. The `return_sequences=True` parameter ensures that the layer returns sequences rather than a single output.\n",
        "\n",
        "8. `model.add(Dropout(.5))`: This adds a dropout layer that randomly sets 50% of the input units to 0 at each training step. Dropout helps in preventing overfitting by reducing the reliance of the model on specific features.\n",
        "\n",
        "9. The previous two lines (steps 7-8) are repeated to add another bidirectional LSTM layer with dropout.\n",
        "\n",
        "10. `model.add(Dense(char_to_num.vocabulary_size()+1, kernel_initializer='he_normal', activation='softmax'))`: This adds a fully connected (dense) layer with a number of units equal to the vocabulary size plus 1. The 'he_normal' kernel initializer is used to initialize the weights of the layer. The activation function is set to 'softmax', which converts the output into a probability distribution over the classes. This layer is responsible for the final classification of the input data.\n",
        "\n",
        "Overall, this model architecture consists of convolutional layers for feature extraction, followed by recurrent layers (bidirectional LSTMs) for sequence processing, and a final dense layer for classification."
      ],
      "metadata": {
        "id": "HQw_CJv4HRop"
      }
    },
    {
      "cell_type": "code",
      "source": [
        "model.summary()"
      ],
      "metadata": {
        "colab": {
          "base_uri": "https://localhost:8080/"
        },
        "id": "fEz-Z0TIF5yu",
        "outputId": "0c64f55d-e802-4b24-dbe0-245601034042"
      },
      "execution_count": 89,
      "outputs": [
        {
          "output_type": "stream",
          "name": "stdout",
          "text": [
            "Model: \"sequential_1\"\n",
            "_________________________________________________________________\n",
            " Layer (type)                Output Shape              Param #   \n",
            "=================================================================\n",
            " conv3d_3 (Conv3D)           (None, 75, 46, 140, 128)  3584      \n",
            "                                                                 \n",
            " activation_3 (Activation)   (None, 75, 46, 140, 128)  0         \n",
            "                                                                 \n",
            " max_pooling3d_3 (MaxPooling  (None, 75, 23, 70, 128)  0         \n",
            " 3D)                                                             \n",
            "                                                                 \n",
            " conv3d_4 (Conv3D)           (None, 75, 23, 70, 256)   884992    \n",
            "                                                                 \n",
            " activation_4 (Activation)   (None, 75, 23, 70, 256)   0         \n",
            "                                                                 \n",
            " max_pooling3d_4 (MaxPooling  (None, 75, 11, 35, 256)  0         \n",
            " 3D)                                                             \n",
            "                                                                 \n",
            " conv3d_5 (Conv3D)           (None, 75, 11, 35, 75)    518475    \n",
            "                                                                 \n",
            " activation_5 (Activation)   (None, 75, 11, 35, 75)    0         \n",
            "                                                                 \n",
            " max_pooling3d_5 (MaxPooling  (None, 75, 5, 17, 75)    0         \n",
            " 3D)                                                             \n",
            "                                                                 \n",
            " time_distributed_1 (TimeDis  (None, 75, 6375)         0         \n",
            " tributed)                                                       \n",
            "                                                                 \n",
            " bidirectional_2 (Bidirectio  (None, 75, 256)          6660096   \n",
            " nal)                                                            \n",
            "                                                                 \n",
            " dropout_2 (Dropout)         (None, 75, 256)           0         \n",
            "                                                                 \n",
            " bidirectional_3 (Bidirectio  (None, 75, 256)          394240    \n",
            " nal)                                                            \n",
            "                                                                 \n",
            " dropout_3 (Dropout)         (None, 75, 256)           0         \n",
            "                                                                 \n",
            " dense_1 (Dense)             (None, 75, 40)            10280     \n",
            "                                                                 \n",
            "=================================================================\n",
            "Total params: 8,471,667\n",
            "Trainable params: 8,471,667\n",
            "Non-trainable params: 0\n",
            "_________________________________________________________________\n"
          ]
        }
      ]
    },
    {
      "cell_type": "code",
      "source": [
        "# testing out before i continue\n",
        "\n",
        "ywhat = model.predict(val[0])"
      ],
      "metadata": {
        "colab": {
          "base_uri": "https://localhost:8080/"
        },
        "id": "tqLJJDhLGBTO",
        "outputId": "c75a81ca-f0d7-4dd2-f10a-73ff9fdf85de"
      },
      "execution_count": 90,
      "outputs": [
        {
          "output_type": "stream",
          "name": "stdout",
          "text": [
            "1/1 [==============================] - 8s 8s/step\n"
          ]
        }
      ]
    },
    {
      "cell_type": "code",
      "source": [
        "# checking the result of the prediction\n",
        "tf.strings.reduce_join([num_to_char(tf.argmax(x)) for x in ywhat[1]])"
      ],
      "metadata": {
        "colab": {
          "base_uri": "https://localhost:8080/"
        },
        "id": "M_Mxi7E6I5zd",
        "outputId": "3e802295-a337-46ca-8058-3a7134e08996"
      },
      "execution_count": 91,
      "outputs": [
        {
          "output_type": "execute_result",
          "data": {
            "text/plain": [
              "<tf.Tensor: shape=(), dtype=string, numpy=b'nnnssssssssssssssssssssssssssssssssssssssssssssssssssssssssssssssssssssssww'>"
            ]
          },
          "metadata": {},
          "execution_count": 91
        }
      ]
    },
    {
      "cell_type": "markdown",
      "source": [
        "Let's break down the code step by step:\n",
        "\n",
        "1. `ywhat = model.predict(val[0])`: This line is making a prediction using a machine learning model called `model`. The input for the prediction is `val[0]`, which is presumably a data point or a batch of data points. The result of the prediction is stored in the variable `ywhat`.\n",
        "\n",
        "2. `tf.strings.reduce_join(...)`: This line uses TensorFlow's `reduce_join` function from the `tf.strings` module. This function concatenates a list of strings into a single string. It takes a list comprehension as an argument, which processes each element `x` in the provided list.\n",
        "\n",
        "3. `[num_to_char(tf.argmax(x)) for x in ywhat[1]]`: This list comprehension is iterating over the elements in `ywhat[1]`, which suggests that `ywhat` is a list or an array-like object. For each element `x`, it calls a function `num_to_char` and passes the result of `tf.argmax(x)` as an argument. The `tf.argmax` function returns the index of the maximum value in `x`, which is likely a one-hot encoded representation of characters or tokens. The `num_to_char` function presumably converts the index back to its corresponding character or token representation.\n",
        "\n",
        "Overall, the code is making predictions using a machine learning model and converting the predicted values into a string representation using TensorFlow operations."
      ],
      "metadata": {
        "id": "czq_r_b_KOfg"
      }
    },
    {
      "cell_type": "code",
      "source": [
        "ywhat[0]"
      ],
      "metadata": {
        "colab": {
          "base_uri": "https://localhost:8080/"
        },
        "id": "xDrhsVAsKcw_",
        "outputId": "95047054-34b8-4682-f262-bae613db800c"
      },
      "execution_count": 93,
      "outputs": [
        {
          "output_type": "execute_result",
          "data": {
            "text/plain": [
              "array([[0.02349688, 0.02659395, 0.02212984, ..., 0.02120561, 0.02753587,\n",
              "        0.0279835 ],\n",
              "       [0.02449556, 0.02555994, 0.02228467, ..., 0.02184256, 0.02743618,\n",
              "        0.02823115],\n",
              "       [0.02544247, 0.02482711, 0.02236077, ..., 0.02232022, 0.02768666,\n",
              "        0.02818198],\n",
              "       ...,\n",
              "       [0.03593339, 0.02188426, 0.02414579, ..., 0.02653934, 0.02794538,\n",
              "        0.02376185],\n",
              "       [0.03512984, 0.02218973, 0.02478153, ..., 0.02742339, 0.02828437,\n",
              "        0.02377104],\n",
              "       [0.03383873, 0.02274722, 0.02543032, ..., 0.02847065, 0.02898032,\n",
              "        0.02405858]], dtype=float32)"
            ]
          },
          "metadata": {},
          "execution_count": 93
        }
      ]
    },
    {
      "cell_type": "code",
      "source": [
        "ywhat[0].shape"
      ],
      "metadata": {
        "colab": {
          "base_uri": "https://localhost:8080/"
        },
        "id": "p8VPnJwmKtB1",
        "outputId": "6d602a8a-9995-4db7-c70b-ef3b034bb069"
      },
      "execution_count": 94,
      "outputs": [
        {
          "output_type": "execute_result",
          "data": {
            "text/plain": [
              "(75, 40)"
            ]
          },
          "metadata": {},
          "execution_count": 94
        }
      ]
    },
    {
      "cell_type": "code",
      "source": [
        "tf.argmax(ywhat[0], axis = 1)"
      ],
      "metadata": {
        "colab": {
          "base_uri": "https://localhost:8080/"
        },
        "id": "aobc8aduKzmd",
        "outputId": "d3c7c681-7f16-40df-f686-06f5a5b47e29"
      },
      "execution_count": 96,
      "outputs": [
        {
          "output_type": "execute_result",
          "data": {
            "text/plain": [
              "<tf.Tensor: shape=(75,), dtype=int64, numpy=\n",
              "array([22, 14, 19, 19, 19, 19, 19, 19, 19, 19, 19, 19, 19, 19, 19, 19, 19,\n",
              "       19, 19, 19, 19, 19, 19, 19, 19, 19, 19, 19, 19, 19, 19, 19, 19, 19,\n",
              "       19, 19, 19, 19, 19, 19, 19, 19, 19, 19, 19, 19, 19, 19, 19, 19, 19,\n",
              "       19, 19, 19, 19, 19, 19, 19, 19, 19, 19, 19, 19, 19, 19, 19, 19, 19,\n",
              "       19, 19, 19, 19, 19, 19, 19])>"
            ]
          },
          "metadata": {},
          "execution_count": 96
        }
      ]
    },
    {
      "cell_type": "code",
      "source": [
        "model.input_shape"
      ],
      "metadata": {
        "colab": {
          "base_uri": "https://localhost:8080/"
        },
        "id": "dNxcxm-5LBTz",
        "outputId": "90ba58a2-3ee2-41a9-8efe-7f1cca76c491"
      },
      "execution_count": 97,
      "outputs": [
        {
          "output_type": "execute_result",
          "data": {
            "text/plain": [
              "(None, 75, 46, 140, 1)"
            ]
          },
          "metadata": {},
          "execution_count": 97
        }
      ]
    },
    {
      "cell_type": "code",
      "source": [
        "model.output_shape"
      ],
      "metadata": {
        "colab": {
          "base_uri": "https://localhost:8080/"
        },
        "id": "0PtJqmhZLrRN",
        "outputId": "39dd3e93-d7c7-45f5-a099-9cd683dcf5bc"
      },
      "execution_count": 98,
      "outputs": [
        {
          "output_type": "execute_result",
          "data": {
            "text/plain": [
              "(None, 75, 40)"
            ]
          },
          "metadata": {},
          "execution_count": 98
        }
      ]
    },
    {
      "cell_type": "code",
      "source": [],
      "metadata": {
        "id": "4-SGFWeQLyZ-"
      },
      "execution_count": null,
      "outputs": []
    }
  ],
  "metadata": {
    "accelerator": "GPU",
    "colab": {
      "provenance": [],
      "mount_file_id": "1dvEoAk4UhgSoHKjzbeirZEe5pD0uKUA9",
      "authorship_tag": "ABX9TyNYT/lAoDXdCI9I4PQ5Prc/",
      "include_colab_link": true
    },
    "kernelspec": {
      "display_name": "Python 3",
      "name": "python3"
    },
    "language_info": {
      "name": "python"
    }
  },
  "nbformat": 4,
  "nbformat_minor": 0
}