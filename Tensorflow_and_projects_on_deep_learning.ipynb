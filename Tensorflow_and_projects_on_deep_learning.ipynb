{
  "nbformat": 4,
  "nbformat_minor": 0,
  "metadata": {
    "colab": {
      "provenance": [],
      "gpuType": "T4",
      "authorship_tag": "ABX9TyPYsCJ/8gU/4LrmmSp/dLS6",
      "include_colab_link": true
    },
    "kernelspec": {
      "name": "python3",
      "display_name": "Python 3"
    },
    "language_info": {
      "name": "python"
    },
    "accelerator": "GPU"
  },
  "cells": [
    {
      "cell_type": "markdown",
      "metadata": {
        "id": "view-in-github",
        "colab_type": "text"
      },
      "source": [
        "<a href=\"https://colab.research.google.com/github/Francisroyce/Francisroyce/blob/main/Tensorflow_and_projects_on_deep_learning.ipynb\" target=\"_parent\"><img src=\"https://colab.research.google.com/assets/colab-badge.svg\" alt=\"Open In Colab\"/></a>"
      ]
    },
    {
      "cell_type": "code",
      "execution_count": 36,
      "metadata": {
        "colab": {
          "base_uri": "https://localhost:8080/"
        },
        "id": "Bm3qWeyFXhBd",
        "outputId": "28a53795-7b6e-42b3-ad6f-49f29e088ace"
      },
      "outputs": [
        {
          "output_type": "stream",
          "name": "stdout",
          "text": [
            "hellow world\n"
          ]
        }
      ],
      "source": [
        "print('hellow world')"
      ]
    },
    {
      "cell_type": "markdown",
      "source": [
        "# Checking tensor dimension and shapes"
      ],
      "metadata": {
        "id": "jgAwo3RHkB-F"
      }
    },
    {
      "cell_type": "code",
      "source": [
        "import tensorflow as tf\n"
      ],
      "metadata": {
        "id": "dbV6XrE8X587"
      },
      "execution_count": 37,
      "outputs": []
    },
    {
      "cell_type": "code",
      "source": [
        "# check for 0-D(dimension), to check the shapes\n",
        "tensor_zero_d = tf.constant(4)\n",
        "print(tensor_zero_d)"
      ],
      "metadata": {
        "colab": {
          "base_uri": "https://localhost:8080/"
        },
        "id": "r940ThI0YZdO",
        "outputId": "48739d64-17ef-4215-8dd1-e721bf8777d0"
      },
      "execution_count": 38,
      "outputs": [
        {
          "output_type": "stream",
          "name": "stdout",
          "text": [
            "tf.Tensor(4, shape=(), dtype=int32)\n"
          ]
        }
      ]
    },
    {
      "cell_type": "code",
      "source": [
        "# checking for 1-D(dimension), to check the shapes\n",
        "tensor_one_d = tf.constant([2, 0, -3])\n",
        "print(tensor_one_d)"
      ],
      "metadata": {
        "colab": {
          "base_uri": "https://localhost:8080/"
        },
        "id": "I5ws4TOGY-xn",
        "outputId": "2c8c93c0-15e2-4339-fc07-6e6602c7d342"
      },
      "execution_count": 39,
      "outputs": [
        {
          "output_type": "stream",
          "name": "stdout",
          "text": [
            "tf.Tensor([ 2  0 -3], shape=(3,), dtype=int32)\n"
          ]
        }
      ]
    },
    {
      "cell_type": "code",
      "source": [
        "tensor_one_d = tf.constant([2, 0, -3, 8, 90])\n",
        "print(tensor_one_d)"
      ],
      "metadata": {
        "colab": {
          "base_uri": "https://localhost:8080/"
        },
        "id": "oczkkthPZ5UW",
        "outputId": "1584244c-bcfe-4bf1-ad64-945d985e05e1"
      },
      "execution_count": 40,
      "outputs": [
        {
          "output_type": "stream",
          "name": "stdout",
          "text": [
            "tf.Tensor([ 2  0 -3  8 90], shape=(5,), dtype=int32)\n"
          ]
        }
      ]
    },
    {
      "cell_type": "code",
      "source": [
        "# checking for a float\n",
        "tensor_one_d = tf.constant([2, 0, -3, 8, 90.])\n",
        "print(tensor_one_d)"
      ],
      "metadata": {
        "colab": {
          "base_uri": "https://localhost:8080/"
        },
        "id": "OREe8Xalaczx",
        "outputId": "69dc79f1-87a5-4d5d-851d-00559e274cc9"
      },
      "execution_count": 41,
      "outputs": [
        {
          "output_type": "stream",
          "name": "stdout",
          "text": [
            "tf.Tensor([ 2.  0. -3.  8. 90.], shape=(5,), dtype=float32)\n"
          ]
        }
      ]
    },
    {
      "cell_type": "code",
      "source": [
        "# checking on 2-D(dimension) tensor, to check the shape\n",
        "tensor_two_d = tf.constant([\n",
        "    [1, 2, 0],\n",
        "    [3, 5, -1],\n",
        "    [1, 5, 6],\n",
        "    [2, 3, 8]\n",
        "    ])\n",
        "print(tensor_two_d)"
      ],
      "metadata": {
        "colab": {
          "base_uri": "https://localhost:8080/"
        },
        "id": "-pnwG-IbagLA",
        "outputId": "5fc53b57-13f4-46e3-e1b8-70c2a541f2e5"
      },
      "execution_count": 42,
      "outputs": [
        {
          "output_type": "stream",
          "name": "stdout",
          "text": [
            "tf.Tensor(\n",
            "[[ 1  2  0]\n",
            " [ 3  5 -1]\n",
            " [ 1  5  6]\n",
            " [ 2  3  8]], shape=(4, 3), dtype=int32)\n"
          ]
        }
      ]
    },
    {
      "cell_type": "code",
      "source": [
        "tensor_three_d = tf.constant([\n",
        "    [[1, 2, 0],\n",
        "     [3, 5, -1]],\n",
        "\n",
        "    [[10, 2, 0],\n",
        "     [1, 0, 2]],\n",
        "\n",
        "    [[5, 8, 0],\n",
        "     [2, 7, 0]],\n",
        "\n",
        "    [[2, 1, 9],\n",
        "     [4, -3, 32]]\n",
        "])\n",
        "\n",
        "print(tensor_three_d)\n"
      ],
      "metadata": {
        "colab": {
          "base_uri": "https://localhost:8080/"
        },
        "id": "QkOt7-0zbj3N",
        "outputId": "12717427-7d1c-4ec7-9617-7fc25f4023e5"
      },
      "execution_count": 43,
      "outputs": [
        {
          "output_type": "stream",
          "name": "stdout",
          "text": [
            "tf.Tensor(\n",
            "[[[ 1  2  0]\n",
            "  [ 3  5 -1]]\n",
            "\n",
            " [[10  2  0]\n",
            "  [ 1  0  2]]\n",
            "\n",
            " [[ 5  8  0]\n",
            "  [ 2  7  0]]\n",
            "\n",
            " [[ 2  1  9]\n",
            "  [ 4 -3 32]]], shape=(4, 2, 3), dtype=int32)\n"
          ]
        }
      ]
    },
    {
      "cell_type": "code",
      "source": [
        "tensor_three_d.shape, tensor_two_d.shape, tensor_one_d.shape"
      ],
      "metadata": {
        "colab": {
          "base_uri": "https://localhost:8080/"
        },
        "id": "zbXwOxq3dYsl",
        "outputId": "6e6ef7d1-7c6c-4210-d423-1bed77d45f6c"
      },
      "execution_count": 44,
      "outputs": [
        {
          "output_type": "execute_result",
          "data": {
            "text/plain": [
              "(TensorShape([4, 2, 3]), TensorShape([4, 3]), TensorShape([5]))"
            ]
          },
          "metadata": {},
          "execution_count": 44
        }
      ]
    },
    {
      "cell_type": "code",
      "source": [
        "# checking for 4-D tensors\n",
        "import tensorflow as tf\n",
        "\n",
        "tensor_four_d = tf.constant([\n",
        "    [\n",
        "        [\n",
        "            [1, 2, 3],\n",
        "            [4, 5, 6]\n",
        "        ],\n",
        "        [\n",
        "            [7, 8, 9],\n",
        "            [10, 11, 12]\n",
        "        ]\n",
        "    ],\n",
        "    [\n",
        "        [\n",
        "            [13, 14, 15],\n",
        "            [16, 17, 18]\n",
        "        ],\n",
        "        [\n",
        "            [19, 20, 21],\n",
        "            [22, 23, 24]\n",
        "        ]\n",
        "    ]\n",
        "])\n",
        "\n",
        "print(tensor_four_d)\n",
        "\n"
      ],
      "metadata": {
        "colab": {
          "base_uri": "https://localhost:8080/"
        },
        "id": "KAXXPiZie2jC",
        "outputId": "91a7e892-c022-4cc7-8195-d26aff2c2e55"
      },
      "execution_count": 45,
      "outputs": [
        {
          "output_type": "stream",
          "name": "stdout",
          "text": [
            "tf.Tensor(\n",
            "[[[[ 1  2  3]\n",
            "   [ 4  5  6]]\n",
            "\n",
            "  [[ 7  8  9]\n",
            "   [10 11 12]]]\n",
            "\n",
            "\n",
            " [[[13 14 15]\n",
            "   [16 17 18]]\n",
            "\n",
            "  [[19 20 21]\n",
            "   [22 23 24]]]], shape=(2, 2, 2, 3), dtype=int32)\n"
          ]
        }
      ]
    },
    {
      "cell_type": "markdown",
      "source": [
        "# Cast method"
      ],
      "metadata": {
        "id": "9D24tGsWfu2S"
      }
    },
    {
      "cell_type": "code",
      "source": [
        "tensor_d = tf.constant([2, 0., -3, 8, 90], dtype=tf.float32)\n",
        "print(tensor_d)"
      ],
      "metadata": {
        "colab": {
          "base_uri": "https://localhost:8080/"
        },
        "id": "R6hh47sXh2kX",
        "outputId": "7ad49313-5eb6-41d4-e02c-a3762cef5cb9"
      },
      "execution_count": 46,
      "outputs": [
        {
          "output_type": "stream",
          "name": "stdout",
          "text": [
            "tf.Tensor([ 2.  0. -3.  8. 90.], shape=(5,), dtype=float32)\n"
          ]
        }
      ]
    },
    {
      "cell_type": "code",
      "source": [
        "tensor_d = tf.constant([2, 0., -3, 8, 90], dtype=tf.float32)\n",
        "casted_tensor_d = tf.cast(tensor_d, dtype=tf.int32)\n",
        "print(tensor_d)\n",
        "print(casted_tensor_d)"
      ],
      "metadata": {
        "colab": {
          "base_uri": "https://localhost:8080/"
        },
        "id": "QhF5PLyiieYl",
        "outputId": "3f706df8-703f-4aec-9421-e4c083126795"
      },
      "execution_count": 47,
      "outputs": [
        {
          "output_type": "stream",
          "name": "stdout",
          "text": [
            "tf.Tensor([ 2.  0. -3.  8. 90.], shape=(5,), dtype=float32)\n",
            "tf.Tensor([ 2  0 -3  8 90], shape=(5,), dtype=int32)\n"
          ]
        }
      ]
    },
    {
      "cell_type": "code",
      "source": [
        "tensor_d = tf.constant([2, 0., -3, 8, 90], dtype=tf.float32)\n",
        "casted_tensor_d = tf.cast(tensor_d, dtype=tf.bool)\n",
        "print(tensor_d)\n",
        "print(casted_tensor_d)"
      ],
      "metadata": {
        "colab": {
          "base_uri": "https://localhost:8080/"
        },
        "id": "Wa0OM39njEHw",
        "outputId": "5f61dc3f-2e4f-4b21-d746-e607acc3f458"
      },
      "execution_count": 48,
      "outputs": [
        {
          "output_type": "stream",
          "name": "stdout",
          "text": [
            "tf.Tensor([ 2.  0. -3.  8. 90.], shape=(5,), dtype=float32)\n",
            "tf.Tensor([ True False  True  True  True], shape=(5,), dtype=bool)\n"
          ]
        }
      ]
    },
    {
      "cell_type": "code",
      "source": [
        "# checking for bool\n",
        "tensor_bool = tf.constant([True, False, True])\n",
        "print(tensor_bool)"
      ],
      "metadata": {
        "colab": {
          "base_uri": "https://localhost:8080/"
        },
        "id": "DVo4xSH_jL27",
        "outputId": "57c73170-53a2-4924-c7a2-023cd23cd95e"
      },
      "execution_count": 49,
      "outputs": [
        {
          "output_type": "stream",
          "name": "stdout",
          "text": [
            "tf.Tensor([ True False  True], shape=(3,), dtype=bool)\n"
          ]
        }
      ]
    },
    {
      "cell_type": "code",
      "source": [
        "# checking for tensor strings\n",
        "tensor_s = tf.constant(['hello world'])\n",
        "print(tensor_s)"
      ],
      "metadata": {
        "colab": {
          "base_uri": "https://localhost:8080/"
        },
        "id": "_x1Dwgukjszi",
        "outputId": "3f7b147f-0e5c-4d4d-da99-4f34c9330128"
      },
      "execution_count": 50,
      "outputs": [
        {
          "output_type": "stream",
          "name": "stdout",
          "text": [
            "tf.Tensor([b'hello world'], shape=(1,), dtype=string)\n"
          ]
        }
      ]
    },
    {
      "cell_type": "code",
      "source": [
        "# checking for tensor strings\n",
        "tensor_s = tf.constant(['hello world', 'hi'])\n",
        "print(tensor_s)"
      ],
      "metadata": {
        "colab": {
          "base_uri": "https://localhost:8080/"
        },
        "id": "jO325-2sloR7",
        "outputId": "c38a16f0-3f3d-4552-a293-9384b11a6961"
      },
      "execution_count": 51,
      "outputs": [
        {
          "output_type": "stream",
          "name": "stdout",
          "text": [
            "tf.Tensor([b'hello world' b'hi'], shape=(2,), dtype=string)\n"
          ]
        }
      ]
    },
    {
      "cell_type": "markdown",
      "source": [
        "# Converting a numpy array into a tensor"
      ],
      "metadata": {
        "id": "daN4Az8Nl2zp"
      }
    },
    {
      "cell_type": "code",
      "source": [
        "import numpy as np\n"
      ],
      "metadata": {
        "id": "lVkQCx0SmAlD"
      },
      "execution_count": 52,
      "outputs": []
    },
    {
      "cell_type": "code",
      "source": [
        "np_array = np.array([1, 2, 3])\n",
        "print(np_array)"
      ],
      "metadata": {
        "colab": {
          "base_uri": "https://localhost:8080/"
        },
        "id": "zmdSBxI8mF6z",
        "outputId": "7babda85-0edc-4a66-ba68-cda2acf3509f"
      },
      "execution_count": 53,
      "outputs": [
        {
          "output_type": "stream",
          "name": "stdout",
          "text": [
            "[1 2 3]\n"
          ]
        }
      ]
    },
    {
      "cell_type": "code",
      "source": [
        "converted_tensor = tf.convert_to_tensor(np_array)\n",
        "print(converted_tensor)"
      ],
      "metadata": {
        "colab": {
          "base_uri": "https://localhost:8080/"
        },
        "id": "SDY5Mxq7mY55",
        "outputId": "482658ad-086f-439b-8b9f-44026af06475"
      },
      "execution_count": 54,
      "outputs": [
        {
          "output_type": "stream",
          "name": "stdout",
          "text": [
            "tf.Tensor([1 2 3], shape=(3,), dtype=int64)\n"
          ]
        }
      ]
    },
    {
      "cell_type": "code",
      "source": [
        "# construct identity matrix or batch of matrix\n",
        "eye_tensor = tf.eye(\n",
        "    num_rows=3,\n",
        "    num_columns=None,\n",
        "    batch_shape=None,\n",
        "    dtype = tf.dtypes.float32,\n",
        "    name=None\n",
        ")\n",
        "print(eye_tensor)"
      ],
      "metadata": {
        "colab": {
          "base_uri": "https://localhost:8080/"
        },
        "id": "PuLVriAWmwX-",
        "outputId": "f112dbb0-8256-423d-c0d7-22297f47cc98"
      },
      "execution_count": 55,
      "outputs": [
        {
          "output_type": "stream",
          "name": "stdout",
          "text": [
            "tf.Tensor(\n",
            "[[1. 0. 0.]\n",
            " [0. 1. 0.]\n",
            " [0. 0. 1.]], shape=(3, 3), dtype=float32)\n"
          ]
        }
      ]
    },
    {
      "cell_type": "code",
      "source": [
        "# construct identity matrix or batch of matrix\n",
        "eye_tensor = tf.eye(\n",
        "    num_rows=3,\n",
        "    num_columns=None,\n",
        "    batch_shape=None,\n",
        "    dtype = tf.dtypes.float32,\n",
        "    name=None\n",
        ")\n",
        "print(3*eye_tensor)"
      ],
      "metadata": {
        "colab": {
          "base_uri": "https://localhost:8080/"
        },
        "id": "goT-1C1un2Ua",
        "outputId": "5ca01223-7836-4de9-8ebf-a3641569ba68"
      },
      "execution_count": 56,
      "outputs": [
        {
          "output_type": "stream",
          "name": "stdout",
          "text": [
            "tf.Tensor(\n",
            "[[3. 0. 0.]\n",
            " [0. 3. 0.]\n",
            " [0. 0. 3.]], shape=(3, 3), dtype=float32)\n"
          ]
        }
      ]
    },
    {
      "cell_type": "code",
      "source": [
        "# setting batch shape\n",
        "# construct identity matrix or batch of matrix\n",
        "eye_tensor = tf.eye(\n",
        "    num_rows=3,\n",
        "    num_columns=None,\n",
        "    batch_shape=[3,],\n",
        "    dtype = tf.dtypes.float32,\n",
        "    name=None\n",
        ")\n",
        "print(eye_tensor)"
      ],
      "metadata": {
        "colab": {
          "base_uri": "https://localhost:8080/"
        },
        "id": "g4xprHLuoKsK",
        "outputId": "7bc5cba7-0ad1-4b75-ac37-728cb8651146"
      },
      "execution_count": 57,
      "outputs": [
        {
          "output_type": "stream",
          "name": "stdout",
          "text": [
            "tf.Tensor(\n",
            "[[[1. 0. 0.]\n",
            "  [0. 1. 0.]\n",
            "  [0. 0. 1.]]\n",
            "\n",
            " [[1. 0. 0.]\n",
            "  [0. 1. 0.]\n",
            "  [0. 0. 1.]]\n",
            "\n",
            " [[1. 0. 0.]\n",
            "  [0. 1. 0.]\n",
            "  [0. 0. 1.]]], shape=(3, 3, 3), dtype=float32)\n"
          ]
        }
      ]
    },
    {
      "cell_type": "code",
      "source": [
        "# construct identity matrix or batch of matrix\n",
        "eye_tensor = tf.eye(\n",
        "    num_rows=3,\n",
        "    num_columns=None,\n",
        "    batch_shape=[2, 4],\n",
        "    dtype = tf.dtypes.float32,\n",
        "    name=None\n",
        ")\n",
        "print(eye_tensor)"
      ],
      "metadata": {
        "colab": {
          "base_uri": "https://localhost:8080/"
        },
        "id": "7d0IHzFLo2mi",
        "outputId": "4be51d7a-ec2d-41e6-8ef0-d4e5f55ce008"
      },
      "execution_count": 58,
      "outputs": [
        {
          "output_type": "stream",
          "name": "stdout",
          "text": [
            "tf.Tensor(\n",
            "[[[[1. 0. 0.]\n",
            "   [0. 1. 0.]\n",
            "   [0. 0. 1.]]\n",
            "\n",
            "  [[1. 0. 0.]\n",
            "   [0. 1. 0.]\n",
            "   [0. 0. 1.]]\n",
            "\n",
            "  [[1. 0. 0.]\n",
            "   [0. 1. 0.]\n",
            "   [0. 0. 1.]]\n",
            "\n",
            "  [[1. 0. 0.]\n",
            "   [0. 1. 0.]\n",
            "   [0. 0. 1.]]]\n",
            "\n",
            "\n",
            " [[[1. 0. 0.]\n",
            "   [0. 1. 0.]\n",
            "   [0. 0. 1.]]\n",
            "\n",
            "  [[1. 0. 0.]\n",
            "   [0. 1. 0.]\n",
            "   [0. 0. 1.]]\n",
            "\n",
            "  [[1. 0. 0.]\n",
            "   [0. 1. 0.]\n",
            "   [0. 0. 1.]]\n",
            "\n",
            "  [[1. 0. 0.]\n",
            "   [0. 1. 0.]\n",
            "   [0. 0. 1.]]]], shape=(2, 4, 3, 3), dtype=float32)\n"
          ]
        }
      ]
    },
    {
      "cell_type": "markdown",
      "source": [
        "# Fill method"
      ],
      "metadata": {
        "id": "ELv62_OCpO7x"
      }
    },
    {
      "cell_type": "code",
      "source": [
        "fill_tennsor = tf.fill([1, 3, 4], 5, name=None)\n",
        "print(fill_tennsor)"
      ],
      "metadata": {
        "colab": {
          "base_uri": "https://localhost:8080/"
        },
        "id": "W5LwpVX9qRr5",
        "outputId": "4d3066d2-8a98-4159-be7d-6d5f12ad40f7"
      },
      "execution_count": 59,
      "outputs": [
        {
          "output_type": "stream",
          "name": "stdout",
          "text": [
            "tf.Tensor(\n",
            "[[[5 5 5 5]\n",
            "  [5 5 5 5]\n",
            "  [5 5 5 5]]], shape=(1, 3, 4), dtype=int32)\n"
          ]
        }
      ]
    },
    {
      "cell_type": "markdown",
      "source": [
        "# Ones method"
      ],
      "metadata": {
        "id": "JqaqYfE2rt7Y"
      }
    },
    {
      "cell_type": "code",
      "source": [
        "# create a tensor with all elements set to one(1)\n",
        "ones_tensor = tf.ones([5, 3],\n",
        "                       dtype=tf.dtypes.float32,\n",
        "                       name=None)\n",
        "print(ones_tensor)"
      ],
      "metadata": {
        "colab": {
          "base_uri": "https://localhost:8080/"
        },
        "id": "BhpdmMOEsDxP",
        "outputId": "4da88107-f25d-45bb-ecf6-8135053e3b48"
      },
      "execution_count": 60,
      "outputs": [
        {
          "output_type": "stream",
          "name": "stdout",
          "text": [
            "tf.Tensor(\n",
            "[[1. 1. 1.]\n",
            " [1. 1. 1.]\n",
            " [1. 1. 1.]\n",
            " [1. 1. 1.]\n",
            " [1. 1. 1.]], shape=(5, 3), dtype=float32)\n"
          ]
        }
      ]
    },
    {
      "cell_type": "code",
      "source": [
        "# create a tensor with all elements set to one(1)\n",
        "ones_tensor = tf.ones([5, 3, 2],\n",
        "                       dtype=tf.dtypes.float32,\n",
        "                       name=None)\n",
        "print(ones_tensor)"
      ],
      "metadata": {
        "colab": {
          "base_uri": "https://localhost:8080/"
        },
        "id": "lZ9my8kjsK3q",
        "outputId": "31ebb20f-077d-40e8-ba47-620639c8273c"
      },
      "execution_count": 61,
      "outputs": [
        {
          "output_type": "stream",
          "name": "stdout",
          "text": [
            "tf.Tensor(\n",
            "[[[1. 1.]\n",
            "  [1. 1.]\n",
            "  [1. 1.]]\n",
            "\n",
            " [[1. 1.]\n",
            "  [1. 1.]\n",
            "  [1. 1.]]\n",
            "\n",
            " [[1. 1.]\n",
            "  [1. 1.]\n",
            "  [1. 1.]]\n",
            "\n",
            " [[1. 1.]\n",
            "  [1. 1.]\n",
            "  [1. 1.]]\n",
            "\n",
            " [[1. 1.]\n",
            "  [1. 1.]\n",
            "  [1. 1.]]], shape=(5, 3, 2), dtype=float32)\n"
          ]
        }
      ]
    },
    {
      "cell_type": "markdown",
      "source": [
        "#Ones_like method"
      ],
      "metadata": {
        "id": "IQPYCOwxtu3u"
      }
    },
    {
      "cell_type": "code",
      "source": [
        "# create a tensor of all one that has the same shape as the input\n",
        "ones_like_tensor = tf.ones_like(fill_tennsor)\n",
        "print(ones_like_tensor)"
      ],
      "metadata": {
        "id": "GGCU3JuUtSyJ",
        "colab": {
          "base_uri": "https://localhost:8080/"
        },
        "outputId": "3997668c-30d9-4d38-f20c-80c8456beabe"
      },
      "execution_count": 62,
      "outputs": [
        {
          "output_type": "stream",
          "name": "stdout",
          "text": [
            "tf.Tensor(\n",
            "[[[1 1 1 1]\n",
            "  [1 1 1 1]\n",
            "  [1 1 1 1]]], shape=(1, 3, 4), dtype=int32)\n"
          ]
        }
      ]
    },
    {
      "cell_type": "markdown",
      "source": [
        "# Zeros method"
      ],
      "metadata": {
        "id": "UG1jPzGlzYNe"
      }
    },
    {
      "cell_type": "code",
      "source": [
        "# creates a tensor with all eleements set to zero\n",
        "zero_tensor = tf.zeros([5, 3],\n",
        "                       dtype=tf.dtypes.float32,\n",
        "                       name=None)\n",
        "print(zero_tensor)"
      ],
      "metadata": {
        "colab": {
          "base_uri": "https://localhost:8080/"
        },
        "id": "P2EL4E-Q0Q1e",
        "outputId": "9a8fa364-1a42-4e28-98d9-1ce04e509562"
      },
      "execution_count": 63,
      "outputs": [
        {
          "output_type": "stream",
          "name": "stdout",
          "text": [
            "tf.Tensor(\n",
            "[[0. 0. 0.]\n",
            " [0. 0. 0.]\n",
            " [0. 0. 0.]\n",
            " [0. 0. 0.]\n",
            " [0. 0. 0.]], shape=(5, 3), dtype=float32)\n"
          ]
        }
      ]
    },
    {
      "cell_type": "markdown",
      "source": [
        "# Shape method"
      ],
      "metadata": {
        "id": "8hwBJ0Bi1Wh_"
      }
    },
    {
      "cell_type": "code",
      "source": [
        "shape_tensors =tf.shape([3, 5],\n",
        "                        out_type=tf.dtypes.int32,\n",
        "                        name=None)\n",
        "print(shape_tensors)"
      ],
      "metadata": {
        "colab": {
          "base_uri": "https://localhost:8080/"
        },
        "id": "oKR8SCe91jV-",
        "outputId": "35dac626-c118-45ab-d207-d699d9f53440"
      },
      "execution_count": 64,
      "outputs": [
        {
          "output_type": "stream",
          "name": "stdout",
          "text": [
            "tf.Tensor([2], shape=(1,), dtype=int32)\n"
          ]
        }
      ]
    },
    {
      "cell_type": "markdown",
      "source": [
        "# Rank Method"
      ],
      "metadata": {
        "id": "u9D7fHx72GGY"
      }
    },
    {
      "cell_type": "code",
      "source": [
        "# returns the rank of a tensor\n",
        "rank_teensor = tf.rank(([[1, 2, 3],\n",
        "                   [4, 5, 6],\n",
        "                   [7, 8, 9]]))\n",
        "print(rank_teensor)"
      ],
      "metadata": {
        "colab": {
          "base_uri": "https://localhost:8080/"
        },
        "id": "GaQ66rfZ2cCV",
        "outputId": "6a311e17-0d13-4441-88ce-552211cd50d8"
      },
      "execution_count": 65,
      "outputs": [
        {
          "output_type": "stream",
          "name": "stdout",
          "text": [
            "tf.Tensor(2, shape=(), dtype=int32)\n"
          ]
        }
      ]
    },
    {
      "cell_type": "code",
      "source": [
        "# returns the rank of a tensor\n",
        "rank_tensor = tf.constant(([[1, 2, 3],\n",
        "                   [4, 5, 6],\n",
        "                   [7, 8, 9]]))\n",
        "tf.rank(rank_tensor)"
      ],
      "metadata": {
        "colab": {
          "base_uri": "https://localhost:8080/"
        },
        "id": "_FWQF84l3ZmL",
        "outputId": "2f080bbf-344a-48a5-ac7d-168f7425c79e"
      },
      "execution_count": 66,
      "outputs": [
        {
          "output_type": "execute_result",
          "data": {
            "text/plain": [
              "<tf.Tensor: shape=(), dtype=int32, numpy=2>"
            ]
          },
          "metadata": {},
          "execution_count": 66
        }
      ]
    },
    {
      "cell_type": "markdown",
      "source": [
        "# Size method"
      ],
      "metadata": {
        "id": "iO_hN6Ej3qNr"
      }
    },
    {
      "cell_type": "code",
      "source": [
        "\n",
        "# returns tyhe size of a tensor\n",
        "tf.size(rank_tensor)"
      ],
      "metadata": {
        "colab": {
          "base_uri": "https://localhost:8080/"
        },
        "id": "QwE7Il-44CFw",
        "outputId": "4aff396d-9b4c-4287-a829-e22add4e91b0"
      },
      "execution_count": 67,
      "outputs": [
        {
          "output_type": "execute_result",
          "data": {
            "text/plain": [
              "<tf.Tensor: shape=(), dtype=int32, numpy=9>"
            ]
          },
          "metadata": {},
          "execution_count": 67
        }
      ]
    },
    {
      "cell_type": "markdown",
      "source": [
        "# Random.Normal Tensors"
      ],
      "metadata": {
        "id": "kBXh7sww6Hcr"
      }
    },
    {
      "cell_type": "code",
      "source": [
        "random_tensors =tf.random.normal(\n",
        "    [3, 2],\n",
        "    mean = 0.0,\n",
        "    stddev=1.0,\n",
        "    dtype=tf.dtypes.float32,\n",
        "    seed = None,\n",
        "    name = None\n",
        ")\n",
        "print(random_tensors)"
      ],
      "metadata": {
        "colab": {
          "base_uri": "https://localhost:8080/"
        },
        "id": "VcP-SdXV74BY",
        "outputId": "ad35defd-057f-4e3f-d153-17eb7c1c842e"
      },
      "execution_count": 68,
      "outputs": [
        {
          "output_type": "stream",
          "name": "stdout",
          "text": [
            "tf.Tensor(\n",
            "[[ 0.8044463   0.71110183]\n",
            " [ 0.05674146  1.300224  ]\n",
            " [-1.3827544   0.13503087]], shape=(3, 2), dtype=float32)\n"
          ]
        }
      ]
    },
    {
      "cell_type": "code",
      "source": [
        "# let's modify the mean\n",
        "random_tensors =tf.random.normal(\n",
        "    [3, 2],\n",
        "    mean = 100.0,\n",
        "    stddev=1.0,\n",
        "    dtype=tf.dtypes.float32,\n",
        "    seed = None,\n",
        "    name = None\n",
        ")\n",
        "print(random_tensors)"
      ],
      "metadata": {
        "colab": {
          "base_uri": "https://localhost:8080/"
        },
        "id": "rZYti59D-QrU",
        "outputId": "ed93c0eb-d082-4248-b7ca-146fc7b1180f"
      },
      "execution_count": 69,
      "outputs": [
        {
          "output_type": "stream",
          "name": "stdout",
          "text": [
            "tf.Tensor(\n",
            "[[100.09812  100.321465]\n",
            " [ 99.72952  100.82132 ]\n",
            " [100.6081    98.98467 ]], shape=(3, 2), dtype=float32)\n"
          ]
        }
      ]
    },
    {
      "cell_type": "markdown",
      "source": [
        "# Random.Uniform distribution"
      ],
      "metadata": {
        "id": "Q44rQ19_--mX"
      }
    },
    {
      "cell_type": "code",
      "source": [
        "random_uniform_tensors = tf.random.uniform(\n",
        "    [1,],\n",
        "    minval=0,\n",
        "    maxval=None,\n",
        "    dtype=tf.dtypes.float32,\n",
        "    seed=None,\n",
        "    name=None\n",
        ")\n",
        "\n",
        "print(random_uniform_tensors)\n"
      ],
      "metadata": {
        "colab": {
          "base_uri": "https://localhost:8080/"
        },
        "id": "2USMwjk1CfrP",
        "outputId": "96e1c1c3-252c-43b8-a0e4-4312d312fd42"
      },
      "execution_count": 70,
      "outputs": [
        {
          "output_type": "stream",
          "name": "stdout",
          "text": [
            "tf.Tensor([0.5539329], shape=(1,), dtype=float32)\n"
          ]
        }
      ]
    },
    {
      "cell_type": "markdown",
      "source": [
        "# Seed"
      ],
      "metadata": {
        "id": "PJrTSQEyDZfm"
      }
    },
    {
      "cell_type": "code",
      "source": [
        "# a reproducible sequence of event\n",
        "tf.random.set_seed(5)"
      ],
      "metadata": {
        "id": "unkGiJ9FFGRr"
      },
      "execution_count": 71,
      "outputs": []
    },
    {
      "cell_type": "code",
      "source": [
        "import tensorflow as tf\n",
        "import numpy as np\n",
        "\n",
        "# Set the random seed for TensorFlow\n",
        "tf.random.set_seed(5)\n",
        "\n",
        "# Generate a random matrix\n",
        "random_matrix = tf.random.normal((3, 3), mean=0, stddev=1)\n",
        "\n",
        "# Convert the TensorFlow tensor to a NumPy array for easy display\n",
        "numpy_matrix = random_matrix.numpy()\n",
        "\n",
        "# Print the random matrix\n",
        "print(\"Random Matrix:\")\n",
        "print(numpy_matrix)\n"
      ],
      "metadata": {
        "colab": {
          "base_uri": "https://localhost:8080/"
        },
        "id": "b49SivPOFePw",
        "outputId": "f85129ca-a592-419a-c331-bd96b5caf778"
      },
      "execution_count": 72,
      "outputs": [
        {
          "output_type": "stream",
          "name": "stdout",
          "text": [
            "Random Matrix:\n",
            "[[-0.18030666 -0.95028627 -0.03964049]\n",
            " [-0.7425406   1.3231523  -0.61854804]\n",
            " [ 0.85406643 -0.08899953  2.4488697 ]]\n"
          ]
        }
      ]
    },
    {
      "cell_type": "code",
      "source": [
        "import tensorflow as tf\n",
        "import numpy as np\n",
        "\n",
        "# Set the random seed for TensorFlow\n",
        "tf.random.set_seed(5)\n",
        "\n",
        "# Generate a random matrix\n",
        "random_matrix = tf.random.normal((3, 3), mean=0, stddev=1)\n",
        "\n",
        "# Convert the TensorFlow tensor to a NumPy array for easy display\n",
        "numpy_matrix = random_matrix.numpy()\n",
        "\n",
        "# Print the random matrix\n",
        "print(\"Random Matrix:\")\n",
        "print(numpy_matrix)\n"
      ],
      "metadata": {
        "colab": {
          "base_uri": "https://localhost:8080/"
        },
        "id": "eVQfNPBOGYFY",
        "outputId": "e00549ed-6f44-4476-a096-0a940c02a23b"
      },
      "execution_count": 73,
      "outputs": [
        {
          "output_type": "stream",
          "name": "stdout",
          "text": [
            "Random Matrix:\n",
            "[[-0.18030666 -0.95028627 -0.03964049]\n",
            " [-0.7425406   1.3231523  -0.61854804]\n",
            " [ 0.85406643 -0.08899953  2.4488697 ]]\n"
          ]
        }
      ]
    },
    {
      "cell_type": "markdown",
      "source": [
        "running the above codes, we can see it is reproducible"
      ],
      "metadata": {
        "id": "vGxLdL6bGa65"
      }
    },
    {
      "cell_type": "code",
      "source": [
        "# modifying the above can give us something different\n",
        "import tensorflow as tf\n",
        "import numpy as np\n",
        "\n",
        "# Set the random seed for TensorFlow\n",
        "tf.random.set_seed(4)\n",
        "\n",
        "# Generate a random matrix\n",
        "random_matrix = tf.random.normal((3, 3), mean=0, stddev=1)\n",
        "\n",
        "# Convert the TensorFlow tensor to a NumPy array for easy display\n",
        "numpy_matrix = random_matrix.numpy()\n",
        "\n",
        "# Print the random matrix\n",
        "print(\"Random Matrix:\")\n",
        "print(numpy_matrix)\n"
      ],
      "metadata": {
        "colab": {
          "base_uri": "https://localhost:8080/"
        },
        "id": "WelPRXIwGosU",
        "outputId": "50fb08fb-6417-4c13-9a00-f59754823e7f"
      },
      "execution_count": 74,
      "outputs": [
        {
          "output_type": "stream",
          "name": "stdout",
          "text": [
            "Random Matrix:\n",
            "[[-0.07676513 -0.2082602   1.9333363 ]\n",
            " [ 1.175166    1.4444145   1.3351023 ]\n",
            " [ 0.0987538   0.47003895 -0.8959344 ]]\n"
          ]
        }
      ]
    },
    {
      "cell_type": "markdown",
      "source": [
        "TENSORS AND VARIABLES\n",
        "\n",
        "Basic initialization and casting\n",
        "indexing"
      ],
      "metadata": {
        "id": "IjmHiN8JG3em"
      }
    },
    {
      "cell_type": "markdown",
      "source": [
        "Tensor indexing"
      ],
      "metadata": {
        "id": "LgWLAZCVHX9S"
      }
    },
    {
      "cell_type": "code",
      "source": [
        "tensor_indexed = tf.constant([3, 6, 2, 4, 6, 66, 7])\n",
        "print(tensor_indexed)"
      ],
      "metadata": {
        "colab": {
          "base_uri": "https://localhost:8080/"
        },
        "id": "FGPkDv4GHpYR",
        "outputId": "d0a2a129-81d9-462c-e660-0ba296594818"
      },
      "execution_count": 75,
      "outputs": [
        {
          "output_type": "stream",
          "name": "stdout",
          "text": [
            "tf.Tensor([ 3  6  2  4  6 66  7], shape=(7,), dtype=int32)\n"
          ]
        }
      ]
    },
    {
      "cell_type": "code",
      "source": [
        "print(tensor_indexed[0])"
      ],
      "metadata": {
        "colab": {
          "base_uri": "https://localhost:8080/"
        },
        "id": "5tqdSmGcH84B",
        "outputId": "2b7b7667-005f-4d5d-eab3-077f0e6ed3c1"
      },
      "execution_count": 76,
      "outputs": [
        {
          "output_type": "stream",
          "name": "stdout",
          "text": [
            "tf.Tensor(3, shape=(), dtype=int32)\n"
          ]
        }
      ]
    },
    {
      "cell_type": "code",
      "source": [
        "print(tensor_indexed[0:4])\n",
        "print(tensor_indexed[1:5+1])\n",
        "print(tensor_indexed[1:6])"
      ],
      "metadata": {
        "colab": {
          "base_uri": "https://localhost:8080/"
        },
        "id": "_ayKXK8dIRLx",
        "outputId": "f1a7b8cc-7306-4937-9874-8f2de65fe7ea"
      },
      "execution_count": 79,
      "outputs": [
        {
          "output_type": "stream",
          "name": "stdout",
          "text": [
            "tf.Tensor([3 6 2 4], shape=(4,), dtype=int32)\n",
            "tf.Tensor([ 6  2  4  6 66], shape=(5,), dtype=int32)\n",
            "tf.Tensor([ 6  2  4  6 66], shape=(5,), dtype=int32)\n"
          ]
        }
      ]
    },
    {
      "cell_type": "code",
      "source": [],
      "metadata": {
        "id": "Z5zIsd2NIarL"
      },
      "execution_count": null,
      "outputs": []
    }
  ]
}