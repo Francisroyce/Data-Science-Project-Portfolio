{
  "nbformat": 4,
  "nbformat_minor": 0,
  "metadata": {
    "colab": {
      "provenance": [],
      "gpuType": "T4",
      "mount_file_id": "1TQ5mB1UHiTGwxk7-ExJZWJpTXXc5px4r",
      "authorship_tag": "ABX9TyOAxtNIdXNc1ntGUR1WHETO",
      "include_colab_link": true
    },
    "kernelspec": {
      "name": "python3",
      "display_name": "Python 3"
    },
    "language_info": {
      "name": "python"
    },
    "accelerator": "GPU"
  },
  "cells": [
    {
      "cell_type": "markdown",
      "metadata": {
        "id": "view-in-github",
        "colab_type": "text"
      },
      "source": [
        "<a href=\"https://colab.research.google.com/github/Francisroyce/Francisroyce/blob/main/fake_news_detection_tensorflow.ipynb\" target=\"_parent\"><img src=\"https://colab.research.google.com/assets/colab-badge.svg\" alt=\"Open In Colab\"/></a>"
      ]
    },
    {
      "cell_type": "code",
      "source": [
        "# from google.colab import drive\n",
        "# drive.mount('/content/drive')"
      ],
      "metadata": {
        "id": "CGViZGGxWTE3"
      },
      "execution_count": 52,
      "outputs": []
    },
    {
      "cell_type": "markdown",
      "source": [
        "**Project Title: Fake News Detection**\n",
        "\n",
        "**Project Overview:**\n",
        "The Fake News Detection project aims to develop a machine learning model capable of distinguishing between genuine news articles and fake news articles. With the proliferation of digital media and the ease of sharing information, the spread of misinformation and fake news has become a significant concern. This project aims to contribute to the fight against misinformation by automating the process of identifying fake news using advanced natural language processing and machine learning techniques.\n",
        "\n",
        "**Project Steps:**\n",
        "\n",
        "1. **Data Collection:** Gather a diverse and comprehensive dataset consisting of labeled news articles, including both genuine and fake examples. This dataset will serve as the foundation for training and evaluating the model.\n",
        "\n",
        "2. **Data Preprocessing:** Clean and preprocess the text data by removing irrelevant information, special characters, and formatting inconsistencies. Perform tokenization, stemming, and other text normalization techniques to prepare the data for model training.\n",
        "\n",
        "3. **Feature Extraction:** Convert the preprocessed text into numerical features that can be fed into machine learning algorithms. Common techniques include TF-IDF (Term Frequency-Inverse Document Frequency) and word embeddings like Word2Vec or GloVe.\n",
        "\n",
        "4. **Model Selection:** Experiment with various machine learning algorithms such as Support Vector Machines (SVM), Random Forests, and neural networks like Convolutional Neural Networks (CNN) or Recurrent Neural Networks (RNN). Select the best-performing algorithm based on evaluation metrics.\n",
        "\n",
        "5. **Model Training:** Divide the dataset into training, validation, and testing sets. Train the selected model on the training data and fine-tune its parameters using the validation set. This step involves optimizing the model's ability to differentiate between genuine and fake news.\n",
        "\n",
        "6. **Model Evaluation:** Assess the trained model's performance using appropriate evaluation metrics such as accuracy, precision, recall, F1-score, and AUC-ROC curve. Make adjustments and iterate on the model if necessary to achieve desired performance.\n",
        "\n",
        "7. **Deployment:** Once a satisfactory model is achieved, deploy it to a user-friendly interface. This could be a web application, browser extension, or API that allows users to input news articles and receive a prediction about their authenticity.\n",
        "\n",
        "8. **Continuous Improvement:** Regularly update and retrain the model with new data to adapt to evolving trends in fake news. Implement feedback mechanisms to gather user input and improve the model's accuracy over time.\n",
        "\n",
        "**Project Goals:**\n",
        "\n",
        "1. Develop a reliable and accurate fake news detection model.\n",
        "2. Provide users with a tool to verify the credibility of news articles they encounter online.\n",
        "3. Contribute to the efforts in reducing the spread of misinformation and fake news.\n",
        "4. Raise awareness about the importance of critical media consumption and fact-checking.\n",
        "\n",
        "**Potential Challenges:**\n",
        "\n",
        "1. **Data Quality:** Ensuring the dataset is representative and balanced to prevent bias.\n",
        "2. **Feature Engineering:** Selecting and extracting relevant features from the text data.\n",
        "3. **Model Complexity:** Balancing model complexity with computational resources and deployment constraints.\n",
        "4. **Adversarial Attacks:** Mitigating potential attempts to manipulate the model by generating sophisticated fake news.\n",
        "\n",
        "By successfully implementing this project, we can create a valuable tool to combat the spread of fake news and promote more informed and responsible media consumption."
      ],
      "metadata": {
        "id": "5rl2yOp2a5up"
      }
    },
    {
      "cell_type": "markdown",
      "source": [
        "# Importing dependencies"
      ],
      "metadata": {
        "id": "UxyXgMgl7LMp"
      }
    },
    {
      "cell_type": "code",
      "source": [
        "pip install contractions\n"
      ],
      "metadata": {
        "colab": {
          "base_uri": "https://localhost:8080/"
        },
        "id": "I9frSbKC8euF",
        "outputId": "f4d0abca-98f4-4c5b-d244-8edb5c32caaf"
      },
      "execution_count": 53,
      "outputs": [
        {
          "output_type": "stream",
          "name": "stdout",
          "text": [
            "Requirement already satisfied: contractions in /usr/local/lib/python3.10/dist-packages (0.1.73)\n",
            "Requirement already satisfied: textsearch>=0.0.21 in /usr/local/lib/python3.10/dist-packages (from contractions) (0.0.24)\n",
            "Requirement already satisfied: anyascii in /usr/local/lib/python3.10/dist-packages (from textsearch>=0.0.21->contractions) (0.3.2)\n",
            "Requirement already satisfied: pyahocorasick in /usr/local/lib/python3.10/dist-packages (from textsearch>=0.0.21->contractions) (2.0.0)\n"
          ]
        }
      ]
    },
    {
      "cell_type": "code",
      "source": [
        "import pandas as pd\n",
        "import numpy as np\n",
        "import matplotlib.pyplot as plt\n",
        "from matplotlib import rcParams\n",
        "import matplotlib.pyplot as plt\n",
        "plt.rcParams['figure.figsize'] = [10, 10]\n",
        "\n",
        "import seaborn as sns\n",
        "sns.set_theme(style=\"darkgrid\")\n",
        "\n",
        "from wordcloud import WordCloud\n",
        "\n",
        "import contractions\n",
        "import string\n",
        "import re\n",
        "\n",
        "from sklearn.model_selection import train_test_split\n",
        "from sklearn.metrics import precision_score, recall_score, f1_score, accuracy_score\n",
        "\n",
        "import tensorflow as tf\n",
        "from tensorflow import keras\n",
        "from tensorflow.keras.preprocessing.text import Tokenizer\n",
        "from tensorflow.keras.preprocessing.sequence import pad_sequences\n",
        "from tensorflow.keras.models import Sequential\n",
        "from tensorflow.keras.layers import LSTM, Dense, Dropout, Embedding, Flatten\n",
        "\n",
        "import warnings\n",
        "warnings.filterwarnings('ignore')\n"
      ],
      "metadata": {
        "id": "66GrBN4o7Ve7"
      },
      "execution_count": 54,
      "outputs": []
    },
    {
      "cell_type": "code",
      "source": [
        "train_data = pd.read_csv('/content/drive/MyDrive/fake_news/train.csv', header = 0)\n",
        "test_data = pd.read_csv('/content/drive/MyDrive/fake_news/test.csv', header= 0)"
      ],
      "metadata": {
        "id": "R2Y2bU8575bz"
      },
      "execution_count": 55,
      "outputs": []
    },
    {
      "cell_type": "code",
      "source": [
        "train_data.head()"
      ],
      "metadata": {
        "colab": {
          "base_uri": "https://localhost:8080/",
          "height": 206
        },
        "id": "GAM5vzLN99j9",
        "outputId": "73e33f90-e559-4e38-dd08-9752527d74f3"
      },
      "execution_count": 56,
      "outputs": [
        {
          "output_type": "execute_result",
          "data": {
            "text/plain": [
              "   id                                              title              author  \\\n",
              "0   0  House Dem Aide: We Didn’t Even See Comey’s Let...       Darrell Lucus   \n",
              "1   1  FLYNN: Hillary Clinton, Big Woman on Campus - ...     Daniel J. Flynn   \n",
              "2   2                  Why the Truth Might Get You Fired  Consortiumnews.com   \n",
              "3   3  15 Civilians Killed In Single US Airstrike Hav...     Jessica Purkiss   \n",
              "4   4  Iranian woman jailed for fictional unpublished...      Howard Portnoy   \n",
              "\n",
              "                                                text  label  \n",
              "0  House Dem Aide: We Didn’t Even See Comey’s Let...      1  \n",
              "1  Ever get the feeling your life circles the rou...      0  \n",
              "2  Why the Truth Might Get You Fired October 29, ...      1  \n",
              "3  Videos 15 Civilians Killed In Single US Airstr...      1  \n",
              "4  Print \\nAn Iranian woman has been sentenced to...      1  "
            ],
            "text/html": [
              "\n",
              "\n",
              "  <div id=\"df-6263ca31-cfb2-4700-b2bd-61bc481fe453\">\n",
              "    <div class=\"colab-df-container\">\n",
              "      <div>\n",
              "<style scoped>\n",
              "    .dataframe tbody tr th:only-of-type {\n",
              "        vertical-align: middle;\n",
              "    }\n",
              "\n",
              "    .dataframe tbody tr th {\n",
              "        vertical-align: top;\n",
              "    }\n",
              "\n",
              "    .dataframe thead th {\n",
              "        text-align: right;\n",
              "    }\n",
              "</style>\n",
              "<table border=\"1\" class=\"dataframe\">\n",
              "  <thead>\n",
              "    <tr style=\"text-align: right;\">\n",
              "      <th></th>\n",
              "      <th>id</th>\n",
              "      <th>title</th>\n",
              "      <th>author</th>\n",
              "      <th>text</th>\n",
              "      <th>label</th>\n",
              "    </tr>\n",
              "  </thead>\n",
              "  <tbody>\n",
              "    <tr>\n",
              "      <th>0</th>\n",
              "      <td>0</td>\n",
              "      <td>House Dem Aide: We Didn’t Even See Comey’s Let...</td>\n",
              "      <td>Darrell Lucus</td>\n",
              "      <td>House Dem Aide: We Didn’t Even See Comey’s Let...</td>\n",
              "      <td>1</td>\n",
              "    </tr>\n",
              "    <tr>\n",
              "      <th>1</th>\n",
              "      <td>1</td>\n",
              "      <td>FLYNN: Hillary Clinton, Big Woman on Campus - ...</td>\n",
              "      <td>Daniel J. Flynn</td>\n",
              "      <td>Ever get the feeling your life circles the rou...</td>\n",
              "      <td>0</td>\n",
              "    </tr>\n",
              "    <tr>\n",
              "      <th>2</th>\n",
              "      <td>2</td>\n",
              "      <td>Why the Truth Might Get You Fired</td>\n",
              "      <td>Consortiumnews.com</td>\n",
              "      <td>Why the Truth Might Get You Fired October 29, ...</td>\n",
              "      <td>1</td>\n",
              "    </tr>\n",
              "    <tr>\n",
              "      <th>3</th>\n",
              "      <td>3</td>\n",
              "      <td>15 Civilians Killed In Single US Airstrike Hav...</td>\n",
              "      <td>Jessica Purkiss</td>\n",
              "      <td>Videos 15 Civilians Killed In Single US Airstr...</td>\n",
              "      <td>1</td>\n",
              "    </tr>\n",
              "    <tr>\n",
              "      <th>4</th>\n",
              "      <td>4</td>\n",
              "      <td>Iranian woman jailed for fictional unpublished...</td>\n",
              "      <td>Howard Portnoy</td>\n",
              "      <td>Print \\nAn Iranian woman has been sentenced to...</td>\n",
              "      <td>1</td>\n",
              "    </tr>\n",
              "  </tbody>\n",
              "</table>\n",
              "</div>\n",
              "      <button class=\"colab-df-convert\" onclick=\"convertToInteractive('df-6263ca31-cfb2-4700-b2bd-61bc481fe453')\"\n",
              "              title=\"Convert this dataframe to an interactive table.\"\n",
              "              style=\"display:none;\">\n",
              "\n",
              "  <svg xmlns=\"http://www.w3.org/2000/svg\" height=\"24px\"viewBox=\"0 0 24 24\"\n",
              "       width=\"24px\">\n",
              "    <path d=\"M0 0h24v24H0V0z\" fill=\"none\"/>\n",
              "    <path d=\"M18.56 5.44l.94 2.06.94-2.06 2.06-.94-2.06-.94-.94-2.06-.94 2.06-2.06.94zm-11 1L8.5 8.5l.94-2.06 2.06-.94-2.06-.94L8.5 2.5l-.94 2.06-2.06.94zm10 10l.94 2.06.94-2.06 2.06-.94-2.06-.94-.94-2.06-.94 2.06-2.06.94z\"/><path d=\"M17.41 7.96l-1.37-1.37c-.4-.4-.92-.59-1.43-.59-.52 0-1.04.2-1.43.59L10.3 9.45l-7.72 7.72c-.78.78-.78 2.05 0 2.83L4 21.41c.39.39.9.59 1.41.59.51 0 1.02-.2 1.41-.59l7.78-7.78 2.81-2.81c.8-.78.8-2.07 0-2.86zM5.41 20L4 18.59l7.72-7.72 1.47 1.35L5.41 20z\"/>\n",
              "  </svg>\n",
              "      </button>\n",
              "\n",
              "\n",
              "\n",
              "    <div id=\"df-d43ec5c5-d7ee-48d4-93c6-ec0c9dd9fc1a\">\n",
              "      <button class=\"colab-df-quickchart\" onclick=\"quickchart('df-d43ec5c5-d7ee-48d4-93c6-ec0c9dd9fc1a')\"\n",
              "              title=\"Suggest charts.\"\n",
              "              style=\"display:none;\">\n",
              "\n",
              "<svg xmlns=\"http://www.w3.org/2000/svg\" height=\"24px\"viewBox=\"0 0 24 24\"\n",
              "     width=\"24px\">\n",
              "    <g>\n",
              "        <path d=\"M19 3H5c-1.1 0-2 .9-2 2v14c0 1.1.9 2 2 2h14c1.1 0 2-.9 2-2V5c0-1.1-.9-2-2-2zM9 17H7v-7h2v7zm4 0h-2V7h2v10zm4 0h-2v-4h2v4z\"/>\n",
              "    </g>\n",
              "</svg>\n",
              "      </button>\n",
              "    </div>\n",
              "\n",
              "<style>\n",
              "  .colab-df-quickchart {\n",
              "    background-color: #E8F0FE;\n",
              "    border: none;\n",
              "    border-radius: 50%;\n",
              "    cursor: pointer;\n",
              "    display: none;\n",
              "    fill: #1967D2;\n",
              "    height: 32px;\n",
              "    padding: 0 0 0 0;\n",
              "    width: 32px;\n",
              "  }\n",
              "\n",
              "  .colab-df-quickchart:hover {\n",
              "    background-color: #E2EBFA;\n",
              "    box-shadow: 0px 1px 2px rgba(60, 64, 67, 0.3), 0px 1px 3px 1px rgba(60, 64, 67, 0.15);\n",
              "    fill: #174EA6;\n",
              "  }\n",
              "\n",
              "  [theme=dark] .colab-df-quickchart {\n",
              "    background-color: #3B4455;\n",
              "    fill: #D2E3FC;\n",
              "  }\n",
              "\n",
              "  [theme=dark] .colab-df-quickchart:hover {\n",
              "    background-color: #434B5C;\n",
              "    box-shadow: 0px 1px 3px 1px rgba(0, 0, 0, 0.15);\n",
              "    filter: drop-shadow(0px 1px 2px rgba(0, 0, 0, 0.3));\n",
              "    fill: #FFFFFF;\n",
              "  }\n",
              "</style>\n",
              "\n",
              "    <script>\n",
              "      async function quickchart(key) {\n",
              "        const containerElement = document.querySelector('#' + key);\n",
              "        const charts = await google.colab.kernel.invokeFunction(\n",
              "            'suggestCharts', [key], {});\n",
              "      }\n",
              "    </script>\n",
              "\n",
              "      <script>\n",
              "\n",
              "function displayQuickchartButton(domScope) {\n",
              "  let quickchartButtonEl =\n",
              "    domScope.querySelector('#df-d43ec5c5-d7ee-48d4-93c6-ec0c9dd9fc1a button.colab-df-quickchart');\n",
              "  quickchartButtonEl.style.display =\n",
              "    google.colab.kernel.accessAllowed ? 'block' : 'none';\n",
              "}\n",
              "\n",
              "        displayQuickchartButton(document);\n",
              "      </script>\n",
              "      <style>\n",
              "    .colab-df-container {\n",
              "      display:flex;\n",
              "      flex-wrap:wrap;\n",
              "      gap: 12px;\n",
              "    }\n",
              "\n",
              "    .colab-df-convert {\n",
              "      background-color: #E8F0FE;\n",
              "      border: none;\n",
              "      border-radius: 50%;\n",
              "      cursor: pointer;\n",
              "      display: none;\n",
              "      fill: #1967D2;\n",
              "      height: 32px;\n",
              "      padding: 0 0 0 0;\n",
              "      width: 32px;\n",
              "    }\n",
              "\n",
              "    .colab-df-convert:hover {\n",
              "      background-color: #E2EBFA;\n",
              "      box-shadow: 0px 1px 2px rgba(60, 64, 67, 0.3), 0px 1px 3px 1px rgba(60, 64, 67, 0.15);\n",
              "      fill: #174EA6;\n",
              "    }\n",
              "\n",
              "    [theme=dark] .colab-df-convert {\n",
              "      background-color: #3B4455;\n",
              "      fill: #D2E3FC;\n",
              "    }\n",
              "\n",
              "    [theme=dark] .colab-df-convert:hover {\n",
              "      background-color: #434B5C;\n",
              "      box-shadow: 0px 1px 3px 1px rgba(0, 0, 0, 0.15);\n",
              "      filter: drop-shadow(0px 1px 2px rgba(0, 0, 0, 0.3));\n",
              "      fill: #FFFFFF;\n",
              "    }\n",
              "  </style>\n",
              "\n",
              "      <script>\n",
              "        const buttonEl =\n",
              "          document.querySelector('#df-6263ca31-cfb2-4700-b2bd-61bc481fe453 button.colab-df-convert');\n",
              "        buttonEl.style.display =\n",
              "          google.colab.kernel.accessAllowed ? 'block' : 'none';\n",
              "\n",
              "        async function convertToInteractive(key) {\n",
              "          const element = document.querySelector('#df-6263ca31-cfb2-4700-b2bd-61bc481fe453');\n",
              "          const dataTable =\n",
              "            await google.colab.kernel.invokeFunction('convertToInteractive',\n",
              "                                                     [key], {});\n",
              "          if (!dataTable) return;\n",
              "\n",
              "          const docLinkHtml = 'Like what you see? Visit the ' +\n",
              "            '<a target=\"_blank\" href=https://colab.research.google.com/notebooks/data_table.ipynb>data table notebook</a>'\n",
              "            + ' to learn more about interactive tables.';\n",
              "          element.innerHTML = '';\n",
              "          dataTable['output_type'] = 'display_data';\n",
              "          await google.colab.output.renderOutput(dataTable, element);\n",
              "          const docLink = document.createElement('div');\n",
              "          docLink.innerHTML = docLinkHtml;\n",
              "          element.appendChild(docLink);\n",
              "        }\n",
              "      </script>\n",
              "    </div>\n",
              "  </div>\n"
            ]
          },
          "metadata": {},
          "execution_count": 56
        }
      ]
    },
    {
      "cell_type": "code",
      "source": [
        "test_data.head()"
      ],
      "metadata": {
        "colab": {
          "base_uri": "https://localhost:8080/",
          "height": 206
        },
        "id": "MV8QyBKF-Amx",
        "outputId": "19d67047-5da3-4817-da67-90914b60db6c"
      },
      "execution_count": 57,
      "outputs": [
        {
          "output_type": "execute_result",
          "data": {
            "text/plain": [
              "      id                                              title  \\\n",
              "0  20800  Specter of Trump Loosens Tongues, if Not Purse...   \n",
              "1  20801  Russian warships ready to strike terrorists ne...   \n",
              "2  20802  #NoDAPL: Native American Leaders Vow to Stay A...   \n",
              "3  20803  Tim Tebow Will Attempt Another Comeback, This ...   \n",
              "4  20804                    Keiser Report: Meme Wars (E995)   \n",
              "\n",
              "                    author                                               text  \n",
              "0         David Streitfeld  PALO ALTO, Calif.  —   After years of scorning...  \n",
              "1                      NaN  Russian warships ready to strike terrorists ne...  \n",
              "2            Common Dreams  Videos #NoDAPL: Native American Leaders Vow to...  \n",
              "3            Daniel Victor  If at first you don’t succeed, try a different...  \n",
              "4  Truth Broadcast Network  42 mins ago 1 Views 0 Comments 0 Likes 'For th...  "
            ],
            "text/html": [
              "\n",
              "\n",
              "  <div id=\"df-2c67f0e3-6111-40ff-97f3-4af8d73f9751\">\n",
              "    <div class=\"colab-df-container\">\n",
              "      <div>\n",
              "<style scoped>\n",
              "    .dataframe tbody tr th:only-of-type {\n",
              "        vertical-align: middle;\n",
              "    }\n",
              "\n",
              "    .dataframe tbody tr th {\n",
              "        vertical-align: top;\n",
              "    }\n",
              "\n",
              "    .dataframe thead th {\n",
              "        text-align: right;\n",
              "    }\n",
              "</style>\n",
              "<table border=\"1\" class=\"dataframe\">\n",
              "  <thead>\n",
              "    <tr style=\"text-align: right;\">\n",
              "      <th></th>\n",
              "      <th>id</th>\n",
              "      <th>title</th>\n",
              "      <th>author</th>\n",
              "      <th>text</th>\n",
              "    </tr>\n",
              "  </thead>\n",
              "  <tbody>\n",
              "    <tr>\n",
              "      <th>0</th>\n",
              "      <td>20800</td>\n",
              "      <td>Specter of Trump Loosens Tongues, if Not Purse...</td>\n",
              "      <td>David Streitfeld</td>\n",
              "      <td>PALO ALTO, Calif.  —   After years of scorning...</td>\n",
              "    </tr>\n",
              "    <tr>\n",
              "      <th>1</th>\n",
              "      <td>20801</td>\n",
              "      <td>Russian warships ready to strike terrorists ne...</td>\n",
              "      <td>NaN</td>\n",
              "      <td>Russian warships ready to strike terrorists ne...</td>\n",
              "    </tr>\n",
              "    <tr>\n",
              "      <th>2</th>\n",
              "      <td>20802</td>\n",
              "      <td>#NoDAPL: Native American Leaders Vow to Stay A...</td>\n",
              "      <td>Common Dreams</td>\n",
              "      <td>Videos #NoDAPL: Native American Leaders Vow to...</td>\n",
              "    </tr>\n",
              "    <tr>\n",
              "      <th>3</th>\n",
              "      <td>20803</td>\n",
              "      <td>Tim Tebow Will Attempt Another Comeback, This ...</td>\n",
              "      <td>Daniel Victor</td>\n",
              "      <td>If at first you don’t succeed, try a different...</td>\n",
              "    </tr>\n",
              "    <tr>\n",
              "      <th>4</th>\n",
              "      <td>20804</td>\n",
              "      <td>Keiser Report: Meme Wars (E995)</td>\n",
              "      <td>Truth Broadcast Network</td>\n",
              "      <td>42 mins ago 1 Views 0 Comments 0 Likes 'For th...</td>\n",
              "    </tr>\n",
              "  </tbody>\n",
              "</table>\n",
              "</div>\n",
              "      <button class=\"colab-df-convert\" onclick=\"convertToInteractive('df-2c67f0e3-6111-40ff-97f3-4af8d73f9751')\"\n",
              "              title=\"Convert this dataframe to an interactive table.\"\n",
              "              style=\"display:none;\">\n",
              "\n",
              "  <svg xmlns=\"http://www.w3.org/2000/svg\" height=\"24px\"viewBox=\"0 0 24 24\"\n",
              "       width=\"24px\">\n",
              "    <path d=\"M0 0h24v24H0V0z\" fill=\"none\"/>\n",
              "    <path d=\"M18.56 5.44l.94 2.06.94-2.06 2.06-.94-2.06-.94-.94-2.06-.94 2.06-2.06.94zm-11 1L8.5 8.5l.94-2.06 2.06-.94-2.06-.94L8.5 2.5l-.94 2.06-2.06.94zm10 10l.94 2.06.94-2.06 2.06-.94-2.06-.94-.94-2.06-.94 2.06-2.06.94z\"/><path d=\"M17.41 7.96l-1.37-1.37c-.4-.4-.92-.59-1.43-.59-.52 0-1.04.2-1.43.59L10.3 9.45l-7.72 7.72c-.78.78-.78 2.05 0 2.83L4 21.41c.39.39.9.59 1.41.59.51 0 1.02-.2 1.41-.59l7.78-7.78 2.81-2.81c.8-.78.8-2.07 0-2.86zM5.41 20L4 18.59l7.72-7.72 1.47 1.35L5.41 20z\"/>\n",
              "  </svg>\n",
              "      </button>\n",
              "\n",
              "\n",
              "\n",
              "    <div id=\"df-8d260d82-e0f4-4329-82a3-a266c82c6947\">\n",
              "      <button class=\"colab-df-quickchart\" onclick=\"quickchart('df-8d260d82-e0f4-4329-82a3-a266c82c6947')\"\n",
              "              title=\"Suggest charts.\"\n",
              "              style=\"display:none;\">\n",
              "\n",
              "<svg xmlns=\"http://www.w3.org/2000/svg\" height=\"24px\"viewBox=\"0 0 24 24\"\n",
              "     width=\"24px\">\n",
              "    <g>\n",
              "        <path d=\"M19 3H5c-1.1 0-2 .9-2 2v14c0 1.1.9 2 2 2h14c1.1 0 2-.9 2-2V5c0-1.1-.9-2-2-2zM9 17H7v-7h2v7zm4 0h-2V7h2v10zm4 0h-2v-4h2v4z\"/>\n",
              "    </g>\n",
              "</svg>\n",
              "      </button>\n",
              "    </div>\n",
              "\n",
              "<style>\n",
              "  .colab-df-quickchart {\n",
              "    background-color: #E8F0FE;\n",
              "    border: none;\n",
              "    border-radius: 50%;\n",
              "    cursor: pointer;\n",
              "    display: none;\n",
              "    fill: #1967D2;\n",
              "    height: 32px;\n",
              "    padding: 0 0 0 0;\n",
              "    width: 32px;\n",
              "  }\n",
              "\n",
              "  .colab-df-quickchart:hover {\n",
              "    background-color: #E2EBFA;\n",
              "    box-shadow: 0px 1px 2px rgba(60, 64, 67, 0.3), 0px 1px 3px 1px rgba(60, 64, 67, 0.15);\n",
              "    fill: #174EA6;\n",
              "  }\n",
              "\n",
              "  [theme=dark] .colab-df-quickchart {\n",
              "    background-color: #3B4455;\n",
              "    fill: #D2E3FC;\n",
              "  }\n",
              "\n",
              "  [theme=dark] .colab-df-quickchart:hover {\n",
              "    background-color: #434B5C;\n",
              "    box-shadow: 0px 1px 3px 1px rgba(0, 0, 0, 0.15);\n",
              "    filter: drop-shadow(0px 1px 2px rgba(0, 0, 0, 0.3));\n",
              "    fill: #FFFFFF;\n",
              "  }\n",
              "</style>\n",
              "\n",
              "    <script>\n",
              "      async function quickchart(key) {\n",
              "        const containerElement = document.querySelector('#' + key);\n",
              "        const charts = await google.colab.kernel.invokeFunction(\n",
              "            'suggestCharts', [key], {});\n",
              "      }\n",
              "    </script>\n",
              "\n",
              "      <script>\n",
              "\n",
              "function displayQuickchartButton(domScope) {\n",
              "  let quickchartButtonEl =\n",
              "    domScope.querySelector('#df-8d260d82-e0f4-4329-82a3-a266c82c6947 button.colab-df-quickchart');\n",
              "  quickchartButtonEl.style.display =\n",
              "    google.colab.kernel.accessAllowed ? 'block' : 'none';\n",
              "}\n",
              "\n",
              "        displayQuickchartButton(document);\n",
              "      </script>\n",
              "      <style>\n",
              "    .colab-df-container {\n",
              "      display:flex;\n",
              "      flex-wrap:wrap;\n",
              "      gap: 12px;\n",
              "    }\n",
              "\n",
              "    .colab-df-convert {\n",
              "      background-color: #E8F0FE;\n",
              "      border: none;\n",
              "      border-radius: 50%;\n",
              "      cursor: pointer;\n",
              "      display: none;\n",
              "      fill: #1967D2;\n",
              "      height: 32px;\n",
              "      padding: 0 0 0 0;\n",
              "      width: 32px;\n",
              "    }\n",
              "\n",
              "    .colab-df-convert:hover {\n",
              "      background-color: #E2EBFA;\n",
              "      box-shadow: 0px 1px 2px rgba(60, 64, 67, 0.3), 0px 1px 3px 1px rgba(60, 64, 67, 0.15);\n",
              "      fill: #174EA6;\n",
              "    }\n",
              "\n",
              "    [theme=dark] .colab-df-convert {\n",
              "      background-color: #3B4455;\n",
              "      fill: #D2E3FC;\n",
              "    }\n",
              "\n",
              "    [theme=dark] .colab-df-convert:hover {\n",
              "      background-color: #434B5C;\n",
              "      box-shadow: 0px 1px 3px 1px rgba(0, 0, 0, 0.15);\n",
              "      filter: drop-shadow(0px 1px 2px rgba(0, 0, 0, 0.3));\n",
              "      fill: #FFFFFF;\n",
              "    }\n",
              "  </style>\n",
              "\n",
              "      <script>\n",
              "        const buttonEl =\n",
              "          document.querySelector('#df-2c67f0e3-6111-40ff-97f3-4af8d73f9751 button.colab-df-convert');\n",
              "        buttonEl.style.display =\n",
              "          google.colab.kernel.accessAllowed ? 'block' : 'none';\n",
              "\n",
              "        async function convertToInteractive(key) {\n",
              "          const element = document.querySelector('#df-2c67f0e3-6111-40ff-97f3-4af8d73f9751');\n",
              "          const dataTable =\n",
              "            await google.colab.kernel.invokeFunction('convertToInteractive',\n",
              "                                                     [key], {});\n",
              "          if (!dataTable) return;\n",
              "\n",
              "          const docLinkHtml = 'Like what you see? Visit the ' +\n",
              "            '<a target=\"_blank\" href=https://colab.research.google.com/notebooks/data_table.ipynb>data table notebook</a>'\n",
              "            + ' to learn more about interactive tables.';\n",
              "          element.innerHTML = '';\n",
              "          dataTable['output_type'] = 'display_data';\n",
              "          await google.colab.output.renderOutput(dataTable, element);\n",
              "          const docLink = document.createElement('div');\n",
              "          docLink.innerHTML = docLinkHtml;\n",
              "          element.appendChild(docLink);\n",
              "        }\n",
              "      </script>\n",
              "    </div>\n",
              "  </div>\n"
            ]
          },
          "metadata": {},
          "execution_count": 57
        }
      ]
    },
    {
      "cell_type": "markdown",
      "source": [
        "# Checking missing values"
      ],
      "metadata": {
        "id": "OU7d_mkvBfvm"
      }
    },
    {
      "cell_type": "code",
      "source": [
        "train_data.isnull().sum()"
      ],
      "metadata": {
        "colab": {
          "base_uri": "https://localhost:8080/"
        },
        "id": "Lr7-eudC-xqA",
        "outputId": "aa1ec875-44b3-4258-9c14-6ba9de3f7bb3"
      },
      "execution_count": 58,
      "outputs": [
        {
          "output_type": "execute_result",
          "data": {
            "text/plain": [
              "id           0\n",
              "title      558\n",
              "author    1957\n",
              "text        39\n",
              "label        0\n",
              "dtype: int64"
            ]
          },
          "metadata": {},
          "execution_count": 58
        }
      ]
    },
    {
      "cell_type": "code",
      "source": [
        "test_data.isna().sum()"
      ],
      "metadata": {
        "colab": {
          "base_uri": "https://localhost:8080/"
        },
        "id": "Dr6kLtiB-8Lv",
        "outputId": "d2b7ae47-75a8-4f2d-d035-261c37798d2d"
      },
      "execution_count": 59,
      "outputs": [
        {
          "output_type": "execute_result",
          "data": {
            "text/plain": [
              "id          0\n",
              "title     122\n",
              "author    503\n",
              "text        7\n",
              "dtype: int64"
            ]
          },
          "metadata": {},
          "execution_count": 59
        }
      ]
    },
    {
      "cell_type": "code",
      "source": [
        "test_data.info()"
      ],
      "metadata": {
        "colab": {
          "base_uri": "https://localhost:8080/"
        },
        "id": "yMzPolYtAOo-",
        "outputId": "90aaf2e8-9c9f-4f78-a80c-64a4d1a6e2a7"
      },
      "execution_count": 60,
      "outputs": [
        {
          "output_type": "stream",
          "name": "stdout",
          "text": [
            "<class 'pandas.core.frame.DataFrame'>\n",
            "RangeIndex: 5200 entries, 0 to 5199\n",
            "Data columns (total 4 columns):\n",
            " #   Column  Non-Null Count  Dtype \n",
            "---  ------  --------------  ----- \n",
            " 0   id      5200 non-null   int64 \n",
            " 1   title   5078 non-null   object\n",
            " 2   author  4697 non-null   object\n",
            " 3   text    5193 non-null   object\n",
            "dtypes: int64(1), object(3)\n",
            "memory usage: 162.6+ KB\n"
          ]
        }
      ]
    },
    {
      "cell_type": "code",
      "source": [
        "train_data['title'].info()"
      ],
      "metadata": {
        "colab": {
          "base_uri": "https://localhost:8080/"
        },
        "id": "aDtjG8dZAXNh",
        "outputId": "5468f36a-b50e-44b5-c324-fd5aa4f9749a"
      },
      "execution_count": 61,
      "outputs": [
        {
          "output_type": "stream",
          "name": "stdout",
          "text": [
            "<class 'pandas.core.series.Series'>\n",
            "RangeIndex: 20800 entries, 0 to 20799\n",
            "Series name: title\n",
            "Non-Null Count  Dtype \n",
            "--------------  ----- \n",
            "20242 non-null  object\n",
            "dtypes: object(1)\n",
            "memory usage: 162.6+ KB\n"
          ]
        }
      ]
    },
    {
      "cell_type": "markdown",
      "source": [
        "# Fill the Missing values"
      ],
      "metadata": {
        "id": "0oAYauHM_CXP"
      }
    },
    {
      "cell_type": "code",
      "source": [
        "train_df = train_data.fillna(' ')\n",
        "test_df = test_data.fillna(' ')"
      ],
      "metadata": {
        "id": "cQ7rPYPwAo1U"
      },
      "execution_count": 62,
      "outputs": []
    },
    {
      "cell_type": "code",
      "source": [
        "train_df.isna().sum()"
      ],
      "metadata": {
        "colab": {
          "base_uri": "https://localhost:8080/"
        },
        "id": "6s_9T4NOBpgX",
        "outputId": "83487cd0-4328-43d6-cc15-7d36a25bfbdf"
      },
      "execution_count": 63,
      "outputs": [
        {
          "output_type": "execute_result",
          "data": {
            "text/plain": [
              "id        0\n",
              "title     0\n",
              "author    0\n",
              "text      0\n",
              "label     0\n",
              "dtype: int64"
            ]
          },
          "metadata": {},
          "execution_count": 63
        }
      ]
    },
    {
      "cell_type": "code",
      "source": [
        "test_df.isna().sum()"
      ],
      "metadata": {
        "colab": {
          "base_uri": "https://localhost:8080/"
        },
        "id": "PudaSs1qB6En",
        "outputId": "eac5e018-e111-4395-d33a-b52a14c62cb6"
      },
      "execution_count": 64,
      "outputs": [
        {
          "output_type": "execute_result",
          "data": {
            "text/plain": [
              "id        0\n",
              "title     0\n",
              "author    0\n",
              "text      0\n",
              "dtype: int64"
            ]
          },
          "metadata": {},
          "execution_count": 64
        }
      ]
    },
    {
      "cell_type": "markdown",
      "source": [
        "# Joining the important columns to use in the project"
      ],
      "metadata": {
        "id": "zSZkRW0SCFPM"
      }
    },
    {
      "cell_type": "code",
      "source": [
        "train_df.columns"
      ],
      "metadata": {
        "colab": {
          "base_uri": "https://localhost:8080/"
        },
        "id": "CgTzXAUYCg-l",
        "outputId": "0244e885-b2c7-464b-a52f-ff544c577756"
      },
      "execution_count": 65,
      "outputs": [
        {
          "output_type": "execute_result",
          "data": {
            "text/plain": [
              "Index(['id', 'title', 'author', 'text', 'label'], dtype='object')"
            ]
          },
          "metadata": {},
          "execution_count": 65
        }
      ]
    },
    {
      "cell_type": "code",
      "source": [
        "test_df.columns"
      ],
      "metadata": {
        "colab": {
          "base_uri": "https://localhost:8080/"
        },
        "id": "e6iS5vRMDZOF",
        "outputId": "b307d0b0-5125-46af-c738-9f1e88412fe0"
      },
      "execution_count": 66,
      "outputs": [
        {
          "output_type": "execute_result",
          "data": {
            "text/plain": [
              "Index(['id', 'title', 'author', 'text'], dtype='object')"
            ]
          },
          "metadata": {},
          "execution_count": 66
        }
      ]
    },
    {
      "cell_type": "code",
      "source": [
        "train_df['all_info'] = train_df['author'] + train_df['title'] + train_df['text']\n",
        "test_df['all_info'] = test_df['author'] + test_df['title'] + test_df['text']"
      ],
      "metadata": {
        "id": "z7m88OB9CVhp"
      },
      "execution_count": 67,
      "outputs": []
    },
    {
      "cell_type": "code",
      "source": [
        "train_df.head()"
      ],
      "metadata": {
        "colab": {
          "base_uri": "https://localhost:8080/",
          "height": 206
        },
        "id": "VNFYvhQkDrA8",
        "outputId": "797eb261-7cfe-4472-bcb0-f127597ad48f"
      },
      "execution_count": 68,
      "outputs": [
        {
          "output_type": "execute_result",
          "data": {
            "text/plain": [
              "   id                                              title              author  \\\n",
              "0   0  House Dem Aide: We Didn’t Even See Comey’s Let...       Darrell Lucus   \n",
              "1   1  FLYNN: Hillary Clinton, Big Woman on Campus - ...     Daniel J. Flynn   \n",
              "2   2                  Why the Truth Might Get You Fired  Consortiumnews.com   \n",
              "3   3  15 Civilians Killed In Single US Airstrike Hav...     Jessica Purkiss   \n",
              "4   4  Iranian woman jailed for fictional unpublished...      Howard Portnoy   \n",
              "\n",
              "                                                text  label  \\\n",
              "0  House Dem Aide: We Didn’t Even See Comey’s Let...      1   \n",
              "1  Ever get the feeling your life circles the rou...      0   \n",
              "2  Why the Truth Might Get You Fired October 29, ...      1   \n",
              "3  Videos 15 Civilians Killed In Single US Airstr...      1   \n",
              "4  Print \\nAn Iranian woman has been sentenced to...      1   \n",
              "\n",
              "                                            all_info  \n",
              "0  Darrell LucusHouse Dem Aide: We Didn’t Even Se...  \n",
              "1  Daniel J. FlynnFLYNN: Hillary Clinton, Big Wom...  \n",
              "2  Consortiumnews.comWhy the Truth Might Get You ...  \n",
              "3  Jessica Purkiss15 Civilians Killed In Single U...  \n",
              "4  Howard PortnoyIranian woman jailed for fiction...  "
            ],
            "text/html": [
              "\n",
              "\n",
              "  <div id=\"df-26e61ea2-5a03-42a4-bd9e-ceb3d7f8fd4f\">\n",
              "    <div class=\"colab-df-container\">\n",
              "      <div>\n",
              "<style scoped>\n",
              "    .dataframe tbody tr th:only-of-type {\n",
              "        vertical-align: middle;\n",
              "    }\n",
              "\n",
              "    .dataframe tbody tr th {\n",
              "        vertical-align: top;\n",
              "    }\n",
              "\n",
              "    .dataframe thead th {\n",
              "        text-align: right;\n",
              "    }\n",
              "</style>\n",
              "<table border=\"1\" class=\"dataframe\">\n",
              "  <thead>\n",
              "    <tr style=\"text-align: right;\">\n",
              "      <th></th>\n",
              "      <th>id</th>\n",
              "      <th>title</th>\n",
              "      <th>author</th>\n",
              "      <th>text</th>\n",
              "      <th>label</th>\n",
              "      <th>all_info</th>\n",
              "    </tr>\n",
              "  </thead>\n",
              "  <tbody>\n",
              "    <tr>\n",
              "      <th>0</th>\n",
              "      <td>0</td>\n",
              "      <td>House Dem Aide: We Didn’t Even See Comey’s Let...</td>\n",
              "      <td>Darrell Lucus</td>\n",
              "      <td>House Dem Aide: We Didn’t Even See Comey’s Let...</td>\n",
              "      <td>1</td>\n",
              "      <td>Darrell LucusHouse Dem Aide: We Didn’t Even Se...</td>\n",
              "    </tr>\n",
              "    <tr>\n",
              "      <th>1</th>\n",
              "      <td>1</td>\n",
              "      <td>FLYNN: Hillary Clinton, Big Woman on Campus - ...</td>\n",
              "      <td>Daniel J. Flynn</td>\n",
              "      <td>Ever get the feeling your life circles the rou...</td>\n",
              "      <td>0</td>\n",
              "      <td>Daniel J. FlynnFLYNN: Hillary Clinton, Big Wom...</td>\n",
              "    </tr>\n",
              "    <tr>\n",
              "      <th>2</th>\n",
              "      <td>2</td>\n",
              "      <td>Why the Truth Might Get You Fired</td>\n",
              "      <td>Consortiumnews.com</td>\n",
              "      <td>Why the Truth Might Get You Fired October 29, ...</td>\n",
              "      <td>1</td>\n",
              "      <td>Consortiumnews.comWhy the Truth Might Get You ...</td>\n",
              "    </tr>\n",
              "    <tr>\n",
              "      <th>3</th>\n",
              "      <td>3</td>\n",
              "      <td>15 Civilians Killed In Single US Airstrike Hav...</td>\n",
              "      <td>Jessica Purkiss</td>\n",
              "      <td>Videos 15 Civilians Killed In Single US Airstr...</td>\n",
              "      <td>1</td>\n",
              "      <td>Jessica Purkiss15 Civilians Killed In Single U...</td>\n",
              "    </tr>\n",
              "    <tr>\n",
              "      <th>4</th>\n",
              "      <td>4</td>\n",
              "      <td>Iranian woman jailed for fictional unpublished...</td>\n",
              "      <td>Howard Portnoy</td>\n",
              "      <td>Print \\nAn Iranian woman has been sentenced to...</td>\n",
              "      <td>1</td>\n",
              "      <td>Howard PortnoyIranian woman jailed for fiction...</td>\n",
              "    </tr>\n",
              "  </tbody>\n",
              "</table>\n",
              "</div>\n",
              "      <button class=\"colab-df-convert\" onclick=\"convertToInteractive('df-26e61ea2-5a03-42a4-bd9e-ceb3d7f8fd4f')\"\n",
              "              title=\"Convert this dataframe to an interactive table.\"\n",
              "              style=\"display:none;\">\n",
              "\n",
              "  <svg xmlns=\"http://www.w3.org/2000/svg\" height=\"24px\"viewBox=\"0 0 24 24\"\n",
              "       width=\"24px\">\n",
              "    <path d=\"M0 0h24v24H0V0z\" fill=\"none\"/>\n",
              "    <path d=\"M18.56 5.44l.94 2.06.94-2.06 2.06-.94-2.06-.94-.94-2.06-.94 2.06-2.06.94zm-11 1L8.5 8.5l.94-2.06 2.06-.94-2.06-.94L8.5 2.5l-.94 2.06-2.06.94zm10 10l.94 2.06.94-2.06 2.06-.94-2.06-.94-.94-2.06-.94 2.06-2.06.94z\"/><path d=\"M17.41 7.96l-1.37-1.37c-.4-.4-.92-.59-1.43-.59-.52 0-1.04.2-1.43.59L10.3 9.45l-7.72 7.72c-.78.78-.78 2.05 0 2.83L4 21.41c.39.39.9.59 1.41.59.51 0 1.02-.2 1.41-.59l7.78-7.78 2.81-2.81c.8-.78.8-2.07 0-2.86zM5.41 20L4 18.59l7.72-7.72 1.47 1.35L5.41 20z\"/>\n",
              "  </svg>\n",
              "      </button>\n",
              "\n",
              "\n",
              "\n",
              "    <div id=\"df-8879c247-d41f-4f26-9fab-458ce797604a\">\n",
              "      <button class=\"colab-df-quickchart\" onclick=\"quickchart('df-8879c247-d41f-4f26-9fab-458ce797604a')\"\n",
              "              title=\"Suggest charts.\"\n",
              "              style=\"display:none;\">\n",
              "\n",
              "<svg xmlns=\"http://www.w3.org/2000/svg\" height=\"24px\"viewBox=\"0 0 24 24\"\n",
              "     width=\"24px\">\n",
              "    <g>\n",
              "        <path d=\"M19 3H5c-1.1 0-2 .9-2 2v14c0 1.1.9 2 2 2h14c1.1 0 2-.9 2-2V5c0-1.1-.9-2-2-2zM9 17H7v-7h2v7zm4 0h-2V7h2v10zm4 0h-2v-4h2v4z\"/>\n",
              "    </g>\n",
              "</svg>\n",
              "      </button>\n",
              "    </div>\n",
              "\n",
              "<style>\n",
              "  .colab-df-quickchart {\n",
              "    background-color: #E8F0FE;\n",
              "    border: none;\n",
              "    border-radius: 50%;\n",
              "    cursor: pointer;\n",
              "    display: none;\n",
              "    fill: #1967D2;\n",
              "    height: 32px;\n",
              "    padding: 0 0 0 0;\n",
              "    width: 32px;\n",
              "  }\n",
              "\n",
              "  .colab-df-quickchart:hover {\n",
              "    background-color: #E2EBFA;\n",
              "    box-shadow: 0px 1px 2px rgba(60, 64, 67, 0.3), 0px 1px 3px 1px rgba(60, 64, 67, 0.15);\n",
              "    fill: #174EA6;\n",
              "  }\n",
              "\n",
              "  [theme=dark] .colab-df-quickchart {\n",
              "    background-color: #3B4455;\n",
              "    fill: #D2E3FC;\n",
              "  }\n",
              "\n",
              "  [theme=dark] .colab-df-quickchart:hover {\n",
              "    background-color: #434B5C;\n",
              "    box-shadow: 0px 1px 3px 1px rgba(0, 0, 0, 0.15);\n",
              "    filter: drop-shadow(0px 1px 2px rgba(0, 0, 0, 0.3));\n",
              "    fill: #FFFFFF;\n",
              "  }\n",
              "</style>\n",
              "\n",
              "    <script>\n",
              "      async function quickchart(key) {\n",
              "        const containerElement = document.querySelector('#' + key);\n",
              "        const charts = await google.colab.kernel.invokeFunction(\n",
              "            'suggestCharts', [key], {});\n",
              "      }\n",
              "    </script>\n",
              "\n",
              "      <script>\n",
              "\n",
              "function displayQuickchartButton(domScope) {\n",
              "  let quickchartButtonEl =\n",
              "    domScope.querySelector('#df-8879c247-d41f-4f26-9fab-458ce797604a button.colab-df-quickchart');\n",
              "  quickchartButtonEl.style.display =\n",
              "    google.colab.kernel.accessAllowed ? 'block' : 'none';\n",
              "}\n",
              "\n",
              "        displayQuickchartButton(document);\n",
              "      </script>\n",
              "      <style>\n",
              "    .colab-df-container {\n",
              "      display:flex;\n",
              "      flex-wrap:wrap;\n",
              "      gap: 12px;\n",
              "    }\n",
              "\n",
              "    .colab-df-convert {\n",
              "      background-color: #E8F0FE;\n",
              "      border: none;\n",
              "      border-radius: 50%;\n",
              "      cursor: pointer;\n",
              "      display: none;\n",
              "      fill: #1967D2;\n",
              "      height: 32px;\n",
              "      padding: 0 0 0 0;\n",
              "      width: 32px;\n",
              "    }\n",
              "\n",
              "    .colab-df-convert:hover {\n",
              "      background-color: #E2EBFA;\n",
              "      box-shadow: 0px 1px 2px rgba(60, 64, 67, 0.3), 0px 1px 3px 1px rgba(60, 64, 67, 0.15);\n",
              "      fill: #174EA6;\n",
              "    }\n",
              "\n",
              "    [theme=dark] .colab-df-convert {\n",
              "      background-color: #3B4455;\n",
              "      fill: #D2E3FC;\n",
              "    }\n",
              "\n",
              "    [theme=dark] .colab-df-convert:hover {\n",
              "      background-color: #434B5C;\n",
              "      box-shadow: 0px 1px 3px 1px rgba(0, 0, 0, 0.15);\n",
              "      filter: drop-shadow(0px 1px 2px rgba(0, 0, 0, 0.3));\n",
              "      fill: #FFFFFF;\n",
              "    }\n",
              "  </style>\n",
              "\n",
              "      <script>\n",
              "        const buttonEl =\n",
              "          document.querySelector('#df-26e61ea2-5a03-42a4-bd9e-ceb3d7f8fd4f button.colab-df-convert');\n",
              "        buttonEl.style.display =\n",
              "          google.colab.kernel.accessAllowed ? 'block' : 'none';\n",
              "\n",
              "        async function convertToInteractive(key) {\n",
              "          const element = document.querySelector('#df-26e61ea2-5a03-42a4-bd9e-ceb3d7f8fd4f');\n",
              "          const dataTable =\n",
              "            await google.colab.kernel.invokeFunction('convertToInteractive',\n",
              "                                                     [key], {});\n",
              "          if (!dataTable) return;\n",
              "\n",
              "          const docLinkHtml = 'Like what you see? Visit the ' +\n",
              "            '<a target=\"_blank\" href=https://colab.research.google.com/notebooks/data_table.ipynb>data table notebook</a>'\n",
              "            + ' to learn more about interactive tables.';\n",
              "          element.innerHTML = '';\n",
              "          dataTable['output_type'] = 'display_data';\n",
              "          await google.colab.output.renderOutput(dataTable, element);\n",
              "          const docLink = document.createElement('div');\n",
              "          docLink.innerHTML = docLinkHtml;\n",
              "          element.appendChild(docLink);\n",
              "        }\n",
              "      </script>\n",
              "    </div>\n",
              "  </div>\n"
            ]
          },
          "metadata": {},
          "execution_count": 68
        }
      ]
    },
    {
      "cell_type": "code",
      "source": [
        "test_df.head()"
      ],
      "metadata": {
        "colab": {
          "base_uri": "https://localhost:8080/",
          "height": 206
        },
        "id": "xr0A7ovqDtXk",
        "outputId": "79be3671-32f5-48d7-b3ac-6643ab63842e"
      },
      "execution_count": 69,
      "outputs": [
        {
          "output_type": "execute_result",
          "data": {
            "text/plain": [
              "      id                                              title  \\\n",
              "0  20800  Specter of Trump Loosens Tongues, if Not Purse...   \n",
              "1  20801  Russian warships ready to strike terrorists ne...   \n",
              "2  20802  #NoDAPL: Native American Leaders Vow to Stay A...   \n",
              "3  20803  Tim Tebow Will Attempt Another Comeback, This ...   \n",
              "4  20804                    Keiser Report: Meme Wars (E995)   \n",
              "\n",
              "                    author                                               text  \\\n",
              "0         David Streitfeld  PALO ALTO, Calif.  —   After years of scorning...   \n",
              "1                           Russian warships ready to strike terrorists ne...   \n",
              "2            Common Dreams  Videos #NoDAPL: Native American Leaders Vow to...   \n",
              "3            Daniel Victor  If at first you don’t succeed, try a different...   \n",
              "4  Truth Broadcast Network  42 mins ago 1 Views 0 Comments 0 Likes 'For th...   \n",
              "\n",
              "                                            all_info  \n",
              "0  David StreitfeldSpecter of Trump Loosens Tongu...  \n",
              "1   Russian warships ready to strike terrorists n...  \n",
              "2  Common Dreams#NoDAPL: Native American Leaders ...  \n",
              "3  Daniel VictorTim Tebow Will Attempt Another Co...  \n",
              "4  Truth Broadcast NetworkKeiser Report: Meme War...  "
            ],
            "text/html": [
              "\n",
              "\n",
              "  <div id=\"df-fc58d0d4-7c7c-43a0-8700-2b67491f5861\">\n",
              "    <div class=\"colab-df-container\">\n",
              "      <div>\n",
              "<style scoped>\n",
              "    .dataframe tbody tr th:only-of-type {\n",
              "        vertical-align: middle;\n",
              "    }\n",
              "\n",
              "    .dataframe tbody tr th {\n",
              "        vertical-align: top;\n",
              "    }\n",
              "\n",
              "    .dataframe thead th {\n",
              "        text-align: right;\n",
              "    }\n",
              "</style>\n",
              "<table border=\"1\" class=\"dataframe\">\n",
              "  <thead>\n",
              "    <tr style=\"text-align: right;\">\n",
              "      <th></th>\n",
              "      <th>id</th>\n",
              "      <th>title</th>\n",
              "      <th>author</th>\n",
              "      <th>text</th>\n",
              "      <th>all_info</th>\n",
              "    </tr>\n",
              "  </thead>\n",
              "  <tbody>\n",
              "    <tr>\n",
              "      <th>0</th>\n",
              "      <td>20800</td>\n",
              "      <td>Specter of Trump Loosens Tongues, if Not Purse...</td>\n",
              "      <td>David Streitfeld</td>\n",
              "      <td>PALO ALTO, Calif.  —   After years of scorning...</td>\n",
              "      <td>David StreitfeldSpecter of Trump Loosens Tongu...</td>\n",
              "    </tr>\n",
              "    <tr>\n",
              "      <th>1</th>\n",
              "      <td>20801</td>\n",
              "      <td>Russian warships ready to strike terrorists ne...</td>\n",
              "      <td></td>\n",
              "      <td>Russian warships ready to strike terrorists ne...</td>\n",
              "      <td>Russian warships ready to strike terrorists n...</td>\n",
              "    </tr>\n",
              "    <tr>\n",
              "      <th>2</th>\n",
              "      <td>20802</td>\n",
              "      <td>#NoDAPL: Native American Leaders Vow to Stay A...</td>\n",
              "      <td>Common Dreams</td>\n",
              "      <td>Videos #NoDAPL: Native American Leaders Vow to...</td>\n",
              "      <td>Common Dreams#NoDAPL: Native American Leaders ...</td>\n",
              "    </tr>\n",
              "    <tr>\n",
              "      <th>3</th>\n",
              "      <td>20803</td>\n",
              "      <td>Tim Tebow Will Attempt Another Comeback, This ...</td>\n",
              "      <td>Daniel Victor</td>\n",
              "      <td>If at first you don’t succeed, try a different...</td>\n",
              "      <td>Daniel VictorTim Tebow Will Attempt Another Co...</td>\n",
              "    </tr>\n",
              "    <tr>\n",
              "      <th>4</th>\n",
              "      <td>20804</td>\n",
              "      <td>Keiser Report: Meme Wars (E995)</td>\n",
              "      <td>Truth Broadcast Network</td>\n",
              "      <td>42 mins ago 1 Views 0 Comments 0 Likes 'For th...</td>\n",
              "      <td>Truth Broadcast NetworkKeiser Report: Meme War...</td>\n",
              "    </tr>\n",
              "  </tbody>\n",
              "</table>\n",
              "</div>\n",
              "      <button class=\"colab-df-convert\" onclick=\"convertToInteractive('df-fc58d0d4-7c7c-43a0-8700-2b67491f5861')\"\n",
              "              title=\"Convert this dataframe to an interactive table.\"\n",
              "              style=\"display:none;\">\n",
              "\n",
              "  <svg xmlns=\"http://www.w3.org/2000/svg\" height=\"24px\"viewBox=\"0 0 24 24\"\n",
              "       width=\"24px\">\n",
              "    <path d=\"M0 0h24v24H0V0z\" fill=\"none\"/>\n",
              "    <path d=\"M18.56 5.44l.94 2.06.94-2.06 2.06-.94-2.06-.94-.94-2.06-.94 2.06-2.06.94zm-11 1L8.5 8.5l.94-2.06 2.06-.94-2.06-.94L8.5 2.5l-.94 2.06-2.06.94zm10 10l.94 2.06.94-2.06 2.06-.94-2.06-.94-.94-2.06-.94 2.06-2.06.94z\"/><path d=\"M17.41 7.96l-1.37-1.37c-.4-.4-.92-.59-1.43-.59-.52 0-1.04.2-1.43.59L10.3 9.45l-7.72 7.72c-.78.78-.78 2.05 0 2.83L4 21.41c.39.39.9.59 1.41.59.51 0 1.02-.2 1.41-.59l7.78-7.78 2.81-2.81c.8-.78.8-2.07 0-2.86zM5.41 20L4 18.59l7.72-7.72 1.47 1.35L5.41 20z\"/>\n",
              "  </svg>\n",
              "      </button>\n",
              "\n",
              "\n",
              "\n",
              "    <div id=\"df-2fa257d1-9417-46d8-967c-28cb8388f8b2\">\n",
              "      <button class=\"colab-df-quickchart\" onclick=\"quickchart('df-2fa257d1-9417-46d8-967c-28cb8388f8b2')\"\n",
              "              title=\"Suggest charts.\"\n",
              "              style=\"display:none;\">\n",
              "\n",
              "<svg xmlns=\"http://www.w3.org/2000/svg\" height=\"24px\"viewBox=\"0 0 24 24\"\n",
              "     width=\"24px\">\n",
              "    <g>\n",
              "        <path d=\"M19 3H5c-1.1 0-2 .9-2 2v14c0 1.1.9 2 2 2h14c1.1 0 2-.9 2-2V5c0-1.1-.9-2-2-2zM9 17H7v-7h2v7zm4 0h-2V7h2v10zm4 0h-2v-4h2v4z\"/>\n",
              "    </g>\n",
              "</svg>\n",
              "      </button>\n",
              "    </div>\n",
              "\n",
              "<style>\n",
              "  .colab-df-quickchart {\n",
              "    background-color: #E8F0FE;\n",
              "    border: none;\n",
              "    border-radius: 50%;\n",
              "    cursor: pointer;\n",
              "    display: none;\n",
              "    fill: #1967D2;\n",
              "    height: 32px;\n",
              "    padding: 0 0 0 0;\n",
              "    width: 32px;\n",
              "  }\n",
              "\n",
              "  .colab-df-quickchart:hover {\n",
              "    background-color: #E2EBFA;\n",
              "    box-shadow: 0px 1px 2px rgba(60, 64, 67, 0.3), 0px 1px 3px 1px rgba(60, 64, 67, 0.15);\n",
              "    fill: #174EA6;\n",
              "  }\n",
              "\n",
              "  [theme=dark] .colab-df-quickchart {\n",
              "    background-color: #3B4455;\n",
              "    fill: #D2E3FC;\n",
              "  }\n",
              "\n",
              "  [theme=dark] .colab-df-quickchart:hover {\n",
              "    background-color: #434B5C;\n",
              "    box-shadow: 0px 1px 3px 1px rgba(0, 0, 0, 0.15);\n",
              "    filter: drop-shadow(0px 1px 2px rgba(0, 0, 0, 0.3));\n",
              "    fill: #FFFFFF;\n",
              "  }\n",
              "</style>\n",
              "\n",
              "    <script>\n",
              "      async function quickchart(key) {\n",
              "        const containerElement = document.querySelector('#' + key);\n",
              "        const charts = await google.colab.kernel.invokeFunction(\n",
              "            'suggestCharts', [key], {});\n",
              "      }\n",
              "    </script>\n",
              "\n",
              "      <script>\n",
              "\n",
              "function displayQuickchartButton(domScope) {\n",
              "  let quickchartButtonEl =\n",
              "    domScope.querySelector('#df-2fa257d1-9417-46d8-967c-28cb8388f8b2 button.colab-df-quickchart');\n",
              "  quickchartButtonEl.style.display =\n",
              "    google.colab.kernel.accessAllowed ? 'block' : 'none';\n",
              "}\n",
              "\n",
              "        displayQuickchartButton(document);\n",
              "      </script>\n",
              "      <style>\n",
              "    .colab-df-container {\n",
              "      display:flex;\n",
              "      flex-wrap:wrap;\n",
              "      gap: 12px;\n",
              "    }\n",
              "\n",
              "    .colab-df-convert {\n",
              "      background-color: #E8F0FE;\n",
              "      border: none;\n",
              "      border-radius: 50%;\n",
              "      cursor: pointer;\n",
              "      display: none;\n",
              "      fill: #1967D2;\n",
              "      height: 32px;\n",
              "      padding: 0 0 0 0;\n",
              "      width: 32px;\n",
              "    }\n",
              "\n",
              "    .colab-df-convert:hover {\n",
              "      background-color: #E2EBFA;\n",
              "      box-shadow: 0px 1px 2px rgba(60, 64, 67, 0.3), 0px 1px 3px 1px rgba(60, 64, 67, 0.15);\n",
              "      fill: #174EA6;\n",
              "    }\n",
              "\n",
              "    [theme=dark] .colab-df-convert {\n",
              "      background-color: #3B4455;\n",
              "      fill: #D2E3FC;\n",
              "    }\n",
              "\n",
              "    [theme=dark] .colab-df-convert:hover {\n",
              "      background-color: #434B5C;\n",
              "      box-shadow: 0px 1px 3px 1px rgba(0, 0, 0, 0.15);\n",
              "      filter: drop-shadow(0px 1px 2px rgba(0, 0, 0, 0.3));\n",
              "      fill: #FFFFFF;\n",
              "    }\n",
              "  </style>\n",
              "\n",
              "      <script>\n",
              "        const buttonEl =\n",
              "          document.querySelector('#df-fc58d0d4-7c7c-43a0-8700-2b67491f5861 button.colab-df-convert');\n",
              "        buttonEl.style.display =\n",
              "          google.colab.kernel.accessAllowed ? 'block' : 'none';\n",
              "\n",
              "        async function convertToInteractive(key) {\n",
              "          const element = document.querySelector('#df-fc58d0d4-7c7c-43a0-8700-2b67491f5861');\n",
              "          const dataTable =\n",
              "            await google.colab.kernel.invokeFunction('convertToInteractive',\n",
              "                                                     [key], {});\n",
              "          if (!dataTable) return;\n",
              "\n",
              "          const docLinkHtml = 'Like what you see? Visit the ' +\n",
              "            '<a target=\"_blank\" href=https://colab.research.google.com/notebooks/data_table.ipynb>data table notebook</a>'\n",
              "            + ' to learn more about interactive tables.';\n",
              "          element.innerHTML = '';\n",
              "          dataTable['output_type'] = 'display_data';\n",
              "          await google.colab.output.renderOutput(dataTable, element);\n",
              "          const docLink = document.createElement('div');\n",
              "          docLink.innerHTML = docLinkHtml;\n",
              "          element.appendChild(docLink);\n",
              "        }\n",
              "      </script>\n",
              "    </div>\n",
              "  </div>\n"
            ]
          },
          "metadata": {},
          "execution_count": 69
        }
      ]
    },
    {
      "cell_type": "markdown",
      "source": [
        "# Tokenize and prepare text data"
      ],
      "metadata": {
        "id": "Z4TMznifDyVt"
      }
    },
    {
      "cell_type": "markdown",
      "source": [
        "Tokenization is a fundamental preprocessing step in natural language processing (NLP) that involves breaking down a text into smaller units called tokens. These tokens can be words, subwords, or even characters, depending on the specific tokenization strategy used. The purpose of tokenization is to convert human-readable text into a format that can be easily processed by computers and used for various NLP tasks. Here's why tokenization is important and what it achieves:\n",
        "\n",
        "1. **Text Segmentation**: Tokenization divides a continuous stream of text into discrete units, making it easier to handle and analyze. In English, tokens are often words, so tokenization separates sentences into individual words.\n",
        "\n",
        "2. **Vocabulary Creation**: Tokenization builds a vocabulary or dictionary of unique tokens in the text. This vocabulary can be used to map tokens to numerical indices, allowing text data to be represented numerically for machine learning algorithms.\n",
        "\n",
        "3. **Dimensionality Reduction**: By representing words as tokens, tokenization reduces the dimensionality of the text data. This is important for efficient storage and processing of large text corpora.\n",
        "\n",
        "4. **Feature Extraction**: Tokenization is a crucial step in extracting features from text data that can be used as input for various NLP tasks, such as sentiment analysis, machine translation, text generation, and more.\n",
        "\n",
        "5. **Text Normalization**: Tokenization often includes text normalization, which involves converting text to lowercase, removing punctuation, handling contractions, and other steps to standardize the text.\n",
        "\n",
        "6. **Out-of-Vocabulary Handling**: Tokenization can also handle out-of-vocabulary words (words not in the pre-defined vocabulary) by assigning a special token (like \"<OOV>\") to represent them.\n",
        "\n",
        "7. **Efficient Processing**: Once tokenized, text data can be efficiently processed using numerical operations, and it can be easily fed into machine learning models.\n",
        "\n",
        "For example, consider the sentence: \"ChatGPT is an AI language model.\" After tokenization, this sentence might be represented as the sequence of tokens: [\"ChatGPT\", \"is\", \"an\", \"AI\", \"language\", \"model\", \".\"].\n",
        "\n",
        "Tokenization is a foundational step in many NLP tasks and is a prerequisite for tasks such as text classification, named entity recognition, part-of-speech tagging, and more. Different NLP libraries and tools provide various tokenization techniques to suit different needs and languages."
      ],
      "metadata": {
        "id": "Lz1DlDMUFM83"
      }
    },
    {
      "cell_type": "code",
      "source": [
        "from keras.preprocessing.text import Tokenizer\n",
        "\n",
        "tokenizer = Tokenizer(oov_token='<OOV>', num_words=6000)\n",
        "tokenizer.fit_on_texts(train_df['all_info'])\n"
      ],
      "metadata": {
        "id": "vlkSWScIGGzU"
      },
      "execution_count": 70,
      "outputs": []
    },
    {
      "cell_type": "code",
      "source": [
        "tokenizer"
      ],
      "metadata": {
        "colab": {
          "base_uri": "https://localhost:8080/"
        },
        "id": "eeasEm5kIBOg",
        "outputId": "fa6f8e9c-12b8-481c-f02a-f571d33aec88"
      },
      "execution_count": 71,
      "outputs": [
        {
          "output_type": "execute_result",
          "data": {
            "text/plain": [
              "<keras.preprocessing.text.Tokenizer at 0x7e26bb31dc00>"
            ]
          },
          "metadata": {},
          "execution_count": 71
        }
      ]
    },
    {
      "cell_type": "markdown",
      "source": [
        "\n",
        "\n",
        "1. `tokenizer = Tokenizer(oov_token=\"<OOV>\", num_words=6000)`: This line of code initializes a `Tokenizer` object. The `Tokenizer` is a utility class provided by the Keras library (part of TensorFlow) that is commonly used to preprocess and tokenize text data for machine learning tasks. Here's what each argument means:\n",
        "\n",
        "   - `oov_token=\"<OOV>\"`: This argument specifies the out-of-vocabulary token to be used when the tokenizer encounters words that are not in its vocabulary. In this case, \"<OOV>\" is used to represent words that are not recognized by the tokenizer.\n",
        "   \n",
        "   - `num_words=6000`: This argument specifies the maximum number of words to be kept in the vocabulary. Only the most frequent `num_words` words will be retained, and any words beyond this limit will be ignored. This can help in reducing the dimensionality of the data and speed up training.\n",
        "\n",
        "2. `tokenizer.fit_on_texts(train_df['all_info'])`: This line of code fits (or trains) the tokenizer on the text data provided in the 'all_info' column of the 'train_df' DataFrame. It means the tokenizer analyzes the text data, updates its internal vocabulary based on the frequency of words, and prepares itself for tokenizing future text sequences. The 'fit_on_texts' method is a common step in text preprocessing pipelines before using the tokenizer to convert text into sequences of tokens.\n",
        "\n",
        "In summary, this code initializes a tokenizer with a predefined vocabulary size of 6000 words and an out-of-vocabulary token \"<OOV>\". It then trains the tokenizer on the text data from the 'all_info' column of the 'train_df' DataFrame, updating its vocabulary based on the word frequencies in the provided text. This prepared tokenizer can later be used to convert sentences or documents into sequences of tokens for further processing, such as training machine learning models."
      ],
      "metadata": {
        "id": "QU1pfFkDIdiI"
      }
    },
    {
      "cell_type": "code",
      "source": [
        "target = train_df['label'].values"
      ],
      "metadata": {
        "id": "BGEwyIr_Iqte"
      },
      "execution_count": 72,
      "outputs": []
    },
    {
      "cell_type": "code",
      "source": [
        "target"
      ],
      "metadata": {
        "colab": {
          "base_uri": "https://localhost:8080/"
        },
        "id": "Qlil8uSYIrFi",
        "outputId": "b222a5e4-00ee-49e4-fdf9-6d1bf8d7cfc0"
      },
      "execution_count": 73,
      "outputs": [
        {
          "output_type": "execute_result",
          "data": {
            "text/plain": [
              "array([1, 0, 1, ..., 0, 1, 1])"
            ]
          },
          "metadata": {},
          "execution_count": 73
        }
      ]
    },
    {
      "cell_type": "markdown",
      "source": [
        "0 = real news\n",
        "\n",
        "1 = fake news"
      ],
      "metadata": {
        "id": "ZVsxIx1GPYaY"
      }
    },
    {
      "cell_type": "code",
      "source": [
        "max_length = 40\n",
        "vocab_size = 6000\n",
        "\n",
        "# converting the texts to numbers\n",
        "sequences_train = tokenizer.texts_to_sequences(train_df['all_info'])\n",
        "sequences_test = tokenizer.texts_to_sequences(test_df['all_info'])\n",
        "\n",
        "padded_train = pad_sequences(sequences_train, padding = 'post', maxlen=max_length)\n",
        "padded_test = pad_sequences(sequences_test, padding = 'post', maxlen=max_length)"
      ],
      "metadata": {
        "id": "5risATtpJWx5"
      },
      "execution_count": 74,
      "outputs": []
    },
    {
      "cell_type": "markdown",
      "source": [
        "This code prepares text data for a machine learning model by performing the following steps:\n",
        "\n",
        "1. It sets the maximum length of sequences (`max_length`) to 40 and the vocabulary size (`vocab_size`) to 6000.\n",
        "\n",
        "2. It uses a `tokenizer` to convert text data from the 'all_info' column of a training dataframe (`train_df`) and a test dataframe (`test_df`) into sequences of integers (`sequences_train` and `sequences_test`, respectively).\n",
        "\n",
        "3. The sequences are then padded with zeros to ensure that they all have the same length of 40, using the `pad_sequences` function. Padding is added to the end of each sequence (`padding='post'`). This prepares the data for input to a machine learning model where inputs need to have a consistent shape.\n",
        "\n",
        "In summary, this code processes text data, tokenizes it into integer sequences, and ensures all sequences have the same length for further use in a machine learning model, often in tasks like natural language processing or sequence prediction."
      ],
      "metadata": {
        "id": "VtI0vi_6LtO0"
      }
    },
    {
      "cell_type": "code",
      "source": [
        "x_train, x_test, y_train, y_test = train_test_split(padded_train, target, test_size=0.2)"
      ],
      "metadata": {
        "id": "NuZwG0TeP6my"
      },
      "execution_count": 76,
      "outputs": []
    },
    {
      "cell_type": "code",
      "source": [
        "x_train.shape, x_test.shape, y_train.shape, y_test.shape"
      ],
      "metadata": {
        "colab": {
          "base_uri": "https://localhost:8080/"
        },
        "id": "QJp8Sxu4QsrK",
        "outputId": "4995ee3c-1472-4b9e-c945-c42fd993827c"
      },
      "execution_count": 80,
      "outputs": [
        {
          "output_type": "execute_result",
          "data": {
            "text/plain": [
              "((16640, 40), (4160, 40), (16640,), (4160,))"
            ]
          },
          "metadata": {},
          "execution_count": 80
        }
      ]
    },
    {
      "cell_type": "code",
      "source": [
        "x_train"
      ],
      "metadata": {
        "colab": {
          "base_uri": "https://localhost:8080/"
        },
        "id": "Qe8kn_fXQzSc",
        "outputId": "658ac9c2-ccc6-402f-acbd-169cbfca82c0"
      },
      "execution_count": 82,
      "outputs": [
        {
          "output_type": "execute_result",
          "data": {
            "text/plain": [
              "array([[ 257,    7,    2, ..., 1123,    1,  292],\n",
              "       [   5,    1, 2069, ...,    2,  338,  238],\n",
              "       [ 279,  653, 1133, ...,  467,    1, 1052],\n",
              "       ...,\n",
              "       [   7, 1129,    4, ...,    2, 1521,  461],\n",
              "       [   7, 2772,   21, ...,    1,    7,  510],\n",
              "       [  67,   23,    1, ...,   43,   20,  243]], dtype=int32)"
            ]
          },
          "metadata": {},
          "execution_count": 82
        }
      ]
    },
    {
      "cell_type": "code",
      "source": [
        "x_test"
      ],
      "metadata": {
        "colab": {
          "base_uri": "https://localhost:8080/"
        },
        "id": "wXI1NjVQROPI",
        "outputId": "dc0f6add-5a08-4c91-8d75-bb1e77a9a499"
      },
      "execution_count": 83,
      "outputs": [
        {
          "output_type": "execute_result",
          "data": {
            "text/plain": [
              "array([[  77,   64,    2, ..., 5976,  399,    1],\n",
              "       [   8,   33, 1699, ...,    1, 3121,  611],\n",
              "       [  56,   35,   46, ..., 3833,    2, 1808],\n",
              "       ...,\n",
              "       [   1,  362,   72, ...,   89,  482,  415],\n",
              "       [   1,    9,    6, ...,  125,  362, 2889],\n",
              "       [   2,    1,    1, ...,   25, 3253,  172]], dtype=int32)"
            ]
          },
          "metadata": {},
          "execution_count": 83
        }
      ]
    },
    {
      "cell_type": "code",
      "source": [
        "y_train"
      ],
      "metadata": {
        "colab": {
          "base_uri": "https://localhost:8080/"
        },
        "id": "ITa-Vz52SBdB",
        "outputId": "364ef1e4-e5e8-4e6c-fdf4-99ae547ea817"
      },
      "execution_count": 84,
      "outputs": [
        {
          "output_type": "execute_result",
          "data": {
            "text/plain": [
              "array([1, 0, 1, ..., 0, 0, 1])"
            ]
          },
          "metadata": {},
          "execution_count": 84
        }
      ]
    },
    {
      "cell_type": "code",
      "source": [
        "y_test"
      ],
      "metadata": {
        "colab": {
          "base_uri": "https://localhost:8080/"
        },
        "id": "xnE6fEjJSGJp",
        "outputId": "f6e96366-cfb6-4cc3-da7b-5fa7c4ed36e9"
      },
      "execution_count": 85,
      "outputs": [
        {
          "output_type": "execute_result",
          "data": {
            "text/plain": [
              "array([1, 1, 0, ..., 0, 0, 0])"
            ]
          },
          "metadata": {},
          "execution_count": 85
        }
      ]
    },
    {
      "cell_type": "markdown",
      "source": [
        "# Binary classification model"
      ],
      "metadata": {
        "id": "dUacswZ-SIPY"
      }
    },
    {
      "cell_type": "code",
      "source": [
        "best_model_file_name = \"models/best_model_simple.hdf5\""
      ],
      "metadata": {
        "id": "V7siU7sDS-a1"
      },
      "execution_count": 86,
      "outputs": []
    },
    {
      "cell_type": "code",
      "source": [
        "def get_simple_model():\n",
        "    model = Sequential()\n",
        "    model.add(Embedding(vocab_size, 10, input_length=max_length))\n",
        "    model.add(Flatten())\n",
        "    model.add(Dense(1, activation='sigmoid'))\n",
        "    return model"
      ],
      "metadata": {
        "id": "DLqAz4lvTDzP"
      },
      "execution_count": 87,
      "outputs": []
    },
    {
      "cell_type": "markdown",
      "source": [
        "This code defines a simple neural network model for text classification using the Keras library. The model is designed to take in sequences of words (text data) and predict a binary outcome (such as classifying whether a given text belongs to a certain category or not). Let's break down the code step by step:\n",
        "\n",
        "1. Import Required Libraries:\n",
        "   The code assumes that you have already imported the necessary libraries, including `Sequential`, `Embedding`, `Flatten`, and `Dense` from the Keras library.\n",
        "\n",
        "2. Define the Model:\n",
        "   ```python\n",
        "   model = Sequential()\n",
        "   ```\n",
        "   The `Sequential` class in Keras is used to define a linear stack of layers for building neural network models.\n",
        "\n",
        "3. Add an Embedding Layer:\n",
        "   ```python\n",
        "   model.add(Embedding(vocab_size, 10, input_length=max_length))\n",
        "   ```\n",
        "   The `Embedding` layer is used to convert integer-encoded vocabulary indices into dense vectors of fixed size (in this case, 10). It's often used for word embedding in natural language processing tasks. The `vocab_size` parameter represents the size of the vocabulary (the total number of unique words in your text data), while `input_length` is the length of each input sequence (number of words in a sentence). This layer essentially learns to represent words in a lower-dimensional space where similar words are closer together.\n",
        "\n",
        "4. Add a Flatten Layer:\n",
        "   ```python\n",
        "   model.add(Flatten())\n",
        "   ```\n",
        "   The `Flatten` layer is used to flatten the output from the previous layer into a 1D vector. This step is necessary because the subsequent layer, which is a fully connected `Dense` layer, requires a 1D input.\n",
        "\n",
        "5. Add a Dense Layer:\n",
        "   ```python\n",
        "   model.add(Dense(1, activation='sigmoid'))\n",
        "   ```\n",
        "   The `Dense` layer is a fully connected neural network layer. In this case, it has a single output unit with a sigmoid activation function. The sigmoid activation function squashes the output values between 0 and 1, making it suitable for binary classification tasks. The model learns to map the flattened input vectors to a single output value that represents the predicted probability of the input belonging to the positive class.\n",
        "\n",
        "6. Return the Model:\n",
        "   ```python\n",
        "   return model\n",
        "   ```\n",
        "   The function returns the defined Keras model, which can then be compiled, trained, and evaluated using appropriate data.\n",
        "\n",
        "Overall, this code defines a simple neural network architecture for text classification, where words are embedded into a lower-dimensional space, flattened, and then passed through a single dense layer to make binary predictions. Keep in mind that the effectiveness of this model will depend on the specifics of your dataset and the complexity of the classification task."
      ],
      "metadata": {
        "id": "0nLb6_DITS2f"
      }
    },
    {
      "cell_type": "code",
      "source": [
        "callbacks=[\n",
        "    keras.callbacks.EarlyStopping(monitor=\"val_loss\", patience=15,\n",
        "                                  verbose=1, mode=\"min\", restore_best_weights=True),\n",
        "    keras.callbacks.ModelCheckpoint(filepath=best_model_file_name, verbose=1, save_best_only=True)\n",
        "]"
      ],
      "metadata": {
        "id": "LdrR6gTsUEBy"
      },
      "execution_count": 88,
      "outputs": []
    },
    {
      "cell_type": "markdown",
      "source": [
        "This code snippet is configuring callback functions for training a neural network using the Keras library. Callbacks are functions that you can specify to be executed at various points during the training process. They provide a way to monitor and control the training process, allowing you to perform actions such as early stopping, saving the best model, and more.\n",
        "\n",
        "Let's break down the provided callbacks:\n",
        "\n",
        "1. `keras.callbacks.EarlyStopping`:\n",
        "   This callback is used for early stopping, which means the training process will stop if a certain condition is met. The parameters used in this callback are:\n",
        "   - `monitor`: The metric to monitor for early stopping. In this case, it's `\"val_loss\"` which means the validation loss is being monitored.\n",
        "   - `patience`: The number of epochs with no improvement after which training will be stopped. In this case, if the validation loss does not improve for 15 consecutive epochs, training will stop.\n",
        "   - `verbose`: Verbosity mode. When set to 1, it prints messages about the early stopping process.\n",
        "   - `mode`: The direction of improvement to monitor. `\"min\"` means the monitored metric should be minimized (e.g., validation loss should decrease).\n",
        "   - `restore_best_weights`: If set to `True`, the model's weights will be restored to the best weights found during training when the training is stopped due to early stopping.\n",
        "\n",
        "2. `keras.callbacks.ModelCheckpoint`:\n",
        "   This callback is used to save the model's weights during training, so you can later restore the best performing model. The parameters used in this callback are:\n",
        "   - `filepath`: The file path where the model weights will be saved. The variable `best_model_file_name` likely contains the desired file path.\n",
        "   - `verbose`: Similar to the verbose parameter in `EarlyStopping`, when set to 1, it prints messages about saving the model.\n",
        "   - `save_best_only`: If set to `True`, the callback will only save the model weights if the monitored metric (e.g., validation loss) has improved since the last checkpoint.\n",
        "\n",
        "Combining these two callbacks, the code sets up the following behavior during training:\n",
        "\n",
        "- The `EarlyStopping` callback will monitor the validation loss. If the validation loss doesn't improve for 15 consecutive epochs, the training process will stop, and the model's weights will be restored to the best performing weights.\n",
        "- The `ModelCheckpoint` callback will save the model's weights to the specified file path whenever a new best performing model is found based on the validation loss.\n",
        "\n",
        "This combination of callbacks helps to prevent overfitting by stopping training early if the model's performance on the validation set is not improving, and it also saves the best model weights for later use."
      ],
      "metadata": {
        "id": "csoq3BJRURjE"
      }
    },
    {
      "cell_type": "code",
      "source": [
        "model = get_simple_model()\n",
        "model.summary()"
      ],
      "metadata": {
        "colab": {
          "base_uri": "https://localhost:8080/"
        },
        "id": "xubLx1ggUtbY",
        "outputId": "638e51ef-ae65-4c1f-b4b1-c96877f79fbb"
      },
      "execution_count": 89,
      "outputs": [
        {
          "output_type": "stream",
          "name": "stdout",
          "text": [
            "Model: \"sequential\"\n",
            "_________________________________________________________________\n",
            " Layer (type)                Output Shape              Param #   \n",
            "=================================================================\n",
            " embedding (Embedding)       (None, 40, 10)            60000     \n",
            "                                                                 \n",
            " flatten (Flatten)           (None, 400)               0         \n",
            "                                                                 \n",
            " dense (Dense)               (None, 1)                 401       \n",
            "                                                                 \n",
            "=================================================================\n",
            "Total params: 60,401\n",
            "Trainable params: 60,401\n",
            "Non-trainable params: 0\n",
            "_________________________________________________________________\n"
          ]
        }
      ]
    },
    {
      "cell_type": "code",
      "source": [
        "model.compile(loss='binary_crossentropy',\n",
        "              optimizer='adam',\n",
        "              metrics=[tf.keras.metrics.Precision(), tf.keras.metrics.Recall()])"
      ],
      "metadata": {
        "id": "HGz7wMInU-cl"
      },
      "execution_count": 90,
      "outputs": []
    },
    {
      "cell_type": "markdown",
      "source": [
        "\n",
        "\n",
        "Let's break down the provided code line by line:\n",
        "\n",
        "1. `model.compile`: This is a method in Keras used to configure the training process of a neural network model.\n",
        "\n",
        "2. `loss='binary_crossentropy'`: This specifies the loss function that will be used to measure the difference between the predicted output and the actual target output during training. In this case, the loss function is `'binary_crossentropy'`, which is commonly used for binary classification tasks, where the model is trying to classify inputs into two classes (e.g., 0 or 1, true or false, positive or negative).\n",
        "\n",
        "3. `optimizer='adam'`: This specifies the optimization algorithm that will be used to update the model's weights based on the computed loss. `'adam'` refers to the Adam optimizer, which is an adaptive optimization algorithm that adjusts the learning rate during training to improve convergence.\n",
        "\n",
        "4. `metrics=[tf.keras.metrics.Precision(), tf.keras.metrics.Recall()]`: These are the evaluation metrics that will be computed during training to monitor the model's performance. The list contains two metrics:\n",
        "\n",
        "   - `tf.keras.metrics.Precision()`: This metric calculates the precision of the model's predictions. Precision measures the proportion of correctly predicted positive instances (true positives) out of all instances predicted as positive (true positives + false positives).\n",
        "\n",
        "   - `tf.keras.metrics.Recall()`: Also known as sensitivity or true positive rate, recall calculates the proportion of correctly predicted positive instances (true positives) out of all actual positive instances (true positives + false negatives).\n",
        "\n",
        "By specifying these metrics in the `compile` method, the model will compute and display the precision and recall values during training, allowing you to monitor how well the model is performing in terms of correctly classifying positive instances and minimizing false positives and false negatives.\n",
        "\n",
        "Here's a summary of what the provided code does: It configures the compilation of a neural network model for binary classification using the binary cross-entropy loss function, the Adam optimizer for training, and monitors the model's precision and recall metrics during training."
      ],
      "metadata": {
        "id": "1Mro6W8uVWuS"
      }
    },
    {
      "cell_type": "code",
      "source": [
        "%%time\n",
        "history = model.fit(x_train,\n",
        "                    y_train,\n",
        "                    epochs=20,\n",
        "                    validation_data=(x_test, y_test),\n",
        "                    callbacks=callbacks)"
      ],
      "metadata": {
        "colab": {
          "base_uri": "https://localhost:8080/"
        },
        "id": "xRNsbWP9VqGx",
        "outputId": "cb9de8e7-60c4-4cf8-fcfe-ab568f7b82bb"
      },
      "execution_count": 91,
      "outputs": [
        {
          "output_type": "stream",
          "name": "stdout",
          "text": [
            "Epoch 1/20\n",
            "506/520 [============================>.] - ETA: 0s - loss: 0.4806 - precision: 0.7785 - recall: 0.8365\n",
            "Epoch 1: val_loss improved from inf to 0.31220, saving model to models/best_model_simple.hdf5\n",
            "520/520 [==============================] - 29s 44ms/step - loss: 0.4759 - precision: 0.7802 - recall: 0.8371 - val_loss: 0.3122 - val_precision: 0.8637 - val_recall: 0.8774\n",
            "Epoch 2/20\n",
            "516/520 [============================>.] - ETA: 0s - loss: 0.2446 - precision: 0.8977 - recall: 0.9149\n",
            "Epoch 2: val_loss improved from 0.31220 to 0.25083, saving model to models/best_model_simple.hdf5\n",
            "520/520 [==============================] - 4s 7ms/step - loss: 0.2442 - precision: 0.8979 - recall: 0.9152 - val_loss: 0.2508 - val_precision: 0.9106 - val_recall: 0.8784\n",
            "Epoch 3/20\n",
            "515/520 [============================>.] - ETA: 0s - loss: 0.1735 - precision: 0.9365 - recall: 0.9392\n",
            "Epoch 3: val_loss improved from 0.25083 to 0.23118, saving model to models/best_model_simple.hdf5\n",
            "520/520 [==============================] - 4s 7ms/step - loss: 0.1737 - precision: 0.9365 - recall: 0.9391 - val_loss: 0.2312 - val_precision: 0.9029 - val_recall: 0.8994\n",
            "Epoch 4/20\n",
            "515/520 [============================>.] - ETA: 0s - loss: 0.1285 - precision: 0.9591 - recall: 0.9595\n",
            "Epoch 4: val_loss improved from 0.23118 to 0.22822, saving model to models/best_model_simple.hdf5\n",
            "520/520 [==============================] - 4s 7ms/step - loss: 0.1285 - precision: 0.9594 - recall: 0.9593 - val_loss: 0.2282 - val_precision: 0.9038 - val_recall: 0.8999\n",
            "Epoch 5/20\n",
            "510/520 [============================>.] - ETA: 0s - loss: 0.0932 - precision: 0.9770 - recall: 0.9724\n",
            "Epoch 5: val_loss did not improve from 0.22822\n",
            "520/520 [==============================] - 2s 5ms/step - loss: 0.0937 - precision: 0.9765 - recall: 0.9725 - val_loss: 0.2325 - val_precision: 0.8954 - val_recall: 0.9061\n",
            "Epoch 6/20\n",
            "509/520 [============================>.] - ETA: 0s - loss: 0.0670 - precision: 0.9881 - recall: 0.9851\n",
            "Epoch 6: val_loss did not improve from 0.22822\n",
            "520/520 [==============================] - 2s 4ms/step - loss: 0.0668 - precision: 0.9882 - recall: 0.9855 - val_loss: 0.2396 - val_precision: 0.9014 - val_recall: 0.8980\n",
            "Epoch 7/20\n",
            "505/520 [============================>.] - ETA: 0s - loss: 0.0460 - precision: 0.9957 - recall: 0.9925\n",
            "Epoch 7: val_loss did not improve from 0.22822\n",
            "520/520 [==============================] - 2s 4ms/step - loss: 0.0463 - precision: 0.9957 - recall: 0.9922 - val_loss: 0.2508 - val_precision: 0.8963 - val_recall: 0.8985\n",
            "Epoch 8/20\n",
            "517/520 [============================>.] - ETA: 0s - loss: 0.0314 - precision: 0.9983 - recall: 0.9975\n",
            "Epoch 8: val_loss did not improve from 0.22822\n",
            "520/520 [==============================] - 2s 4ms/step - loss: 0.0314 - precision: 0.9983 - recall: 0.9975 - val_loss: 0.2625 - val_precision: 0.8953 - val_recall: 0.8970\n",
            "Epoch 9/20\n",
            "508/520 [============================>.] - ETA: 0s - loss: 0.0210 - precision: 0.9995 - recall: 0.9989\n",
            "Epoch 9: val_loss did not improve from 0.22822\n",
            "520/520 [==============================] - 2s 4ms/step - loss: 0.0211 - precision: 0.9994 - recall: 0.9989 - val_loss: 0.2775 - val_precision: 0.8962 - val_recall: 0.8927\n",
            "Epoch 10/20\n",
            "511/520 [============================>.] - ETA: 0s - loss: 0.0142 - precision: 0.9996 - recall: 0.9999\n",
            "Epoch 10: val_loss did not improve from 0.22822\n",
            "520/520 [==============================] - 4s 7ms/step - loss: 0.0142 - precision: 0.9996 - recall: 0.9999 - val_loss: 0.2911 - val_precision: 0.8931 - val_recall: 0.8927\n",
            "Epoch 11/20\n",
            "512/520 [============================>.] - ETA: 0s - loss: 0.0097 - precision: 0.9999 - recall: 1.0000\n",
            "Epoch 11: val_loss did not improve from 0.22822\n",
            "520/520 [==============================] - 2s 4ms/step - loss: 0.0098 - precision: 0.9999 - recall: 1.0000 - val_loss: 0.3052 - val_precision: 0.8953 - val_recall: 0.8884\n",
            "Epoch 12/20\n",
            "512/520 [============================>.] - ETA: 0s - loss: 0.0067 - precision: 0.9999 - recall: 1.0000\n",
            "Epoch 12: val_loss did not improve from 0.22822\n",
            "520/520 [==============================] - 2s 5ms/step - loss: 0.0067 - precision: 0.9999 - recall: 1.0000 - val_loss: 0.3195 - val_precision: 0.8931 - val_recall: 0.8884\n",
            "Epoch 13/20\n",
            "509/520 [============================>.] - ETA: 0s - loss: 0.0047 - precision: 1.0000 - recall: 1.0000\n",
            "Epoch 13: val_loss did not improve from 0.22822\n",
            "520/520 [==============================] - 2s 3ms/step - loss: 0.0047 - precision: 1.0000 - recall: 1.0000 - val_loss: 0.3336 - val_precision: 0.8950 - val_recall: 0.8855\n",
            "Epoch 14/20\n",
            "517/520 [============================>.] - ETA: 0s - loss: 0.0033 - precision: 1.0000 - recall: 1.0000\n",
            "Epoch 14: val_loss did not improve from 0.22822\n",
            "520/520 [==============================] - 2s 3ms/step - loss: 0.0033 - precision: 1.0000 - recall: 1.0000 - val_loss: 0.3476 - val_precision: 0.8949 - val_recall: 0.8846\n",
            "Epoch 15/20\n",
            "518/520 [============================>.] - ETA: 0s - loss: 0.0024 - precision: 1.0000 - recall: 1.0000\n",
            "Epoch 15: val_loss did not improve from 0.22822\n",
            "520/520 [==============================] - 2s 4ms/step - loss: 0.0024 - precision: 1.0000 - recall: 1.0000 - val_loss: 0.3606 - val_precision: 0.8924 - val_recall: 0.8860\n",
            "Epoch 16/20\n",
            "516/520 [============================>.] - ETA: 0s - loss: 0.0017 - precision: 1.0000 - recall: 1.0000\n",
            "Epoch 16: val_loss did not improve from 0.22822\n",
            "520/520 [==============================] - 4s 7ms/step - loss: 0.0017 - precision: 1.0000 - recall: 1.0000 - val_loss: 0.3750 - val_precision: 0.8937 - val_recall: 0.8855\n",
            "Epoch 17/20\n",
            "514/520 [============================>.] - ETA: 0s - loss: 0.0013 - precision: 1.0000 - recall: 1.0000\n",
            "Epoch 17: val_loss did not improve from 0.22822\n",
            "520/520 [==============================] - 3s 5ms/step - loss: 0.0013 - precision: 1.0000 - recall: 1.0000 - val_loss: 0.3890 - val_precision: 0.8908 - val_recall: 0.8870\n",
            "Epoch 18/20\n",
            "515/520 [============================>.] - ETA: 0s - loss: 9.1377e-04 - precision: 1.0000 - recall: 1.0000\n",
            "Epoch 18: val_loss did not improve from 0.22822\n",
            "520/520 [==============================] - 2s 3ms/step - loss: 9.1120e-04 - precision: 1.0000 - recall: 1.0000 - val_loss: 0.4028 - val_precision: 0.8895 - val_recall: 0.8870\n",
            "Epoch 19/20\n",
            "509/520 [============================>.] - ETA: 0s - loss: 6.6992e-04 - precision: 1.0000 - recall: 1.0000Restoring model weights from the end of the best epoch: 4.\n",
            "\n",
            "Epoch 19: val_loss did not improve from 0.22822\n",
            "520/520 [==============================] - 2s 4ms/step - loss: 6.7203e-04 - precision: 1.0000 - recall: 1.0000 - val_loss: 0.4168 - val_precision: 0.8911 - val_recall: 0.8855\n",
            "Epoch 19: early stopping\n",
            "CPU times: user 1min 5s, sys: 3.76 s, total: 1min 8s\n",
            "Wall time: 1min 14s\n"
          ]
        }
      ]
    },
    {
      "cell_type": "code",
      "source": [
        "range(1, max(history.epoch) + 2)"
      ],
      "metadata": {
        "colab": {
          "base_uri": "https://localhost:8080/"
        },
        "id": "ozc4zovRWDYT",
        "outputId": "2042eac2-f8c3-466a-b296-2b798a42d3c5"
      },
      "execution_count": 92,
      "outputs": [
        {
          "output_type": "execute_result",
          "data": {
            "text/plain": [
              "range(1, 20)"
            ]
          },
          "metadata": {},
          "execution_count": 92
        }
      ]
    },
    {
      "cell_type": "code",
      "source": [
        "history.history.keys()\n"
      ],
      "metadata": {
        "colab": {
          "base_uri": "https://localhost:8080/"
        },
        "id": "gDaLMYkKXbtF",
        "outputId": "feab0d6f-acd1-4780-9140-01a2f9594931"
      },
      "execution_count": 93,
      "outputs": [
        {
          "output_type": "execute_result",
          "data": {
            "text/plain": [
              "dict_keys(['loss', 'precision', 'recall', 'val_loss', 'val_precision', 'val_recall'])"
            ]
          },
          "metadata": {},
          "execution_count": 93
        }
      ]
    },
    {
      "cell_type": "code",
      "source": [
        "metric_to_plot = \"loss\"\n",
        "plt.plot(range(1, max(history.epoch) + 2), history.history[metric_to_plot], \".:\", label=\"Training loss\")\n",
        "plt.plot(range(1, max(history.epoch) + 2), history.history[\"val_\" + metric_to_plot], \".:\", label=\"Validation loss\")\n",
        "plt.title('Training and Validation Loss')\n",
        "plt.xlim([1,max(history.epoch) + 2])\n",
        "plt.xticks(range(1, max(history.epoch) + 2))\n",
        "plt.legend()\n",
        "plt.show()"
      ],
      "metadata": {
        "colab": {
          "base_uri": "https://localhost:8080/",
          "height": 857
        },
        "id": "oCw-PXRVXh-r",
        "outputId": "cd650626-6e42-4a37-84e1-11498e4048af"
      },
      "execution_count": 94,
      "outputs": [
        {
          "output_type": "display_data",
          "data": {
            "text/plain": [
              "<Figure size 1000x1000 with 1 Axes>"
            ],
            "image/png": "[encoded data removed]"
          },
          "metadata": {}
        }
      ]
    },
    {
      "cell_type": "markdown",
      "source": [
        "In summary, this code generates a line plot that shows the training and validation loss values over different epochs. The x-axis represents the epoch numbers, and the y-axis represents the loss values. The plot includes both training and validation loss curves, and a legend indicates which line corresponds to each. This visualization helps in understanding the convergence and performance of a training process."
      ],
      "metadata": {
        "id": "7BdbyLf0YaNf"
      }
    },
    {
      "cell_type": "code",
      "source": [
        "metric_to_plot = \"precision\"\n",
        "plt.plot(range(1, max(history.epoch) + 2), history.history[metric_to_plot], \".:\", label=\"Training loss\")\n",
        "plt.plot(range(1, max(history.epoch) + 2), history.history[\"val_\" + metric_to_plot], \".:\", label=\"Validation loss\")\n",
        "plt.title('Training and Validation Precision')\n",
        "plt.xlim([1,max(history.epoch) + 2])\n",
        "plt.xticks(range(1, max(history.epoch) + 2))\n",
        "plt.legend()\n",
        "plt.show()"
      ],
      "metadata": {
        "colab": {
          "base_uri": "https://localhost:8080/",
          "height": 857
        },
        "id": "FjYlT_lpYaBM",
        "outputId": "e7834b8c-a7b1-41a6-adea-725ff240da2c"
      },
      "execution_count": 95,
      "outputs": [
        {
          "output_type": "display_data",
          "data": {
            "text/plain": [
              "<Figure size 1000x1000 with 1 Axes>"
            ],
            "image/png": "[encoded data removed]"
          },
          "metadata": {}
        }
      ]
    },
    {
      "cell_type": "code",
      "source": [
        "metric_to_plot = \"recall\"\n",
        "plt.plot(range(1, max(history.epoch) + 2), history.history[metric_to_plot], \".:\", label=\"Training loss\")\n",
        "plt.plot(range(1, max(history.epoch) + 2), history.history[\"val_\" + metric_to_plot], \".:\", label=\"Validation loss\")\n",
        "plt.title('Training and Validation Recall')\n",
        "plt.xlim([1,max(history.epoch) + 2])\n",
        "plt.xticks(range(1, max(history.epoch) + 2))\n",
        "plt.legend()\n",
        "plt.show()"
      ],
      "metadata": {
        "colab": {
          "base_uri": "https://localhost:8080/",
          "height": 857
        },
        "id": "ymfngXkAX1mE",
        "outputId": "d435e9d2-b69d-45ea-a028-d8ad372f46de"
      },
      "execution_count": 96,
      "outputs": [
        {
          "output_type": "display_data",
          "data": {
            "text/plain": [
              "<Figure size 1000x1000 with 1 Axes>"
            ],
            "image/png": "[encoded data removed]"
          },
          "metadata": {}
        }
      ]
    },
    {
      "cell_type": "code",
      "source": [
        "model = keras.models.load_model(best_model_file_name)\n",
        "y_pred = (model.predict(x_test) > 0.5).astype(\"int32\")\n",
        "print('Accuracy: ', accuracy_score(y_test, y_pred))\n",
        "print('Precision: ', precision_score(y_test, y_pred))\n",
        "print('Recall: ', recall_score(y_test, y_pred))\n",
        "print('F1 Score: ', f1_score(y_test, y_pred))"
      ],
      "metadata": {
        "colab": {
          "base_uri": "https://localhost:8080/"
        },
        "id": "kdRaZ4tVZA4O",
        "outputId": "46a7b894-c89c-400e-c78f-93047045ea76"
      },
      "execution_count": 97,
      "outputs": [
        {
          "output_type": "stream",
          "name": "stdout",
          "text": [
            "130/130 [==============================] - 0s 3ms/step\n",
            "Accuracy:  0.9016826923076923\n",
            "Precision:  0.9037999037999038\n",
            "Recall:  0.899904214559387\n",
            "F1 Score:  0.9018478521718262\n"
          ]
        }
      ]
    },
    {
      "cell_type": "code",
      "source": [
        "y_pred"
      ],
      "metadata": {
        "colab": {
          "base_uri": "https://localhost:8080/"
        },
        "id": "Dhj_Vm0nZa9X",
        "outputId": "8e9e729b-7943-42c3-be55-967dfc8a6fcf"
      },
      "execution_count": 98,
      "outputs": [
        {
          "output_type": "execute_result",
          "data": {
            "text/plain": [
              "array([[1],\n",
              "       [1],\n",
              "       [0],\n",
              "       ...,\n",
              "       [0],\n",
              "       [0],\n",
              "       [0]], dtype=int32)"
            ]
          },
          "metadata": {},
          "execution_count": 98
        }
      ]
    },
    {
      "cell_type": "code",
      "source": [
        "# Confusion Matrix\n",
        "from sklearn.metrics import confusion_matrix\n",
        "cm = confusion_matrix(y_test, y_pred)\n",
        "plt.figure(figsize=(8, 6))\n",
        "sns.heatmap(cm, annot=True, fmt=\"d\", cmap=\"Blues\", xticklabels=[\"Negative\", \"Positive\"], yticklabels=[\"Negative\", \"Positive\"])\n",
        "plt.title(\"Confusion Matrix\")\n",
        "plt.xlabel(\"Predicted\")\n",
        "plt.ylabel(\"Actual\")\n",
        "plt.show()"
      ],
      "metadata": {
        "colab": {
          "base_uri": "https://localhost:8080/",
          "height": 573
        },
        "id": "wpZL5_iJZeNA",
        "outputId": "79f28ec0-ad58-45f6-efac-813b9324f9b8"
      },
      "execution_count": 100,
      "outputs": [
        {
          "output_type": "display_data",
          "data": {
            "text/plain": [
              "<Figure size 800x600 with 2 Axes>"
            ],
            "image/png": "[encoded data removed]"
          },
          "metadata": {}
        }
      ]
    },
    {
      "cell_type": "markdown",
      "source": [
        "# Using LSTM Model for Text Classification"
      ],
      "metadata": {
        "id": "OqKAG2DhZv5h"
      }
    },
    {
      "cell_type": "code",
      "source": [],
      "metadata": {
        "id": "gfFFNDKvaNuW"
      },
      "execution_count": null,
      "outputs": []
    }
  ]
}