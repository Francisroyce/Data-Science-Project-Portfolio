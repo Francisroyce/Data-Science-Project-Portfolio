{
  "nbformat": 4,
  "nbformat_minor": 0,
  "metadata": {
    "colab": {
      "provenance": [],
      "gpuType": "T4",
      "mount_file_id": "1TQ5mB1UHiTGwxk7-ExJZWJpTXXc5px4r",
      "authorship_tag": "ABX9TyOCJXhMlc63nTX7FwtAkRH1",
      "include_colab_link": true
    },
    "kernelspec": {
      "name": "python3",
      "display_name": "Python 3"
    },
    "language_info": {
      "name": "python"
    },
    "accelerator": "GPU"
  },
  "cells": [
    {
      "cell_type": "markdown",
      "metadata": {
        "id": "view-in-github",
        "colab_type": "text"
      },
      "source": [
        "<a href=\"https://colab.research.google.com/github/Francisroyce/Francisroyce/blob/main/fake_news_detection_tensorflow.ipynb\" target=\"_parent\"><img src=\"https://colab.research.google.com/assets/colab-badge.svg\" alt=\"Open In Colab\"/></a>"
      ]
    },
    {
      "cell_type": "code",
      "source": [
        "# from google.colab import drive\n",
        "# drive.mount('/content/drive')"
      ],
      "metadata": {
        "id": "CGViZGGxWTE3"
      },
      "execution_count": 1,
      "outputs": []
    },
    {
      "cell_type": "markdown",
      "source": [
        "**Project Title: Fake News Detection**\n",
        "\n",
        "**Project Overview:**\n",
        "The Fake News Detection project aims to develop a machine learning model capable of distinguishing between genuine news articles and fake news articles. With the proliferation of digital media and the ease of sharing information, the spread of misinformation and fake news has become a significant concern. This project aims to contribute to the fight against misinformation by automating the process of identifying fake news using advanced natural language processing and machine learning techniques.\n",
        "\n",
        "**Project Steps:**\n",
        "\n",
        "1. **Data Collection:** Gather a diverse and comprehensive dataset consisting of labeled news articles, including both genuine and fake examples. This dataset will serve as the foundation for training and evaluating the model.\n",
        "\n",
        "2. **Data Preprocessing:** Clean and preprocess the text data by removing irrelevant information, special characters, and formatting inconsistencies. Perform tokenization, stemming, and other text normalization techniques to prepare the data for model training.\n",
        "\n",
        "3. **Feature Extraction:** Convert the preprocessed text into numerical features that can be fed into machine learning algorithms. Common techniques include TF-IDF (Term Frequency-Inverse Document Frequency) and word embeddings like Word2Vec or GloVe.\n",
        "\n",
        "4. **Model Selection:** Experiment with various machine learning algorithms such as Support Vector Machines (SVM), Random Forests, and neural networks like Convolutional Neural Networks (CNN) or Recurrent Neural Networks (RNN). Select the best-performing algorithm based on evaluation metrics.\n",
        "\n",
        "5. **Model Training:** Divide the dataset into training, validation, and testing sets. Train the selected model on the training data and fine-tune its parameters using the validation set. This step involves optimizing the model's ability to differentiate between genuine and fake news.\n",
        "\n",
        "6. **Model Evaluation:** Assess the trained model's performance using appropriate evaluation metrics such as accuracy, precision, recall, F1-score, and AUC-ROC curve. Make adjustments and iterate on the model if necessary to achieve desired performance.\n",
        "\n",
        "7. **Deployment:** Once a satisfactory model is achieved, deploy it to a user-friendly interface. This could be a web application, browser extension, or API that allows users to input news articles and receive a prediction about their authenticity.\n",
        "\n",
        "8. **Continuous Improvement:** Regularly update and retrain the model with new data to adapt to evolving trends in fake news. Implement feedback mechanisms to gather user input and improve the model's accuracy over time.\n",
        "\n",
        "**Project Goals:**\n",
        "\n",
        "1. Develop a reliable and accurate fake news detection model.\n",
        "2. Provide users with a tool to verify the credibility of news articles they encounter online.\n",
        "3. Contribute to the efforts in reducing the spread of misinformation and fake news.\n",
        "4. Raise awareness about the importance of critical media consumption and fact-checking.\n",
        "\n",
        "**Potential Challenges:**\n",
        "\n",
        "1. **Data Quality:** Ensuring the dataset is representative and balanced to prevent bias.\n",
        "2. **Feature Engineering:** Selecting and extracting relevant features from the text data.\n",
        "3. **Model Complexity:** Balancing model complexity with computational resources and deployment constraints.\n",
        "4. **Adversarial Attacks:** Mitigating potential attempts to manipulate the model by generating sophisticated fake news.\n",
        "\n",
        "By successfully implementing this project, we can create a valuable tool to combat the spread of fake news and promote more informed and responsible media consumption."
      ],
      "metadata": {
        "id": "5rl2yOp2a5up"
      }
    },
    {
      "cell_type": "markdown",
      "source": [
        "# Importing dependencies"
      ],
      "metadata": {
        "id": "UxyXgMgl7LMp"
      }
    },
    {
      "cell_type": "code",
      "source": [
        "pip install contractions\n"
      ],
      "metadata": {
        "colab": {
          "base_uri": "https://localhost:8080/"
        },
        "id": "I9frSbKC8euF",
        "outputId": "fa43ba0b-ebaa-43f4-f0c5-5deabb17803f"
      },
      "execution_count": 2,
      "outputs": [
        {
          "output_type": "stream",
          "name": "stdout",
          "text": [
            "Collecting contractions\n",
            "  Downloading contractions-0.1.73-py2.py3-none-any.whl (8.7 kB)\n",
            "Collecting textsearch>=0.0.21 (from contractions)\n",
            "  Downloading textsearch-0.0.24-py2.py3-none-any.whl (7.6 kB)\n",
            "Collecting anyascii (from textsearch>=0.0.21->contractions)\n",
            "  Downloading anyascii-0.3.2-py3-none-any.whl (289 kB)\n",
            "\u001b[2K     \u001b[90m━━━━━━━━━━━━━━━━━━━━━━━━━━━━━━━━━━━━━━━\u001b[0m \u001b[32m289.9/289.9 kB\u001b[0m \u001b[31m4.6 MB/s\u001b[0m eta \u001b[36m0:00:00\u001b[0m\n",
            "\u001b[?25hCollecting pyahocorasick (from textsearch>=0.0.21->contractions)\n",
            "  Downloading pyahocorasick-2.0.0-cp310-cp310-manylinux_2_5_x86_64.manylinux1_x86_64.manylinux_2_12_x86_64.manylinux2010_x86_64.whl (110 kB)\n",
            "\u001b[2K     \u001b[90m━━━━━━━━━━━━━━━━━━━━━━━━━━━━━━━━━━━━━━━\u001b[0m \u001b[32m110.8/110.8 kB\u001b[0m \u001b[31m5.8 MB/s\u001b[0m eta \u001b[36m0:00:00\u001b[0m\n",
            "\u001b[?25hInstalling collected packages: pyahocorasick, anyascii, textsearch, contractions\n",
            "Successfully installed anyascii-0.3.2 contractions-0.1.73 pyahocorasick-2.0.0 textsearch-0.0.24\n"
          ]
        }
      ]
    },
    {
      "cell_type": "code",
      "source": [
        "import pandas as pd\n",
        "import numpy as np\n",
        "import matplotlib.pyplot as plt\n",
        "from matplotlib import rcParams\n",
        "import matplotlib.pyplot as plt\n",
        "plt.rcParams['figure.figsize'] = [10, 10]\n",
        "\n",
        "import seaborn as sns\n",
        "sns.set_theme(style=\"darkgrid\")\n",
        "\n",
        "from wordcloud import WordCloud\n",
        "\n",
        "import contractions\n",
        "import string\n",
        "import re\n",
        "\n",
        "from sklearn.model_selection import train_test_split\n",
        "from sklearn.metrics import precision_score, recall_score, f1_score, accuracy_score\n",
        "\n",
        "import tensorflow as tf\n",
        "from tensorflow import keras\n",
        "from tensorflow.keras.preprocessing.text import Tokenizer\n",
        "from tensorflow.keras.preprocessing.sequence import pad_sequences\n",
        "from tensorflow.keras.models import Sequential\n",
        "from tensorflow.keras.layers import LSTM, Dense, Dropout, Embedding, Flatten\n",
        "\n",
        "import warnings\n",
        "warnings.filterwarnings('ignore')\n"
      ],
      "metadata": {
        "id": "66GrBN4o7Ve7"
      },
      "execution_count": 3,
      "outputs": []
    },
    {
      "cell_type": "code",
      "source": [
        "train_data = pd.read_csv('/content/drive/MyDrive/fake_news/train.csv', header = 0)\n",
        "test_data = pd.read_csv('/content/drive/MyDrive/fake_news/test.csv', header= 0)"
      ],
      "metadata": {
        "id": "R2Y2bU8575bz"
      },
      "execution_count": 4,
      "outputs": []
    },
    {
      "cell_type": "code",
      "source": [
        "train_data.head()"
      ],
      "metadata": {
        "colab": {
          "base_uri": "https://localhost:8080/",
          "height": 206
        },
        "id": "GAM5vzLN99j9",
        "outputId": "e4c9d2d7-3e12-4c7f-a6aa-a601144ef122"
      },
      "execution_count": 5,
      "outputs": [
        {
          "output_type": "execute_result",
          "data": {
            "text/plain": [
              "   id                                              title              author  \\\n",
              "0   0  House Dem Aide: We Didn’t Even See Comey’s Let...       Darrell Lucus   \n",
              "1   1  FLYNN: Hillary Clinton, Big Woman on Campus - ...     Daniel J. Flynn   \n",
              "2   2                  Why the Truth Might Get You Fired  Consortiumnews.com   \n",
              "3   3  15 Civilians Killed In Single US Airstrike Hav...     Jessica Purkiss   \n",
              "4   4  Iranian woman jailed for fictional unpublished...      Howard Portnoy   \n",
              "\n",
              "                                                text  label  \n",
              "0  House Dem Aide: We Didn’t Even See Comey’s Let...      1  \n",
              "1  Ever get the feeling your life circles the rou...      0  \n",
              "2  Why the Truth Might Get You Fired October 29, ...      1  \n",
              "3  Videos 15 Civilians Killed In Single US Airstr...      1  \n",
              "4  Print \\nAn Iranian woman has been sentenced to...      1  "
            ],
            "text/html": [
              "\n",
              "\n",
              "  <div id=\"df-21c3598d-67f4-4e55-bc94-92a80b5e2758\">\n",
              "    <div class=\"colab-df-container\">\n",
              "      <div>\n",
              "<style scoped>\n",
              "    .dataframe tbody tr th:only-of-type {\n",
              "        vertical-align: middle;\n",
              "    }\n",
              "\n",
              "    .dataframe tbody tr th {\n",
              "        vertical-align: top;\n",
              "    }\n",
              "\n",
              "    .dataframe thead th {\n",
              "        text-align: right;\n",
              "    }\n",
              "</style>\n",
              "<table border=\"1\" class=\"dataframe\">\n",
              "  <thead>\n",
              "    <tr style=\"text-align: right;\">\n",
              "      <th></th>\n",
              "      <th>id</th>\n",
              "      <th>title</th>\n",
              "      <th>author</th>\n",
              "      <th>text</th>\n",
              "      <th>label</th>\n",
              "    </tr>\n",
              "  </thead>\n",
              "  <tbody>\n",
              "    <tr>\n",
              "      <th>0</th>\n",
              "      <td>0</td>\n",
              "      <td>House Dem Aide: We Didn’t Even See Comey’s Let...</td>\n",
              "      <td>Darrell Lucus</td>\n",
              "      <td>House Dem Aide: We Didn’t Even See Comey’s Let...</td>\n",
              "      <td>1</td>\n",
              "    </tr>\n",
              "    <tr>\n",
              "      <th>1</th>\n",
              "      <td>1</td>\n",
              "      <td>FLYNN: Hillary Clinton, Big Woman on Campus - ...</td>\n",
              "      <td>Daniel J. Flynn</td>\n",
              "      <td>Ever get the feeling your life circles the rou...</td>\n",
              "      <td>0</td>\n",
              "    </tr>\n",
              "    <tr>\n",
              "      <th>2</th>\n",
              "      <td>2</td>\n",
              "      <td>Why the Truth Might Get You Fired</td>\n",
              "      <td>Consortiumnews.com</td>\n",
              "      <td>Why the Truth Might Get You Fired October 29, ...</td>\n",
              "      <td>1</td>\n",
              "    </tr>\n",
              "    <tr>\n",
              "      <th>3</th>\n",
              "      <td>3</td>\n",
              "      <td>15 Civilians Killed In Single US Airstrike Hav...</td>\n",
              "      <td>Jessica Purkiss</td>\n",
              "      <td>Videos 15 Civilians Killed In Single US Airstr...</td>\n",
              "      <td>1</td>\n",
              "    </tr>\n",
              "    <tr>\n",
              "      <th>4</th>\n",
              "      <td>4</td>\n",
              "      <td>Iranian woman jailed for fictional unpublished...</td>\n",
              "      <td>Howard Portnoy</td>\n",
              "      <td>Print \\nAn Iranian woman has been sentenced to...</td>\n",
              "      <td>1</td>\n",
              "    </tr>\n",
              "  </tbody>\n",
              "</table>\n",
              "</div>\n",
              "      <button class=\"colab-df-convert\" onclick=\"convertToInteractive('df-21c3598d-67f4-4e55-bc94-92a80b5e2758')\"\n",
              "              title=\"Convert this dataframe to an interactive table.\"\n",
              "              style=\"display:none;\">\n",
              "\n",
              "  <svg xmlns=\"http://www.w3.org/2000/svg\" height=\"24px\"viewBox=\"0 0 24 24\"\n",
              "       width=\"24px\">\n",
              "    <path d=\"M0 0h24v24H0V0z\" fill=\"none\"/>\n",
              "    <path d=\"M18.56 5.44l.94 2.06.94-2.06 2.06-.94-2.06-.94-.94-2.06-.94 2.06-2.06.94zm-11 1L8.5 8.5l.94-2.06 2.06-.94-2.06-.94L8.5 2.5l-.94 2.06-2.06.94zm10 10l.94 2.06.94-2.06 2.06-.94-2.06-.94-.94-2.06-.94 2.06-2.06.94z\"/><path d=\"M17.41 7.96l-1.37-1.37c-.4-.4-.92-.59-1.43-.59-.52 0-1.04.2-1.43.59L10.3 9.45l-7.72 7.72c-.78.78-.78 2.05 0 2.83L4 21.41c.39.39.9.59 1.41.59.51 0 1.02-.2 1.41-.59l7.78-7.78 2.81-2.81c.8-.78.8-2.07 0-2.86zM5.41 20L4 18.59l7.72-7.72 1.47 1.35L5.41 20z\"/>\n",
              "  </svg>\n",
              "      </button>\n",
              "\n",
              "\n",
              "\n",
              "    <div id=\"df-ba6f5f89-c19d-4c7e-9d25-de182749f114\">\n",
              "      <button class=\"colab-df-quickchart\" onclick=\"quickchart('df-ba6f5f89-c19d-4c7e-9d25-de182749f114')\"\n",
              "              title=\"Suggest charts.\"\n",
              "              style=\"display:none;\">\n",
              "\n",
              "<svg xmlns=\"http://www.w3.org/2000/svg\" height=\"24px\"viewBox=\"0 0 24 24\"\n",
              "     width=\"24px\">\n",
              "    <g>\n",
              "        <path d=\"M19 3H5c-1.1 0-2 .9-2 2v14c0 1.1.9 2 2 2h14c1.1 0 2-.9 2-2V5c0-1.1-.9-2-2-2zM9 17H7v-7h2v7zm4 0h-2V7h2v10zm4 0h-2v-4h2v4z\"/>\n",
              "    </g>\n",
              "</svg>\n",
              "      </button>\n",
              "    </div>\n",
              "\n",
              "<style>\n",
              "  .colab-df-quickchart {\n",
              "    background-color: #E8F0FE;\n",
              "    border: none;\n",
              "    border-radius: 50%;\n",
              "    cursor: pointer;\n",
              "    display: none;\n",
              "    fill: #1967D2;\n",
              "    height: 32px;\n",
              "    padding: 0 0 0 0;\n",
              "    width: 32px;\n",
              "  }\n",
              "\n",
              "  .colab-df-quickchart:hover {\n",
              "    background-color: #E2EBFA;\n",
              "    box-shadow: 0px 1px 2px rgba(60, 64, 67, 0.3), 0px 1px 3px 1px rgba(60, 64, 67, 0.15);\n",
              "    fill: #174EA6;\n",
              "  }\n",
              "\n",
              "  [theme=dark] .colab-df-quickchart {\n",
              "    background-color: #3B4455;\n",
              "    fill: #D2E3FC;\n",
              "  }\n",
              "\n",
              "  [theme=dark] .colab-df-quickchart:hover {\n",
              "    background-color: #434B5C;\n",
              "    box-shadow: 0px 1px 3px 1px rgba(0, 0, 0, 0.15);\n",
              "    filter: drop-shadow(0px 1px 2px rgba(0, 0, 0, 0.3));\n",
              "    fill: #FFFFFF;\n",
              "  }\n",
              "</style>\n",
              "\n",
              "    <script>\n",
              "      async function quickchart(key) {\n",
              "        const containerElement = document.querySelector('#' + key);\n",
              "        const charts = await google.colab.kernel.invokeFunction(\n",
              "            'suggestCharts', [key], {});\n",
              "      }\n",
              "    </script>\n",
              "\n",
              "      <script>\n",
              "\n",
              "function displayQuickchartButton(domScope) {\n",
              "  let quickchartButtonEl =\n",
              "    domScope.querySelector('#df-ba6f5f89-c19d-4c7e-9d25-de182749f114 button.colab-df-quickchart');\n",
              "  quickchartButtonEl.style.display =\n",
              "    google.colab.kernel.accessAllowed ? 'block' : 'none';\n",
              "}\n",
              "\n",
              "        displayQuickchartButton(document);\n",
              "      </script>\n",
              "      <style>\n",
              "    .colab-df-container {\n",
              "      display:flex;\n",
              "      flex-wrap:wrap;\n",
              "      gap: 12px;\n",
              "    }\n",
              "\n",
              "    .colab-df-convert {\n",
              "      background-color: #E8F0FE;\n",
              "      border: none;\n",
              "      border-radius: 50%;\n",
              "      cursor: pointer;\n",
              "      display: none;\n",
              "      fill: #1967D2;\n",
              "      height: 32px;\n",
              "      padding: 0 0 0 0;\n",
              "      width: 32px;\n",
              "    }\n",
              "\n",
              "    .colab-df-convert:hover {\n",
              "      background-color: #E2EBFA;\n",
              "      box-shadow: 0px 1px 2px rgba(60, 64, 67, 0.3), 0px 1px 3px 1px rgba(60, 64, 67, 0.15);\n",
              "      fill: #174EA6;\n",
              "    }\n",
              "\n",
              "    [theme=dark] .colab-df-convert {\n",
              "      background-color: #3B4455;\n",
              "      fill: #D2E3FC;\n",
              "    }\n",
              "\n",
              "    [theme=dark] .colab-df-convert:hover {\n",
              "      background-color: #434B5C;\n",
              "      box-shadow: 0px 1px 3px 1px rgba(0, 0, 0, 0.15);\n",
              "      filter: drop-shadow(0px 1px 2px rgba(0, 0, 0, 0.3));\n",
              "      fill: #FFFFFF;\n",
              "    }\n",
              "  </style>\n",
              "\n",
              "      <script>\n",
              "        const buttonEl =\n",
              "          document.querySelector('#df-21c3598d-67f4-4e55-bc94-92a80b5e2758 button.colab-df-convert');\n",
              "        buttonEl.style.display =\n",
              "          google.colab.kernel.accessAllowed ? 'block' : 'none';\n",
              "\n",
              "        async function convertToInteractive(key) {\n",
              "          const element = document.querySelector('#df-21c3598d-67f4-4e55-bc94-92a80b5e2758');\n",
              "          const dataTable =\n",
              "            await google.colab.kernel.invokeFunction('convertToInteractive',\n",
              "                                                     [key], {});\n",
              "          if (!dataTable) return;\n",
              "\n",
              "          const docLinkHtml = 'Like what you see? Visit the ' +\n",
              "            '<a target=\"_blank\" href=https://colab.research.google.com/notebooks/data_table.ipynb>data table notebook</a>'\n",
              "            + ' to learn more about interactive tables.';\n",
              "          element.innerHTML = '';\n",
              "          dataTable['output_type'] = 'display_data';\n",
              "          await google.colab.output.renderOutput(dataTable, element);\n",
              "          const docLink = document.createElement('div');\n",
              "          docLink.innerHTML = docLinkHtml;\n",
              "          element.appendChild(docLink);\n",
              "        }\n",
              "      </script>\n",
              "    </div>\n",
              "  </div>\n"
            ]
          },
          "metadata": {},
          "execution_count": 5
        }
      ]
    },
    {
      "cell_type": "code",
      "source": [
        "test_data.head()"
      ],
      "metadata": {
        "colab": {
          "base_uri": "https://localhost:8080/",
          "height": 206
        },
        "id": "MV8QyBKF-Amx",
        "outputId": "6ca1966c-06bf-4b8a-814c-b5838f85342f"
      },
      "execution_count": 6,
      "outputs": [
        {
          "output_type": "execute_result",
          "data": {
            "text/plain": [
              "      id                                              title  \\\n",
              "0  20800  Specter of Trump Loosens Tongues, if Not Purse...   \n",
              "1  20801  Russian warships ready to strike terrorists ne...   \n",
              "2  20802  #NoDAPL: Native American Leaders Vow to Stay A...   \n",
              "3  20803  Tim Tebow Will Attempt Another Comeback, This ...   \n",
              "4  20804                    Keiser Report: Meme Wars (E995)   \n",
              "\n",
              "                    author                                               text  \n",
              "0         David Streitfeld  PALO ALTO, Calif.  —   After years of scorning...  \n",
              "1                      NaN  Russian warships ready to strike terrorists ne...  \n",
              "2            Common Dreams  Videos #NoDAPL: Native American Leaders Vow to...  \n",
              "3            Daniel Victor  If at first you don’t succeed, try a different...  \n",
              "4  Truth Broadcast Network  42 mins ago 1 Views 0 Comments 0 Likes 'For th...  "
            ],
            "text/html": [
              "\n",
              "\n",
              "  <div id=\"df-eb231dfc-057c-4ada-9b27-552343380482\">\n",
              "    <div class=\"colab-df-container\">\n",
              "      <div>\n",
              "<style scoped>\n",
              "    .dataframe tbody tr th:only-of-type {\n",
              "        vertical-align: middle;\n",
              "    }\n",
              "\n",
              "    .dataframe tbody tr th {\n",
              "        vertical-align: top;\n",
              "    }\n",
              "\n",
              "    .dataframe thead th {\n",
              "        text-align: right;\n",
              "    }\n",
              "</style>\n",
              "<table border=\"1\" class=\"dataframe\">\n",
              "  <thead>\n",
              "    <tr style=\"text-align: right;\">\n",
              "      <th></th>\n",
              "      <th>id</th>\n",
              "      <th>title</th>\n",
              "      <th>author</th>\n",
              "      <th>text</th>\n",
              "    </tr>\n",
              "  </thead>\n",
              "  <tbody>\n",
              "    <tr>\n",
              "      <th>0</th>\n",
              "      <td>20800</td>\n",
              "      <td>Specter of Trump Loosens Tongues, if Not Purse...</td>\n",
              "      <td>David Streitfeld</td>\n",
              "      <td>PALO ALTO, Calif.  —   After years of scorning...</td>\n",
              "    </tr>\n",
              "    <tr>\n",
              "      <th>1</th>\n",
              "      <td>20801</td>\n",
              "      <td>Russian warships ready to strike terrorists ne...</td>\n",
              "      <td>NaN</td>\n",
              "      <td>Russian warships ready to strike terrorists ne...</td>\n",
              "    </tr>\n",
              "    <tr>\n",
              "      <th>2</th>\n",
              "      <td>20802</td>\n",
              "      <td>#NoDAPL: Native American Leaders Vow to Stay A...</td>\n",
              "      <td>Common Dreams</td>\n",
              "      <td>Videos #NoDAPL: Native American Leaders Vow to...</td>\n",
              "    </tr>\n",
              "    <tr>\n",
              "      <th>3</th>\n",
              "      <td>20803</td>\n",
              "      <td>Tim Tebow Will Attempt Another Comeback, This ...</td>\n",
              "      <td>Daniel Victor</td>\n",
              "      <td>If at first you don’t succeed, try a different...</td>\n",
              "    </tr>\n",
              "    <tr>\n",
              "      <th>4</th>\n",
              "      <td>20804</td>\n",
              "      <td>Keiser Report: Meme Wars (E995)</td>\n",
              "      <td>Truth Broadcast Network</td>\n",
              "      <td>42 mins ago 1 Views 0 Comments 0 Likes 'For th...</td>\n",
              "    </tr>\n",
              "  </tbody>\n",
              "</table>\n",
              "</div>\n",
              "      <button class=\"colab-df-convert\" onclick=\"convertToInteractive('df-eb231dfc-057c-4ada-9b27-552343380482')\"\n",
              "              title=\"Convert this dataframe to an interactive table.\"\n",
              "              style=\"display:none;\">\n",
              "\n",
              "  <svg xmlns=\"http://www.w3.org/2000/svg\" height=\"24px\"viewBox=\"0 0 24 24\"\n",
              "       width=\"24px\">\n",
              "    <path d=\"M0 0h24v24H0V0z\" fill=\"none\"/>\n",
              "    <path d=\"M18.56 5.44l.94 2.06.94-2.06 2.06-.94-2.06-.94-.94-2.06-.94 2.06-2.06.94zm-11 1L8.5 8.5l.94-2.06 2.06-.94-2.06-.94L8.5 2.5l-.94 2.06-2.06.94zm10 10l.94 2.06.94-2.06 2.06-.94-2.06-.94-.94-2.06-.94 2.06-2.06.94z\"/><path d=\"M17.41 7.96l-1.37-1.37c-.4-.4-.92-.59-1.43-.59-.52 0-1.04.2-1.43.59L10.3 9.45l-7.72 7.72c-.78.78-.78 2.05 0 2.83L4 21.41c.39.39.9.59 1.41.59.51 0 1.02-.2 1.41-.59l7.78-7.78 2.81-2.81c.8-.78.8-2.07 0-2.86zM5.41 20L4 18.59l7.72-7.72 1.47 1.35L5.41 20z\"/>\n",
              "  </svg>\n",
              "      </button>\n",
              "\n",
              "\n",
              "\n",
              "    <div id=\"df-f8503fc4-77a4-4421-89ea-843ea079aa47\">\n",
              "      <button class=\"colab-df-quickchart\" onclick=\"quickchart('df-f8503fc4-77a4-4421-89ea-843ea079aa47')\"\n",
              "              title=\"Suggest charts.\"\n",
              "              style=\"display:none;\">\n",
              "\n",
              "<svg xmlns=\"http://www.w3.org/2000/svg\" height=\"24px\"viewBox=\"0 0 24 24\"\n",
              "     width=\"24px\">\n",
              "    <g>\n",
              "        <path d=\"M19 3H5c-1.1 0-2 .9-2 2v14c0 1.1.9 2 2 2h14c1.1 0 2-.9 2-2V5c0-1.1-.9-2-2-2zM9 17H7v-7h2v7zm4 0h-2V7h2v10zm4 0h-2v-4h2v4z\"/>\n",
              "    </g>\n",
              "</svg>\n",
              "      </button>\n",
              "    </div>\n",
              "\n",
              "<style>\n",
              "  .colab-df-quickchart {\n",
              "    background-color: #E8F0FE;\n",
              "    border: none;\n",
              "    border-radius: 50%;\n",
              "    cursor: pointer;\n",
              "    display: none;\n",
              "    fill: #1967D2;\n",
              "    height: 32px;\n",
              "    padding: 0 0 0 0;\n",
              "    width: 32px;\n",
              "  }\n",
              "\n",
              "  .colab-df-quickchart:hover {\n",
              "    background-color: #E2EBFA;\n",
              "    box-shadow: 0px 1px 2px rgba(60, 64, 67, 0.3), 0px 1px 3px 1px rgba(60, 64, 67, 0.15);\n",
              "    fill: #174EA6;\n",
              "  }\n",
              "\n",
              "  [theme=dark] .colab-df-quickchart {\n",
              "    background-color: #3B4455;\n",
              "    fill: #D2E3FC;\n",
              "  }\n",
              "\n",
              "  [theme=dark] .colab-df-quickchart:hover {\n",
              "    background-color: #434B5C;\n",
              "    box-shadow: 0px 1px 3px 1px rgba(0, 0, 0, 0.15);\n",
              "    filter: drop-shadow(0px 1px 2px rgba(0, 0, 0, 0.3));\n",
              "    fill: #FFFFFF;\n",
              "  }\n",
              "</style>\n",
              "\n",
              "    <script>\n",
              "      async function quickchart(key) {\n",
              "        const containerElement = document.querySelector('#' + key);\n",
              "        const charts = await google.colab.kernel.invokeFunction(\n",
              "            'suggestCharts', [key], {});\n",
              "      }\n",
              "    </script>\n",
              "\n",
              "      <script>\n",
              "\n",
              "function displayQuickchartButton(domScope) {\n",
              "  let quickchartButtonEl =\n",
              "    domScope.querySelector('#df-f8503fc4-77a4-4421-89ea-843ea079aa47 button.colab-df-quickchart');\n",
              "  quickchartButtonEl.style.display =\n",
              "    google.colab.kernel.accessAllowed ? 'block' : 'none';\n",
              "}\n",
              "\n",
              "        displayQuickchartButton(document);\n",
              "      </script>\n",
              "      <style>\n",
              "    .colab-df-container {\n",
              "      display:flex;\n",
              "      flex-wrap:wrap;\n",
              "      gap: 12px;\n",
              "    }\n",
              "\n",
              "    .colab-df-convert {\n",
              "      background-color: #E8F0FE;\n",
              "      border: none;\n",
              "      border-radius: 50%;\n",
              "      cursor: pointer;\n",
              "      display: none;\n",
              "      fill: #1967D2;\n",
              "      height: 32px;\n",
              "      padding: 0 0 0 0;\n",
              "      width: 32px;\n",
              "    }\n",
              "\n",
              "    .colab-df-convert:hover {\n",
              "      background-color: #E2EBFA;\n",
              "      box-shadow: 0px 1px 2px rgba(60, 64, 67, 0.3), 0px 1px 3px 1px rgba(60, 64, 67, 0.15);\n",
              "      fill: #174EA6;\n",
              "    }\n",
              "\n",
              "    [theme=dark] .colab-df-convert {\n",
              "      background-color: #3B4455;\n",
              "      fill: #D2E3FC;\n",
              "    }\n",
              "\n",
              "    [theme=dark] .colab-df-convert:hover {\n",
              "      background-color: #434B5C;\n",
              "      box-shadow: 0px 1px 3px 1px rgba(0, 0, 0, 0.15);\n",
              "      filter: drop-shadow(0px 1px 2px rgba(0, 0, 0, 0.3));\n",
              "      fill: #FFFFFF;\n",
              "    }\n",
              "  </style>\n",
              "\n",
              "      <script>\n",
              "        const buttonEl =\n",
              "          document.querySelector('#df-eb231dfc-057c-4ada-9b27-552343380482 button.colab-df-convert');\n",
              "        buttonEl.style.display =\n",
              "          google.colab.kernel.accessAllowed ? 'block' : 'none';\n",
              "\n",
              "        async function convertToInteractive(key) {\n",
              "          const element = document.querySelector('#df-eb231dfc-057c-4ada-9b27-552343380482');\n",
              "          const dataTable =\n",
              "            await google.colab.kernel.invokeFunction('convertToInteractive',\n",
              "                                                     [key], {});\n",
              "          if (!dataTable) return;\n",
              "\n",
              "          const docLinkHtml = 'Like what you see? Visit the ' +\n",
              "            '<a target=\"_blank\" href=https://colab.research.google.com/notebooks/data_table.ipynb>data table notebook</a>'\n",
              "            + ' to learn more about interactive tables.';\n",
              "          element.innerHTML = '';\n",
              "          dataTable['output_type'] = 'display_data';\n",
              "          await google.colab.output.renderOutput(dataTable, element);\n",
              "          const docLink = document.createElement('div');\n",
              "          docLink.innerHTML = docLinkHtml;\n",
              "          element.appendChild(docLink);\n",
              "        }\n",
              "      </script>\n",
              "    </div>\n",
              "  </div>\n"
            ]
          },
          "metadata": {},
          "execution_count": 6
        }
      ]
    },
    {
      "cell_type": "markdown",
      "source": [
        "# Checking missing values"
      ],
      "metadata": {
        "id": "OU7d_mkvBfvm"
      }
    },
    {
      "cell_type": "code",
      "source": [
        "train_data.isnull().sum()"
      ],
      "metadata": {
        "colab": {
          "base_uri": "https://localhost:8080/"
        },
        "id": "Lr7-eudC-xqA",
        "outputId": "feedcfd8-48b1-46f4-d28b-af26e9a4e21b"
      },
      "execution_count": 7,
      "outputs": [
        {
          "output_type": "execute_result",
          "data": {
            "text/plain": [
              "id           0\n",
              "title      558\n",
              "author    1957\n",
              "text        39\n",
              "label        0\n",
              "dtype: int64"
            ]
          },
          "metadata": {},
          "execution_count": 7
        }
      ]
    },
    {
      "cell_type": "code",
      "source": [
        "test_data.isna().sum()"
      ],
      "metadata": {
        "colab": {
          "base_uri": "https://localhost:8080/"
        },
        "id": "Dr6kLtiB-8Lv",
        "outputId": "cd86e57f-9a8f-4bf7-ee85-b0943263e35f"
      },
      "execution_count": 8,
      "outputs": [
        {
          "output_type": "execute_result",
          "data": {
            "text/plain": [
              "id          0\n",
              "title     122\n",
              "author    503\n",
              "text        7\n",
              "dtype: int64"
            ]
          },
          "metadata": {},
          "execution_count": 8
        }
      ]
    },
    {
      "cell_type": "code",
      "source": [
        "test_data.info()"
      ],
      "metadata": {
        "colab": {
          "base_uri": "https://localhost:8080/"
        },
        "id": "yMzPolYtAOo-",
        "outputId": "1ec9c501-a8cd-490e-f931-afa96c27e96c"
      },
      "execution_count": 9,
      "outputs": [
        {
          "output_type": "stream",
          "name": "stdout",
          "text": [
            "<class 'pandas.core.frame.DataFrame'>\n",
            "RangeIndex: 5200 entries, 0 to 5199\n",
            "Data columns (total 4 columns):\n",
            " #   Column  Non-Null Count  Dtype \n",
            "---  ------  --------------  ----- \n",
            " 0   id      5200 non-null   int64 \n",
            " 1   title   5078 non-null   object\n",
            " 2   author  4697 non-null   object\n",
            " 3   text    5193 non-null   object\n",
            "dtypes: int64(1), object(3)\n",
            "memory usage: 162.6+ KB\n"
          ]
        }
      ]
    },
    {
      "cell_type": "code",
      "source": [
        "train_data['title'].info()"
      ],
      "metadata": {
        "colab": {
          "base_uri": "https://localhost:8080/"
        },
        "id": "aDtjG8dZAXNh",
        "outputId": "08424fbe-4681-4cf7-9207-e0d64c51ad17"
      },
      "execution_count": 10,
      "outputs": [
        {
          "output_type": "stream",
          "name": "stdout",
          "text": [
            "<class 'pandas.core.series.Series'>\n",
            "RangeIndex: 20800 entries, 0 to 20799\n",
            "Series name: title\n",
            "Non-Null Count  Dtype \n",
            "--------------  ----- \n",
            "20242 non-null  object\n",
            "dtypes: object(1)\n",
            "memory usage: 162.6+ KB\n"
          ]
        }
      ]
    },
    {
      "cell_type": "markdown",
      "source": [
        "# Fill the Missing values"
      ],
      "metadata": {
        "id": "0oAYauHM_CXP"
      }
    },
    {
      "cell_type": "code",
      "source": [
        "train_df = train_data.fillna(' ')\n",
        "test_df = test_data.fillna(' ')"
      ],
      "metadata": {
        "id": "cQ7rPYPwAo1U"
      },
      "execution_count": 11,
      "outputs": []
    },
    {
      "cell_type": "code",
      "source": [
        "train_df.isna().sum()"
      ],
      "metadata": {
        "colab": {
          "base_uri": "https://localhost:8080/"
        },
        "id": "6s_9T4NOBpgX",
        "outputId": "b5b90e98-2583-46b5-cbc6-eea53b40483a"
      },
      "execution_count": 12,
      "outputs": [
        {
          "output_type": "execute_result",
          "data": {
            "text/plain": [
              "id        0\n",
              "title     0\n",
              "author    0\n",
              "text      0\n",
              "label     0\n",
              "dtype: int64"
            ]
          },
          "metadata": {},
          "execution_count": 12
        }
      ]
    },
    {
      "cell_type": "code",
      "source": [
        "test_df.isna().sum()"
      ],
      "metadata": {
        "colab": {
          "base_uri": "https://localhost:8080/"
        },
        "id": "PudaSs1qB6En",
        "outputId": "b6db64bb-7f07-44f7-9c3f-c95914e39bc4"
      },
      "execution_count": 13,
      "outputs": [
        {
          "output_type": "execute_result",
          "data": {
            "text/plain": [
              "id        0\n",
              "title     0\n",
              "author    0\n",
              "text      0\n",
              "dtype: int64"
            ]
          },
          "metadata": {},
          "execution_count": 13
        }
      ]
    },
    {
      "cell_type": "markdown",
      "source": [
        "# Joining the important columns to use in the project"
      ],
      "metadata": {
        "id": "zSZkRW0SCFPM"
      }
    },
    {
      "cell_type": "code",
      "source": [
        "train_df.columns"
      ],
      "metadata": {
        "colab": {
          "base_uri": "https://localhost:8080/"
        },
        "id": "CgTzXAUYCg-l",
        "outputId": "c7b6b7bd-4783-4678-8e1e-0def648c59bc"
      },
      "execution_count": 14,
      "outputs": [
        {
          "output_type": "execute_result",
          "data": {
            "text/plain": [
              "Index(['id', 'title', 'author', 'text', 'label'], dtype='object')"
            ]
          },
          "metadata": {},
          "execution_count": 14
        }
      ]
    },
    {
      "cell_type": "code",
      "source": [
        "test_df.columns"
      ],
      "metadata": {
        "colab": {
          "base_uri": "https://localhost:8080/"
        },
        "id": "e6iS5vRMDZOF",
        "outputId": "25401873-41bc-4659-da42-2c922c5ffa44"
      },
      "execution_count": 15,
      "outputs": [
        {
          "output_type": "execute_result",
          "data": {
            "text/plain": [
              "Index(['id', 'title', 'author', 'text'], dtype='object')"
            ]
          },
          "metadata": {},
          "execution_count": 15
        }
      ]
    },
    {
      "cell_type": "code",
      "source": [
        "train_df['all_info'] = train_df['author'] + train_df['title'] + train_df['text']\n",
        "test_df['all_info'] = test_df['author'] + test_df['title'] + test_df['text']"
      ],
      "metadata": {
        "id": "z7m88OB9CVhp"
      },
      "execution_count": 16,
      "outputs": []
    },
    {
      "cell_type": "code",
      "source": [
        "train_df.head()"
      ],
      "metadata": {
        "colab": {
          "base_uri": "https://localhost:8080/",
          "height": 250
        },
        "id": "VNFYvhQkDrA8",
        "outputId": "e45fe250-bdaa-4a1b-9993-ef7d9413cf32"
      },
      "execution_count": 17,
      "outputs": [
        {
          "output_type": "execute_result",
          "data": {
            "text/plain": [
              "   id                                              title              author  \\\n",
              "0   0  House Dem Aide: We Didn’t Even See Comey’s Let...       Darrell Lucus   \n",
              "1   1  FLYNN: Hillary Clinton, Big Woman on Campus - ...     Daniel J. Flynn   \n",
              "2   2                  Why the Truth Might Get You Fired  Consortiumnews.com   \n",
              "3   3  15 Civilians Killed In Single US Airstrike Hav...     Jessica Purkiss   \n",
              "4   4  Iranian woman jailed for fictional unpublished...      Howard Portnoy   \n",
              "\n",
              "                                                text  label  \\\n",
              "0  House Dem Aide: We Didn’t Even See Comey’s Let...      1   \n",
              "1  Ever get the feeling your life circles the rou...      0   \n",
              "2  Why the Truth Might Get You Fired October 29, ...      1   \n",
              "3  Videos 15 Civilians Killed In Single US Airstr...      1   \n",
              "4  Print \\nAn Iranian woman has been sentenced to...      1   \n",
              "\n",
              "                                            all_info  \n",
              "0  Darrell LucusHouse Dem Aide: We Didn’t Even Se...  \n",
              "1  Daniel J. FlynnFLYNN: Hillary Clinton, Big Wom...  \n",
              "2  Consortiumnews.comWhy the Truth Might Get You ...  \n",
              "3  Jessica Purkiss15 Civilians Killed In Single U...  \n",
              "4  Howard PortnoyIranian woman jailed for fiction...  "
            ],
            "text/html": [
              "\n",
              "\n",
              "  <div id=\"df-59138772-6b18-4a38-bd07-25c0d0b6662c\">\n",
              "    <div class=\"colab-df-container\">\n",
              "      <div>\n",
              "<style scoped>\n",
              "    .dataframe tbody tr th:only-of-type {\n",
              "        vertical-align: middle;\n",
              "    }\n",
              "\n",
              "    .dataframe tbody tr th {\n",
              "        vertical-align: top;\n",
              "    }\n",
              "\n",
              "    .dataframe thead th {\n",
              "        text-align: right;\n",
              "    }\n",
              "</style>\n",
              "<table border=\"1\" class=\"dataframe\">\n",
              "  <thead>\n",
              "    <tr style=\"text-align: right;\">\n",
              "      <th></th>\n",
              "      <th>id</th>\n",
              "      <th>title</th>\n",
              "      <th>author</th>\n",
              "      <th>text</th>\n",
              "      <th>label</th>\n",
              "      <th>all_info</th>\n",
              "    </tr>\n",
              "  </thead>\n",
              "  <tbody>\n",
              "    <tr>\n",
              "      <th>0</th>\n",
              "      <td>0</td>\n",
              "      <td>House Dem Aide: We Didn’t Even See Comey’s Let...</td>\n",
              "      <td>Darrell Lucus</td>\n",
              "      <td>House Dem Aide: We Didn’t Even See Comey’s Let...</td>\n",
              "      <td>1</td>\n",
              "      <td>Darrell LucusHouse Dem Aide: We Didn’t Even Se...</td>\n",
              "    </tr>\n",
              "    <tr>\n",
              "      <th>1</th>\n",
              "      <td>1</td>\n",
              "      <td>FLYNN: Hillary Clinton, Big Woman on Campus - ...</td>\n",
              "      <td>Daniel J. Flynn</td>\n",
              "      <td>Ever get the feeling your life circles the rou...</td>\n",
              "      <td>0</td>\n",
              "      <td>Daniel J. FlynnFLYNN: Hillary Clinton, Big Wom...</td>\n",
              "    </tr>\n",
              "    <tr>\n",
              "      <th>2</th>\n",
              "      <td>2</td>\n",
              "      <td>Why the Truth Might Get You Fired</td>\n",
              "      <td>Consortiumnews.com</td>\n",
              "      <td>Why the Truth Might Get You Fired October 29, ...</td>\n",
              "      <td>1</td>\n",
              "      <td>Consortiumnews.comWhy the Truth Might Get You ...</td>\n",
              "    </tr>\n",
              "    <tr>\n",
              "      <th>3</th>\n",
              "      <td>3</td>\n",
              "      <td>15 Civilians Killed In Single US Airstrike Hav...</td>\n",
              "      <td>Jessica Purkiss</td>\n",
              "      <td>Videos 15 Civilians Killed In Single US Airstr...</td>\n",
              "      <td>1</td>\n",
              "      <td>Jessica Purkiss15 Civilians Killed In Single U...</td>\n",
              "    </tr>\n",
              "    <tr>\n",
              "      <th>4</th>\n",
              "      <td>4</td>\n",
              "      <td>Iranian woman jailed for fictional unpublished...</td>\n",
              "      <td>Howard Portnoy</td>\n",
              "      <td>Print \\nAn Iranian woman has been sentenced to...</td>\n",
              "      <td>1</td>\n",
              "      <td>Howard PortnoyIranian woman jailed for fiction...</td>\n",
              "    </tr>\n",
              "  </tbody>\n",
              "</table>\n",
              "</div>\n",
              "      <button class=\"colab-df-convert\" onclick=\"convertToInteractive('df-59138772-6b18-4a38-bd07-25c0d0b6662c')\"\n",
              "              title=\"Convert this dataframe to an interactive table.\"\n",
              "              style=\"display:none;\">\n",
              "\n",
              "  <svg xmlns=\"http://www.w3.org/2000/svg\" height=\"24px\"viewBox=\"0 0 24 24\"\n",
              "       width=\"24px\">\n",
              "    <path d=\"M0 0h24v24H0V0z\" fill=\"none\"/>\n",
              "    <path d=\"M18.56 5.44l.94 2.06.94-2.06 2.06-.94-2.06-.94-.94-2.06-.94 2.06-2.06.94zm-11 1L8.5 8.5l.94-2.06 2.06-.94-2.06-.94L8.5 2.5l-.94 2.06-2.06.94zm10 10l.94 2.06.94-2.06 2.06-.94-2.06-.94-.94-2.06-.94 2.06-2.06.94z\"/><path d=\"M17.41 7.96l-1.37-1.37c-.4-.4-.92-.59-1.43-.59-.52 0-1.04.2-1.43.59L10.3 9.45l-7.72 7.72c-.78.78-.78 2.05 0 2.83L4 21.41c.39.39.9.59 1.41.59.51 0 1.02-.2 1.41-.59l7.78-7.78 2.81-2.81c.8-.78.8-2.07 0-2.86zM5.41 20L4 18.59l7.72-7.72 1.47 1.35L5.41 20z\"/>\n",
              "  </svg>\n",
              "      </button>\n",
              "\n",
              "\n",
              "\n",
              "    <div id=\"df-1fef6630-e894-4776-b674-328b9821cb28\">\n",
              "      <button class=\"colab-df-quickchart\" onclick=\"quickchart('df-1fef6630-e894-4776-b674-328b9821cb28')\"\n",
              "              title=\"Suggest charts.\"\n",
              "              style=\"display:none;\">\n",
              "\n",
              "<svg xmlns=\"http://www.w3.org/2000/svg\" height=\"24px\"viewBox=\"0 0 24 24\"\n",
              "     width=\"24px\">\n",
              "    <g>\n",
              "        <path d=\"M19 3H5c-1.1 0-2 .9-2 2v14c0 1.1.9 2 2 2h14c1.1 0 2-.9 2-2V5c0-1.1-.9-2-2-2zM9 17H7v-7h2v7zm4 0h-2V7h2v10zm4 0h-2v-4h2v4z\"/>\n",
              "    </g>\n",
              "</svg>\n",
              "      </button>\n",
              "    </div>\n",
              "\n",
              "<style>\n",
              "  .colab-df-quickchart {\n",
              "    background-color: #E8F0FE;\n",
              "    border: none;\n",
              "    border-radius: 50%;\n",
              "    cursor: pointer;\n",
              "    display: none;\n",
              "    fill: #1967D2;\n",
              "    height: 32px;\n",
              "    padding: 0 0 0 0;\n",
              "    width: 32px;\n",
              "  }\n",
              "\n",
              "  .colab-df-quickchart:hover {\n",
              "    background-color: #E2EBFA;\n",
              "    box-shadow: 0px 1px 2px rgba(60, 64, 67, 0.3), 0px 1px 3px 1px rgba(60, 64, 67, 0.15);\n",
              "    fill: #174EA6;\n",
              "  }\n",
              "\n",
              "  [theme=dark] .colab-df-quickchart {\n",
              "    background-color: #3B4455;\n",
              "    fill: #D2E3FC;\n",
              "  }\n",
              "\n",
              "  [theme=dark] .colab-df-quickchart:hover {\n",
              "    background-color: #434B5C;\n",
              "    box-shadow: 0px 1px 3px 1px rgba(0, 0, 0, 0.15);\n",
              "    filter: drop-shadow(0px 1px 2px rgba(0, 0, 0, 0.3));\n",
              "    fill: #FFFFFF;\n",
              "  }\n",
              "</style>\n",
              "\n",
              "    <script>\n",
              "      async function quickchart(key) {\n",
              "        const containerElement = document.querySelector('#' + key);\n",
              "        const charts = await google.colab.kernel.invokeFunction(\n",
              "            'suggestCharts', [key], {});\n",
              "      }\n",
              "    </script>\n",
              "\n",
              "      <script>\n",
              "\n",
              "function displayQuickchartButton(domScope) {\n",
              "  let quickchartButtonEl =\n",
              "    domScope.querySelector('#df-1fef6630-e894-4776-b674-328b9821cb28 button.colab-df-quickchart');\n",
              "  quickchartButtonEl.style.display =\n",
              "    google.colab.kernel.accessAllowed ? 'block' : 'none';\n",
              "}\n",
              "\n",
              "        displayQuickchartButton(document);\n",
              "      </script>\n",
              "      <style>\n",
              "    .colab-df-container {\n",
              "      display:flex;\n",
              "      flex-wrap:wrap;\n",
              "      gap: 12px;\n",
              "    }\n",
              "\n",
              "    .colab-df-convert {\n",
              "      background-color: #E8F0FE;\n",
              "      border: none;\n",
              "      border-radius: 50%;\n",
              "      cursor: pointer;\n",
              "      display: none;\n",
              "      fill: #1967D2;\n",
              "      height: 32px;\n",
              "      padding: 0 0 0 0;\n",
              "      width: 32px;\n",
              "    }\n",
              "\n",
              "    .colab-df-convert:hover {\n",
              "      background-color: #E2EBFA;\n",
              "      box-shadow: 0px 1px 2px rgba(60, 64, 67, 0.3), 0px 1px 3px 1px rgba(60, 64, 67, 0.15);\n",
              "      fill: #174EA6;\n",
              "    }\n",
              "\n",
              "    [theme=dark] .colab-df-convert {\n",
              "      background-color: #3B4455;\n",
              "      fill: #D2E3FC;\n",
              "    }\n",
              "\n",
              "    [theme=dark] .colab-df-convert:hover {\n",
              "      background-color: #434B5C;\n",
              "      box-shadow: 0px 1px 3px 1px rgba(0, 0, 0, 0.15);\n",
              "      filter: drop-shadow(0px 1px 2px rgba(0, 0, 0, 0.3));\n",
              "      fill: #FFFFFF;\n",
              "    }\n",
              "  </style>\n",
              "\n",
              "      <script>\n",
              "        const buttonEl =\n",
              "          document.querySelector('#df-59138772-6b18-4a38-bd07-25c0d0b6662c button.colab-df-convert');\n",
              "        buttonEl.style.display =\n",
              "          google.colab.kernel.accessAllowed ? 'block' : 'none';\n",
              "\n",
              "        async function convertToInteractive(key) {\n",
              "          const element = document.querySelector('#df-59138772-6b18-4a38-bd07-25c0d0b6662c');\n",
              "          const dataTable =\n",
              "            await google.colab.kernel.invokeFunction('convertToInteractive',\n",
              "                                                     [key], {});\n",
              "          if (!dataTable) return;\n",
              "\n",
              "          const docLinkHtml = 'Like what you see? Visit the ' +\n",
              "            '<a target=\"_blank\" href=https://colab.research.google.com/notebooks/data_table.ipynb>data table notebook</a>'\n",
              "            + ' to learn more about interactive tables.';\n",
              "          element.innerHTML = '';\n",
              "          dataTable['output_type'] = 'display_data';\n",
              "          await google.colab.output.renderOutput(dataTable, element);\n",
              "          const docLink = document.createElement('div');\n",
              "          docLink.innerHTML = docLinkHtml;\n",
              "          element.appendChild(docLink);\n",
              "        }\n",
              "      </script>\n",
              "    </div>\n",
              "  </div>\n"
            ]
          },
          "metadata": {},
          "execution_count": 17
        }
      ]
    },
    {
      "cell_type": "code",
      "source": [
        "test_df.head()"
      ],
      "metadata": {
        "colab": {
          "base_uri": "https://localhost:8080/",
          "height": 250
        },
        "id": "xr0A7ovqDtXk",
        "outputId": "9b923ab3-161f-4e30-de9a-389ca1025922"
      },
      "execution_count": 18,
      "outputs": [
        {
          "output_type": "execute_result",
          "data": {
            "text/plain": [
              "      id                                              title  \\\n",
              "0  20800  Specter of Trump Loosens Tongues, if Not Purse...   \n",
              "1  20801  Russian warships ready to strike terrorists ne...   \n",
              "2  20802  #NoDAPL: Native American Leaders Vow to Stay A...   \n",
              "3  20803  Tim Tebow Will Attempt Another Comeback, This ...   \n",
              "4  20804                    Keiser Report: Meme Wars (E995)   \n",
              "\n",
              "                    author                                               text  \\\n",
              "0         David Streitfeld  PALO ALTO, Calif.  —   After years of scorning...   \n",
              "1                           Russian warships ready to strike terrorists ne...   \n",
              "2            Common Dreams  Videos #NoDAPL: Native American Leaders Vow to...   \n",
              "3            Daniel Victor  If at first you don’t succeed, try a different...   \n",
              "4  Truth Broadcast Network  42 mins ago 1 Views 0 Comments 0 Likes 'For th...   \n",
              "\n",
              "                                            all_info  \n",
              "0  David StreitfeldSpecter of Trump Loosens Tongu...  \n",
              "1   Russian warships ready to strike terrorists n...  \n",
              "2  Common Dreams#NoDAPL: Native American Leaders ...  \n",
              "3  Daniel VictorTim Tebow Will Attempt Another Co...  \n",
              "4  Truth Broadcast NetworkKeiser Report: Meme War...  "
            ],
            "text/html": [
              "\n",
              "\n",
              "  <div id=\"df-b8546769-83f6-4ef8-87b2-7485b0c9caf9\">\n",
              "    <div class=\"colab-df-container\">\n",
              "      <div>\n",
              "<style scoped>\n",
              "    .dataframe tbody tr th:only-of-type {\n",
              "        vertical-align: middle;\n",
              "    }\n",
              "\n",
              "    .dataframe tbody tr th {\n",
              "        vertical-align: top;\n",
              "    }\n",
              "\n",
              "    .dataframe thead th {\n",
              "        text-align: right;\n",
              "    }\n",
              "</style>\n",
              "<table border=\"1\" class=\"dataframe\">\n",
              "  <thead>\n",
              "    <tr style=\"text-align: right;\">\n",
              "      <th></th>\n",
              "      <th>id</th>\n",
              "      <th>title</th>\n",
              "      <th>author</th>\n",
              "      <th>text</th>\n",
              "      <th>all_info</th>\n",
              "    </tr>\n",
              "  </thead>\n",
              "  <tbody>\n",
              "    <tr>\n",
              "      <th>0</th>\n",
              "      <td>20800</td>\n",
              "      <td>Specter of Trump Loosens Tongues, if Not Purse...</td>\n",
              "      <td>David Streitfeld</td>\n",
              "      <td>PALO ALTO, Calif.  —   After years of scorning...</td>\n",
              "      <td>David StreitfeldSpecter of Trump Loosens Tongu...</td>\n",
              "    </tr>\n",
              "    <tr>\n",
              "      <th>1</th>\n",
              "      <td>20801</td>\n",
              "      <td>Russian warships ready to strike terrorists ne...</td>\n",
              "      <td></td>\n",
              "      <td>Russian warships ready to strike terrorists ne...</td>\n",
              "      <td>Russian warships ready to strike terrorists n...</td>\n",
              "    </tr>\n",
              "    <tr>\n",
              "      <th>2</th>\n",
              "      <td>20802</td>\n",
              "      <td>#NoDAPL: Native American Leaders Vow to Stay A...</td>\n",
              "      <td>Common Dreams</td>\n",
              "      <td>Videos #NoDAPL: Native American Leaders Vow to...</td>\n",
              "      <td>Common Dreams#NoDAPL: Native American Leaders ...</td>\n",
              "    </tr>\n",
              "    <tr>\n",
              "      <th>3</th>\n",
              "      <td>20803</td>\n",
              "      <td>Tim Tebow Will Attempt Another Comeback, This ...</td>\n",
              "      <td>Daniel Victor</td>\n",
              "      <td>If at first you don’t succeed, try a different...</td>\n",
              "      <td>Daniel VictorTim Tebow Will Attempt Another Co...</td>\n",
              "    </tr>\n",
              "    <tr>\n",
              "      <th>4</th>\n",
              "      <td>20804</td>\n",
              "      <td>Keiser Report: Meme Wars (E995)</td>\n",
              "      <td>Truth Broadcast Network</td>\n",
              "      <td>42 mins ago 1 Views 0 Comments 0 Likes 'For th...</td>\n",
              "      <td>Truth Broadcast NetworkKeiser Report: Meme War...</td>\n",
              "    </tr>\n",
              "  </tbody>\n",
              "</table>\n",
              "</div>\n",
              "      <button class=\"colab-df-convert\" onclick=\"convertToInteractive('df-b8546769-83f6-4ef8-87b2-7485b0c9caf9')\"\n",
              "              title=\"Convert this dataframe to an interactive table.\"\n",
              "              style=\"display:none;\">\n",
              "\n",
              "  <svg xmlns=\"http://www.w3.org/2000/svg\" height=\"24px\"viewBox=\"0 0 24 24\"\n",
              "       width=\"24px\">\n",
              "    <path d=\"M0 0h24v24H0V0z\" fill=\"none\"/>\n",
              "    <path d=\"M18.56 5.44l.94 2.06.94-2.06 2.06-.94-2.06-.94-.94-2.06-.94 2.06-2.06.94zm-11 1L8.5 8.5l.94-2.06 2.06-.94-2.06-.94L8.5 2.5l-.94 2.06-2.06.94zm10 10l.94 2.06.94-2.06 2.06-.94-2.06-.94-.94-2.06-.94 2.06-2.06.94z\"/><path d=\"M17.41 7.96l-1.37-1.37c-.4-.4-.92-.59-1.43-.59-.52 0-1.04.2-1.43.59L10.3 9.45l-7.72 7.72c-.78.78-.78 2.05 0 2.83L4 21.41c.39.39.9.59 1.41.59.51 0 1.02-.2 1.41-.59l7.78-7.78 2.81-2.81c.8-.78.8-2.07 0-2.86zM5.41 20L4 18.59l7.72-7.72 1.47 1.35L5.41 20z\"/>\n",
              "  </svg>\n",
              "      </button>\n",
              "\n",
              "\n",
              "\n",
              "    <div id=\"df-c646d006-52a6-4ddd-a4c4-919a9975ffa4\">\n",
              "      <button class=\"colab-df-quickchart\" onclick=\"quickchart('df-c646d006-52a6-4ddd-a4c4-919a9975ffa4')\"\n",
              "              title=\"Suggest charts.\"\n",
              "              style=\"display:none;\">\n",
              "\n",
              "<svg xmlns=\"http://www.w3.org/2000/svg\" height=\"24px\"viewBox=\"0 0 24 24\"\n",
              "     width=\"24px\">\n",
              "    <g>\n",
              "        <path d=\"M19 3H5c-1.1 0-2 .9-2 2v14c0 1.1.9 2 2 2h14c1.1 0 2-.9 2-2V5c0-1.1-.9-2-2-2zM9 17H7v-7h2v7zm4 0h-2V7h2v10zm4 0h-2v-4h2v4z\"/>\n",
              "    </g>\n",
              "</svg>\n",
              "      </button>\n",
              "    </div>\n",
              "\n",
              "<style>\n",
              "  .colab-df-quickchart {\n",
              "    background-color: #E8F0FE;\n",
              "    border: none;\n",
              "    border-radius: 50%;\n",
              "    cursor: pointer;\n",
              "    display: none;\n",
              "    fill: #1967D2;\n",
              "    height: 32px;\n",
              "    padding: 0 0 0 0;\n",
              "    width: 32px;\n",
              "  }\n",
              "\n",
              "  .colab-df-quickchart:hover {\n",
              "    background-color: #E2EBFA;\n",
              "    box-shadow: 0px 1px 2px rgba(60, 64, 67, 0.3), 0px 1px 3px 1px rgba(60, 64, 67, 0.15);\n",
              "    fill: #174EA6;\n",
              "  }\n",
              "\n",
              "  [theme=dark] .colab-df-quickchart {\n",
              "    background-color: #3B4455;\n",
              "    fill: #D2E3FC;\n",
              "  }\n",
              "\n",
              "  [theme=dark] .colab-df-quickchart:hover {\n",
              "    background-color: #434B5C;\n",
              "    box-shadow: 0px 1px 3px 1px rgba(0, 0, 0, 0.15);\n",
              "    filter: drop-shadow(0px 1px 2px rgba(0, 0, 0, 0.3));\n",
              "    fill: #FFFFFF;\n",
              "  }\n",
              "</style>\n",
              "\n",
              "    <script>\n",
              "      async function quickchart(key) {\n",
              "        const containerElement = document.querySelector('#' + key);\n",
              "        const charts = await google.colab.kernel.invokeFunction(\n",
              "            'suggestCharts', [key], {});\n",
              "      }\n",
              "    </script>\n",
              "\n",
              "      <script>\n",
              "\n",
              "function displayQuickchartButton(domScope) {\n",
              "  let quickchartButtonEl =\n",
              "    domScope.querySelector('#df-c646d006-52a6-4ddd-a4c4-919a9975ffa4 button.colab-df-quickchart');\n",
              "  quickchartButtonEl.style.display =\n",
              "    google.colab.kernel.accessAllowed ? 'block' : 'none';\n",
              "}\n",
              "\n",
              "        displayQuickchartButton(document);\n",
              "      </script>\n",
              "      <style>\n",
              "    .colab-df-container {\n",
              "      display:flex;\n",
              "      flex-wrap:wrap;\n",
              "      gap: 12px;\n",
              "    }\n",
              "\n",
              "    .colab-df-convert {\n",
              "      background-color: #E8F0FE;\n",
              "      border: none;\n",
              "      border-radius: 50%;\n",
              "      cursor: pointer;\n",
              "      display: none;\n",
              "      fill: #1967D2;\n",
              "      height: 32px;\n",
              "      padding: 0 0 0 0;\n",
              "      width: 32px;\n",
              "    }\n",
              "\n",
              "    .colab-df-convert:hover {\n",
              "      background-color: #E2EBFA;\n",
              "      box-shadow: 0px 1px 2px rgba(60, 64, 67, 0.3), 0px 1px 3px 1px rgba(60, 64, 67, 0.15);\n",
              "      fill: #174EA6;\n",
              "    }\n",
              "\n",
              "    [theme=dark] .colab-df-convert {\n",
              "      background-color: #3B4455;\n",
              "      fill: #D2E3FC;\n",
              "    }\n",
              "\n",
              "    [theme=dark] .colab-df-convert:hover {\n",
              "      background-color: #434B5C;\n",
              "      box-shadow: 0px 1px 3px 1px rgba(0, 0, 0, 0.15);\n",
              "      filter: drop-shadow(0px 1px 2px rgba(0, 0, 0, 0.3));\n",
              "      fill: #FFFFFF;\n",
              "    }\n",
              "  </style>\n",
              "\n",
              "      <script>\n",
              "        const buttonEl =\n",
              "          document.querySelector('#df-b8546769-83f6-4ef8-87b2-7485b0c9caf9 button.colab-df-convert');\n",
              "        buttonEl.style.display =\n",
              "          google.colab.kernel.accessAllowed ? 'block' : 'none';\n",
              "\n",
              "        async function convertToInteractive(key) {\n",
              "          const element = document.querySelector('#df-b8546769-83f6-4ef8-87b2-7485b0c9caf9');\n",
              "          const dataTable =\n",
              "            await google.colab.kernel.invokeFunction('convertToInteractive',\n",
              "                                                     [key], {});\n",
              "          if (!dataTable) return;\n",
              "\n",
              "          const docLinkHtml = 'Like what you see? Visit the ' +\n",
              "            '<a target=\"_blank\" href=https://colab.research.google.com/notebooks/data_table.ipynb>data table notebook</a>'\n",
              "            + ' to learn more about interactive tables.';\n",
              "          element.innerHTML = '';\n",
              "          dataTable['output_type'] = 'display_data';\n",
              "          await google.colab.output.renderOutput(dataTable, element);\n",
              "          const docLink = document.createElement('div');\n",
              "          docLink.innerHTML = docLinkHtml;\n",
              "          element.appendChild(docLink);\n",
              "        }\n",
              "      </script>\n",
              "    </div>\n",
              "  </div>\n"
            ]
          },
          "metadata": {},
          "execution_count": 18
        }
      ]
    },
    {
      "cell_type": "markdown",
      "source": [
        "# Tokenize and prepare text data"
      ],
      "metadata": {
        "id": "Z4TMznifDyVt"
      }
    },
    {
      "cell_type": "markdown",
      "source": [
        "Tokenization is a fundamental preprocessing step in natural language processing (NLP) that involves breaking down a text into smaller units called tokens. These tokens can be words, subwords, or even characters, depending on the specific tokenization strategy used. The purpose of tokenization is to convert human-readable text into a format that can be easily processed by computers and used for various NLP tasks. Here's why tokenization is important and what it achieves:\n",
        "\n",
        "1. **Text Segmentation**: Tokenization divides a continuous stream of text into discrete units, making it easier to handle and analyze. In English, tokens are often words, so tokenization separates sentences into individual words.\n",
        "\n",
        "2. **Vocabulary Creation**: Tokenization builds a vocabulary or dictionary of unique tokens in the text. This vocabulary can be used to map tokens to numerical indices, allowing text data to be represented numerically for machine learning algorithms.\n",
        "\n",
        "3. **Dimensionality Reduction**: By representing words as tokens, tokenization reduces the dimensionality of the text data. This is important for efficient storage and processing of large text corpora.\n",
        "\n",
        "4. **Feature Extraction**: Tokenization is a crucial step in extracting features from text data that can be used as input for various NLP tasks, such as sentiment analysis, machine translation, text generation, and more.\n",
        "\n",
        "5. **Text Normalization**: Tokenization often includes text normalization, which involves converting text to lowercase, removing punctuation, handling contractions, and other steps to standardize the text.\n",
        "\n",
        "6. **Out-of-Vocabulary Handling**: Tokenization can also handle out-of-vocabulary words (words not in the pre-defined vocabulary) by assigning a special token (like \"<OOV>\") to represent them.\n",
        "\n",
        "7. **Efficient Processing**: Once tokenized, text data can be efficiently processed using numerical operations, and it can be easily fed into machine learning models.\n",
        "\n",
        "For example, consider the sentence: \"ChatGPT is an AI language model.\" After tokenization, this sentence might be represented as the sequence of tokens: [\"ChatGPT\", \"is\", \"an\", \"AI\", \"language\", \"model\", \".\"].\n",
        "\n",
        "Tokenization is a foundational step in many NLP tasks and is a prerequisite for tasks such as text classification, named entity recognition, part-of-speech tagging, and more. Different NLP libraries and tools provide various tokenization techniques to suit different needs and languages."
      ],
      "metadata": {
        "id": "Lz1DlDMUFM83"
      }
    },
    {
      "cell_type": "code",
      "source": [
        "from keras.preprocessing.text import Tokenizer\n",
        "\n",
        "tokenizer = Tokenizer(oov_token='<OOV>', num_words=6000)\n",
        "tokenizer.fit_on_texts(train_df['all_info'])\n"
      ],
      "metadata": {
        "id": "vlkSWScIGGzU"
      },
      "execution_count": 19,
      "outputs": []
    },
    {
      "cell_type": "code",
      "source": [
        "tokenizer"
      ],
      "metadata": {
        "colab": {
          "base_uri": "https://localhost:8080/"
        },
        "id": "eeasEm5kIBOg",
        "outputId": "a77cb05f-be16-48aa-9fe5-56dbb7dcc3f6"
      },
      "execution_count": 20,
      "outputs": [
        {
          "output_type": "execute_result",
          "data": {
            "text/plain": [
              "<keras.preprocessing.text.Tokenizer at 0x7dd2b7ed7940>"
            ]
          },
          "metadata": {},
          "execution_count": 20
        }
      ]
    },
    {
      "cell_type": "markdown",
      "source": [
        "\n",
        "\n",
        "1. `tokenizer = Tokenizer(oov_token=\"<OOV>\", num_words=6000)`: This line of code initializes a `Tokenizer` object. The `Tokenizer` is a utility class provided by the Keras library (part of TensorFlow) that is commonly used to preprocess and tokenize text data for machine learning tasks. Here's what each argument means:\n",
        "\n",
        "   - `oov_token=\"<OOV>\"`: This argument specifies the out-of-vocabulary token to be used when the tokenizer encounters words that are not in its vocabulary. In this case, \"<OOV>\" is used to represent words that are not recognized by the tokenizer.\n",
        "   \n",
        "   - `num_words=6000`: This argument specifies the maximum number of words to be kept in the vocabulary. Only the most frequent `num_words` words will be retained, and any words beyond this limit will be ignored. This can help in reducing the dimensionality of the data and speed up training.\n",
        "\n",
        "2. `tokenizer.fit_on_texts(train_df['all_info'])`: This line of code fits (or trains) the tokenizer on the text data provided in the 'all_info' column of the 'train_df' DataFrame. It means the tokenizer analyzes the text data, updates its internal vocabulary based on the frequency of words, and prepares itself for tokenizing future text sequences. The 'fit_on_texts' method is a common step in text preprocessing pipelines before using the tokenizer to convert text into sequences of tokens.\n",
        "\n",
        "In summary, this code initializes a tokenizer with a predefined vocabulary size of 6000 words and an out-of-vocabulary token \"<OOV>\". It then trains the tokenizer on the text data from the 'all_info' column of the 'train_df' DataFrame, updating its vocabulary based on the word frequencies in the provided text. This prepared tokenizer can later be used to convert sentences or documents into sequences of tokens for further processing, such as training machine learning models."
      ],
      "metadata": {
        "id": "QU1pfFkDIdiI"
      }
    },
    {
      "cell_type": "code",
      "source": [
        "target = train_df['label'].values"
      ],
      "metadata": {
        "id": "BGEwyIr_Iqte"
      },
      "execution_count": 21,
      "outputs": []
    },
    {
      "cell_type": "code",
      "source": [
        "target"
      ],
      "metadata": {
        "colab": {
          "base_uri": "https://localhost:8080/"
        },
        "id": "Qlil8uSYIrFi",
        "outputId": "eb94c56a-2a00-4f2c-8739-79d55d69bacb"
      },
      "execution_count": 22,
      "outputs": [
        {
          "output_type": "execute_result",
          "data": {
            "text/plain": [
              "array([1, 0, 1, ..., 0, 1, 1])"
            ]
          },
          "metadata": {},
          "execution_count": 22
        }
      ]
    },
    {
      "cell_type": "markdown",
      "source": [
        "0 = real news\n",
        "\n",
        "1 = fake news"
      ],
      "metadata": {
        "id": "ZVsxIx1GPYaY"
      }
    },
    {
      "cell_type": "code",
      "source": [
        "max_length = 40\n",
        "vocab_size = 6000\n",
        "\n",
        "# converting the texts to numbers\n",
        "sequences_train = tokenizer.texts_to_sequences(train_df['all_info'])\n",
        "sequences_test = tokenizer.texts_to_sequences(test_df['all_info'])\n",
        "\n",
        "padded_train = pad_sequences(sequences_train, padding = 'post', maxlen=max_length)\n",
        "padded_test = pad_sequences(sequences_test, padding = 'post', maxlen=max_length)"
      ],
      "metadata": {
        "id": "5risATtpJWx5"
      },
      "execution_count": 23,
      "outputs": []
    },
    {
      "cell_type": "markdown",
      "source": [
        "This code prepares text data for a machine learning model by performing the following steps:\n",
        "\n",
        "1. It sets the maximum length of sequences (`max_length`) to 40 and the vocabulary size (`vocab_size`) to 6000.\n",
        "\n",
        "2. It uses a `tokenizer` to convert text data from the 'all_info' column of a training dataframe (`train_df`) and a test dataframe (`test_df`) into sequences of integers (`sequences_train` and `sequences_test`, respectively).\n",
        "\n",
        "3. The sequences are then padded with zeros to ensure that they all have the same length of 40, using the `pad_sequences` function. Padding is added to the end of each sequence (`padding='post'`). This prepares the data for input to a machine learning model where inputs need to have a consistent shape.\n",
        "\n",
        "In summary, this code processes text data, tokenizes it into integer sequences, and ensures all sequences have the same length for further use in a machine learning model, often in tasks like natural language processing or sequence prediction."
      ],
      "metadata": {
        "id": "VtI0vi_6LtO0"
      }
    },
    {
      "cell_type": "code",
      "source": [
        "x_train, x_test, y_train, y_test = train_test_split(padded_train, target, test_size=0.2)"
      ],
      "metadata": {
        "id": "NuZwG0TeP6my"
      },
      "execution_count": 24,
      "outputs": []
    },
    {
      "cell_type": "code",
      "source": [
        "x_train.shape, x_test.shape, y_train.shape, y_test.shape"
      ],
      "metadata": {
        "colab": {
          "base_uri": "https://localhost:8080/"
        },
        "id": "QJp8Sxu4QsrK",
        "outputId": "3f9b0b08-e882-40a0-8f69-c4bf42625487"
      },
      "execution_count": 25,
      "outputs": [
        {
          "output_type": "execute_result",
          "data": {
            "text/plain": [
              "((16640, 40), (4160, 40), (16640,), (4160,))"
            ]
          },
          "metadata": {},
          "execution_count": 25
        }
      ]
    },
    {
      "cell_type": "code",
      "source": [
        "x_train"
      ],
      "metadata": {
        "colab": {
          "base_uri": "https://localhost:8080/"
        },
        "id": "Qe8kn_fXQzSc",
        "outputId": "dcaa849c-d43c-42b9-dfe5-f94717b6863f"
      },
      "execution_count": 26,
      "outputs": [
        {
          "output_type": "execute_result",
          "data": {
            "text/plain": [
              "array([[2086,    1,  831, ...,    0,    0,    0],\n",
              "       [   1,   11,   43, ...,    1,  383,  292],\n",
              "       [1297,   76, 1591, ...,   50, 1599, 2714],\n",
              "       ...,\n",
              "       [  43,   22,    6, ...,  137,  758,   12],\n",
              "       [   1, 1137,    1, ...,  301,    4,    1],\n",
              "       [ 115,  385,   11, ...,   25,    2,  310]], dtype=int32)"
            ]
          },
          "metadata": {},
          "execution_count": 26
        }
      ]
    },
    {
      "cell_type": "code",
      "source": [
        "x_test"
      ],
      "metadata": {
        "colab": {
          "base_uri": "https://localhost:8080/"
        },
        "id": "wXI1NjVQROPI",
        "outputId": "2f747f9d-de73-4542-b515-619d9549ba29"
      },
      "execution_count": 27,
      "outputs": [
        {
          "output_type": "execute_result",
          "data": {
            "text/plain": [
              "array([[ 105,    2,  471, ...,  168, 1918,   12],\n",
              "       [ 141,    8,    1, ...,  112, 1079,  877],\n",
              "       [  35,    1,  159, ...,   11,  200, 5830],\n",
              "       ...,\n",
              "       [ 601,   21,  383, ...,  200,   21,    1],\n",
              "       [   6, 5036, 1942, ...,   80,   84,  238],\n",
              "       [   3,  628,    3, ...,    7,    8,   12]], dtype=int32)"
            ]
          },
          "metadata": {},
          "execution_count": 27
        }
      ]
    },
    {
      "cell_type": "code",
      "source": [
        "y_train"
      ],
      "metadata": {
        "colab": {
          "base_uri": "https://localhost:8080/"
        },
        "id": "ITa-Vz52SBdB",
        "outputId": "cabb3f31-0989-4c4a-d731-ee3d303859a6"
      },
      "execution_count": 28,
      "outputs": [
        {
          "output_type": "execute_result",
          "data": {
            "text/plain": [
              "array([1, 0, 0, ..., 0, 0, 0])"
            ]
          },
          "metadata": {},
          "execution_count": 28
        }
      ]
    },
    {
      "cell_type": "code",
      "source": [
        "y_test"
      ],
      "metadata": {
        "colab": {
          "base_uri": "https://localhost:8080/"
        },
        "id": "xnE6fEjJSGJp",
        "outputId": "9a451405-3250-4298-a85a-c9567b30071b"
      },
      "execution_count": 29,
      "outputs": [
        {
          "output_type": "execute_result",
          "data": {
            "text/plain": [
              "array([0, 1, 0, ..., 0, 1, 0])"
            ]
          },
          "metadata": {},
          "execution_count": 29
        }
      ]
    },
    {
      "cell_type": "markdown",
      "source": [
        "# Binary classification model"
      ],
      "metadata": {
        "id": "dUacswZ-SIPY"
      }
    },
    {
      "cell_type": "code",
      "source": [
        "best_model_file_name = \"models/best_model_simple.hdf5\""
      ],
      "metadata": {
        "id": "V7siU7sDS-a1"
      },
      "execution_count": 30,
      "outputs": []
    },
    {
      "cell_type": "code",
      "source": [
        "def get_simple_model():\n",
        "    model = Sequential()\n",
        "    model.add(Embedding(vocab_size, 10, input_length=max_length))\n",
        "    model.add(Flatten())\n",
        "    model.add(Dense(1, activation='sigmoid'))\n",
        "    return model"
      ],
      "metadata": {
        "id": "DLqAz4lvTDzP"
      },
      "execution_count": 31,
      "outputs": []
    },
    {
      "cell_type": "markdown",
      "source": [
        "This code defines a simple neural network model for text classification using the Keras library. The model is designed to take in sequences of words (text data) and predict a binary outcome (such as classifying whether a given text belongs to a certain category or not). Let's break down the code step by step:\n",
        "\n",
        "1. Import Required Libraries:\n",
        "   The code assumes that you have already imported the necessary libraries, including `Sequential`, `Embedding`, `Flatten`, and `Dense` from the Keras library.\n",
        "\n",
        "2. Define the Model:\n",
        "   ```python\n",
        "   model = Sequential()\n",
        "   ```\n",
        "   The `Sequential` class in Keras is used to define a linear stack of layers for building neural network models.\n",
        "\n",
        "3. Add an Embedding Layer:\n",
        "   ```python\n",
        "   model.add(Embedding(vocab_size, 10, input_length=max_length))\n",
        "   ```\n",
        "   The `Embedding` layer is used to convert integer-encoded vocabulary indices into dense vectors of fixed size (in this case, 10). It's often used for word embedding in natural language processing tasks. The `vocab_size` parameter represents the size of the vocabulary (the total number of unique words in your text data), while `input_length` is the length of each input sequence (number of words in a sentence). This layer essentially learns to represent words in a lower-dimensional space where similar words are closer together.\n",
        "\n",
        "4. Add a Flatten Layer:\n",
        "   ```python\n",
        "   model.add(Flatten())\n",
        "   ```\n",
        "   The `Flatten` layer is used to flatten the output from the previous layer into a 1D vector. This step is necessary because the subsequent layer, which is a fully connected `Dense` layer, requires a 1D input.\n",
        "\n",
        "5. Add a Dense Layer:\n",
        "   ```python\n",
        "   model.add(Dense(1, activation='sigmoid'))\n",
        "   ```\n",
        "   The `Dense` layer is a fully connected neural network layer. In this case, it has a single output unit with a sigmoid activation function. The sigmoid activation function squashes the output values between 0 and 1, making it suitable for binary classification tasks. The model learns to map the flattened input vectors to a single output value that represents the predicted probability of the input belonging to the positive class.\n",
        "\n",
        "6. Return the Model:\n",
        "   ```python\n",
        "   return model\n",
        "   ```\n",
        "   The function returns the defined Keras model, which can then be compiled, trained, and evaluated using appropriate data.\n",
        "\n",
        "Overall, this code defines a simple neural network architecture for text classification, where words are embedded into a lower-dimensional space, flattened, and then passed through a single dense layer to make binary predictions. Keep in mind that the effectiveness of this model will depend on the specifics of your dataset and the complexity of the classification task."
      ],
      "metadata": {
        "id": "0nLb6_DITS2f"
      }
    },
    {
      "cell_type": "code",
      "source": [
        "callbacks=[\n",
        "    keras.callbacks.EarlyStopping(monitor=\"val_loss\", patience=15,\n",
        "                                  verbose=1, mode=\"min\", restore_best_weights=True),\n",
        "    keras.callbacks.ModelCheckpoint(filepath=best_model_file_name, verbose=1, save_best_only=True)\n",
        "]"
      ],
      "metadata": {
        "id": "LdrR6gTsUEBy"
      },
      "execution_count": 32,
      "outputs": []
    },
    {
      "cell_type": "markdown",
      "source": [
        "This code snippet is configuring callback functions for training a neural network using the Keras library. Callbacks are functions that you can specify to be executed at various points during the training process. They provide a way to monitor and control the training process, allowing you to perform actions such as early stopping, saving the best model, and more.\n",
        "\n",
        "Let's break down the provided callbacks:\n",
        "\n",
        "1. `keras.callbacks.EarlyStopping`:\n",
        "   This callback is used for early stopping, which means the training process will stop if a certain condition is met. The parameters used in this callback are:\n",
        "   - `monitor`: The metric to monitor for early stopping. In this case, it's `\"val_loss\"` which means the validation loss is being monitored.\n",
        "   - `patience`: The number of epochs with no improvement after which training will be stopped. In this case, if the validation loss does not improve for 15 consecutive epochs, training will stop.\n",
        "   - `verbose`: Verbosity mode. When set to 1, it prints messages about the early stopping process.\n",
        "   - `mode`: The direction of improvement to monitor. `\"min\"` means the monitored metric should be minimized (e.g., validation loss should decrease).\n",
        "   - `restore_best_weights`: If set to `True`, the model's weights will be restored to the best weights found during training when the training is stopped due to early stopping.\n",
        "\n",
        "2. `keras.callbacks.ModelCheckpoint`:\n",
        "   This callback is used to save the model's weights during training, so you can later restore the best performing model. The parameters used in this callback are:\n",
        "   - `filepath`: The file path where the model weights will be saved. The variable `best_model_file_name` likely contains the desired file path.\n",
        "   - `verbose`: Similar to the verbose parameter in `EarlyStopping`, when set to 1, it prints messages about saving the model.\n",
        "   - `save_best_only`: If set to `True`, the callback will only save the model weights if the monitored metric (e.g., validation loss) has improved since the last checkpoint.\n",
        "\n",
        "Combining these two callbacks, the code sets up the following behavior during training:\n",
        "\n",
        "- The `EarlyStopping` callback will monitor the validation loss. If the validation loss doesn't improve for 15 consecutive epochs, the training process will stop, and the model's weights will be restored to the best performing weights.\n",
        "- The `ModelCheckpoint` callback will save the model's weights to the specified file path whenever a new best performing model is found based on the validation loss.\n",
        "\n",
        "This combination of callbacks helps to prevent overfitting by stopping training early if the model's performance on the validation set is not improving, and it also saves the best model weights for later use."
      ],
      "metadata": {
        "id": "csoq3BJRURjE"
      }
    },
    {
      "cell_type": "code",
      "source": [
        "model = get_simple_model()\n",
        "model.summary()"
      ],
      "metadata": {
        "colab": {
          "base_uri": "https://localhost:8080/"
        },
        "id": "xubLx1ggUtbY",
        "outputId": "e4cf211d-0ba2-4570-d194-ab0888937e37"
      },
      "execution_count": 33,
      "outputs": [
        {
          "output_type": "stream",
          "name": "stdout",
          "text": [
            "Model: \"sequential\"\n",
            "_________________________________________________________________\n",
            " Layer (type)                Output Shape              Param #   \n",
            "=================================================================\n",
            " embedding (Embedding)       (None, 40, 10)            60000     \n",
            "                                                                 \n",
            " flatten (Flatten)           (None, 400)               0         \n",
            "                                                                 \n",
            " dense (Dense)               (None, 1)                 401       \n",
            "                                                                 \n",
            "=================================================================\n",
            "Total params: 60,401\n",
            "Trainable params: 60,401\n",
            "Non-trainable params: 0\n",
            "_________________________________________________________________\n"
          ]
        }
      ]
    },
    {
      "cell_type": "code",
      "source": [
        "model.compile(loss='binary_crossentropy',\n",
        "              optimizer='adam',\n",
        "              metrics=[tf.keras.metrics.Precision(), tf.keras.metrics.Recall()])"
      ],
      "metadata": {
        "id": "HGz7wMInU-cl"
      },
      "execution_count": 34,
      "outputs": []
    },
    {
      "cell_type": "markdown",
      "source": [
        "\n",
        "\n",
        "Let's break down the provided code line by line:\n",
        "\n",
        "1. `model.compile`: This is a method in Keras used to configure the training process of a neural network model.\n",
        "\n",
        "2. `loss='binary_crossentropy'`: This specifies the loss function that will be used to measure the difference between the predicted output and the actual target output during training. In this case, the loss function is `'binary_crossentropy'`, which is commonly used for binary classification tasks, where the model is trying to classify inputs into two classes (e.g., 0 or 1, true or false, positive or negative).\n",
        "\n",
        "3. `optimizer='adam'`: This specifies the optimization algorithm that will be used to update the model's weights based on the computed loss. `'adam'` refers to the Adam optimizer, which is an adaptive optimization algorithm that adjusts the learning rate during training to improve convergence.\n",
        "\n",
        "4. `metrics=[tf.keras.metrics.Precision(), tf.keras.metrics.Recall()]`: These are the evaluation metrics that will be computed during training to monitor the model's performance. The list contains two metrics:\n",
        "\n",
        "   - `tf.keras.metrics.Precision()`: This metric calculates the precision of the model's predictions. Precision measures the proportion of correctly predicted positive instances (true positives) out of all instances predicted as positive (true positives + false positives).\n",
        "\n",
        "   - `tf.keras.metrics.Recall()`: Also known as sensitivity or true positive rate, recall calculates the proportion of correctly predicted positive instances (true positives) out of all actual positive instances (true positives + false negatives).\n",
        "\n",
        "By specifying these metrics in the `compile` method, the model will compute and display the precision and recall values during training, allowing you to monitor how well the model is performing in terms of correctly classifying positive instances and minimizing false positives and false negatives.\n",
        "\n",
        "Here's a summary of what the provided code does: It configures the compilation of a neural network model for binary classification using the binary cross-entropy loss function, the Adam optimizer for training, and monitors the model's precision and recall metrics during training."
      ],
      "metadata": {
        "id": "1Mro6W8uVWuS"
      }
    },
    {
      "cell_type": "code",
      "source": [
        "%%time\n",
        "history = model.fit(x_train,\n",
        "                    y_train,\n",
        "                    epochs=20,\n",
        "                    validation_data=(x_test, y_test),\n",
        "                    callbacks=callbacks)"
      ],
      "metadata": {
        "colab": {
          "base_uri": "https://localhost:8080/"
        },
        "id": "xRNsbWP9VqGx",
        "outputId": "6510969a-f819-48bc-eb4a-8c9221a4b075"
      },
      "execution_count": 35,
      "outputs": [
        {
          "output_type": "stream",
          "name": "stdout",
          "text": [
            "Epoch 1/20\n",
            "509/520 [============================>.] - ETA: 0s - loss: 0.4820 - precision: 0.7776 - recall: 0.8418\n",
            "Epoch 1: val_loss improved from inf to 0.31487, saving model to models/best_model_simple.hdf5\n",
            "520/520 [==============================] - 28s 43ms/step - loss: 0.4787 - precision: 0.7789 - recall: 0.8427 - val_loss: 0.3149 - val_precision: 0.8608 - val_recall: 0.8752\n",
            "Epoch 2/20\n",
            "508/520 [============================>.] - ETA: 0s - loss: 0.2413 - precision: 0.8990 - recall: 0.9149\n",
            "Epoch 2: val_loss improved from 0.31487 to 0.25634, saving model to models/best_model_simple.hdf5\n",
            "520/520 [==============================] - 4s 7ms/step - loss: 0.2403 - precision: 0.8999 - recall: 0.9152 - val_loss: 0.2563 - val_precision: 0.8906 - val_recall: 0.8877\n",
            "Epoch 3/20\n",
            "510/520 [============================>.] - ETA: 0s - loss: 0.1699 - precision: 0.9401 - recall: 0.9392\n",
            "Epoch 3: val_loss improved from 0.25634 to 0.24013, saving model to models/best_model_simple.hdf5\n",
            "520/520 [==============================] - 4s 9ms/step - loss: 0.1712 - precision: 0.9399 - recall: 0.9380 - val_loss: 0.2401 - val_precision: 0.8853 - val_recall: 0.9073\n",
            "Epoch 4/20\n",
            "510/520 [============================>.] - ETA: 0s - loss: 0.1266 - precision: 0.9629 - recall: 0.9596\n",
            "Epoch 4: val_loss improved from 0.24013 to 0.23696, saving model to models/best_model_simple.hdf5\n",
            "520/520 [==============================] - 2s 5ms/step - loss: 0.1263 - precision: 0.9631 - recall: 0.9597 - val_loss: 0.2370 - val_precision: 0.8846 - val_recall: 0.9120\n",
            "Epoch 5/20\n",
            "508/520 [============================>.] - ETA: 0s - loss: 0.0928 - precision: 0.9780 - recall: 0.9734\n",
            "Epoch 5: val_loss did not improve from 0.23696\n",
            "520/520 [==============================] - 2s 4ms/step - loss: 0.0928 - precision: 0.9778 - recall: 0.9736 - val_loss: 0.2397 - val_precision: 0.8972 - val_recall: 0.9011\n",
            "Epoch 6/20\n",
            "507/520 [============================>.] - ETA: 0s - loss: 0.0666 - precision: 0.9897 - recall: 0.9848\n",
            "Epoch 6: val_loss did not improve from 0.23696\n",
            "520/520 [==============================] - 2s 4ms/step - loss: 0.0664 - precision: 0.9897 - recall: 0.9849 - val_loss: 0.2492 - val_precision: 0.8874 - val_recall: 0.9082\n",
            "Epoch 7/20\n",
            "505/520 [============================>.] - ETA: 0s - loss: 0.0465 - precision: 0.9948 - recall: 0.9918\n",
            "Epoch 7: val_loss did not improve from 0.23696\n",
            "520/520 [==============================] - 3s 5ms/step - loss: 0.0466 - precision: 0.9947 - recall: 0.9917 - val_loss: 0.2599 - val_precision: 0.8933 - val_recall: 0.9006\n",
            "Epoch 8/20\n",
            "514/520 [============================>.] - ETA: 0s - loss: 0.0318 - precision: 0.9978 - recall: 0.9959\n",
            "Epoch 8: val_loss did not improve from 0.23696\n",
            "520/520 [==============================] - 3s 6ms/step - loss: 0.0318 - precision: 0.9978 - recall: 0.9958 - val_loss: 0.2734 - val_precision: 0.8909 - val_recall: 0.9015\n",
            "Epoch 9/20\n",
            "510/520 [============================>.] - ETA: 0s - loss: 0.0214 - precision: 0.9991 - recall: 0.9984\n",
            "Epoch 9: val_loss did not improve from 0.23696\n",
            "520/520 [==============================] - 4s 7ms/step - loss: 0.0214 - precision: 0.9992 - recall: 0.9984 - val_loss: 0.2874 - val_precision: 0.8887 - val_recall: 0.9011\n",
            "Epoch 10/20\n",
            "513/520 [============================>.] - ETA: 0s - loss: 0.0145 - precision: 0.9998 - recall: 0.9998\n",
            "Epoch 10: val_loss did not improve from 0.23696\n",
            "520/520 [==============================] - 2s 4ms/step - loss: 0.0145 - precision: 0.9998 - recall: 0.9998 - val_loss: 0.3002 - val_precision: 0.8924 - val_recall: 0.8958\n",
            "Epoch 11/20\n",
            "508/520 [============================>.] - ETA: 0s - loss: 0.0098 - precision: 0.9999 - recall: 1.0000\n",
            "Epoch 11: val_loss did not improve from 0.23696\n",
            "520/520 [==============================] - 2s 3ms/step - loss: 0.0099 - precision: 0.9999 - recall: 1.0000 - val_loss: 0.3160 - val_precision: 0.8881 - val_recall: 0.9025\n",
            "Epoch 12/20\n",
            "509/520 [============================>.] - ETA: 0s - loss: 0.0068 - precision: 1.0000 - recall: 1.0000\n",
            "Epoch 12: val_loss did not improve from 0.23696\n",
            "520/520 [==============================] - 2s 4ms/step - loss: 0.0068 - precision: 1.0000 - recall: 1.0000 - val_loss: 0.3295 - val_precision: 0.8899 - val_recall: 0.8967\n",
            "Epoch 13/20\n",
            "519/520 [============================>.] - ETA: 0s - loss: 0.0048 - precision: 1.0000 - recall: 1.0000\n",
            "Epoch 13: val_loss did not improve from 0.23696\n",
            "520/520 [==============================] - 3s 5ms/step - loss: 0.0047 - precision: 1.0000 - recall: 1.0000 - val_loss: 0.3450 - val_precision: 0.8863 - val_recall: 0.9020\n",
            "Epoch 14/20\n",
            "517/520 [============================>.] - ETA: 0s - loss: 0.0034 - precision: 1.0000 - recall: 1.0000\n",
            "Epoch 14: val_loss did not improve from 0.23696\n",
            "520/520 [==============================] - 3s 6ms/step - loss: 0.0034 - precision: 1.0000 - recall: 1.0000 - val_loss: 0.3596 - val_precision: 0.8837 - val_recall: 0.9011\n",
            "Epoch 15/20\n",
            "515/520 [============================>.] - ETA: 0s - loss: 0.0024 - precision: 1.0000 - recall: 1.0000\n",
            "Epoch 15: val_loss did not improve from 0.23696\n",
            "520/520 [==============================] - 2s 4ms/step - loss: 0.0024 - precision: 1.0000 - recall: 1.0000 - val_loss: 0.3741 - val_precision: 0.8850 - val_recall: 0.9011\n",
            "Epoch 16/20\n",
            "513/520 [============================>.] - ETA: 0s - loss: 0.0018 - precision: 1.0000 - recall: 1.0000\n",
            "Epoch 16: val_loss did not improve from 0.23696\n",
            "520/520 [==============================] - 3s 6ms/step - loss: 0.0017 - precision: 1.0000 - recall: 1.0000 - val_loss: 0.3870 - val_precision: 0.8857 - val_recall: 0.8963\n",
            "Epoch 17/20\n",
            "510/520 [============================>.] - ETA: 0s - loss: 0.0013 - precision: 1.0000 - recall: 1.0000\n",
            "Epoch 17: val_loss did not improve from 0.23696\n",
            "520/520 [==============================] - 2s 3ms/step - loss: 0.0013 - precision: 1.0000 - recall: 1.0000 - val_loss: 0.4009 - val_precision: 0.8853 - val_recall: 0.8963\n",
            "Epoch 18/20\n",
            "515/520 [============================>.] - ETA: 0s - loss: 9.2450e-04 - precision: 1.0000 - recall: 1.0000\n",
            "Epoch 18: val_loss did not improve from 0.23696\n",
            "520/520 [==============================] - 2s 4ms/step - loss: 9.2533e-04 - precision: 1.0000 - recall: 1.0000 - val_loss: 0.4153 - val_precision: 0.8857 - val_recall: 0.8963\n",
            "Epoch 19/20\n",
            "517/520 [============================>.] - ETA: 0s - loss: 6.8151e-04 - precision: 1.0000 - recall: 1.0000Restoring model weights from the end of the best epoch: 4.\n",
            "\n",
            "Epoch 19: val_loss did not improve from 0.23696\n",
            "520/520 [==============================] - 3s 6ms/step - loss: 6.8029e-04 - precision: 1.0000 - recall: 1.0000 - val_loss: 0.4283 - val_precision: 0.8864 - val_recall: 0.8948\n",
            "Epoch 19: early stopping\n",
            "CPU times: user 1min 5s, sys: 3.7 s, total: 1min 9s\n",
            "Wall time: 1min 16s\n"
          ]
        }
      ]
    },
    {
      "cell_type": "code",
      "source": [
        "range(1, max(history.epoch) + 2)"
      ],
      "metadata": {
        "colab": {
          "base_uri": "https://localhost:8080/"
        },
        "id": "ozc4zovRWDYT",
        "outputId": "35ffbc82-e4cc-49d0-aa0a-919c918ad93e"
      },
      "execution_count": 36,
      "outputs": [
        {
          "output_type": "execute_result",
          "data": {
            "text/plain": [
              "range(1, 20)"
            ]
          },
          "metadata": {},
          "execution_count": 36
        }
      ]
    },
    {
      "cell_type": "code",
      "source": [
        "history.history.keys()\n"
      ],
      "metadata": {
        "colab": {
          "base_uri": "https://localhost:8080/"
        },
        "id": "gDaLMYkKXbtF",
        "outputId": "bcf33374-c6e8-41ce-f239-434f3fd3494e"
      },
      "execution_count": 37,
      "outputs": [
        {
          "output_type": "execute_result",
          "data": {
            "text/plain": [
              "dict_keys(['loss', 'precision', 'recall', 'val_loss', 'val_precision', 'val_recall'])"
            ]
          },
          "metadata": {},
          "execution_count": 37
        }
      ]
    },
    {
      "cell_type": "code",
      "source": [
        "metric_to_plot = \"loss\"\n",
        "plt.plot(range(1, max(history.epoch) + 2), history.history[metric_to_plot], \".:\", label=\"Training loss\")\n",
        "plt.plot(range(1, max(history.epoch) + 2), history.history[\"val_\" + metric_to_plot], \".:\", label=\"Validation loss\")\n",
        "plt.title('Training and Validation Loss')\n",
        "plt.xlim([1,max(history.epoch) + 2])\n",
        "plt.xticks(range(1, max(history.epoch) + 2))\n",
        "plt.legend()\n",
        "plt.show()"
      ],
      "metadata": {
        "colab": {
          "base_uri": "https://localhost:8080/",
          "height": 857
        },
        "id": "oCw-PXRVXh-r",
        "outputId": "2f077381-5c48-40d8-953f-36f11c5503cf"
      },
      "execution_count": 38,
      "outputs": [
        {
          "output_type": "display_data",
          "data": {
            "text/plain": [
              "<Figure size 1000x1000 with 1 Axes>"
            ],
            "image/png": "[encoded data removed]"
          },
          "metadata": {}
        }
      ]
    },
    {
      "cell_type": "markdown",
      "source": [
        "In summary, this code generates a line plot that shows the training and validation loss values over different epochs. The x-axis represents the epoch numbers, and the y-axis represents the loss values. The plot includes both training and validation loss curves, and a legend indicates which line corresponds to each. This visualization helps in understanding the convergence and performance of a training process."
      ],
      "metadata": {
        "id": "7BdbyLf0YaNf"
      }
    },
    {
      "cell_type": "code",
      "source": [
        "metric_to_plot = \"precision\"\n",
        "plt.plot(range(1, max(history.epoch) + 2), history.history[metric_to_plot], \".:\", label=\"Training loss\")\n",
        "plt.plot(range(1, max(history.epoch) + 2), history.history[\"val_\" + metric_to_plot], \".:\", label=\"Validation loss\")\n",
        "plt.title('Training and Validation Precision')\n",
        "plt.xlim([1,max(history.epoch) + 2])\n",
        "plt.xticks(range(1, max(history.epoch) + 2))\n",
        "plt.legend()\n",
        "plt.show()"
      ],
      "metadata": {
        "colab": {
          "base_uri": "https://localhost:8080/",
          "height": 857
        },
        "id": "FjYlT_lpYaBM",
        "outputId": "75f80a51-8a2d-47d6-f72e-f3b6ecf0a410"
      },
      "execution_count": 39,
      "outputs": [
        {
          "output_type": "display_data",
          "data": {
            "text/plain": [
              "<Figure size 1000x1000 with 1 Axes>"
            ],
            "image/png": "[encoded data removed]"
          },
          "metadata": {}
        }
      ]
    },
    {
      "cell_type": "code",
      "source": [
        "metric_to_plot = \"recall\"\n",
        "plt.plot(range(1, max(history.epoch) + 2), history.history[metric_to_plot], \".:\", label=\"Training loss\")\n",
        "plt.plot(range(1, max(history.epoch) + 2), history.history[\"val_\" + metric_to_plot], \".:\", label=\"Validation loss\")\n",
        "plt.title('Training and Validation Recall')\n",
        "plt.xlim([1,max(history.epoch) + 2])\n",
        "plt.xticks(range(1, max(history.epoch) + 2))\n",
        "plt.legend()\n",
        "plt.show()"
      ],
      "metadata": {
        "colab": {
          "base_uri": "https://localhost:8080/",
          "height": 857
        },
        "id": "ymfngXkAX1mE",
        "outputId": "100908fe-60a7-43cf-bda9-390685b313e8"
      },
      "execution_count": 40,
      "outputs": [
        {
          "output_type": "display_data",
          "data": {
            "text/plain": [
              "<Figure size 1000x1000 with 1 Axes>"
            ],
            "image/png": "[encoded data removed]"
          },
          "metadata": {}
        }
      ]
    },
    {
      "cell_type": "code",
      "source": [
        "model = keras.models.load_model(best_model_file_name)\n",
        "y_pred = (model.predict(x_test) > 0.5).astype(\"int32\")\n",
        "print('Accuracy: ', accuracy_score(y_test, y_pred))\n",
        "print('Precision: ', precision_score(y_test, y_pred))\n",
        "print('Recall: ', recall_score(y_test, y_pred))\n",
        "print('F1 Score: ', f1_score(y_test, y_pred))"
      ],
      "metadata": {
        "colab": {
          "base_uri": "https://localhost:8080/"
        },
        "id": "kdRaZ4tVZA4O",
        "outputId": "d843d70c-f018-4e47-c29c-96d8dfe72f9a"
      },
      "execution_count": 41,
      "outputs": [
        {
          "output_type": "stream",
          "name": "stdout",
          "text": [
            "130/130 [==============================] - 0s 1ms/step\n",
            "Accuracy:  0.8959134615384615\n",
            "Precision:  0.8845618915159944\n",
            "Recall:  0.9120458891013384\n",
            "F1 Score:  0.8980936690986114\n"
          ]
        }
      ]
    },
    {
      "cell_type": "code",
      "source": [
        "y_pred"
      ],
      "metadata": {
        "colab": {
          "base_uri": "https://localhost:8080/"
        },
        "id": "Dhj_Vm0nZa9X",
        "outputId": "4e1451b5-1864-4791-dcd6-f4be5fbd2e7e"
      },
      "execution_count": 42,
      "outputs": [
        {
          "output_type": "execute_result",
          "data": {
            "text/plain": [
              "array([[0],\n",
              "       [1],\n",
              "       [0],\n",
              "       ...,\n",
              "       [0],\n",
              "       [1],\n",
              "       [0]], dtype=int32)"
            ]
          },
          "metadata": {},
          "execution_count": 42
        }
      ]
    },
    {
      "cell_type": "code",
      "source": [
        "# Confusion Matrix\n",
        "from sklearn.metrics import confusion_matrix\n",
        "cm = confusion_matrix(y_test, y_pred)\n",
        "plt.figure(figsize=(8, 6))\n",
        "sns.heatmap(cm, annot=True, fmt=\"d\", cmap=\"Blues\", xticklabels=[\"Negative\", \"Positive\"], yticklabels=[\"Negative\", \"Positive\"])\n",
        "plt.title(\"Confusion Matrix\")\n",
        "plt.xlabel(\"Predicted\")\n",
        "plt.ylabel(\"Actual\")\n",
        "plt.show()"
      ],
      "metadata": {
        "colab": {
          "base_uri": "https://localhost:8080/",
          "height": 573
        },
        "id": "wpZL5_iJZeNA",
        "outputId": "e26b27a0-9fff-4922-b3c4-e518b3983150"
      },
      "execution_count": 43,
      "outputs": [
        {
          "output_type": "display_data",
          "data": {
            "text/plain": [
              "<Figure size 800x600 with 2 Axes>"
            ],
            "image/png": "[encoded data removed]"
          },
          "metadata": {}
        }
      ]
    },
    {
      "cell_type": "markdown",
      "source": [
        "# Using LSTM Model for Text Classification"
      ],
      "metadata": {
        "id": "OqKAG2DhZv5h"
      }
    },
    {
      "cell_type": "code",
      "source": [
        "%%time\n",
        "\n",
        "best_model_file_name = \"models/best_model_simple_LSTM.hdf5\"\n",
        "def get_simple_LSTM_model():\n",
        "    model = Sequential()\n",
        "    model.add(Embedding(vocab_size, 10, input_length=max_length))\n",
        "    model.add(Dropout(0.3))\n",
        "    model.add(LSTM(100))\n",
        "    model.add(Dropout(0.3))\n",
        "    model.add(Dense(64, activation='relu'))\n",
        "    model.add(Dropout(0.3))\n",
        "    model.add(Dense(1, activation='sigmoid'))\n",
        "    return model\n",
        "\n",
        "callbacks=[\n",
        "    keras.callbacks.EarlyStopping(monitor=\"val_loss\",\n",
        "                                  patience=15,\n",
        "                                  verbose=1,\n",
        "                                  mode=\"min\",\n",
        "                                  restore_best_weights=True),\n",
        "    keras.callbacks.ModelCheckpoint(filepath=best_model_file_name,\n",
        "                                    verbose=1,\n",
        "                                    save_best_only=True)\n",
        "]\n",
        "\n",
        "model = get_simple_LSTM_model()\n",
        "print(model.summary())\n",
        "\n",
        "model.compile(loss='binary_crossentropy',optimizer='adam', metrics=[tf.keras.metrics.Precision(), tf.keras.metrics.Recall()])\n",
        "\n",
        "history = model.fit(x_train,\n",
        "                    y_train,\n",
        "                    epochs=20,\n",
        "                    validation_data=(x_test, y_test),\n",
        "                    callbacks=callbacks)"
      ],
      "metadata": {
        "colab": {
          "base_uri": "https://localhost:8080/"
        },
        "id": "gfFFNDKvaNuW",
        "outputId": "22edc888-dc67-4fbe-c79e-bd90245f21c4"
      },
      "execution_count": 44,
      "outputs": [
        {
          "output_type": "stream",
          "name": "stdout",
          "text": [
            "Model: \"sequential_1\"\n",
            "_________________________________________________________________\n",
            " Layer (type)                Output Shape              Param #   \n",
            "=================================================================\n",
            " embedding_1 (Embedding)     (None, 40, 10)            60000     \n",
            "                                                                 \n",
            " dropout (Dropout)           (None, 40, 10)            0         \n",
            "                                                                 \n",
            " lstm (LSTM)                 (None, 100)               44400     \n",
            "                                                                 \n",
            " dropout_1 (Dropout)         (None, 100)               0         \n",
            "                                                                 \n",
            " dense_1 (Dense)             (None, 64)                6464      \n",
            "                                                                 \n",
            " dropout_2 (Dropout)         (None, 64)                0         \n",
            "                                                                 \n",
            " dense_2 (Dense)             (None, 1)                 65        \n",
            "                                                                 \n",
            "=================================================================\n",
            "Total params: 110,929\n",
            "Trainable params: 110,929\n",
            "Non-trainable params: 0\n",
            "_________________________________________________________________\n",
            "None\n",
            "Epoch 1/20\n",
            "519/520 [============================>.] - ETA: 0s - loss: 0.3632 - precision_1: 0.8423 - recall_1: 0.8160\n",
            "Epoch 1: val_loss improved from inf to 0.26997, saving model to models/best_model_simple_LSTM.hdf5\n",
            "520/520 [==============================] - 22s 35ms/step - loss: 0.3631 - precision_1: 0.8423 - recall_1: 0.8161 - val_loss: 0.2700 - val_precision_1: 0.8713 - val_recall_1: 0.9030\n",
            "Epoch 2/20\n",
            "514/520 [============================>.] - ETA: 0s - loss: 0.2153 - precision_1: 0.9165 - recall_1: 0.9082\n",
            "Epoch 2: val_loss improved from 0.26997 to 0.25830, saving model to models/best_model_simple_LSTM.hdf5\n",
            "520/520 [==============================] - 6s 12ms/step - loss: 0.2152 - precision_1: 0.9168 - recall_1: 0.9077 - val_loss: 0.2583 - val_precision_1: 0.9037 - val_recall_1: 0.8791\n",
            "Epoch 3/20\n",
            "515/520 [============================>.] - ETA: 0s - loss: 0.1761 - precision_1: 0.9358 - recall_1: 0.9236\n",
            "Epoch 3: val_loss did not improve from 0.25830\n",
            "520/520 [==============================] - 4s 9ms/step - loss: 0.1761 - precision_1: 0.9359 - recall_1: 0.9234 - val_loss: 0.2656 - val_precision_1: 0.8979 - val_recall_1: 0.8824\n",
            "Epoch 4/20\n",
            "519/520 [============================>.] - ETA: 0s - loss: 0.1541 - precision_1: 0.9447 - recall_1: 0.9356\n",
            "Epoch 4: val_loss did not improve from 0.25830\n",
            "520/520 [==============================] - 4s 8ms/step - loss: 0.1542 - precision_1: 0.9447 - recall_1: 0.9353 - val_loss: 0.2670 - val_precision_1: 0.8941 - val_recall_1: 0.8714\n",
            "Epoch 5/20\n",
            "513/520 [============================>.] - ETA: 0s - loss: 0.1307 - precision_1: 0.9567 - recall_1: 0.9471\n",
            "Epoch 5: val_loss did not improve from 0.25830\n",
            "520/520 [==============================] - 4s 8ms/step - loss: 0.1308 - precision_1: 0.9565 - recall_1: 0.9470 - val_loss: 0.3226 - val_precision_1: 0.8692 - val_recall_1: 0.9087\n",
            "Epoch 6/20\n",
            "519/520 [============================>.] - ETA: 0s - loss: 0.1189 - precision_1: 0.9581 - recall_1: 0.9513\n",
            "Epoch 6: val_loss did not improve from 0.25830\n",
            "520/520 [==============================] - 3s 6ms/step - loss: 0.1188 - precision_1: 0.9582 - recall_1: 0.9513 - val_loss: 0.3426 - val_precision_1: 0.8730 - val_recall_1: 0.8934\n",
            "Epoch 7/20\n",
            "519/520 [============================>.] - ETA: 0s - loss: 0.1058 - precision_1: 0.9647 - recall_1: 0.9609\n",
            "Epoch 7: val_loss did not improve from 0.25830\n",
            "520/520 [==============================] - 3s 6ms/step - loss: 0.1059 - precision_1: 0.9644 - recall_1: 0.9609 - val_loss: 0.3309 - val_precision_1: 0.8689 - val_recall_1: 0.8996\n",
            "Epoch 8/20\n",
            "519/520 [============================>.] - ETA: 0s - loss: 0.0995 - precision_1: 0.9666 - recall_1: 0.9624\n",
            "Epoch 8: val_loss did not improve from 0.25830\n",
            "520/520 [==============================] - 4s 8ms/step - loss: 0.0995 - precision_1: 0.9667 - recall_1: 0.9624 - val_loss: 0.3936 - val_precision_1: 0.8843 - val_recall_1: 0.8838\n",
            "Epoch 9/20\n",
            "518/520 [============================>.] - ETA: 0s - loss: 0.0929 - precision_1: 0.9666 - recall_1: 0.9643\n",
            "Epoch 9: val_loss did not improve from 0.25830\n",
            "520/520 [==============================] - 4s 7ms/step - loss: 0.0928 - precision_1: 0.9666 - recall_1: 0.9644 - val_loss: 0.3857 - val_precision_1: 0.8875 - val_recall_1: 0.8901\n",
            "Epoch 10/20\n",
            "519/520 [============================>.] - ETA: 0s - loss: 0.0814 - precision_1: 0.9717 - recall_1: 0.9676\n",
            "Epoch 10: val_loss did not improve from 0.25830\n",
            "520/520 [==============================] - 3s 6ms/step - loss: 0.0814 - precision_1: 0.9718 - recall_1: 0.9676 - val_loss: 0.4300 - val_precision_1: 0.8535 - val_recall_1: 0.9054\n",
            "Epoch 11/20\n",
            "519/520 [============================>.] - ETA: 0s - loss: 0.0742 - precision_1: 0.9770 - recall_1: 0.9711\n",
            "Epoch 11: val_loss did not improve from 0.25830\n",
            "520/520 [==============================] - 4s 7ms/step - loss: 0.0742 - precision_1: 0.9769 - recall_1: 0.9712 - val_loss: 0.3855 - val_precision_1: 0.8844 - val_recall_1: 0.8853\n",
            "Epoch 12/20\n",
            "514/520 [============================>.] - ETA: 0s - loss: 0.0615 - precision_1: 0.9791 - recall_1: 0.9764\n",
            "Epoch 12: val_loss did not improve from 0.25830\n",
            "520/520 [==============================] - 4s 8ms/step - loss: 0.0614 - precision_1: 0.9790 - recall_1: 0.9766 - val_loss: 0.5370 - val_precision_1: 0.8607 - val_recall_1: 0.9011\n",
            "Epoch 13/20\n",
            "514/520 [============================>.] - ETA: 0s - loss: 0.0614 - precision_1: 0.9812 - recall_1: 0.9763\n",
            "Epoch 13: val_loss did not improve from 0.25830\n",
            "520/520 [==============================] - 4s 7ms/step - loss: 0.0617 - precision_1: 0.9810 - recall_1: 0.9761 - val_loss: 0.4668 - val_precision_1: 0.8605 - val_recall_1: 0.8996\n",
            "Epoch 14/20\n",
            "518/520 [============================>.] - ETA: 0s - loss: 0.0581 - precision_1: 0.9803 - recall_1: 0.9773\n",
            "Epoch 14: val_loss did not improve from 0.25830\n",
            "520/520 [==============================] - 3s 6ms/step - loss: 0.0580 - precision_1: 0.9802 - recall_1: 0.9774 - val_loss: 0.4206 - val_precision_1: 0.8614 - val_recall_1: 0.8972\n",
            "Epoch 15/20\n",
            "518/520 [============================>.] - ETA: 0s - loss: 0.0513 - precision_1: 0.9835 - recall_1: 0.9814\n",
            "Epoch 15: val_loss did not improve from 0.25830\n",
            "520/520 [==============================] - 4s 8ms/step - loss: 0.0512 - precision_1: 0.9835 - recall_1: 0.9815 - val_loss: 0.6148 - val_precision_1: 0.8683 - val_recall_1: 0.8891\n",
            "Epoch 16/20\n",
            "515/520 [============================>.] - ETA: 0s - loss: 0.0498 - precision_1: 0.9830 - recall_1: 0.9816\n",
            "Epoch 16: val_loss did not improve from 0.25830\n",
            "520/520 [==============================] - 4s 8ms/step - loss: 0.0503 - precision_1: 0.9830 - recall_1: 0.9811 - val_loss: 0.5270 - val_precision_1: 0.8712 - val_recall_1: 0.8829\n",
            "Epoch 17/20\n",
            "520/520 [==============================] - ETA: 0s - loss: 0.0471 - precision_1: 0.9840 - recall_1: 0.9822Restoring model weights from the end of the best epoch: 2.\n",
            "\n",
            "Epoch 17: val_loss did not improve from 0.25830\n",
            "520/520 [==============================] - 3s 6ms/step - loss: 0.0471 - precision_1: 0.9840 - recall_1: 0.9822 - val_loss: 0.4833 - val_precision_1: 0.8953 - val_recall_1: 0.8628\n",
            "Epoch 17: early stopping\n",
            "CPU times: user 1min 27s, sys: 3.64 s, total: 1min 31s\n",
            "Wall time: 1min 25s\n"
          ]
        }
      ]
    },
    {
      "cell_type": "code",
      "source": [
        "metric_to_plot = \"loss\"\n",
        "plt.plot(range(1, max(history.epoch) + 2), history.history[metric_to_plot], \".:\", label=\"Training loss\")\n",
        "plt.plot(range(1, max(history.epoch) + 2), history.history[\"val_\" + metric_to_plot], \".:\", label=\"Validation loss\")\n",
        "plt.title('Training and Validation Loss')\n",
        "plt.xlim([1,max(history.epoch) + 2])\n",
        "plt.xticks(range(1, max(history.epoch) + 2))\n",
        "plt.legend()\n",
        "plt.show()\n"
      ],
      "metadata": {
        "colab": {
          "base_uri": "https://localhost:8080/",
          "height": 857
        },
        "id": "HwjUsKJbazJl",
        "outputId": "ef3d2151-aeb9-4a7f-c7c7-987696b45684"
      },
      "execution_count": 45,
      "outputs": [
        {
          "output_type": "display_data",
          "data": {
            "text/plain": [
              "<Figure size 1000x1000 with 1 Axes>"
            ],
            "image/png": "[encoded data removed]"
          },
          "metadata": {}
        }
      ]
    },
    {
      "cell_type": "code",
      "source": [
        "model = keras.models.load_model(best_model_file_name)\n",
        "y_pred = (model.predict(x_test) > 0.5).astype(\"int32\")\n",
        "print('Accuracy: ', accuracy_score(y_test, y_pred))\n",
        "print('Precision: ', precision_score(y_test, y_pred))\n",
        "print('Recall: ', recall_score(y_test, y_pred))\n",
        "print('F1 Score: ', f1_score(y_test, y_pred))"
      ],
      "metadata": {
        "colab": {
          "base_uri": "https://localhost:8080/"
        },
        "id": "VzsvLGkhbU1w",
        "outputId": "102052b4-cdad-43db-9b4c-32325ca19a14"
      },
      "execution_count": 46,
      "outputs": [
        {
          "output_type": "stream",
          "name": "stdout",
          "text": [
            "130/130 [==============================] - 1s 2ms/step\n",
            "Accuracy:  0.8920673076923077\n",
            "Precision:  0.9036855036855037\n",
            "Recall:  0.8790630975143403\n",
            "F1 Score:  0.8912042645989823\n"
          ]
        }
      ]
    },
    {
      "cell_type": "markdown",
      "source": [
        "# Using Pre-trained GloVe Embedding\n",
        "\n",
        "Using Pre-trained GloVe Embedding\n",
        "https://machinelearningmastery.com/use-word-embedding-layers-deep-learning-keras/"
      ],
      "metadata": {
        "id": "bXrHjUFzbcsW"
      }
    },
    {
      "cell_type": "code",
      "source": [
        "!wget http://nlp.stanford.edu/data/glove.6B.zip\n",
        "!unzip glove*.zip"
      ],
      "metadata": {
        "colab": {
          "base_uri": "https://localhost:8080/"
        },
        "id": "BF4eBM0vb-0P",
        "outputId": "f4fb1b04-459a-4da7-9b5d-705b1158119c"
      },
      "execution_count": 47,
      "outputs": [
        {
          "output_type": "stream",
          "name": "stdout",
          "text": [
            "--2023-08-09 14:27:44--  http://nlp.stanford.edu/data/glove.6B.zip\n",
            "Resolving nlp.stanford.edu (nlp.stanford.edu)... 171.64.67.140\n",
            "Connecting to nlp.stanford.edu (nlp.stanford.edu)|171.64.67.140|:80... connected.\n",
            "HTTP request sent, awaiting response... 302 Found\n",
            "Location: https://nlp.stanford.edu/data/glove.6B.zip [following]\n",
            "--2023-08-09 14:27:44--  https://nlp.stanford.edu/data/glove.6B.zip\n",
            "Connecting to nlp.stanford.edu (nlp.stanford.edu)|171.64.67.140|:443... connected.\n",
            "HTTP request sent, awaiting response... 301 Moved Permanently\n",
            "Location: https://downloads.cs.stanford.edu/nlp/data/glove.6B.zip [following]\n",
            "--2023-08-09 14:27:44--  https://downloads.cs.stanford.edu/nlp/data/glove.6B.zip\n",
            "Resolving downloads.cs.stanford.edu (downloads.cs.stanford.edu)... 171.64.64.22\n",
            "Connecting to downloads.cs.stanford.edu (downloads.cs.stanford.edu)|171.64.64.22|:443... connected.\n",
            "HTTP request sent, awaiting response... 200 OK\n",
            "Length: 862182613 (822M) [application/zip]\n",
            "Saving to: ‘glove.6B.zip’\n",
            "\n",
            "glove.6B.zip        100%[===================>] 822.24M  5.05MB/s    in 2m 40s  \n",
            "\n",
            "2023-08-09 14:30:25 (5.13 MB/s) - ‘glove.6B.zip’ saved [862182613/862182613]\n",
            "\n",
            "Archive:  glove.6B.zip\n",
            "  inflating: glove.6B.50d.txt        \n",
            "  inflating: glove.6B.100d.txt       \n",
            "  inflating: glove.6B.200d.txt       \n",
            "  inflating: glove.6B.300d.txt       \n"
          ]
        }
      ]
    },
    {
      "cell_type": "markdown",
      "source": [
        "These lines of code are used to download and unzip the GloVe word vectors dataset in a Jupyter Notebook or a similar interactive environment. Here's a breakdown of what each line does:\n",
        "\n",
        "1. `!wget http://nlp.stanford.edu/data/glove.6B.zip`: This line uses the `wget` command (as indicated by the `!` at the beginning) to download the GloVe word vectors dataset with 6 billion tokens from the specified URL (`http://nlp.stanford.edu/data/glove.6B.zip`).\n",
        "\n",
        "2. `!unzip glove*.zip`: This line uses the `unzip` command to extract the contents of the downloaded ZIP file. The `glove*.zip` specifies that any ZIP file in the current directory with a name starting with \"glove\" and ending with \".zip\" should be extracted.\n",
        "\n",
        "Together, these two lines of code will download the GloVe dataset and then extract its contents, making the pre-trained word vectors available for use in your code. GloVe word vectors are often used in natural language processing tasks to represent words in a dense vector space, capturing semantic relationships between words."
      ],
      "metadata": {
        "id": "ToVOCyaGcNiQ"
      }
    },
    {
      "cell_type": "code",
      "source": [
        "# List files in the current directory\n",
        "!ls\n"
      ],
      "metadata": {
        "colab": {
          "base_uri": "https://localhost:8080/"
        },
        "id": "2rUWk-uqcpHr",
        "outputId": "47428bab-9c1c-409a-d3a4-337bc31b0720"
      },
      "execution_count": 48,
      "outputs": [
        {
          "output_type": "stream",
          "name": "stdout",
          "text": [
            "drive\t\t   glove.6B.200d.txt  glove.6B.50d.txt\tmodels\n",
            "glove.6B.100d.txt  glove.6B.300d.txt  glove.6B.zip\tsample_data\n"
          ]
        }
      ]
    },
    {
      "cell_type": "code",
      "source": [
        "# List specific files\n",
        "!ls glove*.txt\n"
      ],
      "metadata": {
        "colab": {
          "base_uri": "https://localhost:8080/"
        },
        "id": "xYWgEf4pdrV0",
        "outputId": "6de3096d-1d28-48ff-e0cf-90d2c8a27b7e"
      },
      "execution_count": 49,
      "outputs": [
        {
          "output_type": "stream",
          "name": "stdout",
          "text": [
            "glove.6B.100d.txt  glove.6B.200d.txt  glove.6B.300d.txt  glove.6B.50d.txt\n"
          ]
        }
      ]
    },
    {
      "cell_type": "code",
      "source": [
        "import numpy as np\n",
        "\n",
        "# Path to the GloVe embeddings file in your Colab environment\n",
        "glove_path = '/content/glove.6B.300d.txt'  # Modify this path according to your Colab environment\n",
        "\n",
        "# Load GloVe embeddings\n",
        "embeddings_index = dict()\n",
        "with open(glove_path, encoding='utf-8') as f:\n",
        "    for line in f:\n",
        "        values = line.split()\n",
        "        word = values[0]\n",
        "        coefs = np.asarray(values[1:], dtype='float32')\n",
        "        embeddings_index[word] = coefs\n",
        "\n",
        "print('Loaded {} word vectors.'.format(len(embeddings_index)))\n"
      ],
      "metadata": {
        "colab": {
          "base_uri": "https://localhost:8080/"
        },
        "id": "qmgW_3xbeu9p",
        "outputId": "3fc6a07f-bbe7-4abc-d32c-ca37bb63d4e3"
      },
      "execution_count": 50,
      "outputs": [
        {
          "output_type": "stream",
          "name": "stdout",
          "text": [
            "Loaded 400000 word vectors.\n"
          ]
        }
      ]
    },
    {
      "cell_type": "code",
      "source": [
        "%%time\n",
        "# The '%%time' magic command is likely being used in a Jupyter Notebook or IPython environment to measure the execution time of the code block.\n",
        "\n",
        "# create a weight matrix for words in training docs\n",
        "\n",
        "# This line calculates the vocabulary size for the words in the training data using the 'tokenizer.word_index' dictionary.\n",
        "vocab_size = len(tokenizer.word_index) + 1\n",
        "\n",
        "# This line initializes an embedding matrix with zeros. The matrix will have dimensions (vocab_size, 300), where each row corresponds to a word in the vocabulary,\n",
        "# and each column represents a dimension in the embedding space (here, 300 dimensions).\n",
        "embedding_matrix = np.zeros((vocab_size, 300))\n",
        "\n",
        "# This loop iterates over each word in the 'tokenizer.word_index' dictionary along with its corresponding index 'i'.\n",
        "for word, i in tokenizer.word_index.items():\n",
        "    # This line attempts to retrieve the pre-trained embedding vector for the current word from the 'embeddings_index' dictionary.\n",
        "    embedding_vector = embeddings_index.get(word)\n",
        "\n",
        "    # If a valid embedding vector is found for the current word (i.e., it's not 'None'), the corresponding row in the 'embedding_matrix' is updated with the embedding vector.\n",
        "    if embedding_vector is not None:\n",
        "        embedding_matrix[i] = embedding_vector\n"
      ],
      "metadata": {
        "id": "Se93EPppflJ2",
        "colab": {
          "base_uri": "https://localhost:8080/"
        },
        "outputId": "2635b3b5-812d-4226-89fc-4d0152d77309"
      },
      "execution_count": 51,
      "outputs": [
        {
          "output_type": "stream",
          "name": "stdout",
          "text": [
            "CPU times: user 438 ms, sys: 189 ms, total: 627 ms\n",
            "Wall time: 761 ms\n"
          ]
        }
      ]
    },
    {
      "cell_type": "markdown",
      "source": [
        "In summary, this code block calculates the vocabulary size of words in the training data, initializes an embedding matrix with zeros, and then populates the matrix with pre-trained word embedding vectors (if available) for the words in the training data, based on their indices. This embedding matrix can later be used as part of a neural network model for various natural language processing tasks.\n",
        "\n",
        "\n",
        "\n",
        "\n",
        "\n"
      ],
      "metadata": {
        "id": "QOkssCmTuR44"
      }
    },
    {
      "cell_type": "markdown",
      "source": [
        "# Simple Classification Model for glove"
      ],
      "metadata": {
        "id": "Yxm3pRTkvGye"
      }
    },
    {
      "cell_type": "code",
      "source": [
        "best_model_file_name = \"models/best_model_simple_with_GloVe.hdf5\"\n",
        "\n",
        "def get_simple_GloVe_model():\n",
        "    model = Sequential()\n",
        "    model.add(Embedding(vocab_size,\n",
        "                        300,\n",
        "                        weights=[embedding_matrix],\n",
        "                        input_length=max_length,\n",
        "                        trainable=False))\n",
        "    model.add(Flatten())\n",
        "    model.add(Dense(1, activation='sigmoid'))\n",
        "    return model\n",
        "\n",
        "callbacks=[\n",
        "    keras.callbacks.EarlyStopping(monitor=\"val_loss\",\n",
        "                                  patience=15,\n",
        "                                  verbose=1,\n",
        "                                  mode=\"min\",\n",
        "                                  restore_best_weights=True),\n",
        "    keras.callbacks.ModelCheckpoint(filepath=best_model_file_name,\n",
        "                                    verbose=1,\n",
        "                                    save_best_only=True)\n",
        "]\n",
        "\n",
        "model = get_simple_GloVe_model()\n",
        "print(model.summary())\n",
        "\n",
        "model.compile(loss='binary_crossentropy',\n",
        "              optimizer='adam',\n",
        "              metrics=[tf.keras.metrics.Precision(), tf.keras.metrics.Recall()])\n",
        "\n",
        "history = model.fit(x_train,\n",
        "                    y_train,\n",
        "                    epochs=50,\n",
        "                    validation_data=(x_test, y_test),\n",
        "                    callbacks=callbacks)"
      ],
      "metadata": {
        "colab": {
          "base_uri": "https://localhost:8080/"
        },
        "id": "hBDE-SLGwA3a",
        "outputId": "57c22ff6-b375-4a75-ae3f-6c1e60b20b4a"
      },
      "execution_count": 54,
      "outputs": [
        {
          "output_type": "stream",
          "name": "stdout",
          "text": [
            "Model: \"sequential_4\"\n",
            "_________________________________________________________________\n",
            " Layer (type)                Output Shape              Param #   \n",
            "=================================================================\n",
            " embedding_4 (Embedding)     (None, 40, 300)           79739100  \n",
            "                                                                 \n",
            " flatten_3 (Flatten)         (None, 12000)             0         \n",
            "                                                                 \n",
            " dense_5 (Dense)             (None, 1)                 12001     \n",
            "                                                                 \n",
            "=================================================================\n",
            "Total params: 79,751,101\n",
            "Trainable params: 12,001\n",
            "Non-trainable params: 79,739,100\n",
            "_________________________________________________________________\n",
            "None\n",
            "Epoch 1/50\n",
            "517/520 [============================>.] - ETA: 0s - loss: 0.4285 - precision_4: 0.7906 - recall_4: 0.8014\n",
            "Epoch 1: val_loss improved from inf to 0.38861, saving model to models/best_model_simple_with_GloVe.hdf5\n",
            "520/520 [==============================] - 4s 7ms/step - loss: 0.4274 - precision_4: 0.7913 - recall_4: 0.8021 - val_loss: 0.3886 - val_precision_4: 0.7868 - val_recall_4: 0.8858\n",
            "Epoch 2/50\n",
            "520/520 [==============================] - ETA: 0s - loss: 0.3002 - precision_4: 0.8647 - recall_4: 0.8781\n",
            "Epoch 2: val_loss improved from 0.38861 to 0.38250, saving model to models/best_model_simple_with_GloVe.hdf5\n",
            "520/520 [==============================] - 5s 9ms/step - loss: 0.3002 - precision_4: 0.8647 - recall_4: 0.8781 - val_loss: 0.3825 - val_precision_4: 0.8349 - val_recall_4: 0.8145\n",
            "Epoch 3/50\n",
            "519/520 [============================>.] - ETA: 0s - loss: 0.2499 - precision_4: 0.8968 - recall_4: 0.9032\n",
            "Epoch 3: val_loss did not improve from 0.38250\n",
            "520/520 [==============================] - 2s 3ms/step - loss: 0.2498 - precision_4: 0.8970 - recall_4: 0.9029 - val_loss: 0.4021 - val_precision_4: 0.8570 - val_recall_4: 0.7763\n",
            "Epoch 4/50\n",
            "517/520 [============================>.] - ETA: 0s - loss: 0.2159 - precision_4: 0.9166 - recall_4: 0.9237\n",
            "Epoch 4: val_loss did not improve from 0.38250\n",
            "520/520 [==============================] - 2s 3ms/step - loss: 0.2158 - precision_4: 0.9165 - recall_4: 0.9237 - val_loss: 0.4159 - val_precision_4: 0.8667 - val_recall_4: 0.7710\n",
            "Epoch 5/50\n",
            "506/520 [============================>.] - ETA: 0s - loss: 0.1963 - precision_4: 0.9260 - recall_4: 0.9274\n",
            "Epoch 5: val_loss did not improve from 0.38250\n",
            "520/520 [==============================] - 2s 3ms/step - loss: 0.1963 - precision_4: 0.9258 - recall_4: 0.9273 - val_loss: 0.4358 - val_precision_4: 0.7843 - val_recall_4: 0.8862\n",
            "Epoch 6/50\n",
            "505/520 [============================>.] - ETA: 0s - loss: 0.1713 - precision_4: 0.9372 - recall_4: 0.9400\n",
            "Epoch 6: val_loss did not improve from 0.38250\n",
            "520/520 [==============================] - 2s 3ms/step - loss: 0.1725 - precision_4: 0.9372 - recall_4: 0.9392 - val_loss: 0.4290 - val_precision_4: 0.8339 - val_recall_4: 0.8136\n",
            "Epoch 7/50\n",
            "519/520 [============================>.] - ETA: 0s - loss: 0.1582 - precision_4: 0.9452 - recall_4: 0.9477\n",
            "Epoch 7: val_loss did not improve from 0.38250\n",
            "520/520 [==============================] - 2s 3ms/step - loss: 0.1582 - precision_4: 0.9451 - recall_4: 0.9478 - val_loss: 0.4489 - val_precision_4: 0.8007 - val_recall_4: 0.8509\n",
            "Epoch 8/50\n",
            "519/520 [============================>.] - ETA: 0s - loss: 0.1437 - precision_4: 0.9544 - recall_4: 0.9529\n",
            "Epoch 8: val_loss did not improve from 0.38250\n",
            "520/520 [==============================] - 2s 3ms/step - loss: 0.1439 - precision_4: 0.9545 - recall_4: 0.9526 - val_loss: 0.4587 - val_precision_4: 0.8109 - val_recall_4: 0.8466\n",
            "Epoch 9/50\n",
            "517/520 [============================>.] - ETA: 0s - loss: 0.1322 - precision_4: 0.9586 - recall_4: 0.9581\n",
            "Epoch 9: val_loss did not improve from 0.38250\n",
            "520/520 [==============================] - 3s 5ms/step - loss: 0.1323 - precision_4: 0.9589 - recall_4: 0.9578 - val_loss: 0.4765 - val_precision_4: 0.8166 - val_recall_4: 0.8298\n",
            "Epoch 10/50\n",
            "508/520 [============================>.] - ETA: 0s - loss: 0.1215 - precision_4: 0.9642 - recall_4: 0.9658\n",
            "Epoch 10: val_loss did not improve from 0.38250\n",
            "520/520 [==============================] - 2s 3ms/step - loss: 0.1217 - precision_4: 0.9643 - recall_4: 0.9651 - val_loss: 0.4917 - val_precision_4: 0.8105 - val_recall_4: 0.8298\n",
            "Epoch 11/50\n",
            "514/520 [============================>.] - ETA: 0s - loss: 0.1111 - precision_4: 0.9703 - recall_4: 0.9684\n",
            "Epoch 11: val_loss did not improve from 0.38250\n",
            "520/520 [==============================] - 2s 3ms/step - loss: 0.1115 - precision_4: 0.9701 - recall_4: 0.9684 - val_loss: 0.5057 - val_precision_4: 0.8157 - val_recall_4: 0.8250\n",
            "Epoch 12/50\n",
            "509/520 [============================>.] - ETA: 0s - loss: 0.1024 - precision_4: 0.9722 - recall_4: 0.9743\n",
            "Epoch 12: val_loss did not improve from 0.38250\n",
            "520/520 [==============================] - 2s 3ms/step - loss: 0.1030 - precision_4: 0.9718 - recall_4: 0.9733 - val_loss: 0.5260 - val_precision_4: 0.8304 - val_recall_4: 0.7959\n",
            "Epoch 13/50\n",
            "511/520 [============================>.] - ETA: 0s - loss: 0.0954 - precision_4: 0.9759 - recall_4: 0.9760\n",
            "Epoch 13: val_loss did not improve from 0.38250\n",
            "520/520 [==============================] - 2s 3ms/step - loss: 0.0960 - precision_4: 0.9756 - recall_4: 0.9756 - val_loss: 0.5401 - val_precision_4: 0.8210 - val_recall_4: 0.8093\n",
            "Epoch 14/50\n",
            "513/520 [============================>.] - ETA: 0s - loss: 0.0895 - precision_4: 0.9774 - recall_4: 0.9782\n",
            "Epoch 14: val_loss did not improve from 0.38250\n",
            "520/520 [==============================] - 2s 3ms/step - loss: 0.0899 - precision_4: 0.9774 - recall_4: 0.9775 - val_loss: 0.5580 - val_precision_4: 0.8195 - val_recall_4: 0.8093\n",
            "Epoch 15/50\n",
            "520/520 [==============================] - ETA: 0s - loss: 0.0824 - precision_4: 0.9823 - recall_4: 0.9815\n",
            "Epoch 15: val_loss did not improve from 0.38250\n",
            "520/520 [==============================] - 2s 3ms/step - loss: 0.0824 - precision_4: 0.9823 - recall_4: 0.9815 - val_loss: 0.5746 - val_precision_4: 0.8128 - val_recall_4: 0.8155\n",
            "Epoch 16/50\n",
            "515/520 [============================>.] - ETA: 0s - loss: 0.0752 - precision_4: 0.9863 - recall_4: 0.9841\n",
            "Epoch 16: val_loss did not improve from 0.38250\n",
            "520/520 [==============================] - 2s 4ms/step - loss: 0.0754 - precision_4: 0.9861 - recall_4: 0.9839 - val_loss: 0.5873 - val_precision_4: 0.8148 - val_recall_4: 0.8117\n",
            "Epoch 17/50\n",
            "516/520 [============================>.] - ETA: 0s - loss: 0.0707 - precision_4: 0.9892 - recall_4: 0.9856Restoring model weights from the end of the best epoch: 2.\n",
            "\n",
            "Epoch 17: val_loss did not improve from 0.38250\n",
            "520/520 [==============================] - 3s 5ms/step - loss: 0.0709 - precision_4: 0.9893 - recall_4: 0.9855 - val_loss: 0.6047 - val_precision_4: 0.8300 - val_recall_4: 0.7911\n",
            "Epoch 17: early stopping\n"
          ]
        }
      ]
    },
    {
      "cell_type": "code",
      "source": [
        "metric_to_plot = \"loss\"\n",
        "plt.plot(range(1, max(history.epoch) + 2), history.history[metric_to_plot], \".:\", label=\"Training loss\")\n",
        "plt.plot(range(1, max(history.epoch) + 2), history.history[\"val_\" + metric_to_plot], \".:\", label=\"Validation loss\")\n",
        "plt.title('Training and Validation Loss')\n",
        "plt.xlim([1,max(history.epoch) + 2])\n",
        "plt.xticks(range(1, max(history.epoch) + 2))\n",
        "plt.legend()\n",
        "plt.show()"
      ],
      "metadata": {
        "colab": {
          "base_uri": "https://localhost:8080/",
          "height": 857
        },
        "id": "eQjR7RtRxU5-",
        "outputId": "b3d2ee68-913c-4a16-8222-ccdc5f5592bb"
      },
      "execution_count": 55,
      "outputs": [
        {
          "output_type": "display_data",
          "data": {
            "text/plain": [
              "<Figure size 1000x1000 with 1 Axes>"
            ],
            "image/png": "[encoded data removed]"
          },
          "metadata": {}
        }
      ]
    },
    {
      "cell_type": "code",
      "source": [
        "model.history"
      ],
      "metadata": {
        "colab": {
          "base_uri": "https://localhost:8080/"
        },
        "id": "AmTZFHMAyhB6",
        "outputId": "b44d6af3-7ed6-470e-d24d-4a4cee9c0975"
      },
      "execution_count": 57,
      "outputs": [
        {
          "output_type": "execute_result",
          "data": {
            "text/plain": [
              "<keras.callbacks.History at 0x7dd2b46d34f0>"
            ]
          },
          "metadata": {},
          "execution_count": 57
        }
      ]
    },
    {
      "cell_type": "code",
      "source": [
        "model = keras.models.load_model(best_model_file_name)\n",
        "y_pred = (model.predict(x_test) > 0.5).astype(\"int32\")\n",
        "print('Accuracy: ', accuracy_score(y_test, y_pred))\n",
        "print('Precision: ', precision_score(y_test, y_pred))\n",
        "print('Recall: ', recall_score(y_test, y_pred))\n",
        "print('F1 Score: ', f1_score(y_test, y_pred))\n"
      ],
      "metadata": {
        "colab": {
          "base_uri": "https://localhost:8080/"
        },
        "id": "PprEJhNM1tvd",
        "outputId": "bb6f849a-4a93-4536-8a39-840333b287fa"
      },
      "execution_count": 58,
      "outputs": [
        {
          "output_type": "stream",
          "name": "stdout",
          "text": [
            "130/130 [==============================] - 0s 2ms/step\n",
            "Accuracy:  0.8257211538461539\n",
            "Precision:  0.8348848603625674\n",
            "Recall:  0.8145315487571702\n",
            "F1 Score:  0.8245826276312606\n"
          ]
        }
      ]
    },
    {
      "cell_type": "code",
      "source": [
        "# Confusion Matrix\n",
        "from sklearn.metrics import confusion_matrix\n",
        "cm = confusion_matrix(y_test, y_pred)\n",
        "plt.figure(figsize=(8, 6))\n",
        "sns.heatmap(cm, annot=True, fmt=\"d\", cmap=\"Blues\", xticklabels=[\"Negative\", \"Positive\"], yticklabels=[\"Negative\", \"Positive\"])\n",
        "plt.title(\"Confusion Matrix\")\n",
        "plt.xlabel(\"Predicted\")\n",
        "plt.ylabel(\"Actual\")\n",
        "plt.show()"
      ],
      "metadata": {
        "colab": {
          "base_uri": "https://localhost:8080/",
          "height": 573
        },
        "id": "O7RciH4M231d",
        "outputId": "ef47b380-9c54-414d-9c3d-40192d26d684"
      },
      "execution_count": 62,
      "outputs": [
        {
          "output_type": "display_data",
          "data": {
            "text/plain": [
              "<Figure size 800x600 with 2 Axes>"
            ],
            "image/png": "[encoded data removed]"
          },
          "metadata": {}
        }
      ]
    },
    {
      "cell_type": "code",
      "source": [
        "# Generate confusion matrix\n",
        "cm = confusion_matrix(y_test, y_pred)\n",
        "\n",
        "# Visualize confusion matrix as a bar chart\n",
        "plt.figure(figsize=(8, 6))\n",
        "sns.set(style=\"whitegrid\")\n",
        "sns.barplot(x=[\"Negative\", \"Positive\"], y=[cm[0, 0], cm[1, 1]], color=\"blue\", label=\"Correct\")\n",
        "sns.barplot(x=[\"Negative\", \"Positive\"], y=[cm[0, 1], cm[1, 0]], color=\"orange\", label=\"Incorrect\")\n",
        "plt.title(\"Confusion Matrix - Bar Chart\")\n",
        "plt.xlabel(\"Actual\")\n",
        "plt.ylabel(\"Count\")\n",
        "plt.legend()\n",
        "plt.show()"
      ],
      "metadata": {
        "colab": {
          "base_uri": "https://localhost:8080/",
          "height": 573
        },
        "id": "SboWCV_s48J4",
        "outputId": "94387a7b-3131-4a59-f1c0-dde419da686e"
      },
      "execution_count": 63,
      "outputs": [
        {
          "output_type": "display_data",
          "data": {
            "text/plain": [
              "<Figure size 800x600 with 1 Axes>"
            ],
            "image/png": "[encoded data removed]"
          },
          "metadata": {}
        }
      ]
    },
    {
      "cell_type": "markdown",
      "source": [
        "# Converting our model to Tflite for easy mobile deloyment"
      ],
      "metadata": {
        "id": "bMFRVres7f5a"
      }
    },
    {
      "cell_type": "code",
      "source": [
        "from tensorflow.keras.models import load_model\n",
        "\n",
        "model_path = '/content/models/best_model_simple_with_GloVe.hdf5'\n",
        "keras_model = load_model(model_path)\n"
      ],
      "metadata": {
        "id": "DmBz5x4K-FVc"
      },
      "execution_count": 65,
      "outputs": []
    },
    {
      "cell_type": "code",
      "source": [
        "# Convert the model to TFLite format\n",
        "converter = tf.lite.TFLiteConverter.from_keras_model(keras_model)\n",
        "tflite_model = converter.convert()\n"
      ],
      "metadata": {
        "colab": {
          "base_uri": "https://localhost:8080/"
        },
        "id": "KaPPCgMz-HNQ",
        "outputId": "617cec3a-940a-462b-83cf-a7710e11e934"
      },
      "execution_count": 66,
      "outputs": [
        {
          "output_type": "stream",
          "name": "stderr",
          "text": [
            "WARNING:absl:Found untraced functions such as _update_step_xla while saving (showing 1 of 1). These functions will not be directly callable after loading.\n"
          ]
        }
      ]
    },
    {
      "cell_type": "code",
      "source": [
        "tflite_model_path = '/content/models/best_model_simple_with_GloVe.tflite'\n",
        "with open(tflite_model_path, 'wb') as f:\n",
        "    f.write(tflite_model)\n"
      ],
      "metadata": {
        "id": "4mW38Xxq-MBW"
      },
      "execution_count": 67,
      "outputs": []
    },
    {
      "cell_type": "code",
      "source": [
        "import numpy as np\n",
        "from sklearn.metrics import accuracy_score, precision_score, recall_score, f1_score\n",
        "import tensorflow as tf\n",
        "\n",
        "# Load the TFLite model\n",
        "tflite_model_path = '/content/models/best_model_simple_with_GloVe.tflite'\n",
        "interpreter = tf.lite.Interpreter(model_path=tflite_model_path)\n",
        "interpreter.allocate_tensors()\n",
        "\n",
        "\n",
        "# Run inference on the TFLite model\n",
        "y_pred = []\n",
        "for x in x_test:\n",
        "    x = np.expand_dims(x, axis=0).astype(np.float32)\n",
        "    interpreter.set_tensor(interpreter.get_input_details()[0]['index'], x)\n",
        "    interpreter.invoke()\n",
        "    output = interpreter.get_tensor(interpreter.get_output_details()[0]['index'])\n",
        "    y_pred.append(output)\n",
        "\n",
        "y_pred = np.array(y_pred).squeeze().astype(\"int32\")\n",
        "\n",
        "# Calculate evaluation metrics\n",
        "accuracy = accuracy_score(y_test, y_pred)\n",
        "precision = precision_score(y_test, y_pred)\n",
        "recall = recall_score(y_test, y_pred)\n",
        "f1 = f1_score(y_test, y_pred)\n",
        "\n",
        "print('Accuracy:', accuracy)\n",
        "print('Precision:', precision)\n",
        "print('Recall:', recall)\n",
        "print('F1 Score:', f1)\n"
      ],
      "metadata": {
        "colab": {
          "base_uri": "https://localhost:8080/"
        },
        "id": "W1UtgLff-4Gd",
        "outputId": "47e395fd-d829-480c-92ce-5797545858f1"
      },
      "execution_count": 69,
      "outputs": [
        {
          "output_type": "stream",
          "name": "stdout",
          "text": [
            "Accuracy: 0.4971153846153846\n",
            "Precision: 0.0\n",
            "Recall: 0.0\n",
            "F1 Score: 0.0\n"
          ]
        }
      ]
    },
    {
      "cell_type": "markdown",
      "source": [
        "The results you're seeing indicate that the model's performance is very poor, with precision, recall, and F1 score all being zero, and the accuracy being around 0.5. This suggests that the model's predictions are not aligned with the ground truth labels, which could be due to various reasons:\n",
        "\n",
        "1. **Data Mismatch or Preprocessing:** Ensure that you are preprocessing the test data in the same way it was preprocessed during training. If the input data is not properly preprocessed before inference, the model's predictions will likely be incorrect.\n",
        "\n",
        "2. **Input Shape and Data Type:** Make sure that you are feeding the input data in the correct shape and data type expected by the TFLite model. Incorrect input shapes or data types can lead to unpredictable results.\n",
        "\n",
        "3. **Output Interpretation:** Check how the output of the TFLite model is being interpreted. If the TFLite model produces continuous values, you might need to apply a threshold to convert them into binary predictions (0 or 1).\n",
        "\n",
        "4. **Model Conversion Issues:** The conversion from Keras to TFLite might have introduced issues. Ensure that the conversion process went smoothly and there were no errors or warnings.\n",
        "\n",
        "5. **Model Architecture:** Consider checking if the architecture of the model used for training and inference is the same. If there were any changes, it could lead to poor performance.\n",
        "\n",
        "6. **Training and Data Issues:** If the model was not trained properly or the training data is significantly different from the test data, the model may perform poorly on the test set.\n",
        "\n",
        "7. **Class Imbalance:** If your dataset has a severe class imbalance, a model that predicts the majority class for all samples might still achieve around 50% accuracy, even though its overall performance is poor.\n",
        "\n",
        "To diagnose and address the issue, you might want to start by comparing your preprocessing steps during training and inference, carefully inspect the input and output shapes and data types, and review the model architecture and training process. Additionally, you could try testing the TFLite model on a different dataset or a small subset of your test data to see if the issue persists.\n",
        "\n",
        "this result was gotten after i converted the original  model to tflite"
      ],
      "metadata": {
        "id": "S_iPubB9_sL_"
      }
    }
  ]
}