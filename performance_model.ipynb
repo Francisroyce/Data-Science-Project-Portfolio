{
 "cells": [
  {
   "cell_type": "markdown",
   "id": "dab2c96c-c5df-49b1-a8e2-6b6b24f8ea3a",
   "metadata": {},
   "source": [
    "# Assessing the dataset"
   ]
  },
  {
   "cell_type": "code",
   "execution_count": 1582,
   "id": "c933941b-5fbe-4c88-84db-c6e72e01a15a",
   "metadata": {},
   "outputs": [],
   "source": [
    "import pandas as pd"
   ]
  },
  {
   "cell_type": "code",
   "execution_count": 1583,
   "id": "3422e8b0-20f0-49c4-bbd6-6886cd886b10",
   "metadata": {},
   "outputs": [],
   "source": [
    "df = pd.read_csv('student_performance_dataset.csv')"
   ]
  },
  {
   "cell_type": "code",
   "execution_count": 1585,
   "id": "fdd15678-63ad-487d-b2f5-8c3f8aafe4d9",
   "metadata": {},
   "outputs": [
    {
     "data": {
      "text/html": [
       "<div>\n",
       "<style scoped>\n",
       "    .dataframe tbody tr th:only-of-type {\n",
       "        vertical-align: middle;\n",
       "    }\n",
       "\n",
       "    .dataframe tbody tr th {\n",
       "        vertical-align: top;\n",
       "    }\n",
       "\n",
       "    .dataframe thead th {\n",
       "        text-align: right;\n",
       "    }\n",
       "</style>\n",
       "<table border=\"1\" class=\"dataframe\">\n",
       "  <thead>\n",
       "    <tr style=\"text-align: right;\">\n",
       "      <th></th>\n",
       "      <th>What is your age?</th>\n",
       "      <th>What is your gender?</th>\n",
       "      <th>What is your level of education?</th>\n",
       "      <th>What year of study are you in?</th>\n",
       "      <th>What is your socioeconomic status?</th>\n",
       "      <th>What is your current marital status?</th>\n",
       "      <th>What is your primary field of study?</th>\n",
       "      <th>What is your cumulative GPA?</th>\n",
       "      <th>What is your current mode of learning?</th>\n",
       "      <th>What is your primary reason for choosing this learning mode?</th>\n",
       "      <th>...</th>\n",
       "      <th>How frequently do you review your notes or course materials?</th>\n",
       "      <th>How would you rate your academic performance in your current learning mode?</th>\n",
       "      <th>How do you assess your understanding of course materials?</th>\n",
       "      <th>How satisfied are you with the feedback you receive on your assignments?</th>\n",
       "      <th>Do you feel that your current learning mode effectively supports your academic goals?</th>\n",
       "      <th>How do you usually prepare for exams?  Select the option that applies the most:</th>\n",
       "      <th>What major challenge do you face in your current mode of learning?</th>\n",
       "      <th>Do you feel you have adequate support from instructors in your current learning mode?</th>\n",
       "      <th>How often do you collaborate with classmates on projects or assignments?</th>\n",
       "      <th>On a scale of 1 to 10, how would you rate your learning environment</th>\n",
       "    </tr>\n",
       "  </thead>\n",
       "  <tbody>\n",
       "    <tr>\n",
       "      <th>0</th>\n",
       "      <td>27</td>\n",
       "      <td>Male</td>\n",
       "      <td>Undergraduate</td>\n",
       "      <td>First Year</td>\n",
       "      <td>High Income</td>\n",
       "      <td>Widowed</td>\n",
       "      <td>Engineering</td>\n",
       "      <td>3.50-4.49</td>\n",
       "      <td>In-person</td>\n",
       "      <td>Institutional requirement</td>\n",
       "      <td>...</td>\n",
       "      <td>Rarely</td>\n",
       "      <td>Poor</td>\n",
       "      <td>Somewhat confident</td>\n",
       "      <td>Very dissatisfied</td>\n",
       "      <td>Yes</td>\n",
       "      <td>Online resources</td>\n",
       "      <td>Inaccessibility of resources</td>\n",
       "      <td>No</td>\n",
       "      <td>Often</td>\n",
       "      <td>9</td>\n",
       "    </tr>\n",
       "    <tr>\n",
       "      <th>1</th>\n",
       "      <td>20</td>\n",
       "      <td>Male</td>\n",
       "      <td>Postgraduate</td>\n",
       "      <td>First Year</td>\n",
       "      <td>High Income</td>\n",
       "      <td>Widowed</td>\n",
       "      <td>Sciences</td>\n",
       "      <td>3.50-4.49</td>\n",
       "      <td>In-person</td>\n",
       "      <td>Personal Preference</td>\n",
       "      <td>...</td>\n",
       "      <td>Weekly</td>\n",
       "      <td>Very Poor</td>\n",
       "      <td>Very unconfident</td>\n",
       "      <td>Neutral</td>\n",
       "      <td>Yes</td>\n",
       "      <td>Self-study</td>\n",
       "      <td>Lack of engagement</td>\n",
       "      <td>Yes</td>\n",
       "      <td>Sometimes</td>\n",
       "      <td>7</td>\n",
       "    </tr>\n",
       "    <tr>\n",
       "      <th>2</th>\n",
       "      <td>38</td>\n",
       "      <td>Female</td>\n",
       "      <td>Postgraduate</td>\n",
       "      <td>Fourth year and above</td>\n",
       "      <td>Low Income</td>\n",
       "      <td>Widowed</td>\n",
       "      <td>Other</td>\n",
       "      <td>4.50-5.00</td>\n",
       "      <td>In-person</td>\n",
       "      <td>Other</td>\n",
       "      <td>...</td>\n",
       "      <td>Weekly</td>\n",
       "      <td>Good</td>\n",
       "      <td>Somewhat confident</td>\n",
       "      <td>Dissatisfied</td>\n",
       "      <td>No</td>\n",
       "      <td>Online resources</td>\n",
       "      <td>Others</td>\n",
       "      <td>No</td>\n",
       "      <td>Often</td>\n",
       "      <td>5</td>\n",
       "    </tr>\n",
       "    <tr>\n",
       "      <th>3</th>\n",
       "      <td>38</td>\n",
       "      <td>Male</td>\n",
       "      <td>Undergraduate</td>\n",
       "      <td>Third year</td>\n",
       "      <td>Middle Income</td>\n",
       "      <td>Single</td>\n",
       "      <td>Sciences</td>\n",
       "      <td>2.40-3.49</td>\n",
       "      <td>Online</td>\n",
       "      <td>Flexibility</td>\n",
       "      <td>...</td>\n",
       "      <td>Rarely</td>\n",
       "      <td>Very Poor</td>\n",
       "      <td>Very unconfident</td>\n",
       "      <td>Very dissatisfied</td>\n",
       "      <td>No</td>\n",
       "      <td>Online resources</td>\n",
       "      <td>Others</td>\n",
       "      <td>No</td>\n",
       "      <td>Never</td>\n",
       "      <td>10</td>\n",
       "    </tr>\n",
       "    <tr>\n",
       "      <th>4</th>\n",
       "      <td>37</td>\n",
       "      <td>Male</td>\n",
       "      <td>Undergraduate</td>\n",
       "      <td>Fourth year and above</td>\n",
       "      <td>High Income</td>\n",
       "      <td>Divorced</td>\n",
       "      <td>Other</td>\n",
       "      <td>1.00-1.49</td>\n",
       "      <td>Online</td>\n",
       "      <td>Institutional requirement</td>\n",
       "      <td>...</td>\n",
       "      <td>Daily</td>\n",
       "      <td>Good</td>\n",
       "      <td>Somewhat unconfident</td>\n",
       "      <td>Very dissatisfied</td>\n",
       "      <td>No</td>\n",
       "      <td>Online resources</td>\n",
       "      <td>Lack of support from instructors</td>\n",
       "      <td>No</td>\n",
       "      <td>Rarely</td>\n",
       "      <td>8</td>\n",
       "    </tr>\n",
       "    <tr>\n",
       "      <th>...</th>\n",
       "      <td>...</td>\n",
       "      <td>...</td>\n",
       "      <td>...</td>\n",
       "      <td>...</td>\n",
       "      <td>...</td>\n",
       "      <td>...</td>\n",
       "      <td>...</td>\n",
       "      <td>...</td>\n",
       "      <td>...</td>\n",
       "      <td>...</td>\n",
       "      <td>...</td>\n",
       "      <td>...</td>\n",
       "      <td>...</td>\n",
       "      <td>...</td>\n",
       "      <td>...</td>\n",
       "      <td>...</td>\n",
       "      <td>...</td>\n",
       "      <td>...</td>\n",
       "      <td>...</td>\n",
       "      <td>...</td>\n",
       "      <td>...</td>\n",
       "    </tr>\n",
       "    <tr>\n",
       "      <th>1878</th>\n",
       "      <td>24</td>\n",
       "      <td>Female</td>\n",
       "      <td>Other</td>\n",
       "      <td>Second year</td>\n",
       "      <td>Middle Income</td>\n",
       "      <td>Single</td>\n",
       "      <td>Other</td>\n",
       "      <td>1.00-1.49</td>\n",
       "      <td>Online</td>\n",
       "      <td>Personal Preference</td>\n",
       "      <td>...</td>\n",
       "      <td>Weekly</td>\n",
       "      <td>Good</td>\n",
       "      <td>Very Confident</td>\n",
       "      <td>Very dissatisfied</td>\n",
       "      <td>Yes</td>\n",
       "      <td>Study groups</td>\n",
       "      <td>Technical issues (e.g., internet connectivity,...</td>\n",
       "      <td>No</td>\n",
       "      <td>Always</td>\n",
       "      <td>2</td>\n",
       "    </tr>\n",
       "    <tr>\n",
       "      <th>1879</th>\n",
       "      <td>22</td>\n",
       "      <td>Male</td>\n",
       "      <td>Undergraduate</td>\n",
       "      <td>Third year</td>\n",
       "      <td>Middle Income</td>\n",
       "      <td>Single</td>\n",
       "      <td>Sciences</td>\n",
       "      <td>2.40-3.49</td>\n",
       "      <td>In-person</td>\n",
       "      <td>Personal Preference</td>\n",
       "      <td>...</td>\n",
       "      <td>Weekly</td>\n",
       "      <td>Good</td>\n",
       "      <td>Somewhat confident</td>\n",
       "      <td>Satisfied</td>\n",
       "      <td>No</td>\n",
       "      <td>Online resources</td>\n",
       "      <td>Technical issues (e.g., internet connectivity,...</td>\n",
       "      <td>Yes</td>\n",
       "      <td>Sometimes</td>\n",
       "      <td>9</td>\n",
       "    </tr>\n",
       "    <tr>\n",
       "      <th>1880</th>\n",
       "      <td>34</td>\n",
       "      <td>Male</td>\n",
       "      <td>Undergraduate</td>\n",
       "      <td>Third year</td>\n",
       "      <td>Middle Income</td>\n",
       "      <td>Married</td>\n",
       "      <td>Social Science</td>\n",
       "      <td>2.40-3.49</td>\n",
       "      <td>Online</td>\n",
       "      <td>Institutional requirement</td>\n",
       "      <td>...</td>\n",
       "      <td>Rarely</td>\n",
       "      <td>Good</td>\n",
       "      <td>Somewhat confident</td>\n",
       "      <td>Satisfied</td>\n",
       "      <td>Yes</td>\n",
       "      <td>Self-study</td>\n",
       "      <td>Lack of support from instructors</td>\n",
       "      <td>No</td>\n",
       "      <td>Rarely</td>\n",
       "      <td>10</td>\n",
       "    </tr>\n",
       "    <tr>\n",
       "      <th>1881</th>\n",
       "      <td>23</td>\n",
       "      <td>Female</td>\n",
       "      <td>Undergraduate</td>\n",
       "      <td>Second year</td>\n",
       "      <td>Low Income</td>\n",
       "      <td>Single</td>\n",
       "      <td>Social Science</td>\n",
       "      <td>1.50-2.39</td>\n",
       "      <td>Online</td>\n",
       "      <td>Other</td>\n",
       "      <td>...</td>\n",
       "      <td>Daily</td>\n",
       "      <td>Fair</td>\n",
       "      <td>Neutral</td>\n",
       "      <td>Dissatisfied</td>\n",
       "      <td>Yes</td>\n",
       "      <td>Self-study</td>\n",
       "      <td>Others</td>\n",
       "      <td>No</td>\n",
       "      <td>Often</td>\n",
       "      <td>5</td>\n",
       "    </tr>\n",
       "    <tr>\n",
       "      <th>1882</th>\n",
       "      <td>25</td>\n",
       "      <td>Female</td>\n",
       "      <td>Postgraduate</td>\n",
       "      <td>Fourth year and above</td>\n",
       "      <td>Middle Income</td>\n",
       "      <td>Widowed</td>\n",
       "      <td>Sciences</td>\n",
       "      <td>2.40-3.49</td>\n",
       "      <td>In-person</td>\n",
       "      <td>Accessibility</td>\n",
       "      <td>...</td>\n",
       "      <td>Monthly</td>\n",
       "      <td>Good</td>\n",
       "      <td>Somewhat confident</td>\n",
       "      <td>Neutral</td>\n",
       "      <td>No</td>\n",
       "      <td>Self-study</td>\n",
       "      <td>Lack of engagement</td>\n",
       "      <td>No</td>\n",
       "      <td>Often</td>\n",
       "      <td>8</td>\n",
       "    </tr>\n",
       "  </tbody>\n",
       "</table>\n",
       "<p>1883 rows × 32 columns</p>\n",
       "</div>"
      ],
      "text/plain": [
       "      What is your age? What is your gender? What is your level of education?  \\\n",
       "0                    27                 Male                    Undergraduate   \n",
       "1                    20                 Male                     Postgraduate   \n",
       "2                    38               Female                     Postgraduate   \n",
       "3                    38                 Male                    Undergraduate   \n",
       "4                    37                 Male                    Undergraduate   \n",
       "...                 ...                  ...                              ...   \n",
       "1878                 24               Female                            Other   \n",
       "1879                 22                 Male                    Undergraduate   \n",
       "1880                 34                 Male                    Undergraduate   \n",
       "1881                 23               Female                    Undergraduate   \n",
       "1882                 25               Female                     Postgraduate   \n",
       "\n",
       "     What year of study are you in? What is your socioeconomic status?  \\\n",
       "0                        First Year                        High Income   \n",
       "1                        First Year                        High Income   \n",
       "2             Fourth year and above                         Low Income   \n",
       "3                        Third year                      Middle Income   \n",
       "4             Fourth year and above                        High Income   \n",
       "...                             ...                                ...   \n",
       "1878                    Second year                      Middle Income   \n",
       "1879                     Third year                      Middle Income   \n",
       "1880                     Third year                      Middle Income   \n",
       "1881                    Second year                         Low Income   \n",
       "1882          Fourth year and above                      Middle Income   \n",
       "\n",
       "     What is your current marital status?  \\\n",
       "0                                 Widowed   \n",
       "1                                 Widowed   \n",
       "2                                 Widowed   \n",
       "3                                  Single   \n",
       "4                                Divorced   \n",
       "...                                   ...   \n",
       "1878                               Single   \n",
       "1879                               Single   \n",
       "1880                              Married   \n",
       "1881                               Single   \n",
       "1882                              Widowed   \n",
       "\n",
       "     What is your primary field of study? What is your cumulative GPA?  \\\n",
       "0                             Engineering                    3.50-4.49   \n",
       "1                                Sciences                    3.50-4.49   \n",
       "2                                   Other                    4.50-5.00   \n",
       "3                                Sciences                    2.40-3.49   \n",
       "4                                   Other                    1.00-1.49   \n",
       "...                                   ...                          ...   \n",
       "1878                                Other                    1.00-1.49   \n",
       "1879                             Sciences                    2.40-3.49   \n",
       "1880                       Social Science                    2.40-3.49   \n",
       "1881                       Social Science                    1.50-2.39   \n",
       "1882                             Sciences                    2.40-3.49   \n",
       "\n",
       "     What is your current mode of learning?  \\\n",
       "0                                 In-person   \n",
       "1                                 In-person   \n",
       "2                                 In-person   \n",
       "3                                    Online   \n",
       "4                                    Online   \n",
       "...                                     ...   \n",
       "1878                                 Online   \n",
       "1879                              In-person   \n",
       "1880                                 Online   \n",
       "1881                                 Online   \n",
       "1882                              In-person   \n",
       "\n",
       "     What is your primary reason for choosing this learning mode?  ...  \\\n",
       "0                             Institutional requirement            ...   \n",
       "1                                   Personal Preference            ...   \n",
       "2                                                 Other            ...   \n",
       "3                                           Flexibility            ...   \n",
       "4                             Institutional requirement            ...   \n",
       "...                                                 ...            ...   \n",
       "1878                                Personal Preference            ...   \n",
       "1879                                Personal Preference            ...   \n",
       "1880                          Institutional requirement            ...   \n",
       "1881                                              Other            ...   \n",
       "1882                                      Accessibility            ...   \n",
       "\n",
       "     How frequently do you review your notes or course materials?  \\\n",
       "0                                                Rarely             \n",
       "1                                                Weekly             \n",
       "2                                                Weekly             \n",
       "3                                                Rarely             \n",
       "4                                                 Daily             \n",
       "...                                                 ...             \n",
       "1878                                             Weekly             \n",
       "1879                                             Weekly             \n",
       "1880                                             Rarely             \n",
       "1881                                              Daily             \n",
       "1882                                            Monthly             \n",
       "\n",
       "     How would you rate your academic performance in your current learning mode?  \\\n",
       "0                                                  Poor                            \n",
       "1                                             Very Poor                            \n",
       "2                                                  Good                            \n",
       "3                                             Very Poor                            \n",
       "4                                                  Good                            \n",
       "...                                                 ...                            \n",
       "1878                                               Good                            \n",
       "1879                                               Good                            \n",
       "1880                                               Good                            \n",
       "1881                                               Fair                            \n",
       "1882                                               Good                            \n",
       "\n",
       "     How do you assess your understanding of course materials?  \\\n",
       "0                                    Somewhat confident          \n",
       "1                                      Very unconfident          \n",
       "2                                    Somewhat confident          \n",
       "3                                      Very unconfident          \n",
       "4                                  Somewhat unconfident          \n",
       "...                                                 ...          \n",
       "1878                                     Very Confident          \n",
       "1879                                 Somewhat confident          \n",
       "1880                                 Somewhat confident          \n",
       "1881                                            Neutral          \n",
       "1882                                 Somewhat confident          \n",
       "\n",
       "     How satisfied are you with the feedback you receive on your assignments?  \\\n",
       "0                                     Very dissatisfied                         \n",
       "1                                               Neutral                         \n",
       "2                                          Dissatisfied                         \n",
       "3                                     Very dissatisfied                         \n",
       "4                                     Very dissatisfied                         \n",
       "...                                                 ...                         \n",
       "1878                                  Very dissatisfied                         \n",
       "1879                                          Satisfied                         \n",
       "1880                                          Satisfied                         \n",
       "1881                                       Dissatisfied                         \n",
       "1882                                            Neutral                         \n",
       "\n",
       "      Do you feel that your current learning mode effectively supports your academic goals?  \\\n",
       "0                                                   Yes                                       \n",
       "1                                                   Yes                                       \n",
       "2                                                    No                                       \n",
       "3                                                    No                                       \n",
       "4                                                    No                                       \n",
       "...                                                 ...                                       \n",
       "1878                                                Yes                                       \n",
       "1879                                                 No                                       \n",
       "1880                                                Yes                                       \n",
       "1881                                                Yes                                       \n",
       "1882                                                 No                                       \n",
       "\n",
       "      How do you usually prepare for exams?  Select the option that applies the most:  \\\n",
       "0                                      Online resources                                 \n",
       "1                                            Self-study                                 \n",
       "2                                      Online resources                                 \n",
       "3                                      Online resources                                 \n",
       "4                                      Online resources                                 \n",
       "...                                                 ...                                 \n",
       "1878                                       Study groups                                 \n",
       "1879                                   Online resources                                 \n",
       "1880                                         Self-study                                 \n",
       "1881                                         Self-study                                 \n",
       "1882                                         Self-study                                 \n",
       "\n",
       "     What major challenge do you face in your current mode of learning?  \\\n",
       "0                          Inaccessibility of resources                   \n",
       "1                                    Lack of engagement                   \n",
       "2                                                Others                   \n",
       "3                                                Others                   \n",
       "4                      Lack of support from instructors                   \n",
       "...                                                 ...                   \n",
       "1878  Technical issues (e.g., internet connectivity,...                   \n",
       "1879  Technical issues (e.g., internet connectivity,...                   \n",
       "1880                   Lack of support from instructors                   \n",
       "1881                                             Others                   \n",
       "1882                                 Lack of engagement                   \n",
       "\n",
       "     Do you feel you have adequate support from instructors in your current learning mode?  \\\n",
       "0                                                    No                                      \n",
       "1                                                   Yes                                      \n",
       "2                                                    No                                      \n",
       "3                                                    No                                      \n",
       "4                                                    No                                      \n",
       "...                                                 ...                                      \n",
       "1878                                                 No                                      \n",
       "1879                                                Yes                                      \n",
       "1880                                                 No                                      \n",
       "1881                                                 No                                      \n",
       "1882                                                 No                                      \n",
       "\n",
       "     How often do you collaborate with classmates on projects or assignments?  \\\n",
       "0                                                 Often                         \n",
       "1                                             Sometimes                         \n",
       "2                                                 Often                         \n",
       "3                                                 Never                         \n",
       "4                                                Rarely                         \n",
       "...                                                 ...                         \n",
       "1878                                             Always                         \n",
       "1879                                          Sometimes                         \n",
       "1880                                             Rarely                         \n",
       "1881                                              Often                         \n",
       "1882                                              Often                         \n",
       "\n",
       "     On a scale of 1 to 10, how would you rate your learning environment  \n",
       "0                                                     9                   \n",
       "1                                                     7                   \n",
       "2                                                     5                   \n",
       "3                                                    10                   \n",
       "4                                                     8                   \n",
       "...                                                 ...                   \n",
       "1878                                                  2                   \n",
       "1879                                                  9                   \n",
       "1880                                                 10                   \n",
       "1881                                                  5                   \n",
       "1882                                                  8                   \n",
       "\n",
       "[1883 rows x 32 columns]"
      ]
     },
     "execution_count": 1585,
     "metadata": {},
     "output_type": "execute_result"
    }
   ],
   "source": [
    "df"
   ]
  },
  {
   "cell_type": "code",
   "execution_count": 1586,
   "id": "63b4767b-3635-4d73-8ecc-aef703f79c7c",
   "metadata": {},
   "outputs": [
    {
     "data": {
      "text/plain": [
       "(1883, 32)"
      ]
     },
     "execution_count": 1586,
     "metadata": {},
     "output_type": "execute_result"
    }
   ],
   "source": [
    "df.shape"
   ]
  },
  {
   "cell_type": "code",
   "execution_count": 1587,
   "id": "051ee445-bffe-465a-ae98-436224d238d2",
   "metadata": {},
   "outputs": [
    {
     "data": {
      "text/plain": [
       "What is your age?                                                                                                     0\n",
       "What is your gender?                                                                                                  0\n",
       "What is your level of education?                                                                                      0\n",
       "What year of study are you in?                                                                                        0\n",
       "What is your socioeconomic status?                                                                                    0\n",
       "What is your current marital status?                                                                                  0\n",
       "What is your primary field of study?                                                                                  0\n",
       "What is your cumulative GPA?                                                                                          0\n",
       "What is your current mode of learning?                                                                                0\n",
       "What is your primary reason for choosing this learning mode?                                                          0\n",
       "How long have you been in this mode of learning?                                                                      0\n",
       "How long does it take to travel from home to school? (in- person mode)                                                0\n",
       "How often do you participate in online discussions or forums?                                                         0\n",
       "What is your average class attendance rate? (Please enter a percentage)                                               0\n",
       "On a scale of 1 to 10, how engaged are you during classes?                                                            0\n",
       "What is your average score in assessments? (Please enter a score out of 100)                                          0\n",
       "How much free time do you have after school?                                                                          0\n",
       "What challenges do you face due to external factors?                                                                  0\n",
       "How do you prepare for assessments?  Select the option that applies the most:                                         0\n",
       "How often do you complete your assignments on time?                                                                   0\n",
       "On a scale of 1 to 10, how much do you use technology for your studies? (1 being not at all, 10 being extensively)    0\n",
       "How would you rate the quality of the course materials you receive?                                                   0\n",
       "How frequently do you review your notes or course materials?                                                          0\n",
       "How would you rate your academic performance in your current learning mode?                                           0\n",
       "How do you assess your understanding of course materials?                                                             0\n",
       "How satisfied are you with the feedback you receive on your assignments?                                              0\n",
       "Do you feel that your current learning mode effectively supports your academic goals?                                 0\n",
       "How do you usually prepare for exams?  Select the option that applies the most:                                       0\n",
       "What major challenge do you face in your current mode of learning?                                                    0\n",
       "Do you feel you have adequate support from instructors in your current learning mode?                                 0\n",
       "How often do you collaborate with classmates on projects or assignments?                                              0\n",
       "On a scale of 1 to 10, how would you rate your learning environment                                                   0\n",
       "dtype: int64"
      ]
     },
     "execution_count": 1587,
     "metadata": {},
     "output_type": "execute_result"
    }
   ],
   "source": [
    "df.isna().sum()"
   ]
  },
  {
   "cell_type": "code",
   "execution_count": 1588,
   "id": "0933f402-3c5f-4820-91ac-6306a4288e69",
   "metadata": {},
   "outputs": [
    {
     "data": {
      "text/plain": [
       "What is your age?                                                                                                     0\n",
       "What is your gender?                                                                                                  0\n",
       "What is your level of education?                                                                                      0\n",
       "What year of study are you in?                                                                                        0\n",
       "What is your socioeconomic status?                                                                                    0\n",
       "What is your current marital status?                                                                                  0\n",
       "What is your primary field of study?                                                                                  0\n",
       "What is your cumulative GPA?                                                                                          0\n",
       "What is your current mode of learning?                                                                                0\n",
       "What is your primary reason for choosing this learning mode?                                                          0\n",
       "How long have you been in this mode of learning?                                                                      0\n",
       "How long does it take to travel from home to school? (in- person mode)                                                0\n",
       "How often do you participate in online discussions or forums?                                                         0\n",
       "What is your average class attendance rate? (Please enter a percentage)                                               0\n",
       "On a scale of 1 to 10, how engaged are you during classes?                                                            0\n",
       "What is your average score in assessments? (Please enter a score out of 100)                                          0\n",
       "How much free time do you have after school?                                                                          0\n",
       "What challenges do you face due to external factors?                                                                  0\n",
       "How do you prepare for assessments?  Select the option that applies the most:                                         0\n",
       "How often do you complete your assignments on time?                                                                   0\n",
       "On a scale of 1 to 10, how much do you use technology for your studies? (1 being not at all, 10 being extensively)    0\n",
       "How would you rate the quality of the course materials you receive?                                                   0\n",
       "How frequently do you review your notes or course materials?                                                          0\n",
       "How would you rate your academic performance in your current learning mode?                                           0\n",
       "How do you assess your understanding of course materials?                                                             0\n",
       "How satisfied are you with the feedback you receive on your assignments?                                              0\n",
       "Do you feel that your current learning mode effectively supports your academic goals?                                 0\n",
       "How do you usually prepare for exams?  Select the option that applies the most:                                       0\n",
       "What major challenge do you face in your current mode of learning?                                                    0\n",
       "Do you feel you have adequate support from instructors in your current learning mode?                                 0\n",
       "How often do you collaborate with classmates on projects or assignments?                                              0\n",
       "On a scale of 1 to 10, how would you rate your learning environment                                                   0\n",
       "dtype: int64"
      ]
     },
     "execution_count": 1588,
     "metadata": {},
     "output_type": "execute_result"
    }
   ],
   "source": [
    "df.isnull().sum()"
   ]
  },
  {
   "cell_type": "markdown",
   "id": "07699244-03da-481e-af40-bb4c030633b1",
   "metadata": {},
   "source": [
    "# Checking for numerical columns"
   ]
  },
  {
   "cell_type": "code",
   "execution_count": 1590,
   "id": "6c5d6a55-31d7-445d-b514-cb81519a80d9",
   "metadata": {},
   "outputs": [
    {
     "data": {
      "text/plain": [
       "Index(['What is your age?', 'What is your gender?',\n",
       "       'What is your level of education?', 'What year of study are you in?',\n",
       "       'What is your socioeconomic status?',\n",
       "       'What is your current marital status?',\n",
       "       'What is your primary field of study?', 'What is your cumulative GPA?',\n",
       "       'What is your current mode of learning?',\n",
       "       'What is your primary reason for choosing this learning mode?',\n",
       "       'How long have you been in this mode of learning?',\n",
       "       'How long does it take to travel from home to school? (in- person mode)',\n",
       "       'How often do you participate in online discussions or forums?',\n",
       "       'What is your average class attendance rate? (Please enter a percentage)',\n",
       "       'On a scale of 1 to 10, how engaged are you during classes?',\n",
       "       'What is your average score in assessments? (Please enter a score out of 100)',\n",
       "       'How much free time do you have after school?',\n",
       "       'What challenges do you face due to external factors?',\n",
       "       'How do you prepare for assessments?  Select the option that applies the most:',\n",
       "       'How often do you complete your assignments on time?',\n",
       "       'On a scale of 1 to 10, how much do you use technology for your studies? (1 being not at all, 10 being extensively)',\n",
       "       'How would you rate the quality of the course materials you receive?',\n",
       "       'How frequently do you review your notes or course materials?',\n",
       "       'How would you rate your academic performance in your current learning mode?',\n",
       "       'How do you assess your understanding of course materials?',\n",
       "       'How satisfied are you with the feedback you receive on your assignments?',\n",
       "       'Do you feel that your current learning mode effectively supports your academic goals?',\n",
       "       'How do you usually prepare for exams?  Select the option that applies the most:',\n",
       "       'What major challenge do you face in your current mode of learning?',\n",
       "       'Do you feel you have adequate support from instructors in your current learning mode?',\n",
       "       'How often do you collaborate with classmates on projects or assignments?',\n",
       "       'On a scale of 1 to 10, how would you rate your learning environment'],\n",
       "      dtype='object')"
      ]
     },
     "execution_count": 1590,
     "metadata": {},
     "output_type": "execute_result"
    }
   ],
   "source": [
    "df.columns"
   ]
  },
  {
   "cell_type": "code",
   "execution_count": 1592,
   "id": "d5c45f79-5fdb-4034-9b64-be7926ea7be7",
   "metadata": {},
   "outputs": [
    {
     "data": {
      "text/plain": [
       "1883"
      ]
     },
     "execution_count": 1592,
     "metadata": {},
     "output_type": "execute_result"
    }
   ],
   "source": [
    "len(df)"
   ]
  },
  {
   "cell_type": "code",
   "execution_count": 1596,
   "id": "a6318ee0-866a-4f9c-8a9a-93334bd63944",
   "metadata": {},
   "outputs": [
    {
     "name": "stdout",
     "output_type": "stream",
     "text": [
      "What is your age?\n",
      "On a scale of 1 to 10, how engaged are you during classes?\n",
      "What is your average score in assessments? (Please enter a score out of 100)\n",
      "On a scale of 1 to 10, how much do you use technology for your studies? (1 being not at all, 10 being extensively)\n",
      "On a scale of 1 to 10, how would you rate your learning environment\n"
     ]
    }
   ],
   "source": [
    "# Iterate over each column in the DataFrame 'df' using the items() method.\n",
    "for label, content in df.items():  \n",
    "    # Check if the column data type is numeric (e.g., integers or floats).\n",
    "    if pd.api.types.is_numeric_dtype(content):  \n",
    "        # Print the column name if it contains numeric data.\n",
    "        print(label)  "
   ]
  },
  {
   "cell_type": "code",
   "execution_count": 1598,
   "id": "8aa6e315-13de-40b0-a1c1-b9c6b9448ac9",
   "metadata": {},
   "outputs": [],
   "source": [
    "for label, content in df.items():\n",
    "    if pd.api.types.is_numeric_dtype(content):\n",
    "        if pd.isnull(content).sum():\n",
    "            print(label)\n"
   ]
  },
  {
   "cell_type": "markdown",
   "id": "cd85cf43-bbb3-4ac9-aa0d-7861f4dad135",
   "metadata": {},
   "source": [
    "# Exploratory Data Analysis"
   ]
  },
  {
   "cell_type": "code",
   "execution_count": 1601,
   "id": "825b92fd-e9d1-4fb4-9838-5d8a540e8e84",
   "metadata": {},
   "outputs": [],
   "source": [
    "# importing dependencies\n",
    "import matplotlib.pyplot as plt\n",
    "import numpy as np\n",
    "import seaborn as sns\n",
    "import plotly.express as px\n"
   ]
  },
  {
   "cell_type": "code",
   "execution_count": 1603,
   "id": "6165e174-d037-4f5e-ae3c-79bf660a3082",
   "metadata": {},
   "outputs": [
    {
     "data": {
      "text/html": [
       "<div>\n",
       "<style scoped>\n",
       "    .dataframe tbody tr th:only-of-type {\n",
       "        vertical-align: middle;\n",
       "    }\n",
       "\n",
       "    .dataframe tbody tr th {\n",
       "        vertical-align: top;\n",
       "    }\n",
       "\n",
       "    .dataframe thead th {\n",
       "        text-align: right;\n",
       "    }\n",
       "</style>\n",
       "<table border=\"1\" class=\"dataframe\">\n",
       "  <thead>\n",
       "    <tr style=\"text-align: right;\">\n",
       "      <th></th>\n",
       "      <th>What is your age?</th>\n",
       "      <th>On a scale of 1 to 10, how engaged are you during classes?</th>\n",
       "      <th>What is your average score in assessments? (Please enter a score out of 100)</th>\n",
       "      <th>On a scale of 1 to 10, how much do you use technology for your studies? (1 being not at all, 10 being extensively)</th>\n",
       "      <th>On a scale of 1 to 10, how would you rate your learning environment</th>\n",
       "    </tr>\n",
       "  </thead>\n",
       "  <tbody>\n",
       "    <tr>\n",
       "      <th>count</th>\n",
       "      <td>1883.000000</td>\n",
       "      <td>1883.000000</td>\n",
       "      <td>1883.000000</td>\n",
       "      <td>1883.000000</td>\n",
       "      <td>1883.000000</td>\n",
       "    </tr>\n",
       "    <tr>\n",
       "      <th>mean</th>\n",
       "      <td>30.048858</td>\n",
       "      <td>5.581519</td>\n",
       "      <td>67.220393</td>\n",
       "      <td>6.034519</td>\n",
       "      <td>5.740839</td>\n",
       "    </tr>\n",
       "    <tr>\n",
       "      <th>std</th>\n",
       "      <td>7.656046</td>\n",
       "      <td>2.712415</td>\n",
       "      <td>14.168478</td>\n",
       "      <td>2.893684</td>\n",
       "      <td>2.714304</td>\n",
       "    </tr>\n",
       "    <tr>\n",
       "      <th>min</th>\n",
       "      <td>16.000000</td>\n",
       "      <td>1.000000</td>\n",
       "      <td>6.000000</td>\n",
       "      <td>1.000000</td>\n",
       "      <td>1.000000</td>\n",
       "    </tr>\n",
       "    <tr>\n",
       "      <th>25%</th>\n",
       "      <td>24.000000</td>\n",
       "      <td>3.000000</td>\n",
       "      <td>58.000000</td>\n",
       "      <td>4.000000</td>\n",
       "      <td>4.000000</td>\n",
       "    </tr>\n",
       "    <tr>\n",
       "      <th>50%</th>\n",
       "      <td>29.000000</td>\n",
       "      <td>6.000000</td>\n",
       "      <td>68.000000</td>\n",
       "      <td>6.000000</td>\n",
       "      <td>6.000000</td>\n",
       "    </tr>\n",
       "    <tr>\n",
       "      <th>75%</th>\n",
       "      <td>36.000000</td>\n",
       "      <td>8.000000</td>\n",
       "      <td>79.000000</td>\n",
       "      <td>9.000000</td>\n",
       "      <td>8.000000</td>\n",
       "    </tr>\n",
       "    <tr>\n",
       "      <th>max</th>\n",
       "      <td>54.000000</td>\n",
       "      <td>10.000000</td>\n",
       "      <td>98.000000</td>\n",
       "      <td>10.000000</td>\n",
       "      <td>10.000000</td>\n",
       "    </tr>\n",
       "  </tbody>\n",
       "</table>\n",
       "</div>"
      ],
      "text/plain": [
       "       What is your age?  \\\n",
       "count        1883.000000   \n",
       "mean           30.048858   \n",
       "std             7.656046   \n",
       "min            16.000000   \n",
       "25%            24.000000   \n",
       "50%            29.000000   \n",
       "75%            36.000000   \n",
       "max            54.000000   \n",
       "\n",
       "       On a scale of 1 to 10, how engaged are you during classes?  \\\n",
       "count                                        1883.000000            \n",
       "mean                                            5.581519            \n",
       "std                                             2.712415            \n",
       "min                                             1.000000            \n",
       "25%                                             3.000000            \n",
       "50%                                             6.000000            \n",
       "75%                                             8.000000            \n",
       "max                                            10.000000            \n",
       "\n",
       "       What is your average score in assessments? (Please enter a score out of 100)  \\\n",
       "count                                        1883.000000                              \n",
       "mean                                           67.220393                              \n",
       "std                                            14.168478                              \n",
       "min                                             6.000000                              \n",
       "25%                                            58.000000                              \n",
       "50%                                            68.000000                              \n",
       "75%                                            79.000000                              \n",
       "max                                            98.000000                              \n",
       "\n",
       "       On a scale of 1 to 10, how much do you use technology for your studies? (1 being not at all, 10 being extensively)  \\\n",
       "count                                        1883.000000                                                                    \n",
       "mean                                            6.034519                                                                    \n",
       "std                                             2.893684                                                                    \n",
       "min                                             1.000000                                                                    \n",
       "25%                                             4.000000                                                                    \n",
       "50%                                             6.000000                                                                    \n",
       "75%                                             9.000000                                                                    \n",
       "max                                            10.000000                                                                    \n",
       "\n",
       "       On a scale of 1 to 10, how would you rate your learning environment  \n",
       "count                                        1883.000000                    \n",
       "mean                                            5.740839                    \n",
       "std                                             2.714304                    \n",
       "min                                             1.000000                    \n",
       "25%                                             4.000000                    \n",
       "50%                                             6.000000                    \n",
       "75%                                             8.000000                    \n",
       "max                                            10.000000                    "
      ]
     },
     "execution_count": 1603,
     "metadata": {},
     "output_type": "execute_result"
    }
   ],
   "source": [
    "df.describe()"
   ]
  },
  {
   "cell_type": "code",
   "execution_count": 1604,
   "id": "222a742b-763f-4bfe-9dd4-f15a8de01506",
   "metadata": {},
   "outputs": [
    {
     "data": {
      "image/png": "[encoded data removed]",
      "text/plain": [
       "<Figure size 1200x1000 with 4 Axes>"
      ]
     },
     "metadata": {},
     "output_type": "display_data"
    }
   ],
   "source": [
    "# Visualize distributions and relationships using bar charts\n",
    "# Create subplots with adjusted spacing\n",
    "fig, axes = plt.subplots(nrows=2, ncols=2, figsize=(12, 10), tight_layout=True)\n",
    "\n",
    "# Age Distribution (binned into groups for better visualization)\n",
    "age_bins = df[\"What is your age?\"].value_counts().sort_index()\n",
    "axes[0, 0].bar(age_bins.index, age_bins.values, color='skyblue')\n",
    "axes[0, 0].set_title(\"Age Distribution\")\n",
    "axes[0, 0].set_xlabel(\"Age\")\n",
    "axes[0, 0].set_ylabel(\"Frequency\")\n",
    "\n",
    "# Engagement during classes\n",
    "engagement_counts = df[\"On a scale of 1 to 10, how engaged are you during classes?\"].value_counts().sort_index()\n",
    "axes[0, 1].bar(engagement_counts.index, engagement_counts.values, color='salmon')\n",
    "axes[0, 1].set_title(\"Class Engagement (1-10)\")\n",
    "axes[0, 1].set_xlabel(\"Engagement Level\")\n",
    "axes[0, 1].set_ylabel(\"Frequency\")\n",
    "\n",
    "# Assessment scores (binned into groups of 10 for better visualization)\n",
    "score_bins = pd.cut(df[\"What is your average score in assessments? (Please enter a score out of 100)\"], bins=range(0, 101, 10))\n",
    "score_counts = score_bins.value_counts().sort_index()\n",
    "axes[1, 0].bar(score_counts.index.astype(str), score_counts.values, color='lightgreen')\n",
    "axes[1, 0].set_title(\"Assessment Scores (Out of 100)\")\n",
    "axes[1, 0].set_xlabel(\"Score Range\")\n",
    "axes[1, 0].set_ylabel(\"Frequency\")\n",
    "axes[1, 0].tick_params(axis='x', rotation=45)  # Rotate x-axis labels for clarity\n",
    "\n",
    "# Technology usage for studies\n",
    "tech_usage_counts = df[\"On a scale of 1 to 10, how much do you use technology for your studies? (1 being not at all, 10 being extensively)\"].value_counts().sort_index()\n",
    "axes[1, 1].bar(tech_usage_counts.index, tech_usage_counts.values, color='orchid')\n",
    "axes[1, 1].set_title(\"Tech Usage for Studies (1-10)\")\n",
    "axes[1, 1].set_xlabel(\"Tech Usage Level\")\n",
    "axes[1, 1].set_ylabel(\"Frequency\")\n",
    "\n",
    "# Display the plots\n",
    "plt.show()\n"
   ]
  },
  {
   "cell_type": "code",
   "execution_count": 1606,
   "id": "f84d1dae-e978-4cfc-9b7a-649cf9e190c9",
   "metadata": {},
   "outputs": [
    {
     "data": {
      "application/vnd.plotly.v1+json": {
       "config": {
        "plotlyServerURL": "https://plot.ly"
       },
       "data": [
        {
         "alignmentgroup": "True",
         "hoverinfo": "x+y",
         "hovertemplate": "Age=%{x}<br>Frequency=%{y}<br>text=%{text}<extra></extra>",
         "legendgroup": "",
         "marker": {
          "color": "#000001",
          "pattern": {
           "shape": ""
          }
         },
         "name": "",
         "offsetgroup": "",
         "orientation": "v",
         "showlegend": false,
         "text": [
          5,
          11,
          54,
          68,
          71,
          81,
          68,
          75,
          75,
          90,
          82,
          103,
          98,
          70,
          71,
          70,
          86,
          77,
          74,
          73,
          74,
          63,
          92,
          88,
          16,
          15,
          21,
          14,
          14,
          15,
          17,
          15,
          5,
          8,
          8,
          3,
          8,
          3,
          2
         ],
         "textposition": "outside",
         "type": "bar",
         "x": [
          16,
          17,
          18,
          19,
          20,
          21,
          22,
          23,
          24,
          25,
          26,
          27,
          28,
          29,
          30,
          31,
          32,
          33,
          34,
          35,
          36,
          37,
          38,
          39,
          40,
          41,
          42,
          43,
          44,
          45,
          46,
          47,
          48,
          49,
          50,
          51,
          52,
          53,
          54
         ],
         "xaxis": "x",
         "y": [
          5,
          11,
          54,
          68,
          71,
          81,
          68,
          75,
          75,
          90,
          82,
          103,
          98,
          70,
          71,
          70,
          86,
          77,
          74,
          73,
          74,
          63,
          92,
          88,
          16,
          15,
          21,
          14,
          14,
          15,
          17,
          15,
          5,
          8,
          8,
          3,
          8,
          3,
          2
         ],
         "yaxis": "y"
        }
       ],
       "layout": {
        "barmode": "relative",
        "height": 600,
        "legend": {
         "tracegroupgap": 0
        },
        "template": {
         "data": {
          "candlestick": [
           {
            "decreasing": {
             "line": {
              "color": "#000033"
             }
            },
            "increasing": {
             "line": {
              "color": "#000032"
             }
            },
            "type": "candlestick"
           }
          ],
          "contour": [
           {
            "colorscale": [
             [
              0,
              "#000011"
             ],
             [
              0.1111111111111111,
              "#000012"
             ],
             [
              0.2222222222222222,
              "#000013"
             ],
             [
              0.3333333333333333,
              "#000014"
             ],
             [
              0.4444444444444444,
              "#000015"
             ],
             [
              0.5555555555555556,
              "#000016"
             ],
             [
              0.6666666666666666,
              "#000017"
             ],
             [
              0.7777777777777778,
              "#000018"
             ],
             [
              0.8888888888888888,
              "#000019"
             ],
             [
              1,
              "#000020"
             ]
            ],
            "type": "contour"
           }
          ],
          "contourcarpet": [
           {
            "colorscale": [
             [
              0,
              "#000011"
             ],
             [
              0.1111111111111111,
              "#000012"
             ],
             [
              0.2222222222222222,
              "#000013"
             ],
             [
              0.3333333333333333,
              "#000014"
             ],
             [
              0.4444444444444444,
              "#000015"
             ],
             [
              0.5555555555555556,
              "#000016"
             ],
             [
              0.6666666666666666,
              "#000017"
             ],
             [
              0.7777777777777778,
              "#000018"
             ],
             [
              0.8888888888888888,
              "#000019"
             ],
             [
              1,
              "#000020"
             ]
            ],
            "type": "contourcarpet"
           }
          ],
          "heatmap": [
           {
            "colorscale": [
             [
              0,
              "#000011"
             ],
             [
              0.1111111111111111,
              "#000012"
             ],
             [
              0.2222222222222222,
              "#000013"
             ],
             [
              0.3333333333333333,
              "#000014"
             ],
             [
              0.4444444444444444,
              "#000015"
             ],
             [
              0.5555555555555556,
              "#000016"
             ],
             [
              0.6666666666666666,
              "#000017"
             ],
             [
              0.7777777777777778,
              "#000018"
             ],
             [
              0.8888888888888888,
              "#000019"
             ],
             [
              1,
              "#000020"
             ]
            ],
            "type": "heatmap"
           }
          ],
          "histogram2d": [
           {
            "colorscale": [
             [
              0,
              "#000011"
             ],
             [
              0.1111111111111111,
              "#000012"
             ],
             [
              0.2222222222222222,
              "#000013"
             ],
             [
              0.3333333333333333,
              "#000014"
             ],
             [
              0.4444444444444444,
              "#000015"
             ],
             [
              0.5555555555555556,
              "#000016"
             ],
             [
              0.6666666666666666,
              "#000017"
             ],
             [
              0.7777777777777778,
              "#000018"
             ],
             [
              0.8888888888888888,
              "#000019"
             ],
             [
              1,
              "#000020"
             ]
            ],
            "type": "histogram2d"
           }
          ],
          "icicle": [
           {
            "textfont": {
             "color": "white"
            },
            "type": "icicle"
           }
          ],
          "sankey": [
           {
            "textfont": {
             "color": "#000036"
            },
            "type": "sankey"
           }
          ],
          "scatter": [
           {
            "marker": {
             "line": {
              "width": 0
             }
            },
            "type": "scatter"
           }
          ],
          "table": [
           {
            "cells": {
             "fill": {
              "color": "#000038"
             },
             "font": {
              "color": "#000037"
             },
             "line": {
              "color": "#000039"
             }
            },
            "header": {
             "fill": {
              "color": "#000040"
             },
             "font": {
              "color": "#000036"
             },
             "line": {
              "color": "#000039"
             }
            },
            "type": "table"
           }
          ],
          "waterfall": [
           {
            "connector": {
             "line": {
              "color": "#000036",
              "width": 2
             }
            },
            "decreasing": {
             "marker": {
              "color": "#000033"
             }
            },
            "increasing": {
             "marker": {
              "color": "#000032"
             }
            },
            "totals": {
             "marker": {
              "color": "#000034"
             }
            },
            "type": "waterfall"
           }
          ]
         },
         "layout": {
          "coloraxis": {
           "colorscale": [
            [
             0,
             "#000011"
            ],
            [
             0.1111111111111111,
             "#000012"
            ],
            [
             0.2222222222222222,
             "#000013"
            ],
            [
             0.3333333333333333,
             "#000014"
            ],
            [
             0.4444444444444444,
             "#000015"
            ],
            [
             0.5555555555555556,
             "#000016"
            ],
            [
             0.6666666666666666,
             "#000017"
            ],
            [
             0.7777777777777778,
             "#000018"
            ],
            [
             0.8888888888888888,
             "#000019"
            ],
            [
             1,
             "#000020"
            ]
           ]
          },
          "colorscale": {
           "diverging": [
            [
             0,
             "#000021"
            ],
            [
             0.1,
             "#000022"
            ],
            [
             0.2,
             "#000023"
            ],
            [
             0.3,
             "#000024"
            ],
            [
             0.4,
             "#000025"
            ],
            [
             0.5,
             "#000026"
            ],
            [
             0.6,
             "#000027"
            ],
            [
             0.7,
             "#000028"
            ],
            [
             0.8,
             "#000029"
            ],
            [
             0.9,
             "#000030"
            ],
            [
             1,
             "#000031"
            ]
           ],
           "sequential": [
            [
             0,
             "#000011"
            ],
            [
             0.1111111111111111,
             "#000012"
            ],
            [
             0.2222222222222222,
             "#000013"
            ],
            [
             0.3333333333333333,
             "#000014"
            ],
            [
             0.4444444444444444,
             "#000015"
            ],
            [
             0.5555555555555556,
             "#000016"
            ],
            [
             0.6666666666666666,
             "#000017"
            ],
            [
             0.7777777777777778,
             "#000018"
            ],
            [
             0.8888888888888888,
             "#000019"
            ],
            [
             1,
             "#000020"
            ]
           ],
           "sequentialminus": [
            [
             0,
             "#000011"
            ],
            [
             0.1111111111111111,
             "#000012"
            ],
            [
             0.2222222222222222,
             "#000013"
            ],
            [
             0.3333333333333333,
             "#000014"
            ],
            [
             0.4444444444444444,
             "#000015"
            ],
            [
             0.5555555555555556,
             "#000016"
            ],
            [
             0.6666666666666666,
             "#000017"
            ],
            [
             0.7777777777777778,
             "#000018"
            ],
            [
             0.8888888888888888,
             "#000019"
            ],
            [
             1,
             "#000020"
            ]
           ]
          },
          "colorway": [
           "#000001",
           "#000002",
           "#000003",
           "#000004",
           "#000005",
           "#000006",
           "#000007",
           "#000008",
           "#000009",
           "#000010"
          ]
         }
        },
        "title": {
         "text": "Age Distribution"
        },
        "width": 800,
        "xaxis": {
         "anchor": "y",
         "autorange": true,
         "domain": [
          0,
          1
         ],
         "range": [
          15.5,
          54.5
         ],
         "tickangle": 45,
         "title": {
          "text": "Age"
         },
         "type": "linear"
        },
        "yaxis": {
         "anchor": "x",
         "autorange": true,
         "domain": [
          0,
          1
         ],
         "range": [
          0,
          108.42105263157895
         ],
         "title": {
          "text": "Frequency"
         },
         "type": "linear"
        }
       }
      },
      "image/png": "[encoded data removed]",
      "text/html": [
       "<div>                            <div id=\"c88bd7f5-143a-4818-8dd6-f292e54afe72\" class=\"plotly-graph-div\" style=\"height:600px; width:800px;\"></div>            <script type=\"text/javascript\">                require([\"plotly\"], function(Plotly) {                    window.PLOTLYENV=window.PLOTLYENV || {};                                    if (document.getElementById(\"c88bd7f5-143a-4818-8dd6-f292e54afe72\")) {                    Plotly.newPlot(                        \"c88bd7f5-143a-4818-8dd6-f292e54afe72\",                        [{\"alignmentgroup\":\"True\",\"hovertemplate\":\"Age=%{x}\\u003cbr\\u003eFrequency=%{y}\\u003cbr\\u003etext=%{text}\\u003cextra\\u003e\\u003c\\u002fextra\\u003e\",\"legendgroup\":\"\",\"marker\":{\"color\":\"#000001\",\"pattern\":{\"shape\":\"\"}},\"name\":\"\",\"offsetgroup\":\"\",\"orientation\":\"v\",\"showlegend\":false,\"text\":[5.0,11.0,54.0,68.0,71.0,81.0,68.0,75.0,75.0,90.0,82.0,103.0,98.0,70.0,71.0,70.0,86.0,77.0,74.0,73.0,74.0,63.0,92.0,88.0,16.0,15.0,21.0,14.0,14.0,15.0,17.0,15.0,5.0,8.0,8.0,3.0,8.0,3.0,2.0],\"textposition\":\"outside\",\"x\":[16,17,18,19,20,21,22,23,24,25,26,27,28,29,30,31,32,33,34,35,36,37,38,39,40,41,42,43,44,45,46,47,48,49,50,51,52,53,54],\"xaxis\":\"x\",\"y\":[5,11,54,68,71,81,68,75,75,90,82,103,98,70,71,70,86,77,74,73,74,63,92,88,16,15,21,14,14,15,17,15,5,8,8,3,8,3,2],\"yaxis\":\"y\",\"type\":\"bar\",\"hoverinfo\":\"x+y\"}],                        {\"template\":{\"data\":{\"candlestick\":[{\"decreasing\":{\"line\":{\"color\":\"#000033\"}},\"increasing\":{\"line\":{\"color\":\"#000032\"}},\"type\":\"candlestick\"}],\"contourcarpet\":[{\"colorscale\":[[0.0,\"#000011\"],[0.1111111111111111,\"#000012\"],[0.2222222222222222,\"#000013\"],[0.3333333333333333,\"#000014\"],[0.4444444444444444,\"#000015\"],[0.5555555555555556,\"#000016\"],[0.6666666666666666,\"#000017\"],[0.7777777777777778,\"#000018\"],[0.8888888888888888,\"#000019\"],[1.0,\"#000020\"]],\"type\":\"contourcarpet\"}],\"contour\":[{\"colorscale\":[[0.0,\"#000011\"],[0.1111111111111111,\"#000012\"],[0.2222222222222222,\"#000013\"],[0.3333333333333333,\"#000014\"],[0.4444444444444444,\"#000015\"],[0.5555555555555556,\"#000016\"],[0.6666666666666666,\"#000017\"],[0.7777777777777778,\"#000018\"],[0.8888888888888888,\"#000019\"],[1.0,\"#000020\"]],\"type\":\"contour\"}],\"heatmap\":[{\"colorscale\":[[0.0,\"#000011\"],[0.1111111111111111,\"#000012\"],[0.2222222222222222,\"#000013\"],[0.3333333333333333,\"#000014\"],[0.4444444444444444,\"#000015\"],[0.5555555555555556,\"#000016\"],[0.6666666666666666,\"#000017\"],[0.7777777777777778,\"#000018\"],[0.8888888888888888,\"#000019\"],[1.0,\"#000020\"]],\"type\":\"heatmap\"}],\"histogram2d\":[{\"colorscale\":[[0.0,\"#000011\"],[0.1111111111111111,\"#000012\"],[0.2222222222222222,\"#000013\"],[0.3333333333333333,\"#000014\"],[0.4444444444444444,\"#000015\"],[0.5555555555555556,\"#000016\"],[0.6666666666666666,\"#000017\"],[0.7777777777777778,\"#000018\"],[0.8888888888888888,\"#000019\"],[1.0,\"#000020\"]],\"type\":\"histogram2d\"}],\"icicle\":[{\"textfont\":{\"color\":\"white\"},\"type\":\"icicle\"}],\"sankey\":[{\"textfont\":{\"color\":\"#000036\"},\"type\":\"sankey\"}],\"scatter\":[{\"marker\":{\"line\":{\"width\":0}},\"type\":\"scatter\"}],\"table\":[{\"cells\":{\"fill\":{\"color\":\"#000038\"},\"font\":{\"color\":\"#000037\"},\"line\":{\"color\":\"#000039\"}},\"header\":{\"fill\":{\"color\":\"#000040\"},\"font\":{\"color\":\"#000036\"},\"line\":{\"color\":\"#000039\"}},\"type\":\"table\"}],\"waterfall\":[{\"connector\":{\"line\":{\"color\":\"#000036\",\"width\":2}},\"decreasing\":{\"marker\":{\"color\":\"#000033\"}},\"increasing\":{\"marker\":{\"color\":\"#000032\"}},\"totals\":{\"marker\":{\"color\":\"#000034\"}},\"type\":\"waterfall\"}]},\"layout\":{\"coloraxis\":{\"colorscale\":[[0.0,\"#000011\"],[0.1111111111111111,\"#000012\"],[0.2222222222222222,\"#000013\"],[0.3333333333333333,\"#000014\"],[0.4444444444444444,\"#000015\"],[0.5555555555555556,\"#000016\"],[0.6666666666666666,\"#000017\"],[0.7777777777777778,\"#000018\"],[0.8888888888888888,\"#000019\"],[1.0,\"#000020\"]]},\"colorscale\":{\"diverging\":[[0.0,\"#000021\"],[0.1,\"#000022\"],[0.2,\"#000023\"],[0.3,\"#000024\"],[0.4,\"#000025\"],[0.5,\"#000026\"],[0.6,\"#000027\"],[0.7,\"#000028\"],[0.8,\"#000029\"],[0.9,\"#000030\"],[1.0,\"#000031\"]],\"sequential\":[[0.0,\"#000011\"],[0.1111111111111111,\"#000012\"],[0.2222222222222222,\"#000013\"],[0.3333333333333333,\"#000014\"],[0.4444444444444444,\"#000015\"],[0.5555555555555556,\"#000016\"],[0.6666666666666666,\"#000017\"],[0.7777777777777778,\"#000018\"],[0.8888888888888888,\"#000019\"],[1.0,\"#000020\"]],\"sequentialminus\":[[0.0,\"#000011\"],[0.1111111111111111,\"#000012\"],[0.2222222222222222,\"#000013\"],[0.3333333333333333,\"#000014\"],[0.4444444444444444,\"#000015\"],[0.5555555555555556,\"#000016\"],[0.6666666666666666,\"#000017\"],[0.7777777777777778,\"#000018\"],[0.8888888888888888,\"#000019\"],[1.0,\"#000020\"]]},\"colorway\":[\"#000001\",\"#000002\",\"#000003\",\"#000004\",\"#000005\",\"#000006\",\"#000007\",\"#000008\",\"#000009\",\"#000010\"]}},\"xaxis\":{\"anchor\":\"y\",\"domain\":[0.0,1.0],\"title\":{\"text\":\"Age\"},\"tickangle\":45},\"yaxis\":{\"anchor\":\"x\",\"domain\":[0.0,1.0],\"title\":{\"text\":\"Frequency\"}},\"legend\":{\"tracegroupgap\":0},\"title\":{\"text\":\"Age Distribution\"},\"barmode\":\"relative\",\"width\":800,\"height\":600},                        {\"responsive\": true}                    ).then(function(){\n",
       "                            \n",
       "var gd = document.getElementById('c88bd7f5-143a-4818-8dd6-f292e54afe72');\n",
       "var x = new MutationObserver(function (mutations, observer) {{\n",
       "        var display = window.getComputedStyle(gd).display;\n",
       "        if (!display || display === 'none') {{\n",
       "            console.log([gd, 'removed!']);\n",
       "            Plotly.purge(gd);\n",
       "            observer.disconnect();\n",
       "        }}\n",
       "}});\n",
       "\n",
       "// Listen for the removal of the full notebook cells\n",
       "var notebookContainer = gd.closest('#notebook-container');\n",
       "if (notebookContainer) {{\n",
       "    x.observe(notebookContainer, {childList: true});\n",
       "}}\n",
       "\n",
       "// Listen for the clearing of the current output cell\n",
       "var outputEl = gd.closest('.output');\n",
       "if (outputEl) {{\n",
       "    x.observe(outputEl, {childList: true});\n",
       "}}\n",
       "\n",
       "                        })                };                });            </script>        </div>"
      ]
     },
     "metadata": {},
     "output_type": "display_data"
    },
    {
     "data": {
      "application/vnd.plotly.v1+json": {
       "config": {
        "plotlyServerURL": "https://plot.ly"
       },
       "data": [
        {
         "alignmentgroup": "True",
         "hoverinfo": "x+y",
         "hovertemplate": "Engagement Level=%{x}<br>Frequency=%{y}<br>text=%{text}<extra></extra>",
         "legendgroup": "",
         "marker": {
          "color": "#000001",
          "pattern": {
           "shape": ""
          }
         },
         "name": "",
         "offsetgroup": "",
         "orientation": "v",
         "showlegend": false,
         "text": [
          159,
          165,
          165,
          172,
          274,
          199,
          202,
          215,
          180,
          152
         ],
         "textposition": "outside",
         "type": "bar",
         "x": [
          1,
          2,
          3,
          4,
          5,
          6,
          7,
          8,
          9,
          10
         ],
         "xaxis": "x",
         "y": [
          159,
          165,
          165,
          172,
          274,
          199,
          202,
          215,
          180,
          152
         ],
         "yaxis": "y"
        }
       ],
       "layout": {
        "barmode": "relative",
        "height": 600,
        "legend": {
         "tracegroupgap": 0
        },
        "template": {
         "data": {
          "candlestick": [
           {
            "decreasing": {
             "line": {
              "color": "#000033"
             }
            },
            "increasing": {
             "line": {
              "color": "#000032"
             }
            },
            "type": "candlestick"
           }
          ],
          "contour": [
           {
            "colorscale": [
             [
              0,
              "#000011"
             ],
             [
              0.1111111111111111,
              "#000012"
             ],
             [
              0.2222222222222222,
              "#000013"
             ],
             [
              0.3333333333333333,
              "#000014"
             ],
             [
              0.4444444444444444,
              "#000015"
             ],
             [
              0.5555555555555556,
              "#000016"
             ],
             [
              0.6666666666666666,
              "#000017"
             ],
             [
              0.7777777777777778,
              "#000018"
             ],
             [
              0.8888888888888888,
              "#000019"
             ],
             [
              1,
              "#000020"
             ]
            ],
            "type": "contour"
           }
          ],
          "contourcarpet": [
           {
            "colorscale": [
             [
              0,
              "#000011"
             ],
             [
              0.1111111111111111,
              "#000012"
             ],
             [
              0.2222222222222222,
              "#000013"
             ],
             [
              0.3333333333333333,
              "#000014"
             ],
             [
              0.4444444444444444,
              "#000015"
             ],
             [
              0.5555555555555556,
              "#000016"
             ],
             [
              0.6666666666666666,
              "#000017"
             ],
             [
              0.7777777777777778,
              "#000018"
             ],
             [
              0.8888888888888888,
              "#000019"
             ],
             [
              1,
              "#000020"
             ]
            ],
            "type": "contourcarpet"
           }
          ],
          "heatmap": [
           {
            "colorscale": [
             [
              0,
              "#000011"
             ],
             [
              0.1111111111111111,
              "#000012"
             ],
             [
              0.2222222222222222,
              "#000013"
             ],
             [
              0.3333333333333333,
              "#000014"
             ],
             [
              0.4444444444444444,
              "#000015"
             ],
             [
              0.5555555555555556,
              "#000016"
             ],
             [
              0.6666666666666666,
              "#000017"
             ],
             [
              0.7777777777777778,
              "#000018"
             ],
             [
              0.8888888888888888,
              "#000019"
             ],
             [
              1,
              "#000020"
             ]
            ],
            "type": "heatmap"
           }
          ],
          "histogram2d": [
           {
            "colorscale": [
             [
              0,
              "#000011"
             ],
             [
              0.1111111111111111,
              "#000012"
             ],
             [
              0.2222222222222222,
              "#000013"
             ],
             [
              0.3333333333333333,
              "#000014"
             ],
             [
              0.4444444444444444,
              "#000015"
             ],
             [
              0.5555555555555556,
              "#000016"
             ],
             [
              0.6666666666666666,
              "#000017"
             ],
             [
              0.7777777777777778,
              "#000018"
             ],
             [
              0.8888888888888888,
              "#000019"
             ],
             [
              1,
              "#000020"
             ]
            ],
            "type": "histogram2d"
           }
          ],
          "icicle": [
           {
            "textfont": {
             "color": "white"
            },
            "type": "icicle"
           }
          ],
          "sankey": [
           {
            "textfont": {
             "color": "#000036"
            },
            "type": "sankey"
           }
          ],
          "scatter": [
           {
            "marker": {
             "line": {
              "width": 0
             }
            },
            "type": "scatter"
           }
          ],
          "table": [
           {
            "cells": {
             "fill": {
              "color": "#000038"
             },
             "font": {
              "color": "#000037"
             },
             "line": {
              "color": "#000039"
             }
            },
            "header": {
             "fill": {
              "color": "#000040"
             },
             "font": {
              "color": "#000036"
             },
             "line": {
              "color": "#000039"
             }
            },
            "type": "table"
           }
          ],
          "waterfall": [
           {
            "connector": {
             "line": {
              "color": "#000036",
              "width": 2
             }
            },
            "decreasing": {
             "marker": {
              "color": "#000033"
             }
            },
            "increasing": {
             "marker": {
              "color": "#000032"
             }
            },
            "totals": {
             "marker": {
              "color": "#000034"
             }
            },
            "type": "waterfall"
           }
          ]
         },
         "layout": {
          "coloraxis": {
           "colorscale": [
            [
             0,
             "#000011"
            ],
            [
             0.1111111111111111,
             "#000012"
            ],
            [
             0.2222222222222222,
             "#000013"
            ],
            [
             0.3333333333333333,
             "#000014"
            ],
            [
             0.4444444444444444,
             "#000015"
            ],
            [
             0.5555555555555556,
             "#000016"
            ],
            [
             0.6666666666666666,
             "#000017"
            ],
            [
             0.7777777777777778,
             "#000018"
            ],
            [
             0.8888888888888888,
             "#000019"
            ],
            [
             1,
             "#000020"
            ]
           ]
          },
          "colorscale": {
           "diverging": [
            [
             0,
             "#000021"
            ],
            [
             0.1,
             "#000022"
            ],
            [
             0.2,
             "#000023"
            ],
            [
             0.3,
             "#000024"
            ],
            [
             0.4,
             "#000025"
            ],
            [
             0.5,
             "#000026"
            ],
            [
             0.6,
             "#000027"
            ],
            [
             0.7,
             "#000028"
            ],
            [
             0.8,
             "#000029"
            ],
            [
             0.9,
             "#000030"
            ],
            [
             1,
             "#000031"
            ]
           ],
           "sequential": [
            [
             0,
             "#000011"
            ],
            [
             0.1111111111111111,
             "#000012"
            ],
            [
             0.2222222222222222,
             "#000013"
            ],
            [
             0.3333333333333333,
             "#000014"
            ],
            [
             0.4444444444444444,
             "#000015"
            ],
            [
             0.5555555555555556,
             "#000016"
            ],
            [
             0.6666666666666666,
             "#000017"
            ],
            [
             0.7777777777777778,
             "#000018"
            ],
            [
             0.8888888888888888,
             "#000019"
            ],
            [
             1,
             "#000020"
            ]
           ],
           "sequentialminus": [
            [
             0,
             "#000011"
            ],
            [
             0.1111111111111111,
             "#000012"
            ],
            [
             0.2222222222222222,
             "#000013"
            ],
            [
             0.3333333333333333,
             "#000014"
            ],
            [
             0.4444444444444444,
             "#000015"
            ],
            [
             0.5555555555555556,
             "#000016"
            ],
            [
             0.6666666666666666,
             "#000017"
            ],
            [
             0.7777777777777778,
             "#000018"
            ],
            [
             0.8888888888888888,
             "#000019"
            ],
            [
             1,
             "#000020"
            ]
           ]
          },
          "colorway": [
           "#000001",
           "#000002",
           "#000003",
           "#000004",
           "#000005",
           "#000006",
           "#000007",
           "#000008",
           "#000009",
           "#000010"
          ]
         }
        },
        "title": {
         "text": "Class Engagement (1-10)"
        },
        "width": 800,
        "xaxis": {
         "anchor": "y",
         "autorange": true,
         "domain": [
          0,
          1
         ],
         "range": [
          0.5,
          10.5
         ],
         "tickangle": 45,
         "title": {
          "text": "Engagement Level"
         },
         "type": "linear"
        },
        "yaxis": {
         "anchor": "x",
         "autorange": true,
         "domain": [
          0,
          1
         ],
         "range": [
          0,
          288.42105263157896
         ],
         "title": {
          "text": "Frequency"
         },
         "type": "linear"
        }
       }
      },
      "image/png": "[encoded data removed]",
      "text/html": [
       "<div>                            <div id=\"154cc5ae-0fe8-447e-b5eb-5700ebb5a7c3\" class=\"plotly-graph-div\" style=\"height:600px; width:800px;\"></div>            <script type=\"text/javascript\">                require([\"plotly\"], function(Plotly) {                    window.PLOTLYENV=window.PLOTLYENV || {};                                    if (document.getElementById(\"154cc5ae-0fe8-447e-b5eb-5700ebb5a7c3\")) {                    Plotly.newPlot(                        \"154cc5ae-0fe8-447e-b5eb-5700ebb5a7c3\",                        [{\"alignmentgroup\":\"True\",\"hovertemplate\":\"Engagement Level=%{x}\\u003cbr\\u003eFrequency=%{y}\\u003cbr\\u003etext=%{text}\\u003cextra\\u003e\\u003c\\u002fextra\\u003e\",\"legendgroup\":\"\",\"marker\":{\"color\":\"#000001\",\"pattern\":{\"shape\":\"\"}},\"name\":\"\",\"offsetgroup\":\"\",\"orientation\":\"v\",\"showlegend\":false,\"text\":[159.0,165.0,165.0,172.0,274.0,199.0,202.0,215.0,180.0,152.0],\"textposition\":\"outside\",\"x\":[1,2,3,4,5,6,7,8,9,10],\"xaxis\":\"x\",\"y\":[159,165,165,172,274,199,202,215,180,152],\"yaxis\":\"y\",\"type\":\"bar\",\"hoverinfo\":\"x+y\"}],                        {\"template\":{\"data\":{\"candlestick\":[{\"decreasing\":{\"line\":{\"color\":\"#000033\"}},\"increasing\":{\"line\":{\"color\":\"#000032\"}},\"type\":\"candlestick\"}],\"contourcarpet\":[{\"colorscale\":[[0.0,\"#000011\"],[0.1111111111111111,\"#000012\"],[0.2222222222222222,\"#000013\"],[0.3333333333333333,\"#000014\"],[0.4444444444444444,\"#000015\"],[0.5555555555555556,\"#000016\"],[0.6666666666666666,\"#000017\"],[0.7777777777777778,\"#000018\"],[0.8888888888888888,\"#000019\"],[1.0,\"#000020\"]],\"type\":\"contourcarpet\"}],\"contour\":[{\"colorscale\":[[0.0,\"#000011\"],[0.1111111111111111,\"#000012\"],[0.2222222222222222,\"#000013\"],[0.3333333333333333,\"#000014\"],[0.4444444444444444,\"#000015\"],[0.5555555555555556,\"#000016\"],[0.6666666666666666,\"#000017\"],[0.7777777777777778,\"#000018\"],[0.8888888888888888,\"#000019\"],[1.0,\"#000020\"]],\"type\":\"contour\"}],\"heatmap\":[{\"colorscale\":[[0.0,\"#000011\"],[0.1111111111111111,\"#000012\"],[0.2222222222222222,\"#000013\"],[0.3333333333333333,\"#000014\"],[0.4444444444444444,\"#000015\"],[0.5555555555555556,\"#000016\"],[0.6666666666666666,\"#000017\"],[0.7777777777777778,\"#000018\"],[0.8888888888888888,\"#000019\"],[1.0,\"#000020\"]],\"type\":\"heatmap\"}],\"histogram2d\":[{\"colorscale\":[[0.0,\"#000011\"],[0.1111111111111111,\"#000012\"],[0.2222222222222222,\"#000013\"],[0.3333333333333333,\"#000014\"],[0.4444444444444444,\"#000015\"],[0.5555555555555556,\"#000016\"],[0.6666666666666666,\"#000017\"],[0.7777777777777778,\"#000018\"],[0.8888888888888888,\"#000019\"],[1.0,\"#000020\"]],\"type\":\"histogram2d\"}],\"icicle\":[{\"textfont\":{\"color\":\"white\"},\"type\":\"icicle\"}],\"sankey\":[{\"textfont\":{\"color\":\"#000036\"},\"type\":\"sankey\"}],\"scatter\":[{\"marker\":{\"line\":{\"width\":0}},\"type\":\"scatter\"}],\"table\":[{\"cells\":{\"fill\":{\"color\":\"#000038\"},\"font\":{\"color\":\"#000037\"},\"line\":{\"color\":\"#000039\"}},\"header\":{\"fill\":{\"color\":\"#000040\"},\"font\":{\"color\":\"#000036\"},\"line\":{\"color\":\"#000039\"}},\"type\":\"table\"}],\"waterfall\":[{\"connector\":{\"line\":{\"color\":\"#000036\",\"width\":2}},\"decreasing\":{\"marker\":{\"color\":\"#000033\"}},\"increasing\":{\"marker\":{\"color\":\"#000032\"}},\"totals\":{\"marker\":{\"color\":\"#000034\"}},\"type\":\"waterfall\"}]},\"layout\":{\"coloraxis\":{\"colorscale\":[[0.0,\"#000011\"],[0.1111111111111111,\"#000012\"],[0.2222222222222222,\"#000013\"],[0.3333333333333333,\"#000014\"],[0.4444444444444444,\"#000015\"],[0.5555555555555556,\"#000016\"],[0.6666666666666666,\"#000017\"],[0.7777777777777778,\"#000018\"],[0.8888888888888888,\"#000019\"],[1.0,\"#000020\"]]},\"colorscale\":{\"diverging\":[[0.0,\"#000021\"],[0.1,\"#000022\"],[0.2,\"#000023\"],[0.3,\"#000024\"],[0.4,\"#000025\"],[0.5,\"#000026\"],[0.6,\"#000027\"],[0.7,\"#000028\"],[0.8,\"#000029\"],[0.9,\"#000030\"],[1.0,\"#000031\"]],\"sequential\":[[0.0,\"#000011\"],[0.1111111111111111,\"#000012\"],[0.2222222222222222,\"#000013\"],[0.3333333333333333,\"#000014\"],[0.4444444444444444,\"#000015\"],[0.5555555555555556,\"#000016\"],[0.6666666666666666,\"#000017\"],[0.7777777777777778,\"#000018\"],[0.8888888888888888,\"#000019\"],[1.0,\"#000020\"]],\"sequentialminus\":[[0.0,\"#000011\"],[0.1111111111111111,\"#000012\"],[0.2222222222222222,\"#000013\"],[0.3333333333333333,\"#000014\"],[0.4444444444444444,\"#000015\"],[0.5555555555555556,\"#000016\"],[0.6666666666666666,\"#000017\"],[0.7777777777777778,\"#000018\"],[0.8888888888888888,\"#000019\"],[1.0,\"#000020\"]]},\"colorway\":[\"#000001\",\"#000002\",\"#000003\",\"#000004\",\"#000005\",\"#000006\",\"#000007\",\"#000008\",\"#000009\",\"#000010\"]}},\"xaxis\":{\"anchor\":\"y\",\"domain\":[0.0,1.0],\"title\":{\"text\":\"Engagement Level\"},\"tickangle\":45},\"yaxis\":{\"anchor\":\"x\",\"domain\":[0.0,1.0],\"title\":{\"text\":\"Frequency\"}},\"legend\":{\"tracegroupgap\":0},\"title\":{\"text\":\"Class Engagement (1-10)\"},\"barmode\":\"relative\",\"width\":800,\"height\":600},                        {\"responsive\": true}                    ).then(function(){\n",
       "                            \n",
       "var gd = document.getElementById('154cc5ae-0fe8-447e-b5eb-5700ebb5a7c3');\n",
       "var x = new MutationObserver(function (mutations, observer) {{\n",
       "        var display = window.getComputedStyle(gd).display;\n",
       "        if (!display || display === 'none') {{\n",
       "            console.log([gd, 'removed!']);\n",
       "            Plotly.purge(gd);\n",
       "            observer.disconnect();\n",
       "        }}\n",
       "}});\n",
       "\n",
       "// Listen for the removal of the full notebook cells\n",
       "var notebookContainer = gd.closest('#notebook-container');\n",
       "if (notebookContainer) {{\n",
       "    x.observe(notebookContainer, {childList: true});\n",
       "}}\n",
       "\n",
       "// Listen for the clearing of the current output cell\n",
       "var outputEl = gd.closest('.output');\n",
       "if (outputEl) {{\n",
       "    x.observe(outputEl, {childList: true});\n",
       "}}\n",
       "\n",
       "                        })                };                });            </script>        </div>"
      ]
     },
     "metadata": {},
     "output_type": "display_data"
    },
    {
     "data": {
      "application/vnd.plotly.v1+json": {
       "config": {
        "plotlyServerURL": "https://plot.ly"
       },
       "data": [
        {
         "alignmentgroup": "True",
         "hoverinfo": "x+y",
         "hovertemplate": "Score Range=%{x}<br>Frequency=%{y}<br>text=%{text}<extra></extra>",
         "legendgroup": "",
         "marker": {
          "color": "#000001",
          "pattern": {
           "shape": ""
          }
         },
         "name": "",
         "offsetgroup": "",
         "orientation": "v",
         "showlegend": false,
         "text": [
          3,
          8,
          40,
          25,
          130,
          406,
          512,
          422,
          331,
          6
         ],
         "textposition": "outside",
         "type": "bar",
         "x": [
          "(0, 10]",
          "(10, 20]",
          "(20, 30]",
          "(30, 40]",
          "(40, 50]",
          "(50, 60]",
          "(60, 70]",
          "(70, 80]",
          "(80, 90]",
          "(90, 100]"
         ],
         "xaxis": "x",
         "y": [
          3,
          8,
          40,
          25,
          130,
          406,
          512,
          422,
          331,
          6
         ],
         "yaxis": "y"
        }
       ],
       "layout": {
        "barmode": "relative",
        "height": 600,
        "legend": {
         "tracegroupgap": 0
        },
        "template": {
         "data": {
          "candlestick": [
           {
            "decreasing": {
             "line": {
              "color": "#000033"
             }
            },
            "increasing": {
             "line": {
              "color": "#000032"
             }
            },
            "type": "candlestick"
           }
          ],
          "contour": [
           {
            "colorscale": [
             [
              0,
              "#000011"
             ],
             [
              0.1111111111111111,
              "#000012"
             ],
             [
              0.2222222222222222,
              "#000013"
             ],
             [
              0.3333333333333333,
              "#000014"
             ],
             [
              0.4444444444444444,
              "#000015"
             ],
             [
              0.5555555555555556,
              "#000016"
             ],
             [
              0.6666666666666666,
              "#000017"
             ],
             [
              0.7777777777777778,
              "#000018"
             ],
             [
              0.8888888888888888,
              "#000019"
             ],
             [
              1,
              "#000020"
             ]
            ],
            "type": "contour"
           }
          ],
          "contourcarpet": [
           {
            "colorscale": [
             [
              0,
              "#000011"
             ],
             [
              0.1111111111111111,
              "#000012"
             ],
             [
              0.2222222222222222,
              "#000013"
             ],
             [
              0.3333333333333333,
              "#000014"
             ],
             [
              0.4444444444444444,
              "#000015"
             ],
             [
              0.5555555555555556,
              "#000016"
             ],
             [
              0.6666666666666666,
              "#000017"
             ],
             [
              0.7777777777777778,
              "#000018"
             ],
             [
              0.8888888888888888,
              "#000019"
             ],
             [
              1,
              "#000020"
             ]
            ],
            "type": "contourcarpet"
           }
          ],
          "heatmap": [
           {
            "colorscale": [
             [
              0,
              "#000011"
             ],
             [
              0.1111111111111111,
              "#000012"
             ],
             [
              0.2222222222222222,
              "#000013"
             ],
             [
              0.3333333333333333,
              "#000014"
             ],
             [
              0.4444444444444444,
              "#000015"
             ],
             [
              0.5555555555555556,
              "#000016"
             ],
             [
              0.6666666666666666,
              "#000017"
             ],
             [
              0.7777777777777778,
              "#000018"
             ],
             [
              0.8888888888888888,
              "#000019"
             ],
             [
              1,
              "#000020"
             ]
            ],
            "type": "heatmap"
           }
          ],
          "histogram2d": [
           {
            "colorscale": [
             [
              0,
              "#000011"
             ],
             [
              0.1111111111111111,
              "#000012"
             ],
             [
              0.2222222222222222,
              "#000013"
             ],
             [
              0.3333333333333333,
              "#000014"
             ],
             [
              0.4444444444444444,
              "#000015"
             ],
             [
              0.5555555555555556,
              "#000016"
             ],
             [
              0.6666666666666666,
              "#000017"
             ],
             [
              0.7777777777777778,
              "#000018"
             ],
             [
              0.8888888888888888,
              "#000019"
             ],
             [
              1,
              "#000020"
             ]
            ],
            "type": "histogram2d"
           }
          ],
          "icicle": [
           {
            "textfont": {
             "color": "white"
            },
            "type": "icicle"
           }
          ],
          "sankey": [
           {
            "textfont": {
             "color": "#000036"
            },
            "type": "sankey"
           }
          ],
          "scatter": [
           {
            "marker": {
             "line": {
              "width": 0
             }
            },
            "type": "scatter"
           }
          ],
          "table": [
           {
            "cells": {
             "fill": {
              "color": "#000038"
             },
             "font": {
              "color": "#000037"
             },
             "line": {
              "color": "#000039"
             }
            },
            "header": {
             "fill": {
              "color": "#000040"
             },
             "font": {
              "color": "#000036"
             },
             "line": {
              "color": "#000039"
             }
            },
            "type": "table"
           }
          ],
          "waterfall": [
           {
            "connector": {
             "line": {
              "color": "#000036",
              "width": 2
             }
            },
            "decreasing": {
             "marker": {
              "color": "#000033"
             }
            },
            "increasing": {
             "marker": {
              "color": "#000032"
             }
            },
            "totals": {
             "marker": {
              "color": "#000034"
             }
            },
            "type": "waterfall"
           }
          ]
         },
         "layout": {
          "coloraxis": {
           "colorscale": [
            [
             0,
             "#000011"
            ],
            [
             0.1111111111111111,
             "#000012"
            ],
            [
             0.2222222222222222,
             "#000013"
            ],
            [
             0.3333333333333333,
             "#000014"
            ],
            [
             0.4444444444444444,
             "#000015"
            ],
            [
             0.5555555555555556,
             "#000016"
            ],
            [
             0.6666666666666666,
             "#000017"
            ],
            [
             0.7777777777777778,
             "#000018"
            ],
            [
             0.8888888888888888,
             "#000019"
            ],
            [
             1,
             "#000020"
            ]
           ]
          },
          "colorscale": {
           "diverging": [
            [
             0,
             "#000021"
            ],
            [
             0.1,
             "#000022"
            ],
            [
             0.2,
             "#000023"
            ],
            [
             0.3,
             "#000024"
            ],
            [
             0.4,
             "#000025"
            ],
            [
             0.5,
             "#000026"
            ],
            [
             0.6,
             "#000027"
            ],
            [
             0.7,
             "#000028"
            ],
            [
             0.8,
             "#000029"
            ],
            [
             0.9,
             "#000030"
            ],
            [
             1,
             "#000031"
            ]
           ],
           "sequential": [
            [
             0,
             "#000011"
            ],
            [
             0.1111111111111111,
             "#000012"
            ],
            [
             0.2222222222222222,
             "#000013"
            ],
            [
             0.3333333333333333,
             "#000014"
            ],
            [
             0.4444444444444444,
             "#000015"
            ],
            [
             0.5555555555555556,
             "#000016"
            ],
            [
             0.6666666666666666,
             "#000017"
            ],
            [
             0.7777777777777778,
             "#000018"
            ],
            [
             0.8888888888888888,
             "#000019"
            ],
            [
             1,
             "#000020"
            ]
           ],
           "sequentialminus": [
            [
             0,
             "#000011"
            ],
            [
             0.1111111111111111,
             "#000012"
            ],
            [
             0.2222222222222222,
             "#000013"
            ],
            [
             0.3333333333333333,
             "#000014"
            ],
            [
             0.4444444444444444,
             "#000015"
            ],
            [
             0.5555555555555556,
             "#000016"
            ],
            [
             0.6666666666666666,
             "#000017"
            ],
            [
             0.7777777777777778,
             "#000018"
            ],
            [
             0.8888888888888888,
             "#000019"
            ],
            [
             1,
             "#000020"
            ]
           ]
          },
          "colorway": [
           "#000001",
           "#000002",
           "#000003",
           "#000004",
           "#000005",
           "#000006",
           "#000007",
           "#000008",
           "#000009",
           "#000010"
          ]
         }
        },
        "title": {
         "text": "Assessment Scores (Out of 100)"
        },
        "width": 800,
        "xaxis": {
         "anchor": "y",
         "autorange": true,
         "domain": [
          0,
          1
         ],
         "range": [
          -0.5,
          9.5
         ],
         "tickangle": 45,
         "title": {
          "text": "Score Range"
         },
         "type": "category"
        },
        "yaxis": {
         "anchor": "x",
         "autorange": true,
         "domain": [
          0,
          1
         ],
         "range": [
          0,
          538.9473684210526
         ],
         "title": {
          "text": "Frequency"
         },
         "type": "linear"
        }
       }
      },
      "image/png": "[encoded data removed]",
      "text/html": [
       "<div>                            <div id=\"e2624c03-9f0c-41a1-a5f2-77d2ff70d73f\" class=\"plotly-graph-div\" style=\"height:600px; width:800px;\"></div>            <script type=\"text/javascript\">                require([\"plotly\"], function(Plotly) {                    window.PLOTLYENV=window.PLOTLYENV || {};                                    if (document.getElementById(\"e2624c03-9f0c-41a1-a5f2-77d2ff70d73f\")) {                    Plotly.newPlot(                        \"e2624c03-9f0c-41a1-a5f2-77d2ff70d73f\",                        [{\"alignmentgroup\":\"True\",\"hovertemplate\":\"Score Range=%{x}\\u003cbr\\u003eFrequency=%{y}\\u003cbr\\u003etext=%{text}\\u003cextra\\u003e\\u003c\\u002fextra\\u003e\",\"legendgroup\":\"\",\"marker\":{\"color\":\"#000001\",\"pattern\":{\"shape\":\"\"}},\"name\":\"\",\"offsetgroup\":\"\",\"orientation\":\"v\",\"showlegend\":false,\"text\":[3.0,8.0,40.0,25.0,130.0,406.0,512.0,422.0,331.0,6.0],\"textposition\":\"outside\",\"x\":[\"(0, 10]\",\"(10, 20]\",\"(20, 30]\",\"(30, 40]\",\"(40, 50]\",\"(50, 60]\",\"(60, 70]\",\"(70, 80]\",\"(80, 90]\",\"(90, 100]\"],\"xaxis\":\"x\",\"y\":[3,8,40,25,130,406,512,422,331,6],\"yaxis\":\"y\",\"type\":\"bar\",\"hoverinfo\":\"x+y\"}],                        {\"template\":{\"data\":{\"candlestick\":[{\"decreasing\":{\"line\":{\"color\":\"#000033\"}},\"increasing\":{\"line\":{\"color\":\"#000032\"}},\"type\":\"candlestick\"}],\"contourcarpet\":[{\"colorscale\":[[0.0,\"#000011\"],[0.1111111111111111,\"#000012\"],[0.2222222222222222,\"#000013\"],[0.3333333333333333,\"#000014\"],[0.4444444444444444,\"#000015\"],[0.5555555555555556,\"#000016\"],[0.6666666666666666,\"#000017\"],[0.7777777777777778,\"#000018\"],[0.8888888888888888,\"#000019\"],[1.0,\"#000020\"]],\"type\":\"contourcarpet\"}],\"contour\":[{\"colorscale\":[[0.0,\"#000011\"],[0.1111111111111111,\"#000012\"],[0.2222222222222222,\"#000013\"],[0.3333333333333333,\"#000014\"],[0.4444444444444444,\"#000015\"],[0.5555555555555556,\"#000016\"],[0.6666666666666666,\"#000017\"],[0.7777777777777778,\"#000018\"],[0.8888888888888888,\"#000019\"],[1.0,\"#000020\"]],\"type\":\"contour\"}],\"heatmap\":[{\"colorscale\":[[0.0,\"#000011\"],[0.1111111111111111,\"#000012\"],[0.2222222222222222,\"#000013\"],[0.3333333333333333,\"#000014\"],[0.4444444444444444,\"#000015\"],[0.5555555555555556,\"#000016\"],[0.6666666666666666,\"#000017\"],[0.7777777777777778,\"#000018\"],[0.8888888888888888,\"#000019\"],[1.0,\"#000020\"]],\"type\":\"heatmap\"}],\"histogram2d\":[{\"colorscale\":[[0.0,\"#000011\"],[0.1111111111111111,\"#000012\"],[0.2222222222222222,\"#000013\"],[0.3333333333333333,\"#000014\"],[0.4444444444444444,\"#000015\"],[0.5555555555555556,\"#000016\"],[0.6666666666666666,\"#000017\"],[0.7777777777777778,\"#000018\"],[0.8888888888888888,\"#000019\"],[1.0,\"#000020\"]],\"type\":\"histogram2d\"}],\"icicle\":[{\"textfont\":{\"color\":\"white\"},\"type\":\"icicle\"}],\"sankey\":[{\"textfont\":{\"color\":\"#000036\"},\"type\":\"sankey\"}],\"scatter\":[{\"marker\":{\"line\":{\"width\":0}},\"type\":\"scatter\"}],\"table\":[{\"cells\":{\"fill\":{\"color\":\"#000038\"},\"font\":{\"color\":\"#000037\"},\"line\":{\"color\":\"#000039\"}},\"header\":{\"fill\":{\"color\":\"#000040\"},\"font\":{\"color\":\"#000036\"},\"line\":{\"color\":\"#000039\"}},\"type\":\"table\"}],\"waterfall\":[{\"connector\":{\"line\":{\"color\":\"#000036\",\"width\":2}},\"decreasing\":{\"marker\":{\"color\":\"#000033\"}},\"increasing\":{\"marker\":{\"color\":\"#000032\"}},\"totals\":{\"marker\":{\"color\":\"#000034\"}},\"type\":\"waterfall\"}]},\"layout\":{\"coloraxis\":{\"colorscale\":[[0.0,\"#000011\"],[0.1111111111111111,\"#000012\"],[0.2222222222222222,\"#000013\"],[0.3333333333333333,\"#000014\"],[0.4444444444444444,\"#000015\"],[0.5555555555555556,\"#000016\"],[0.6666666666666666,\"#000017\"],[0.7777777777777778,\"#000018\"],[0.8888888888888888,\"#000019\"],[1.0,\"#000020\"]]},\"colorscale\":{\"diverging\":[[0.0,\"#000021\"],[0.1,\"#000022\"],[0.2,\"#000023\"],[0.3,\"#000024\"],[0.4,\"#000025\"],[0.5,\"#000026\"],[0.6,\"#000027\"],[0.7,\"#000028\"],[0.8,\"#000029\"],[0.9,\"#000030\"],[1.0,\"#000031\"]],\"sequential\":[[0.0,\"#000011\"],[0.1111111111111111,\"#000012\"],[0.2222222222222222,\"#000013\"],[0.3333333333333333,\"#000014\"],[0.4444444444444444,\"#000015\"],[0.5555555555555556,\"#000016\"],[0.6666666666666666,\"#000017\"],[0.7777777777777778,\"#000018\"],[0.8888888888888888,\"#000019\"],[1.0,\"#000020\"]],\"sequentialminus\":[[0.0,\"#000011\"],[0.1111111111111111,\"#000012\"],[0.2222222222222222,\"#000013\"],[0.3333333333333333,\"#000014\"],[0.4444444444444444,\"#000015\"],[0.5555555555555556,\"#000016\"],[0.6666666666666666,\"#000017\"],[0.7777777777777778,\"#000018\"],[0.8888888888888888,\"#000019\"],[1.0,\"#000020\"]]},\"colorway\":[\"#000001\",\"#000002\",\"#000003\",\"#000004\",\"#000005\",\"#000006\",\"#000007\",\"#000008\",\"#000009\",\"#000010\"]}},\"xaxis\":{\"anchor\":\"y\",\"domain\":[0.0,1.0],\"title\":{\"text\":\"Score Range\"},\"tickangle\":45},\"yaxis\":{\"anchor\":\"x\",\"domain\":[0.0,1.0],\"title\":{\"text\":\"Frequency\"}},\"legend\":{\"tracegroupgap\":0},\"title\":{\"text\":\"Assessment Scores (Out of 100)\"},\"barmode\":\"relative\",\"width\":800,\"height\":600},                        {\"responsive\": true}                    ).then(function(){\n",
       "                            \n",
       "var gd = document.getElementById('e2624c03-9f0c-41a1-a5f2-77d2ff70d73f');\n",
       "var x = new MutationObserver(function (mutations, observer) {{\n",
       "        var display = window.getComputedStyle(gd).display;\n",
       "        if (!display || display === 'none') {{\n",
       "            console.log([gd, 'removed!']);\n",
       "            Plotly.purge(gd);\n",
       "            observer.disconnect();\n",
       "        }}\n",
       "}});\n",
       "\n",
       "// Listen for the removal of the full notebook cells\n",
       "var notebookContainer = gd.closest('#notebook-container');\n",
       "if (notebookContainer) {{\n",
       "    x.observe(notebookContainer, {childList: true});\n",
       "}}\n",
       "\n",
       "// Listen for the clearing of the current output cell\n",
       "var outputEl = gd.closest('.output');\n",
       "if (outputEl) {{\n",
       "    x.observe(outputEl, {childList: true});\n",
       "}}\n",
       "\n",
       "                        })                };                });            </script>        </div>"
      ]
     },
     "metadata": {},
     "output_type": "display_data"
    },
    {
     "data": {
      "application/vnd.plotly.v1+json": {
       "config": {
        "plotlyServerURL": "https://plot.ly"
       },
       "data": [
        {
         "alignmentgroup": "True",
         "hoverinfo": "x+y",
         "hovertemplate": "Tech Usage Level=%{x}<br>Frequency=%{y}<br>text=%{text}<extra></extra>",
         "legendgroup": "",
         "marker": {
          "color": "#000001",
          "pattern": {
           "shape": ""
          }
         },
         "name": "",
         "offsetgroup": "",
         "orientation": "v",
         "showlegend": false,
         "text": [
          158,
          132,
          153,
          166,
          195,
          194,
          183,
          201,
          220,
          281
         ],
         "textposition": "outside",
         "type": "bar",
         "x": [
          1,
          2,
          3,
          4,
          5,
          6,
          7,
          8,
          9,
          10
         ],
         "xaxis": "x",
         "y": [
          158,
          132,
          153,
          166,
          195,
          194,
          183,
          201,
          220,
          281
         ],
         "yaxis": "y"
        }
       ],
       "layout": {
        "barmode": "relative",
        "height": 600,
        "legend": {
         "tracegroupgap": 0
        },
        "template": {
         "data": {
          "candlestick": [
           {
            "decreasing": {
             "line": {
              "color": "#000033"
             }
            },
            "increasing": {
             "line": {
              "color": "#000032"
             }
            },
            "type": "candlestick"
           }
          ],
          "contour": [
           {
            "colorscale": [
             [
              0,
              "#000011"
             ],
             [
              0.1111111111111111,
              "#000012"
             ],
             [
              0.2222222222222222,
              "#000013"
             ],
             [
              0.3333333333333333,
              "#000014"
             ],
             [
              0.4444444444444444,
              "#000015"
             ],
             [
              0.5555555555555556,
              "#000016"
             ],
             [
              0.6666666666666666,
              "#000017"
             ],
             [
              0.7777777777777778,
              "#000018"
             ],
             [
              0.8888888888888888,
              "#000019"
             ],
             [
              1,
              "#000020"
             ]
            ],
            "type": "contour"
           }
          ],
          "contourcarpet": [
           {
            "colorscale": [
             [
              0,
              "#000011"
             ],
             [
              0.1111111111111111,
              "#000012"
             ],
             [
              0.2222222222222222,
              "#000013"
             ],
             [
              0.3333333333333333,
              "#000014"
             ],
             [
              0.4444444444444444,
              "#000015"
             ],
             [
              0.5555555555555556,
              "#000016"
             ],
             [
              0.6666666666666666,
              "#000017"
             ],
             [
              0.7777777777777778,
              "#000018"
             ],
             [
              0.8888888888888888,
              "#000019"
             ],
             [
              1,
              "#000020"
             ]
            ],
            "type": "contourcarpet"
           }
          ],
          "heatmap": [
           {
            "colorscale": [
             [
              0,
              "#000011"
             ],
             [
              0.1111111111111111,
              "#000012"
             ],
             [
              0.2222222222222222,
              "#000013"
             ],
             [
              0.3333333333333333,
              "#000014"
             ],
             [
              0.4444444444444444,
              "#000015"
             ],
             [
              0.5555555555555556,
              "#000016"
             ],
             [
              0.6666666666666666,
              "#000017"
             ],
             [
              0.7777777777777778,
              "#000018"
             ],
             [
              0.8888888888888888,
              "#000019"
             ],
             [
              1,
              "#000020"
             ]
            ],
            "type": "heatmap"
           }
          ],
          "histogram2d": [
           {
            "colorscale": [
             [
              0,
              "#000011"
             ],
             [
              0.1111111111111111,
              "#000012"
             ],
             [
              0.2222222222222222,
              "#000013"
             ],
             [
              0.3333333333333333,
              "#000014"
             ],
             [
              0.4444444444444444,
              "#000015"
             ],
             [
              0.5555555555555556,
              "#000016"
             ],
             [
              0.6666666666666666,
              "#000017"
             ],
             [
              0.7777777777777778,
              "#000018"
             ],
             [
              0.8888888888888888,
              "#000019"
             ],
             [
              1,
              "#000020"
             ]
            ],
            "type": "histogram2d"
           }
          ],
          "icicle": [
           {
            "textfont": {
             "color": "white"
            },
            "type": "icicle"
           }
          ],
          "sankey": [
           {
            "textfont": {
             "color": "#000036"
            },
            "type": "sankey"
           }
          ],
          "scatter": [
           {
            "marker": {
             "line": {
              "width": 0
             }
            },
            "type": "scatter"
           }
          ],
          "table": [
           {
            "cells": {
             "fill": {
              "color": "#000038"
             },
             "font": {
              "color": "#000037"
             },
             "line": {
              "color": "#000039"
             }
            },
            "header": {
             "fill": {
              "color": "#000040"
             },
             "font": {
              "color": "#000036"
             },
             "line": {
              "color": "#000039"
             }
            },
            "type": "table"
           }
          ],
          "waterfall": [
           {
            "connector": {
             "line": {
              "color": "#000036",
              "width": 2
             }
            },
            "decreasing": {
             "marker": {
              "color": "#000033"
             }
            },
            "increasing": {
             "marker": {
              "color": "#000032"
             }
            },
            "totals": {
             "marker": {
              "color": "#000034"
             }
            },
            "type": "waterfall"
           }
          ]
         },
         "layout": {
          "coloraxis": {
           "colorscale": [
            [
             0,
             "#000011"
            ],
            [
             0.1111111111111111,
             "#000012"
            ],
            [
             0.2222222222222222,
             "#000013"
            ],
            [
             0.3333333333333333,
             "#000014"
            ],
            [
             0.4444444444444444,
             "#000015"
            ],
            [
             0.5555555555555556,
             "#000016"
            ],
            [
             0.6666666666666666,
             "#000017"
            ],
            [
             0.7777777777777778,
             "#000018"
            ],
            [
             0.8888888888888888,
             "#000019"
            ],
            [
             1,
             "#000020"
            ]
           ]
          },
          "colorscale": {
           "diverging": [
            [
             0,
             "#000021"
            ],
            [
             0.1,
             "#000022"
            ],
            [
             0.2,
             "#000023"
            ],
            [
             0.3,
             "#000024"
            ],
            [
             0.4,
             "#000025"
            ],
            [
             0.5,
             "#000026"
            ],
            [
             0.6,
             "#000027"
            ],
            [
             0.7,
             "#000028"
            ],
            [
             0.8,
             "#000029"
            ],
            [
             0.9,
             "#000030"
            ],
            [
             1,
             "#000031"
            ]
           ],
           "sequential": [
            [
             0,
             "#000011"
            ],
            [
             0.1111111111111111,
             "#000012"
            ],
            [
             0.2222222222222222,
             "#000013"
            ],
            [
             0.3333333333333333,
             "#000014"
            ],
            [
             0.4444444444444444,
             "#000015"
            ],
            [
             0.5555555555555556,
             "#000016"
            ],
            [
             0.6666666666666666,
             "#000017"
            ],
            [
             0.7777777777777778,
             "#000018"
            ],
            [
             0.8888888888888888,
             "#000019"
            ],
            [
             1,
             "#000020"
            ]
           ],
           "sequentialminus": [
            [
             0,
             "#000011"
            ],
            [
             0.1111111111111111,
             "#000012"
            ],
            [
             0.2222222222222222,
             "#000013"
            ],
            [
             0.3333333333333333,
             "#000014"
            ],
            [
             0.4444444444444444,
             "#000015"
            ],
            [
             0.5555555555555556,
             "#000016"
            ],
            [
             0.6666666666666666,
             "#000017"
            ],
            [
             0.7777777777777778,
             "#000018"
            ],
            [
             0.8888888888888888,
             "#000019"
            ],
            [
             1,
             "#000020"
            ]
           ]
          },
          "colorway": [
           "#000001",
           "#000002",
           "#000003",
           "#000004",
           "#000005",
           "#000006",
           "#000007",
           "#000008",
           "#000009",
           "#000010"
          ]
         }
        },
        "title": {
         "text": "Tech Usage for Studies (1-10)"
        },
        "width": 800,
        "xaxis": {
         "anchor": "y",
         "autorange": true,
         "domain": [
          0,
          1
         ],
         "range": [
          0.5,
          10.5
         ],
         "tickangle": 45,
         "title": {
          "text": "Tech Usage Level"
         },
         "type": "linear"
        },
        "yaxis": {
         "anchor": "x",
         "autorange": true,
         "domain": [
          0,
          1
         ],
         "range": [
          0,
          295.7894736842105
         ],
         "title": {
          "text": "Frequency"
         },
         "type": "linear"
        }
       }
      },
      "image/png": "[encoded data removed]",
      "text/html": [
       "<div>                            <div id=\"66510de0-a363-45f0-af34-0b3d100601be\" class=\"plotly-graph-div\" style=\"height:600px; width:800px;\"></div>            <script type=\"text/javascript\">                require([\"plotly\"], function(Plotly) {                    window.PLOTLYENV=window.PLOTLYENV || {};                                    if (document.getElementById(\"66510de0-a363-45f0-af34-0b3d100601be\")) {                    Plotly.newPlot(                        \"66510de0-a363-45f0-af34-0b3d100601be\",                        [{\"alignmentgroup\":\"True\",\"hovertemplate\":\"Tech Usage Level=%{x}\\u003cbr\\u003eFrequency=%{y}\\u003cbr\\u003etext=%{text}\\u003cextra\\u003e\\u003c\\u002fextra\\u003e\",\"legendgroup\":\"\",\"marker\":{\"color\":\"#000001\",\"pattern\":{\"shape\":\"\"}},\"name\":\"\",\"offsetgroup\":\"\",\"orientation\":\"v\",\"showlegend\":false,\"text\":[158.0,132.0,153.0,166.0,195.0,194.0,183.0,201.0,220.0,281.0],\"textposition\":\"outside\",\"x\":[1,2,3,4,5,6,7,8,9,10],\"xaxis\":\"x\",\"y\":[158,132,153,166,195,194,183,201,220,281],\"yaxis\":\"y\",\"type\":\"bar\",\"hoverinfo\":\"x+y\"}],                        {\"template\":{\"data\":{\"candlestick\":[{\"decreasing\":{\"line\":{\"color\":\"#000033\"}},\"increasing\":{\"line\":{\"color\":\"#000032\"}},\"type\":\"candlestick\"}],\"contourcarpet\":[{\"colorscale\":[[0.0,\"#000011\"],[0.1111111111111111,\"#000012\"],[0.2222222222222222,\"#000013\"],[0.3333333333333333,\"#000014\"],[0.4444444444444444,\"#000015\"],[0.5555555555555556,\"#000016\"],[0.6666666666666666,\"#000017\"],[0.7777777777777778,\"#000018\"],[0.8888888888888888,\"#000019\"],[1.0,\"#000020\"]],\"type\":\"contourcarpet\"}],\"contour\":[{\"colorscale\":[[0.0,\"#000011\"],[0.1111111111111111,\"#000012\"],[0.2222222222222222,\"#000013\"],[0.3333333333333333,\"#000014\"],[0.4444444444444444,\"#000015\"],[0.5555555555555556,\"#000016\"],[0.6666666666666666,\"#000017\"],[0.7777777777777778,\"#000018\"],[0.8888888888888888,\"#000019\"],[1.0,\"#000020\"]],\"type\":\"contour\"}],\"heatmap\":[{\"colorscale\":[[0.0,\"#000011\"],[0.1111111111111111,\"#000012\"],[0.2222222222222222,\"#000013\"],[0.3333333333333333,\"#000014\"],[0.4444444444444444,\"#000015\"],[0.5555555555555556,\"#000016\"],[0.6666666666666666,\"#000017\"],[0.7777777777777778,\"#000018\"],[0.8888888888888888,\"#000019\"],[1.0,\"#000020\"]],\"type\":\"heatmap\"}],\"histogram2d\":[{\"colorscale\":[[0.0,\"#000011\"],[0.1111111111111111,\"#000012\"],[0.2222222222222222,\"#000013\"],[0.3333333333333333,\"#000014\"],[0.4444444444444444,\"#000015\"],[0.5555555555555556,\"#000016\"],[0.6666666666666666,\"#000017\"],[0.7777777777777778,\"#000018\"],[0.8888888888888888,\"#000019\"],[1.0,\"#000020\"]],\"type\":\"histogram2d\"}],\"icicle\":[{\"textfont\":{\"color\":\"white\"},\"type\":\"icicle\"}],\"sankey\":[{\"textfont\":{\"color\":\"#000036\"},\"type\":\"sankey\"}],\"scatter\":[{\"marker\":{\"line\":{\"width\":0}},\"type\":\"scatter\"}],\"table\":[{\"cells\":{\"fill\":{\"color\":\"#000038\"},\"font\":{\"color\":\"#000037\"},\"line\":{\"color\":\"#000039\"}},\"header\":{\"fill\":{\"color\":\"#000040\"},\"font\":{\"color\":\"#000036\"},\"line\":{\"color\":\"#000039\"}},\"type\":\"table\"}],\"waterfall\":[{\"connector\":{\"line\":{\"color\":\"#000036\",\"width\":2}},\"decreasing\":{\"marker\":{\"color\":\"#000033\"}},\"increasing\":{\"marker\":{\"color\":\"#000032\"}},\"totals\":{\"marker\":{\"color\":\"#000034\"}},\"type\":\"waterfall\"}]},\"layout\":{\"coloraxis\":{\"colorscale\":[[0.0,\"#000011\"],[0.1111111111111111,\"#000012\"],[0.2222222222222222,\"#000013\"],[0.3333333333333333,\"#000014\"],[0.4444444444444444,\"#000015\"],[0.5555555555555556,\"#000016\"],[0.6666666666666666,\"#000017\"],[0.7777777777777778,\"#000018\"],[0.8888888888888888,\"#000019\"],[1.0,\"#000020\"]]},\"colorscale\":{\"diverging\":[[0.0,\"#000021\"],[0.1,\"#000022\"],[0.2,\"#000023\"],[0.3,\"#000024\"],[0.4,\"#000025\"],[0.5,\"#000026\"],[0.6,\"#000027\"],[0.7,\"#000028\"],[0.8,\"#000029\"],[0.9,\"#000030\"],[1.0,\"#000031\"]],\"sequential\":[[0.0,\"#000011\"],[0.1111111111111111,\"#000012\"],[0.2222222222222222,\"#000013\"],[0.3333333333333333,\"#000014\"],[0.4444444444444444,\"#000015\"],[0.5555555555555556,\"#000016\"],[0.6666666666666666,\"#000017\"],[0.7777777777777778,\"#000018\"],[0.8888888888888888,\"#000019\"],[1.0,\"#000020\"]],\"sequentialminus\":[[0.0,\"#000011\"],[0.1111111111111111,\"#000012\"],[0.2222222222222222,\"#000013\"],[0.3333333333333333,\"#000014\"],[0.4444444444444444,\"#000015\"],[0.5555555555555556,\"#000016\"],[0.6666666666666666,\"#000017\"],[0.7777777777777778,\"#000018\"],[0.8888888888888888,\"#000019\"],[1.0,\"#000020\"]]},\"colorway\":[\"#000001\",\"#000002\",\"#000003\",\"#000004\",\"#000005\",\"#000006\",\"#000007\",\"#000008\",\"#000009\",\"#000010\"]}},\"xaxis\":{\"anchor\":\"y\",\"domain\":[0.0,1.0],\"title\":{\"text\":\"Tech Usage Level\"},\"tickangle\":45},\"yaxis\":{\"anchor\":\"x\",\"domain\":[0.0,1.0],\"title\":{\"text\":\"Frequency\"}},\"legend\":{\"tracegroupgap\":0},\"title\":{\"text\":\"Tech Usage for Studies (1-10)\"},\"barmode\":\"relative\",\"width\":800,\"height\":600},                        {\"responsive\": true}                    ).then(function(){\n",
       "                            \n",
       "var gd = document.getElementById('66510de0-a363-45f0-af34-0b3d100601be');\n",
       "var x = new MutationObserver(function (mutations, observer) {{\n",
       "        var display = window.getComputedStyle(gd).display;\n",
       "        if (!display || display === 'none') {{\n",
       "            console.log([gd, 'removed!']);\n",
       "            Plotly.purge(gd);\n",
       "            observer.disconnect();\n",
       "        }}\n",
       "}});\n",
       "\n",
       "// Listen for the removal of the full notebook cells\n",
       "var notebookContainer = gd.closest('#notebook-container');\n",
       "if (notebookContainer) {{\n",
       "    x.observe(notebookContainer, {childList: true});\n",
       "}}\n",
       "\n",
       "// Listen for the clearing of the current output cell\n",
       "var outputEl = gd.closest('.output');\n",
       "if (outputEl) {{\n",
       "    x.observe(outputEl, {childList: true});\n",
       "}}\n",
       "\n",
       "                        })                };                });            </script>        </div>"
      ]
     },
     "metadata": {},
     "output_type": "display_data"
    }
   ],
   "source": [
    "import plotly.express as px\n",
    "import pandas as pd\n",
    "\n",
    "# Age Distribution\n",
    "age_counts = df[\"What is your age?\"].value_counts().sort_index()\n",
    "fig_age = px.bar(\n",
    "    x=age_counts.index,\n",
    "    y=age_counts.values,\n",
    "    labels={\"x\": \"Age\", \"y\": \"Frequency\"},\n",
    "    title=\"Age Distribution\",\n",
    "    text=age_counts.values  # Show values on bars\n",
    ")\n",
    "\n",
    "# Engagement Distribution\n",
    "engagement_counts = df[\"On a scale of 1 to 10, how engaged are you during classes?\"].value_counts().sort_index()\n",
    "fig_engagement = px.bar(\n",
    "    x=engagement_counts.index,\n",
    "    y=engagement_counts.values,\n",
    "    labels={\"x\": \"Engagement Level\", \"y\": \"Frequency\"},\n",
    "    title=\"Class Engagement (1-10)\",\n",
    "    text=engagement_counts.values\n",
    ")\n",
    "\n",
    "# Assessment Scores Distribution\n",
    "score_bins = pd.cut(df[\"What is your average score in assessments? (Please enter a score out of 100)\"], bins=range(0, 101, 10))\n",
    "score_counts = score_bins.value_counts().sort_index()\n",
    "fig_scores = px.bar(\n",
    "    x=score_counts.index.astype(str),\n",
    "    y=score_counts.values,\n",
    "    labels={\"x\": \"Score Range\", \"y\": \"Frequency\"},\n",
    "    title=\"Assessment Scores (Out of 100)\",\n",
    "    text=score_counts.values\n",
    ")\n",
    "\n",
    "# Technology Usage Distribution\n",
    "tech_usage_counts = df[\"On a scale of 1 to 10, how much do you use technology for your studies? (1 being not at all, 10 being extensively)\"].value_counts().sort_index()\n",
    "fig_tech = px.bar(\n",
    "    x=tech_usage_counts.index,\n",
    "    y=tech_usage_counts.values,\n",
    "    labels={\"x\": \"Tech Usage Level\", \"y\": \"Frequency\"},\n",
    "    title=\"Tech Usage for Studies (1-10)\",\n",
    "    text=tech_usage_counts.values\n",
    ")\n",
    "\n",
    "# Adjust text position, rotation, and layout\n",
    "fig_age.update_traces(textposition=\"outside\", hoverinfo=\"x+y\")\n",
    "fig_engagement.update_traces(textposition=\"outside\", hoverinfo=\"x+y\")\n",
    "fig_scores.update_traces(textposition=\"outside\", hoverinfo=\"x+y\")\n",
    "fig_tech.update_traces(textposition=\"outside\", hoverinfo=\"x+y\")\n",
    "\n",
    "# Rotate x-axis labels to avoid overlap\n",
    "fig_age.update_layout(xaxis_tickangle=45)\n",
    "fig_engagement.update_layout(xaxis_tickangle=45)\n",
    "fig_scores.update_layout(xaxis_tickangle=45)\n",
    "fig_tech.update_layout(xaxis_tickangle=45)\n",
    "\n",
    "# Increase chart size if necessary\n",
    "fig_age.update_layout(width=800, height=600)\n",
    "fig_engagement.update_layout(width=800, height=600)\n",
    "fig_scores.update_layout(width=800, height=600)\n",
    "fig_tech.update_layout(width=800, height=600)\n",
    "\n",
    "# Show the plots\n",
    "fig_age.show()\n",
    "fig_engagement.show()\n",
    "fig_scores.show()\n",
    "fig_tech.show()\n"
   ]
  },
  {
   "cell_type": "code",
   "execution_count": 1609,
   "id": "b91b172d-339a-4f46-8280-e43b3502064e",
   "metadata": {},
   "outputs": [
    {
     "data": {
      "text/html": [
       "<div>\n",
       "<style scoped>\n",
       "    .dataframe tbody tr th:only-of-type {\n",
       "        vertical-align: middle;\n",
       "    }\n",
       "\n",
       "    .dataframe tbody tr th {\n",
       "        vertical-align: top;\n",
       "    }\n",
       "\n",
       "    .dataframe thead th {\n",
       "        text-align: right;\n",
       "    }\n",
       "</style>\n",
       "<table border=\"1\" class=\"dataframe\">\n",
       "  <thead>\n",
       "    <tr style=\"text-align: right;\">\n",
       "      <th></th>\n",
       "      <th>What is your age?</th>\n",
       "      <th>On a scale of 1 to 10, how engaged are you during classes?</th>\n",
       "      <th>What is your average score in assessments? (Please enter a score out of 100)</th>\n",
       "      <th>On a scale of 1 to 10, how much do you use technology for your studies? (1 being not at all, 10 being extensively)</th>\n",
       "      <th>On a scale of 1 to 10, how would you rate your learning environment</th>\n",
       "    </tr>\n",
       "  </thead>\n",
       "  <tbody>\n",
       "    <tr>\n",
       "      <th>What is your age?</th>\n",
       "      <td>1.000000</td>\n",
       "      <td>0.040287</td>\n",
       "      <td>-0.016269</td>\n",
       "      <td>0.061131</td>\n",
       "      <td>0.078800</td>\n",
       "    </tr>\n",
       "    <tr>\n",
       "      <th>On a scale of 1 to 10, how engaged are you during classes?</th>\n",
       "      <td>0.040287</td>\n",
       "      <td>1.000000</td>\n",
       "      <td>0.060029</td>\n",
       "      <td>0.133378</td>\n",
       "      <td>0.119933</td>\n",
       "    </tr>\n",
       "    <tr>\n",
       "      <th>What is your average score in assessments? (Please enter a score out of 100)</th>\n",
       "      <td>-0.016269</td>\n",
       "      <td>0.060029</td>\n",
       "      <td>1.000000</td>\n",
       "      <td>-0.011889</td>\n",
       "      <td>0.029534</td>\n",
       "    </tr>\n",
       "    <tr>\n",
       "      <th>On a scale of 1 to 10, how much do you use technology for your studies? (1 being not at all, 10 being extensively)</th>\n",
       "      <td>0.061131</td>\n",
       "      <td>0.133378</td>\n",
       "      <td>-0.011889</td>\n",
       "      <td>1.000000</td>\n",
       "      <td>0.143341</td>\n",
       "    </tr>\n",
       "    <tr>\n",
       "      <th>On a scale of 1 to 10, how would you rate your learning environment</th>\n",
       "      <td>0.078800</td>\n",
       "      <td>0.119933</td>\n",
       "      <td>0.029534</td>\n",
       "      <td>0.143341</td>\n",
       "      <td>1.000000</td>\n",
       "    </tr>\n",
       "  </tbody>\n",
       "</table>\n",
       "</div>"
      ],
      "text/plain": [
       "                                                    What is your age?  \\\n",
       "What is your age?                                            1.000000   \n",
       "On a scale of 1 to 10, how engaged are you duri...           0.040287   \n",
       "What is your average score in assessments? (Ple...          -0.016269   \n",
       "On a scale of 1 to 10, how much do you use tech...           0.061131   \n",
       "On a scale of 1 to 10, how would you rate your ...           0.078800   \n",
       "\n",
       "                                                    On a scale of 1 to 10, how engaged are you during classes?  \\\n",
       "What is your age?                                                                            0.040287            \n",
       "On a scale of 1 to 10, how engaged are you duri...                                           1.000000            \n",
       "What is your average score in assessments? (Ple...                                           0.060029            \n",
       "On a scale of 1 to 10, how much do you use tech...                                           0.133378            \n",
       "On a scale of 1 to 10, how would you rate your ...                                           0.119933            \n",
       "\n",
       "                                                    What is your average score in assessments? (Please enter a score out of 100)  \\\n",
       "What is your age?                                                                           -0.016269                              \n",
       "On a scale of 1 to 10, how engaged are you duri...                                           0.060029                              \n",
       "What is your average score in assessments? (Ple...                                           1.000000                              \n",
       "On a scale of 1 to 10, how much do you use tech...                                          -0.011889                              \n",
       "On a scale of 1 to 10, how would you rate your ...                                           0.029534                              \n",
       "\n",
       "                                                    On a scale of 1 to 10, how much do you use technology for your studies? (1 being not at all, 10 being extensively)  \\\n",
       "What is your age?                                                                            0.061131                                                                    \n",
       "On a scale of 1 to 10, how engaged are you duri...                                           0.133378                                                                    \n",
       "What is your average score in assessments? (Ple...                                          -0.011889                                                                    \n",
       "On a scale of 1 to 10, how much do you use tech...                                           1.000000                                                                    \n",
       "On a scale of 1 to 10, how would you rate your ...                                           0.143341                                                                    \n",
       "\n",
       "                                                    On a scale of 1 to 10, how would you rate your learning environment  \n",
       "What is your age?                                                                            0.078800                    \n",
       "On a scale of 1 to 10, how engaged are you duri...                                           0.119933                    \n",
       "What is your average score in assessments? (Ple...                                           0.029534                    \n",
       "On a scale of 1 to 10, how much do you use tech...                                           0.143341                    \n",
       "On a scale of 1 to 10, how would you rate your ...                                           1.000000                    "
      ]
     },
     "execution_count": 1609,
     "metadata": {},
     "output_type": "execute_result"
    }
   ],
   "source": [
    "# Select only numeric columns for correlation calculation\n",
    "numeric_df = df.select_dtypes(include=[float, int])\n",
    "\n",
    "# Calculate the correlation matrix\n",
    "correlation_matrix = numeric_df.corr()\n",
    "\n",
    "# Display the correlation matrix\n",
    "correlation_matrix\n"
   ]
  },
  {
   "cell_type": "code",
   "execution_count": 1611,
   "id": "faf67dca-83f6-430c-94bf-f1efb29a55ff",
   "metadata": {},
   "outputs": [
    {
     "data": {
      "image/png": "[encoded data removed]",
      "text/plain": [
       "<Figure size 1000x800 with 2 Axes>"
      ]
     },
     "metadata": {},
     "output_type": "display_data"
    }
   ],
   "source": [
    "import seaborn as sns\n",
    "import matplotlib.pyplot as plt\n",
    "\n",
    "# Select only numeric columns for correlation calculation\n",
    "numeric_df = df.select_dtypes(include=[float, int])\n",
    "\n",
    "# Calculate the correlation matrix\n",
    "correlation_matrix = numeric_df.corr()\n",
    "\n",
    "# Plotting the correlation matrix using a heatmap\n",
    "plt.figure(figsize=(10, 8))  # Adjust the size of the plot\n",
    "sns.heatmap(correlation_matrix, annot=True, cmap='coolwarm', fmt=\".2f\", linewidths=0.5)\n",
    "\n",
    "# Show the plot\n",
    "plt.title('Correlation Matrix Heatmap')\n",
    "plt.show()\n"
   ]
  },
  {
   "cell_type": "markdown",
   "id": "11b8248f-0c8b-4664-8dd1-12277faf6b6c",
   "metadata": {},
   "source": [
    "# Feature Engineering\r"
   ]
  },
  {
   "cell_type": "code",
   "execution_count": 1613,
   "id": "ae910de7-811d-4b61-b607-0bec5ff56522",
   "metadata": {},
   "outputs": [],
   "source": [
    "student_p = df.copy()"
   ]
  },
  {
   "cell_type": "code",
   "execution_count": 1614,
   "id": "9c1455a1-6794-4036-b656-e9ef1bf0d2c4",
   "metadata": {},
   "outputs": [
    {
     "data": {
      "text/html": [
       "<div>\n",
       "<style scoped>\n",
       "    .dataframe tbody tr th:only-of-type {\n",
       "        vertical-align: middle;\n",
       "    }\n",
       "\n",
       "    .dataframe tbody tr th {\n",
       "        vertical-align: top;\n",
       "    }\n",
       "\n",
       "    .dataframe thead th {\n",
       "        text-align: right;\n",
       "    }\n",
       "</style>\n",
       "<table border=\"1\" class=\"dataframe\">\n",
       "  <thead>\n",
       "    <tr style=\"text-align: right;\">\n",
       "      <th></th>\n",
       "      <th>What is your age?</th>\n",
       "      <th>What is your gender?</th>\n",
       "      <th>What is your level of education?</th>\n",
       "      <th>What year of study are you in?</th>\n",
       "      <th>What is your socioeconomic status?</th>\n",
       "      <th>What is your current marital status?</th>\n",
       "      <th>What is your primary field of study?</th>\n",
       "      <th>What is your cumulative GPA?</th>\n",
       "      <th>What is your current mode of learning?</th>\n",
       "      <th>What is your primary reason for choosing this learning mode?</th>\n",
       "      <th>...</th>\n",
       "      <th>How frequently do you review your notes or course materials?</th>\n",
       "      <th>How would you rate your academic performance in your current learning mode?</th>\n",
       "      <th>How do you assess your understanding of course materials?</th>\n",
       "      <th>How satisfied are you with the feedback you receive on your assignments?</th>\n",
       "      <th>Do you feel that your current learning mode effectively supports your academic goals?</th>\n",
       "      <th>How do you usually prepare for exams?  Select the option that applies the most:</th>\n",
       "      <th>What major challenge do you face in your current mode of learning?</th>\n",
       "      <th>Do you feel you have adequate support from instructors in your current learning mode?</th>\n",
       "      <th>How often do you collaborate with classmates on projects or assignments?</th>\n",
       "      <th>On a scale of 1 to 10, how would you rate your learning environment</th>\n",
       "    </tr>\n",
       "  </thead>\n",
       "  <tbody>\n",
       "    <tr>\n",
       "      <th>0</th>\n",
       "      <td>27</td>\n",
       "      <td>Male</td>\n",
       "      <td>Undergraduate</td>\n",
       "      <td>First Year</td>\n",
       "      <td>High Income</td>\n",
       "      <td>Widowed</td>\n",
       "      <td>Engineering</td>\n",
       "      <td>3.50-4.49</td>\n",
       "      <td>In-person</td>\n",
       "      <td>Institutional requirement</td>\n",
       "      <td>...</td>\n",
       "      <td>Rarely</td>\n",
       "      <td>Poor</td>\n",
       "      <td>Somewhat confident</td>\n",
       "      <td>Very dissatisfied</td>\n",
       "      <td>Yes</td>\n",
       "      <td>Online resources</td>\n",
       "      <td>Inaccessibility of resources</td>\n",
       "      <td>No</td>\n",
       "      <td>Often</td>\n",
       "      <td>9</td>\n",
       "    </tr>\n",
       "    <tr>\n",
       "      <th>1</th>\n",
       "      <td>20</td>\n",
       "      <td>Male</td>\n",
       "      <td>Postgraduate</td>\n",
       "      <td>First Year</td>\n",
       "      <td>High Income</td>\n",
       "      <td>Widowed</td>\n",
       "      <td>Sciences</td>\n",
       "      <td>3.50-4.49</td>\n",
       "      <td>In-person</td>\n",
       "      <td>Personal Preference</td>\n",
       "      <td>...</td>\n",
       "      <td>Weekly</td>\n",
       "      <td>Very Poor</td>\n",
       "      <td>Very unconfident</td>\n",
       "      <td>Neutral</td>\n",
       "      <td>Yes</td>\n",
       "      <td>Self-study</td>\n",
       "      <td>Lack of engagement</td>\n",
       "      <td>Yes</td>\n",
       "      <td>Sometimes</td>\n",
       "      <td>7</td>\n",
       "    </tr>\n",
       "    <tr>\n",
       "      <th>2</th>\n",
       "      <td>38</td>\n",
       "      <td>Female</td>\n",
       "      <td>Postgraduate</td>\n",
       "      <td>Fourth year and above</td>\n",
       "      <td>Low Income</td>\n",
       "      <td>Widowed</td>\n",
       "      <td>Other</td>\n",
       "      <td>4.50-5.00</td>\n",
       "      <td>In-person</td>\n",
       "      <td>Other</td>\n",
       "      <td>...</td>\n",
       "      <td>Weekly</td>\n",
       "      <td>Good</td>\n",
       "      <td>Somewhat confident</td>\n",
       "      <td>Dissatisfied</td>\n",
       "      <td>No</td>\n",
       "      <td>Online resources</td>\n",
       "      <td>Others</td>\n",
       "      <td>No</td>\n",
       "      <td>Often</td>\n",
       "      <td>5</td>\n",
       "    </tr>\n",
       "    <tr>\n",
       "      <th>3</th>\n",
       "      <td>38</td>\n",
       "      <td>Male</td>\n",
       "      <td>Undergraduate</td>\n",
       "      <td>Third year</td>\n",
       "      <td>Middle Income</td>\n",
       "      <td>Single</td>\n",
       "      <td>Sciences</td>\n",
       "      <td>2.40-3.49</td>\n",
       "      <td>Online</td>\n",
       "      <td>Flexibility</td>\n",
       "      <td>...</td>\n",
       "      <td>Rarely</td>\n",
       "      <td>Very Poor</td>\n",
       "      <td>Very unconfident</td>\n",
       "      <td>Very dissatisfied</td>\n",
       "      <td>No</td>\n",
       "      <td>Online resources</td>\n",
       "      <td>Others</td>\n",
       "      <td>No</td>\n",
       "      <td>Never</td>\n",
       "      <td>10</td>\n",
       "    </tr>\n",
       "    <tr>\n",
       "      <th>4</th>\n",
       "      <td>37</td>\n",
       "      <td>Male</td>\n",
       "      <td>Undergraduate</td>\n",
       "      <td>Fourth year and above</td>\n",
       "      <td>High Income</td>\n",
       "      <td>Divorced</td>\n",
       "      <td>Other</td>\n",
       "      <td>1.00-1.49</td>\n",
       "      <td>Online</td>\n",
       "      <td>Institutional requirement</td>\n",
       "      <td>...</td>\n",
       "      <td>Daily</td>\n",
       "      <td>Good</td>\n",
       "      <td>Somewhat unconfident</td>\n",
       "      <td>Very dissatisfied</td>\n",
       "      <td>No</td>\n",
       "      <td>Online resources</td>\n",
       "      <td>Lack of support from instructors</td>\n",
       "      <td>No</td>\n",
       "      <td>Rarely</td>\n",
       "      <td>8</td>\n",
       "    </tr>\n",
       "    <tr>\n",
       "      <th>...</th>\n",
       "      <td>...</td>\n",
       "      <td>...</td>\n",
       "      <td>...</td>\n",
       "      <td>...</td>\n",
       "      <td>...</td>\n",
       "      <td>...</td>\n",
       "      <td>...</td>\n",
       "      <td>...</td>\n",
       "      <td>...</td>\n",
       "      <td>...</td>\n",
       "      <td>...</td>\n",
       "      <td>...</td>\n",
       "      <td>...</td>\n",
       "      <td>...</td>\n",
       "      <td>...</td>\n",
       "      <td>...</td>\n",
       "      <td>...</td>\n",
       "      <td>...</td>\n",
       "      <td>...</td>\n",
       "      <td>...</td>\n",
       "      <td>...</td>\n",
       "    </tr>\n",
       "    <tr>\n",
       "      <th>1878</th>\n",
       "      <td>24</td>\n",
       "      <td>Female</td>\n",
       "      <td>Other</td>\n",
       "      <td>Second year</td>\n",
       "      <td>Middle Income</td>\n",
       "      <td>Single</td>\n",
       "      <td>Other</td>\n",
       "      <td>1.00-1.49</td>\n",
       "      <td>Online</td>\n",
       "      <td>Personal Preference</td>\n",
       "      <td>...</td>\n",
       "      <td>Weekly</td>\n",
       "      <td>Good</td>\n",
       "      <td>Very Confident</td>\n",
       "      <td>Very dissatisfied</td>\n",
       "      <td>Yes</td>\n",
       "      <td>Study groups</td>\n",
       "      <td>Technical issues (e.g., internet connectivity,...</td>\n",
       "      <td>No</td>\n",
       "      <td>Always</td>\n",
       "      <td>2</td>\n",
       "    </tr>\n",
       "    <tr>\n",
       "      <th>1879</th>\n",
       "      <td>22</td>\n",
       "      <td>Male</td>\n",
       "      <td>Undergraduate</td>\n",
       "      <td>Third year</td>\n",
       "      <td>Middle Income</td>\n",
       "      <td>Single</td>\n",
       "      <td>Sciences</td>\n",
       "      <td>2.40-3.49</td>\n",
       "      <td>In-person</td>\n",
       "      <td>Personal Preference</td>\n",
       "      <td>...</td>\n",
       "      <td>Weekly</td>\n",
       "      <td>Good</td>\n",
       "      <td>Somewhat confident</td>\n",
       "      <td>Satisfied</td>\n",
       "      <td>No</td>\n",
       "      <td>Online resources</td>\n",
       "      <td>Technical issues (e.g., internet connectivity,...</td>\n",
       "      <td>Yes</td>\n",
       "      <td>Sometimes</td>\n",
       "      <td>9</td>\n",
       "    </tr>\n",
       "    <tr>\n",
       "      <th>1880</th>\n",
       "      <td>34</td>\n",
       "      <td>Male</td>\n",
       "      <td>Undergraduate</td>\n",
       "      <td>Third year</td>\n",
       "      <td>Middle Income</td>\n",
       "      <td>Married</td>\n",
       "      <td>Social Science</td>\n",
       "      <td>2.40-3.49</td>\n",
       "      <td>Online</td>\n",
       "      <td>Institutional requirement</td>\n",
       "      <td>...</td>\n",
       "      <td>Rarely</td>\n",
       "      <td>Good</td>\n",
       "      <td>Somewhat confident</td>\n",
       "      <td>Satisfied</td>\n",
       "      <td>Yes</td>\n",
       "      <td>Self-study</td>\n",
       "      <td>Lack of support from instructors</td>\n",
       "      <td>No</td>\n",
       "      <td>Rarely</td>\n",
       "      <td>10</td>\n",
       "    </tr>\n",
       "    <tr>\n",
       "      <th>1881</th>\n",
       "      <td>23</td>\n",
       "      <td>Female</td>\n",
       "      <td>Undergraduate</td>\n",
       "      <td>Second year</td>\n",
       "      <td>Low Income</td>\n",
       "      <td>Single</td>\n",
       "      <td>Social Science</td>\n",
       "      <td>1.50-2.39</td>\n",
       "      <td>Online</td>\n",
       "      <td>Other</td>\n",
       "      <td>...</td>\n",
       "      <td>Daily</td>\n",
       "      <td>Fair</td>\n",
       "      <td>Neutral</td>\n",
       "      <td>Dissatisfied</td>\n",
       "      <td>Yes</td>\n",
       "      <td>Self-study</td>\n",
       "      <td>Others</td>\n",
       "      <td>No</td>\n",
       "      <td>Often</td>\n",
       "      <td>5</td>\n",
       "    </tr>\n",
       "    <tr>\n",
       "      <th>1882</th>\n",
       "      <td>25</td>\n",
       "      <td>Female</td>\n",
       "      <td>Postgraduate</td>\n",
       "      <td>Fourth year and above</td>\n",
       "      <td>Middle Income</td>\n",
       "      <td>Widowed</td>\n",
       "      <td>Sciences</td>\n",
       "      <td>2.40-3.49</td>\n",
       "      <td>In-person</td>\n",
       "      <td>Accessibility</td>\n",
       "      <td>...</td>\n",
       "      <td>Monthly</td>\n",
       "      <td>Good</td>\n",
       "      <td>Somewhat confident</td>\n",
       "      <td>Neutral</td>\n",
       "      <td>No</td>\n",
       "      <td>Self-study</td>\n",
       "      <td>Lack of engagement</td>\n",
       "      <td>No</td>\n",
       "      <td>Often</td>\n",
       "      <td>8</td>\n",
       "    </tr>\n",
       "  </tbody>\n",
       "</table>\n",
       "<p>1883 rows × 32 columns</p>\n",
       "</div>"
      ],
      "text/plain": [
       "      What is your age? What is your gender? What is your level of education?  \\\n",
       "0                    27                 Male                    Undergraduate   \n",
       "1                    20                 Male                     Postgraduate   \n",
       "2                    38               Female                     Postgraduate   \n",
       "3                    38                 Male                    Undergraduate   \n",
       "4                    37                 Male                    Undergraduate   \n",
       "...                 ...                  ...                              ...   \n",
       "1878                 24               Female                            Other   \n",
       "1879                 22                 Male                    Undergraduate   \n",
       "1880                 34                 Male                    Undergraduate   \n",
       "1881                 23               Female                    Undergraduate   \n",
       "1882                 25               Female                     Postgraduate   \n",
       "\n",
       "     What year of study are you in? What is your socioeconomic status?  \\\n",
       "0                        First Year                        High Income   \n",
       "1                        First Year                        High Income   \n",
       "2             Fourth year and above                         Low Income   \n",
       "3                        Third year                      Middle Income   \n",
       "4             Fourth year and above                        High Income   \n",
       "...                             ...                                ...   \n",
       "1878                    Second year                      Middle Income   \n",
       "1879                     Third year                      Middle Income   \n",
       "1880                     Third year                      Middle Income   \n",
       "1881                    Second year                         Low Income   \n",
       "1882          Fourth year and above                      Middle Income   \n",
       "\n",
       "     What is your current marital status?  \\\n",
       "0                                 Widowed   \n",
       "1                                 Widowed   \n",
       "2                                 Widowed   \n",
       "3                                  Single   \n",
       "4                                Divorced   \n",
       "...                                   ...   \n",
       "1878                               Single   \n",
       "1879                               Single   \n",
       "1880                              Married   \n",
       "1881                               Single   \n",
       "1882                              Widowed   \n",
       "\n",
       "     What is your primary field of study? What is your cumulative GPA?  \\\n",
       "0                             Engineering                    3.50-4.49   \n",
       "1                                Sciences                    3.50-4.49   \n",
       "2                                   Other                    4.50-5.00   \n",
       "3                                Sciences                    2.40-3.49   \n",
       "4                                   Other                    1.00-1.49   \n",
       "...                                   ...                          ...   \n",
       "1878                                Other                    1.00-1.49   \n",
       "1879                             Sciences                    2.40-3.49   \n",
       "1880                       Social Science                    2.40-3.49   \n",
       "1881                       Social Science                    1.50-2.39   \n",
       "1882                             Sciences                    2.40-3.49   \n",
       "\n",
       "     What is your current mode of learning?  \\\n",
       "0                                 In-person   \n",
       "1                                 In-person   \n",
       "2                                 In-person   \n",
       "3                                    Online   \n",
       "4                                    Online   \n",
       "...                                     ...   \n",
       "1878                                 Online   \n",
       "1879                              In-person   \n",
       "1880                                 Online   \n",
       "1881                                 Online   \n",
       "1882                              In-person   \n",
       "\n",
       "     What is your primary reason for choosing this learning mode?  ...  \\\n",
       "0                             Institutional requirement            ...   \n",
       "1                                   Personal Preference            ...   \n",
       "2                                                 Other            ...   \n",
       "3                                           Flexibility            ...   \n",
       "4                             Institutional requirement            ...   \n",
       "...                                                 ...            ...   \n",
       "1878                                Personal Preference            ...   \n",
       "1879                                Personal Preference            ...   \n",
       "1880                          Institutional requirement            ...   \n",
       "1881                                              Other            ...   \n",
       "1882                                      Accessibility            ...   \n",
       "\n",
       "     How frequently do you review your notes or course materials?  \\\n",
       "0                                                Rarely             \n",
       "1                                                Weekly             \n",
       "2                                                Weekly             \n",
       "3                                                Rarely             \n",
       "4                                                 Daily             \n",
       "...                                                 ...             \n",
       "1878                                             Weekly             \n",
       "1879                                             Weekly             \n",
       "1880                                             Rarely             \n",
       "1881                                              Daily             \n",
       "1882                                            Monthly             \n",
       "\n",
       "     How would you rate your academic performance in your current learning mode?  \\\n",
       "0                                                  Poor                            \n",
       "1                                             Very Poor                            \n",
       "2                                                  Good                            \n",
       "3                                             Very Poor                            \n",
       "4                                                  Good                            \n",
       "...                                                 ...                            \n",
       "1878                                               Good                            \n",
       "1879                                               Good                            \n",
       "1880                                               Good                            \n",
       "1881                                               Fair                            \n",
       "1882                                               Good                            \n",
       "\n",
       "     How do you assess your understanding of course materials?  \\\n",
       "0                                    Somewhat confident          \n",
       "1                                      Very unconfident          \n",
       "2                                    Somewhat confident          \n",
       "3                                      Very unconfident          \n",
       "4                                  Somewhat unconfident          \n",
       "...                                                 ...          \n",
       "1878                                     Very Confident          \n",
       "1879                                 Somewhat confident          \n",
       "1880                                 Somewhat confident          \n",
       "1881                                            Neutral          \n",
       "1882                                 Somewhat confident          \n",
       "\n",
       "     How satisfied are you with the feedback you receive on your assignments?  \\\n",
       "0                                     Very dissatisfied                         \n",
       "1                                               Neutral                         \n",
       "2                                          Dissatisfied                         \n",
       "3                                     Very dissatisfied                         \n",
       "4                                     Very dissatisfied                         \n",
       "...                                                 ...                         \n",
       "1878                                  Very dissatisfied                         \n",
       "1879                                          Satisfied                         \n",
       "1880                                          Satisfied                         \n",
       "1881                                       Dissatisfied                         \n",
       "1882                                            Neutral                         \n",
       "\n",
       "      Do you feel that your current learning mode effectively supports your academic goals?  \\\n",
       "0                                                   Yes                                       \n",
       "1                                                   Yes                                       \n",
       "2                                                    No                                       \n",
       "3                                                    No                                       \n",
       "4                                                    No                                       \n",
       "...                                                 ...                                       \n",
       "1878                                                Yes                                       \n",
       "1879                                                 No                                       \n",
       "1880                                                Yes                                       \n",
       "1881                                                Yes                                       \n",
       "1882                                                 No                                       \n",
       "\n",
       "      How do you usually prepare for exams?  Select the option that applies the most:  \\\n",
       "0                                      Online resources                                 \n",
       "1                                            Self-study                                 \n",
       "2                                      Online resources                                 \n",
       "3                                      Online resources                                 \n",
       "4                                      Online resources                                 \n",
       "...                                                 ...                                 \n",
       "1878                                       Study groups                                 \n",
       "1879                                   Online resources                                 \n",
       "1880                                         Self-study                                 \n",
       "1881                                         Self-study                                 \n",
       "1882                                         Self-study                                 \n",
       "\n",
       "     What major challenge do you face in your current mode of learning?  \\\n",
       "0                          Inaccessibility of resources                   \n",
       "1                                    Lack of engagement                   \n",
       "2                                                Others                   \n",
       "3                                                Others                   \n",
       "4                      Lack of support from instructors                   \n",
       "...                                                 ...                   \n",
       "1878  Technical issues (e.g., internet connectivity,...                   \n",
       "1879  Technical issues (e.g., internet connectivity,...                   \n",
       "1880                   Lack of support from instructors                   \n",
       "1881                                             Others                   \n",
       "1882                                 Lack of engagement                   \n",
       "\n",
       "     Do you feel you have adequate support from instructors in your current learning mode?  \\\n",
       "0                                                    No                                      \n",
       "1                                                   Yes                                      \n",
       "2                                                    No                                      \n",
       "3                                                    No                                      \n",
       "4                                                    No                                      \n",
       "...                                                 ...                                      \n",
       "1878                                                 No                                      \n",
       "1879                                                Yes                                      \n",
       "1880                                                 No                                      \n",
       "1881                                                 No                                      \n",
       "1882                                                 No                                      \n",
       "\n",
       "     How often do you collaborate with classmates on projects or assignments?  \\\n",
       "0                                                 Often                         \n",
       "1                                             Sometimes                         \n",
       "2                                                 Often                         \n",
       "3                                                 Never                         \n",
       "4                                                Rarely                         \n",
       "...                                                 ...                         \n",
       "1878                                             Always                         \n",
       "1879                                          Sometimes                         \n",
       "1880                                             Rarely                         \n",
       "1881                                              Often                         \n",
       "1882                                              Often                         \n",
       "\n",
       "     On a scale of 1 to 10, how would you rate your learning environment  \n",
       "0                                                     9                   \n",
       "1                                                     7                   \n",
       "2                                                     5                   \n",
       "3                                                    10                   \n",
       "4                                                     8                   \n",
       "...                                                 ...                   \n",
       "1878                                                  2                   \n",
       "1879                                                  9                   \n",
       "1880                                                 10                   \n",
       "1881                                                  5                   \n",
       "1882                                                  8                   \n",
       "\n",
       "[1883 rows x 32 columns]"
      ]
     },
     "execution_count": 1614,
     "metadata": {},
     "output_type": "execute_result"
    }
   ],
   "source": [
    "student_p"
   ]
  },
  {
   "cell_type": "markdown",
   "id": "c2e22acd-fd30-424a-a50b-64827ee2db52",
   "metadata": {},
   "source": [
    "# Separating the data\n",
    "\n",
    "Binary classification task based on the CGPA ranges, you can create two classes as follows:\n",
    "\n",
    "Class 1 (High performance): For CGPA ranges between 3.50 - 5.00 (First Class and Second Class Upper).\n",
    "\n",
    "Class 0 (Low performance): For CGPA ranges between 1.00 - 3.49 (Second Class Lower and Pass).\r"
   ]
  },
  {
   "cell_type": "code",
   "execution_count": 1616,
   "id": "7ff49548-fa07-435f-b4cc-cd9d53a3bcc0",
   "metadata": {},
   "outputs": [],
   "source": [
    "x = student_p.drop('What is your cumulative GPA?', axis = 1)\n",
    "y = student_p['What is your cumulative GPA?']\n"
   ]
  },
  {
   "cell_type": "code",
   "execution_count": 1617,
   "id": "b4ab22a3-f536-4d0e-82c4-8500d6662b6f",
   "metadata": {},
   "outputs": [
    {
     "data": {
      "text/html": [
       "<div>\n",
       "<style scoped>\n",
       "    .dataframe tbody tr th:only-of-type {\n",
       "        vertical-align: middle;\n",
       "    }\n",
       "\n",
       "    .dataframe tbody tr th {\n",
       "        vertical-align: top;\n",
       "    }\n",
       "\n",
       "    .dataframe thead th {\n",
       "        text-align: right;\n",
       "    }\n",
       "</style>\n",
       "<table border=\"1\" class=\"dataframe\">\n",
       "  <thead>\n",
       "    <tr style=\"text-align: right;\">\n",
       "      <th></th>\n",
       "      <th>What is your age?</th>\n",
       "      <th>What is your gender?</th>\n",
       "      <th>What is your level of education?</th>\n",
       "      <th>What year of study are you in?</th>\n",
       "      <th>What is your socioeconomic status?</th>\n",
       "      <th>What is your current marital status?</th>\n",
       "      <th>What is your primary field of study?</th>\n",
       "      <th>What is your current mode of learning?</th>\n",
       "      <th>What is your primary reason for choosing this learning mode?</th>\n",
       "      <th>How long have you been in this mode of learning?</th>\n",
       "      <th>...</th>\n",
       "      <th>How frequently do you review your notes or course materials?</th>\n",
       "      <th>How would you rate your academic performance in your current learning mode?</th>\n",
       "      <th>How do you assess your understanding of course materials?</th>\n",
       "      <th>How satisfied are you with the feedback you receive on your assignments?</th>\n",
       "      <th>Do you feel that your current learning mode effectively supports your academic goals?</th>\n",
       "      <th>How do you usually prepare for exams?  Select the option that applies the most:</th>\n",
       "      <th>What major challenge do you face in your current mode of learning?</th>\n",
       "      <th>Do you feel you have adequate support from instructors in your current learning mode?</th>\n",
       "      <th>How often do you collaborate with classmates on projects or assignments?</th>\n",
       "      <th>On a scale of 1 to 10, how would you rate your learning environment</th>\n",
       "    </tr>\n",
       "  </thead>\n",
       "  <tbody>\n",
       "    <tr>\n",
       "      <th>0</th>\n",
       "      <td>27</td>\n",
       "      <td>Male</td>\n",
       "      <td>Undergraduate</td>\n",
       "      <td>First Year</td>\n",
       "      <td>High Income</td>\n",
       "      <td>Widowed</td>\n",
       "      <td>Engineering</td>\n",
       "      <td>In-person</td>\n",
       "      <td>Institutional requirement</td>\n",
       "      <td>Less than 6 months</td>\n",
       "      <td>...</td>\n",
       "      <td>Rarely</td>\n",
       "      <td>Poor</td>\n",
       "      <td>Somewhat confident</td>\n",
       "      <td>Very dissatisfied</td>\n",
       "      <td>Yes</td>\n",
       "      <td>Online resources</td>\n",
       "      <td>Inaccessibility of resources</td>\n",
       "      <td>No</td>\n",
       "      <td>Often</td>\n",
       "      <td>9</td>\n",
       "    </tr>\n",
       "    <tr>\n",
       "      <th>1</th>\n",
       "      <td>20</td>\n",
       "      <td>Male</td>\n",
       "      <td>Postgraduate</td>\n",
       "      <td>First Year</td>\n",
       "      <td>High Income</td>\n",
       "      <td>Widowed</td>\n",
       "      <td>Sciences</td>\n",
       "      <td>In-person</td>\n",
       "      <td>Personal Preference</td>\n",
       "      <td>6 months-1 year</td>\n",
       "      <td>...</td>\n",
       "      <td>Weekly</td>\n",
       "      <td>Very Poor</td>\n",
       "      <td>Very unconfident</td>\n",
       "      <td>Neutral</td>\n",
       "      <td>Yes</td>\n",
       "      <td>Self-study</td>\n",
       "      <td>Lack of engagement</td>\n",
       "      <td>Yes</td>\n",
       "      <td>Sometimes</td>\n",
       "      <td>7</td>\n",
       "    </tr>\n",
       "    <tr>\n",
       "      <th>2</th>\n",
       "      <td>38</td>\n",
       "      <td>Female</td>\n",
       "      <td>Postgraduate</td>\n",
       "      <td>Fourth year and above</td>\n",
       "      <td>Low Income</td>\n",
       "      <td>Widowed</td>\n",
       "      <td>Other</td>\n",
       "      <td>In-person</td>\n",
       "      <td>Other</td>\n",
       "      <td>6 months-1 year</td>\n",
       "      <td>...</td>\n",
       "      <td>Weekly</td>\n",
       "      <td>Good</td>\n",
       "      <td>Somewhat confident</td>\n",
       "      <td>Dissatisfied</td>\n",
       "      <td>No</td>\n",
       "      <td>Online resources</td>\n",
       "      <td>Others</td>\n",
       "      <td>No</td>\n",
       "      <td>Often</td>\n",
       "      <td>5</td>\n",
       "    </tr>\n",
       "    <tr>\n",
       "      <th>3</th>\n",
       "      <td>38</td>\n",
       "      <td>Male</td>\n",
       "      <td>Undergraduate</td>\n",
       "      <td>Third year</td>\n",
       "      <td>Middle Income</td>\n",
       "      <td>Single</td>\n",
       "      <td>Sciences</td>\n",
       "      <td>Online</td>\n",
       "      <td>Flexibility</td>\n",
       "      <td>6 months-1 year</td>\n",
       "      <td>...</td>\n",
       "      <td>Rarely</td>\n",
       "      <td>Very Poor</td>\n",
       "      <td>Very unconfident</td>\n",
       "      <td>Very dissatisfied</td>\n",
       "      <td>No</td>\n",
       "      <td>Online resources</td>\n",
       "      <td>Others</td>\n",
       "      <td>No</td>\n",
       "      <td>Never</td>\n",
       "      <td>10</td>\n",
       "    </tr>\n",
       "    <tr>\n",
       "      <th>4</th>\n",
       "      <td>37</td>\n",
       "      <td>Male</td>\n",
       "      <td>Undergraduate</td>\n",
       "      <td>Fourth year and above</td>\n",
       "      <td>High Income</td>\n",
       "      <td>Divorced</td>\n",
       "      <td>Other</td>\n",
       "      <td>Online</td>\n",
       "      <td>Institutional requirement</td>\n",
       "      <td>6 months-1 year</td>\n",
       "      <td>...</td>\n",
       "      <td>Daily</td>\n",
       "      <td>Good</td>\n",
       "      <td>Somewhat unconfident</td>\n",
       "      <td>Very dissatisfied</td>\n",
       "      <td>No</td>\n",
       "      <td>Online resources</td>\n",
       "      <td>Lack of support from instructors</td>\n",
       "      <td>No</td>\n",
       "      <td>Rarely</td>\n",
       "      <td>8</td>\n",
       "    </tr>\n",
       "  </tbody>\n",
       "</table>\n",
       "<p>5 rows × 31 columns</p>\n",
       "</div>"
      ],
      "text/plain": [
       "   What is your age? What is your gender? What is your level of education?  \\\n",
       "0                 27                 Male                    Undergraduate   \n",
       "1                 20                 Male                     Postgraduate   \n",
       "2                 38               Female                     Postgraduate   \n",
       "3                 38                 Male                    Undergraduate   \n",
       "4                 37                 Male                    Undergraduate   \n",
       "\n",
       "  What year of study are you in? What is your socioeconomic status?  \\\n",
       "0                     First Year                        High Income   \n",
       "1                     First Year                        High Income   \n",
       "2          Fourth year and above                         Low Income   \n",
       "3                     Third year                      Middle Income   \n",
       "4          Fourth year and above                        High Income   \n",
       "\n",
       "  What is your current marital status? What is your primary field of study?  \\\n",
       "0                              Widowed                          Engineering   \n",
       "1                              Widowed                             Sciences   \n",
       "2                              Widowed                                Other   \n",
       "3                               Single                             Sciences   \n",
       "4                             Divorced                                Other   \n",
       "\n",
       "  What is your current mode of learning?  \\\n",
       "0                              In-person   \n",
       "1                              In-person   \n",
       "2                              In-person   \n",
       "3                                 Online   \n",
       "4                                 Online   \n",
       "\n",
       "  What is your primary reason for choosing this learning mode?  \\\n",
       "0                          Institutional requirement             \n",
       "1                                Personal Preference             \n",
       "2                                              Other             \n",
       "3                                        Flexibility             \n",
       "4                          Institutional requirement             \n",
       "\n",
       "  How long have you been in this mode of learning?  ...  \\\n",
       "0                               Less than 6 months  ...   \n",
       "1                                  6 months-1 year  ...   \n",
       "2                                  6 months-1 year  ...   \n",
       "3                                  6 months-1 year  ...   \n",
       "4                                  6 months-1 year  ...   \n",
       "\n",
       "  How frequently do you review your notes or course materials?  \\\n",
       "0                                             Rarely             \n",
       "1                                             Weekly             \n",
       "2                                             Weekly             \n",
       "3                                             Rarely             \n",
       "4                                              Daily             \n",
       "\n",
       "  How would you rate your academic performance in your current learning mode?  \\\n",
       "0                                               Poor                            \n",
       "1                                          Very Poor                            \n",
       "2                                               Good                            \n",
       "3                                          Very Poor                            \n",
       "4                                               Good                            \n",
       "\n",
       "  How do you assess your understanding of course materials?  \\\n",
       "0                                 Somewhat confident          \n",
       "1                                   Very unconfident          \n",
       "2                                 Somewhat confident          \n",
       "3                                   Very unconfident          \n",
       "4                               Somewhat unconfident          \n",
       "\n",
       "   How satisfied are you with the feedback you receive on your assignments?  \\\n",
       "0                                  Very dissatisfied                          \n",
       "1                                            Neutral                          \n",
       "2                                       Dissatisfied                          \n",
       "3                                  Very dissatisfied                          \n",
       "4                                  Very dissatisfied                          \n",
       "\n",
       "   Do you feel that your current learning mode effectively supports your academic goals?  \\\n",
       "0                                                Yes                                       \n",
       "1                                                Yes                                       \n",
       "2                                                 No                                       \n",
       "3                                                 No                                       \n",
       "4                                                 No                                       \n",
       "\n",
       "  How do you usually prepare for exams?  Select the option that applies the most:  \\\n",
       "0                                   Online resources                                \n",
       "1                                         Self-study                                \n",
       "2                                   Online resources                                \n",
       "3                                   Online resources                                \n",
       "4                                   Online resources                                \n",
       "\n",
       "  What major challenge do you face in your current mode of learning?  \\\n",
       "0                       Inaccessibility of resources                   \n",
       "1                                 Lack of engagement                   \n",
       "2                                             Others                   \n",
       "3                                             Others                   \n",
       "4                   Lack of support from instructors                   \n",
       "\n",
       "  Do you feel you have adequate support from instructors in your current learning mode?  \\\n",
       "0                                                 No                                      \n",
       "1                                                Yes                                      \n",
       "2                                                 No                                      \n",
       "3                                                 No                                      \n",
       "4                                                 No                                      \n",
       "\n",
       "  How often do you collaborate with classmates on projects or assignments?  \\\n",
       "0                                              Often                         \n",
       "1                                          Sometimes                         \n",
       "2                                              Often                         \n",
       "3                                              Never                         \n",
       "4                                             Rarely                         \n",
       "\n",
       "   On a scale of 1 to 10, how would you rate your learning environment  \n",
       "0                                                  9                    \n",
       "1                                                  7                    \n",
       "2                                                  5                    \n",
       "3                                                 10                    \n",
       "4                                                  8                    \n",
       "\n",
       "[5 rows x 31 columns]"
      ]
     },
     "execution_count": 1617,
     "metadata": {},
     "output_type": "execute_result"
    }
   ],
   "source": [
    "x.head()"
   ]
  },
  {
   "cell_type": "code",
   "execution_count": 1619,
   "id": "aae4bd0f-ff42-4af3-a9ae-ae94d361f8e6",
   "metadata": {},
   "outputs": [
    {
     "data": {
      "text/plain": [
       "0       3.50-4.49\n",
       "1       3.50-4.49\n",
       "2       4.50-5.00\n",
       "3       2.40-3.49\n",
       "4       1.00-1.49\n",
       "          ...    \n",
       "1878    1.00-1.49\n",
       "1879    2.40-3.49\n",
       "1880    2.40-3.49\n",
       "1881    1.50-2.39\n",
       "1882    2.40-3.49\n",
       "Name: What is your cumulative GPA?, Length: 1883, dtype: object"
      ]
     },
     "execution_count": 1619,
     "metadata": {},
     "output_type": "execute_result"
    }
   ],
   "source": [
    "y"
   ]
  },
  {
   "cell_type": "markdown",
   "id": "a285f399-693f-4c54-ad5c-cc7a185e3df1",
   "metadata": {},
   "source": [
    "Class 1 (High performance): For CGPA ranges between 3.50 - 5.00 (First Class and Second Class Upper).\n",
    "\n",
    "Class 0 (Low performance): For CGPA ranges between 1.00 - 3.49 (Second Class Lower and Pass)."
   ]
  },
  {
   "cell_type": "code",
   "execution_count": 1621,
   "id": "49865c83-773e-4865-bd8c-3f550c2aeb05",
   "metadata": {},
   "outputs": [
    {
     "name": "stdout",
     "output_type": "stream",
     "text": [
      "What is your cumulative GPA?\n",
      "0    1182\n",
      "1     701\n",
      "Name: count, dtype: int64\n"
     ]
    }
   ],
   "source": [
    "# Define the mapping function for CGPA ranges\n",
    "def map_cgpa_to_class(cgpa_range):\n",
    "    # Split the range (e.g., \"3.50-4.49\") and convert to float for comparison\n",
    "    lower, upper = cgpa_range.split('-')\n",
    "    lower, upper = float(lower), float(upper)\n",
    "    \n",
    "    # Map based on the range\n",
    "    if 1.00 <= lower <= 3.49:  # Low performance range\n",
    "        return 0  # Class 0 (Low performance)\n",
    "    elif 3.50 <= lower <= 5.00:  # High performance range\n",
    "        return 1  # Class 1 (High performance)\n",
    "    else:\n",
    "        return None  # In case of any other values (shouldn't be necessary)\n",
    "\n",
    "# Apply the function to the y (CGPA range values)\n",
    "y_c = y.map(map_cgpa_to_class)\n",
    "\n",
    "# Check the distribution of the new performance classes\n",
    "print(y_c.value_counts())\n"
   ]
  },
  {
   "cell_type": "code",
   "execution_count": 1622,
   "id": "e8947ddc-0206-4028-8012-2fd76b434b21",
   "metadata": {},
   "outputs": [
    {
     "data": {
      "text/plain": [
       "0       1\n",
       "1       1\n",
       "2       1\n",
       "3       0\n",
       "4       0\n",
       "       ..\n",
       "1878    0\n",
       "1879    0\n",
       "1880    0\n",
       "1881    0\n",
       "1882    0\n",
       "Name: What is your cumulative GPA?, Length: 1883, dtype: int64"
      ]
     },
     "execution_count": 1622,
     "metadata": {},
     "output_type": "execute_result"
    }
   ],
   "source": [
    "y_c"
   ]
  },
  {
   "cell_type": "code",
   "execution_count": 1623,
   "id": "3d8636bf-f2fb-48e0-b61b-763a7f94c325",
   "metadata": {},
   "outputs": [
    {
     "data": {
      "text/plain": [
       "((1883, 31), (1883,))"
      ]
     },
     "execution_count": 1623,
     "metadata": {},
     "output_type": "execute_result"
    }
   ],
   "source": [
    "x.shape, y_c.shape"
   ]
  },
  {
   "cell_type": "code",
   "execution_count": 1624,
   "id": "eefe7b04-3fc3-4c77-bdf6-08a170454cf5",
   "metadata": {},
   "outputs": [
    {
     "data": {
      "text/plain": [
       "What is your age?                                                                                                     0\n",
       "What is your gender?                                                                                                  0\n",
       "What is your level of education?                                                                                      0\n",
       "What year of study are you in?                                                                                        0\n",
       "What is your socioeconomic status?                                                                                    0\n",
       "What is your current marital status?                                                                                  0\n",
       "What is your primary field of study?                                                                                  0\n",
       "What is your current mode of learning?                                                                                0\n",
       "What is your primary reason for choosing this learning mode?                                                          0\n",
       "How long have you been in this mode of learning?                                                                      0\n",
       "How long does it take to travel from home to school? (in- person mode)                                                0\n",
       "How often do you participate in online discussions or forums?                                                         0\n",
       "What is your average class attendance rate? (Please enter a percentage)                                               0\n",
       "On a scale of 1 to 10, how engaged are you during classes?                                                            0\n",
       "What is your average score in assessments? (Please enter a score out of 100)                                          0\n",
       "How much free time do you have after school?                                                                          0\n",
       "What challenges do you face due to external factors?                                                                  0\n",
       "How do you prepare for assessments?  Select the option that applies the most:                                         0\n",
       "How often do you complete your assignments on time?                                                                   0\n",
       "On a scale of 1 to 10, how much do you use technology for your studies? (1 being not at all, 10 being extensively)    0\n",
       "How would you rate the quality of the course materials you receive?                                                   0\n",
       "How frequently do you review your notes or course materials?                                                          0\n",
       "How would you rate your academic performance in your current learning mode?                                           0\n",
       "How do you assess your understanding of course materials?                                                             0\n",
       "How satisfied are you with the feedback you receive on your assignments?                                              0\n",
       "Do you feel that your current learning mode effectively supports your academic goals?                                 0\n",
       "How do you usually prepare for exams?  Select the option that applies the most:                                       0\n",
       "What major challenge do you face in your current mode of learning?                                                    0\n",
       "Do you feel you have adequate support from instructors in your current learning mode?                                 0\n",
       "How often do you collaborate with classmates on projects or assignments?                                              0\n",
       "On a scale of 1 to 10, how would you rate your learning environment                                                   0\n",
       "dtype: int64"
      ]
     },
     "execution_count": 1624,
     "metadata": {},
     "output_type": "execute_result"
    }
   ],
   "source": [
    "x.isna().sum()"
   ]
  },
  {
   "cell_type": "code",
   "execution_count": 1626,
   "id": "092645fc-6987-4094-a8a1-2c8aa726dcac",
   "metadata": {},
   "outputs": [
    {
     "data": {
      "text/plain": [
       "0"
      ]
     },
     "execution_count": 1626,
     "metadata": {},
     "output_type": "execute_result"
    }
   ],
   "source": [
    "y_c.isna().sum()"
   ]
  },
  {
   "cell_type": "code",
   "execution_count": 1628,
   "id": "da724e67-3401-42a6-92f4-49d917ff473b",
   "metadata": {},
   "outputs": [
    {
     "name": "stdout",
     "output_type": "stream",
     "text": [
      "What is your gender?\n",
      "What is your level of education?\n",
      "What year of study are you in?\n",
      "What is your socioeconomic status?\n",
      "What is your current marital status?\n",
      "What is your primary field of study?\n",
      "What is your current mode of learning?\n",
      "What is your primary reason for choosing this learning mode?\n",
      "How long have you been in this mode of learning?\n",
      "How long does it take to travel from home to school? (in- person mode)\n",
      "How often do you participate in online discussions or forums?\n",
      "What is your average class attendance rate? (Please enter a percentage)\n",
      "How much free time do you have after school?\n",
      "What challenges do you face due to external factors?\n",
      "How do you prepare for assessments?  Select the option that applies the most:\n",
      "How often do you complete your assignments on time?\n",
      "How would you rate the quality of the course materials you receive?\n",
      "How frequently do you review your notes or course materials?\n",
      "How would you rate your academic performance in your current learning mode?\n",
      "How do you assess your understanding of course materials?\n",
      "How satisfied are you with the feedback you receive on your assignments?\n",
      "Do you feel that your current learning mode effectively supports your academic goals?\n",
      "How do you usually prepare for exams?  Select the option that applies the most:\n",
      "What major challenge do you face in your current mode of learning?\n",
      "Do you feel you have adequate support from instructors in your current learning mode?\n",
      "How often do you collaborate with classmates on projects or assignments?\n"
     ]
    }
   ],
   "source": [
    "# Iterate over each column in the DataFrame\n",
    "for label, content in x.items():\n",
    "    \n",
    "    # Check if the content of the current column is not numeric\n",
    "    if not pd.api.types.is_numeric_dtype(content):\n",
    "        \n",
    "        # Print the column name if it's not numeric\n",
    "        print(label)\n"
   ]
  },
  {
   "cell_type": "code",
   "execution_count": 1629,
   "id": "649b00ef-61cf-4028-b371-559e5380a5c5",
   "metadata": {},
   "outputs": [
    {
     "name": "stdout",
     "output_type": "stream",
     "text": [
      "Index(['What is your age?', 'What is your gender?',\n",
      "       'What is your level of education?', 'What year of study are you in?',\n",
      "       'What is your socioeconomic status?',\n",
      "       'What is your current marital status?',\n",
      "       'What is your primary field of study?',\n",
      "       'What is your current mode of learning?',\n",
      "       'What is your primary reason for choosing this learning mode?',\n",
      "       'How long have you been in this mode of learning?',\n",
      "       'How long does it take to travel from home to school? (in- person mode)',\n",
      "       'How often do you participate in online discussions or forums?',\n",
      "       'What is your average class attendance rate? (Please enter a percentage)',\n",
      "       'On a scale of 1 to 10, how engaged are you during classes?',\n",
      "       'What is your average score in assessments? (Please enter a score out of 100)',\n",
      "       'How much free time do you have after school?',\n",
      "       'What challenges do you face due to external factors?',\n",
      "       'How do you prepare for assessments?  Select the option that applies the most:',\n",
      "       'How often do you complete your assignments on time?',\n",
      "       'On a scale of 1 to 10, how much do you use technology for your studies? (1 being not at all, 10 being extensively)',\n",
      "       'How would you rate the quality of the course materials you receive?',\n",
      "       'How frequently do you review your notes or course materials?',\n",
      "       'How would you rate your academic performance in your current learning mode?',\n",
      "       'How do you assess your understanding of course materials?',\n",
      "       'How satisfied are you with the feedback you receive on your assignments?',\n",
      "       'Do you feel that your current learning mode effectively supports your academic goals?',\n",
      "       'How do you usually prepare for exams?  Select the option that applies the most:',\n",
      "       'What major challenge do you face in your current mode of learning?',\n",
      "       'Do you feel you have adequate support from instructors in your current learning mode?',\n",
      "       'How often do you collaborate with classmates on projects or assignments?',\n",
      "       'On a scale of 1 to 10, how would you rate your learning environment'],\n",
      "      dtype='object')\n"
     ]
    }
   ],
   "source": [
    "print(x.columns)\n"
   ]
  },
  {
   "cell_type": "code",
   "execution_count": 1653,
   "id": "050e7733-980d-4cfb-8f9e-b2516ea5a776",
   "metadata": {},
   "outputs": [],
   "source": [
    "import pandas as pd\n",
    "from sklearn.compose import ColumnTransformer\n",
    "from sklearn.preprocessing import OneHotEncoder\n",
    "\n",
    "# Automatically identify categorical columns (non-numeric)\n",
    "categorical_cols = x.select_dtypes(exclude=['number']).columns\n",
    "\n",
    "# Clean up the column names if necessary (remove spaces, replace non-alphanumeric characters)\n",
    "x.columns = x.columns.str.strip()  # Remove leading/trailing spaces\n",
    "x.columns = x.columns.str.replace('[^a-zA-Z0-9]', '_', regex=True)  # Replace non-alphanumeric characters with underscores\n",
    "\n",
    "# Create the ColumnTransformer for one-hot encoding\n",
    "transformer = ColumnTransformer(\n",
    "    transformers=[(\"one_hot\", OneHotEncoder(), categorical_cols)],  # Apply one-hot encoding to categorical columns\n",
    "    remainder=\"passthrough\"  # Keep other columns (if any) in their original form\n",
    ")\n",
    "\n",
    "# Apply the transformation\n",
    "transformed_x = transformer.fit_transform(x)\n",
    "\n",
    "# Convert sparse matrix to a dense numpy array\n",
    "transformed_x_dense = transformed_x.toarray()\n",
    "\n",
    "# Get the column names after one-hot encoding\n",
    "encoded_columns = transformer.get_feature_names_out()\n",
    "\n",
    "# Combine the transformed data with the column names\n",
    "transformed_x_df = pd.DataFrame(transformed_x_dense, columns=encoded_columns)\n",
    "\n",
    "# Optionally, reset the index if you want to keep the original row indices\n",
    "transformed_x_df.reset_index(drop=True, inplace=True)\n"
   ]
  },
  {
   "cell_type": "markdown",
   "id": "580ae35a-a8f2-4cd6-ac96-4f064f676e85",
   "metadata": {},
   "source": [
    "### Sparse vs Dense Matrices: \r\n",
    "\r\n",
    "The terms \"sparse\" and \"dense\" refer to how the data is stored in memory, and they can significantly impact performance, especially when dealing with large datasets.\r\n",
    "\r\n",
    "#### **Sparse Matrix**:\r\n",
    "A sparse matrix is a type of matrix where most of its elements are zero (or empty). Instead of storing every element of the matrix (including the zeros), sparse matrices store only the non-zero values along with their indices. This makes sparse matrices memory-efficient when dealing with datasets that contain many zero values.\r\n",
    "\r\n",
    "In the context of one-hot encoding, many of the entries in the transformed matrix will be zero (for example, in a column with one-hot encoding, only one entry for each sample will be 1, and the rest will be 0). This is a perfect scenario for using a sparse matrix.\r\n",
    "\r\n",
    "- **Space-efficient**: Sparse matrices save memory by only storing the non-zero elements.\r\n",
    "- **Operations**: They allow for efficient mathematical operations, but some operations may require conversion to a dense format, depending on the operation you're pefficiently.\r\n",
    "\r\n",
    "#### **Dense Matrix**:\r\n",
    "A dense matrix, on the other hand, stores every value in the matrix, including the zeros. This leads to more memory usage, especially when the matrix is large and contains many zero values.\r\n",
    "\r\n",
    "- **Memory consumption**: Dense matrices use more memory because every element, including zeros, is stored.\r\n",
    "- **Faster access**: Since all values are stored, accessing any element is faster, and some matrix operations (like matrix multiplication) are often easier or more efficient on dense matrices.\r\n",
    "\r\n",
    "In NumPy, a dense matrix is simply a regular 2D array, where every value (including zero) is stored.\r\n",
    "\r\n",
    "#### **Why Convert Sparse to Dense**?\r\n",
    "In machine learning and data preprocessing (like one-hot encoding), the transformation often results in a sparse matrix. For instance, when you apply one-hot encoding, many of the columns will have zeros for most of the rows. This can lead to a sparse matrix.\r\n",
    "\r\n",
    "However, not all algorithms or operations in Python (especially with pandas or other libraries) work well with sparse matrices. They expect a dense matrix, so you may need to convert the sparse matrix to a dense one before creating a pandas DataFrame or performing other operations that require direct access to the values.\r\n",
    "\r\n",
    "- **To Convert**: `sparse_matrix.toarray()` converts the sparse matrix to a dense matrix, where all values, including zeros, are stored explicitly.\r\n",
    "\r\n",
    "#### Example:\r\n",
    "\r\n",
    "Imagine we have a dataset with 4 rows and 3 categorical columns, and after one-hot encoding, we get the following sparse matrix (we'll assume the rows represent different samples):\r\n",
    "\r\n"
   ]
  },
  {
   "cell_type": "code",
   "execution_count": 1656,
   "id": "60d8c388-28f5-4d64-b7dc-0f2d9b713a55",
   "metadata": {},
   "outputs": [
    {
     "data": {
      "text/html": [
       "<div>\n",
       "<style scoped>\n",
       "    .dataframe tbody tr th:only-of-type {\n",
       "        vertical-align: middle;\n",
       "    }\n",
       "\n",
       "    .dataframe tbody tr th {\n",
       "        vertical-align: top;\n",
       "    }\n",
       "\n",
       "    .dataframe thead th {\n",
       "        text-align: right;\n",
       "    }\n",
       "</style>\n",
       "<table border=\"1\" class=\"dataframe\">\n",
       "  <thead>\n",
       "    <tr style=\"text-align: right;\">\n",
       "      <th></th>\n",
       "      <th>one_hot__What_is_your_gender__Female</th>\n",
       "      <th>one_hot__What_is_your_gender__Male</th>\n",
       "      <th>one_hot__What_is_your_level_of_education__Other</th>\n",
       "      <th>one_hot__What_is_your_level_of_education__Postgraduate</th>\n",
       "      <th>one_hot__What_is_your_level_of_education__Undergraduate</th>\n",
       "      <th>one_hot__What_year_of_study_are_you_in__First Year</th>\n",
       "      <th>one_hot__What_year_of_study_are_you_in__Fourth year and above</th>\n",
       "      <th>one_hot__What_year_of_study_are_you_in__Second year</th>\n",
       "      <th>one_hot__What_year_of_study_are_you_in__Third year</th>\n",
       "      <th>one_hot__What_is_your_socioeconomic_status__High Income</th>\n",
       "      <th>...</th>\n",
       "      <th>one_hot__How_often_do_you_collaborate_with_classmates_on_projects_or_assignments__Always</th>\n",
       "      <th>one_hot__How_often_do_you_collaborate_with_classmates_on_projects_or_assignments__Never</th>\n",
       "      <th>one_hot__How_often_do_you_collaborate_with_classmates_on_projects_or_assignments__Often</th>\n",
       "      <th>one_hot__How_often_do_you_collaborate_with_classmates_on_projects_or_assignments__Rarely</th>\n",
       "      <th>one_hot__How_often_do_you_collaborate_with_classmates_on_projects_or_assignments__Sometimes</th>\n",
       "      <th>remainder__What_is_your_age_</th>\n",
       "      <th>remainder__On_a_scale_of_1_to_10__how_engaged_are_you_during_classes_</th>\n",
       "      <th>remainder__What_is_your_average_score_in_assessments___Please_enter_a_score_out_of_100_</th>\n",
       "      <th>remainder__On_a_scale_of_1_to_10__how_much_do_you_use_technology_for_your_studies___1_being_not_at_all__10_being_extensively_</th>\n",
       "      <th>remainder__On_a_scale_of_1_to_10__how_would_you_rate_your_learning_environment</th>\n",
       "    </tr>\n",
       "  </thead>\n",
       "  <tbody>\n",
       "    <tr>\n",
       "      <th>0</th>\n",
       "      <td>0.0</td>\n",
       "      <td>1.0</td>\n",
       "      <td>0.0</td>\n",
       "      <td>0.0</td>\n",
       "      <td>1.0</td>\n",
       "      <td>1.0</td>\n",
       "      <td>0.0</td>\n",
       "      <td>0.0</td>\n",
       "      <td>0.0</td>\n",
       "      <td>1.0</td>\n",
       "      <td>...</td>\n",
       "      <td>0.0</td>\n",
       "      <td>0.0</td>\n",
       "      <td>1.0</td>\n",
       "      <td>0.0</td>\n",
       "      <td>0.0</td>\n",
       "      <td>27.0</td>\n",
       "      <td>2.0</td>\n",
       "      <td>98.0</td>\n",
       "      <td>6.0</td>\n",
       "      <td>9.0</td>\n",
       "    </tr>\n",
       "    <tr>\n",
       "      <th>1</th>\n",
       "      <td>0.0</td>\n",
       "      <td>1.0</td>\n",
       "      <td>0.0</td>\n",
       "      <td>1.0</td>\n",
       "      <td>0.0</td>\n",
       "      <td>1.0</td>\n",
       "      <td>0.0</td>\n",
       "      <td>0.0</td>\n",
       "      <td>0.0</td>\n",
       "      <td>1.0</td>\n",
       "      <td>...</td>\n",
       "      <td>0.0</td>\n",
       "      <td>0.0</td>\n",
       "      <td>0.0</td>\n",
       "      <td>0.0</td>\n",
       "      <td>1.0</td>\n",
       "      <td>20.0</td>\n",
       "      <td>9.0</td>\n",
       "      <td>86.0</td>\n",
       "      <td>3.0</td>\n",
       "      <td>7.0</td>\n",
       "    </tr>\n",
       "    <tr>\n",
       "      <th>2</th>\n",
       "      <td>1.0</td>\n",
       "      <td>0.0</td>\n",
       "      <td>0.0</td>\n",
       "      <td>1.0</td>\n",
       "      <td>0.0</td>\n",
       "      <td>0.0</td>\n",
       "      <td>1.0</td>\n",
       "      <td>0.0</td>\n",
       "      <td>0.0</td>\n",
       "      <td>0.0</td>\n",
       "      <td>...</td>\n",
       "      <td>0.0</td>\n",
       "      <td>0.0</td>\n",
       "      <td>1.0</td>\n",
       "      <td>0.0</td>\n",
       "      <td>0.0</td>\n",
       "      <td>38.0</td>\n",
       "      <td>8.0</td>\n",
       "      <td>67.0</td>\n",
       "      <td>7.0</td>\n",
       "      <td>5.0</td>\n",
       "    </tr>\n",
       "    <tr>\n",
       "      <th>3</th>\n",
       "      <td>0.0</td>\n",
       "      <td>1.0</td>\n",
       "      <td>0.0</td>\n",
       "      <td>0.0</td>\n",
       "      <td>1.0</td>\n",
       "      <td>0.0</td>\n",
       "      <td>0.0</td>\n",
       "      <td>0.0</td>\n",
       "      <td>1.0</td>\n",
       "      <td>0.0</td>\n",
       "      <td>...</td>\n",
       "      <td>0.0</td>\n",
       "      <td>1.0</td>\n",
       "      <td>0.0</td>\n",
       "      <td>0.0</td>\n",
       "      <td>0.0</td>\n",
       "      <td>38.0</td>\n",
       "      <td>8.0</td>\n",
       "      <td>98.0</td>\n",
       "      <td>10.0</td>\n",
       "      <td>10.0</td>\n",
       "    </tr>\n",
       "    <tr>\n",
       "      <th>4</th>\n",
       "      <td>0.0</td>\n",
       "      <td>1.0</td>\n",
       "      <td>0.0</td>\n",
       "      <td>0.0</td>\n",
       "      <td>1.0</td>\n",
       "      <td>0.0</td>\n",
       "      <td>1.0</td>\n",
       "      <td>0.0</td>\n",
       "      <td>0.0</td>\n",
       "      <td>1.0</td>\n",
       "      <td>...</td>\n",
       "      <td>0.0</td>\n",
       "      <td>0.0</td>\n",
       "      <td>0.0</td>\n",
       "      <td>1.0</td>\n",
       "      <td>0.0</td>\n",
       "      <td>37.0</td>\n",
       "      <td>5.0</td>\n",
       "      <td>98.0</td>\n",
       "      <td>9.0</td>\n",
       "      <td>8.0</td>\n",
       "    </tr>\n",
       "    <tr>\n",
       "      <th>...</th>\n",
       "      <td>...</td>\n",
       "      <td>...</td>\n",
       "      <td>...</td>\n",
       "      <td>...</td>\n",
       "      <td>...</td>\n",
       "      <td>...</td>\n",
       "      <td>...</td>\n",
       "      <td>...</td>\n",
       "      <td>...</td>\n",
       "      <td>...</td>\n",
       "      <td>...</td>\n",
       "      <td>...</td>\n",
       "      <td>...</td>\n",
       "      <td>...</td>\n",
       "      <td>...</td>\n",
       "      <td>...</td>\n",
       "      <td>...</td>\n",
       "      <td>...</td>\n",
       "      <td>...</td>\n",
       "      <td>...</td>\n",
       "      <td>...</td>\n",
       "    </tr>\n",
       "    <tr>\n",
       "      <th>1878</th>\n",
       "      <td>1.0</td>\n",
       "      <td>0.0</td>\n",
       "      <td>1.0</td>\n",
       "      <td>0.0</td>\n",
       "      <td>0.0</td>\n",
       "      <td>0.0</td>\n",
       "      <td>0.0</td>\n",
       "      <td>1.0</td>\n",
       "      <td>0.0</td>\n",
       "      <td>0.0</td>\n",
       "      <td>...</td>\n",
       "      <td>1.0</td>\n",
       "      <td>0.0</td>\n",
       "      <td>0.0</td>\n",
       "      <td>0.0</td>\n",
       "      <td>0.0</td>\n",
       "      <td>24.0</td>\n",
       "      <td>10.0</td>\n",
       "      <td>20.0</td>\n",
       "      <td>2.0</td>\n",
       "      <td>2.0</td>\n",
       "    </tr>\n",
       "    <tr>\n",
       "      <th>1879</th>\n",
       "      <td>0.0</td>\n",
       "      <td>1.0</td>\n",
       "      <td>0.0</td>\n",
       "      <td>0.0</td>\n",
       "      <td>1.0</td>\n",
       "      <td>0.0</td>\n",
       "      <td>0.0</td>\n",
       "      <td>0.0</td>\n",
       "      <td>1.0</td>\n",
       "      <td>0.0</td>\n",
       "      <td>...</td>\n",
       "      <td>0.0</td>\n",
       "      <td>0.0</td>\n",
       "      <td>0.0</td>\n",
       "      <td>0.0</td>\n",
       "      <td>1.0</td>\n",
       "      <td>22.0</td>\n",
       "      <td>7.0</td>\n",
       "      <td>19.0</td>\n",
       "      <td>7.0</td>\n",
       "      <td>9.0</td>\n",
       "    </tr>\n",
       "    <tr>\n",
       "      <th>1880</th>\n",
       "      <td>0.0</td>\n",
       "      <td>1.0</td>\n",
       "      <td>0.0</td>\n",
       "      <td>0.0</td>\n",
       "      <td>1.0</td>\n",
       "      <td>0.0</td>\n",
       "      <td>0.0</td>\n",
       "      <td>0.0</td>\n",
       "      <td>1.0</td>\n",
       "      <td>0.0</td>\n",
       "      <td>...</td>\n",
       "      <td>0.0</td>\n",
       "      <td>0.0</td>\n",
       "      <td>0.0</td>\n",
       "      <td>1.0</td>\n",
       "      <td>0.0</td>\n",
       "      <td>34.0</td>\n",
       "      <td>1.0</td>\n",
       "      <td>10.0</td>\n",
       "      <td>8.0</td>\n",
       "      <td>10.0</td>\n",
       "    </tr>\n",
       "    <tr>\n",
       "      <th>1881</th>\n",
       "      <td>1.0</td>\n",
       "      <td>0.0</td>\n",
       "      <td>0.0</td>\n",
       "      <td>0.0</td>\n",
       "      <td>1.0</td>\n",
       "      <td>0.0</td>\n",
       "      <td>0.0</td>\n",
       "      <td>1.0</td>\n",
       "      <td>0.0</td>\n",
       "      <td>0.0</td>\n",
       "      <td>...</td>\n",
       "      <td>0.0</td>\n",
       "      <td>0.0</td>\n",
       "      <td>1.0</td>\n",
       "      <td>0.0</td>\n",
       "      <td>0.0</td>\n",
       "      <td>23.0</td>\n",
       "      <td>4.0</td>\n",
       "      <td>8.0</td>\n",
       "      <td>6.0</td>\n",
       "      <td>5.0</td>\n",
       "    </tr>\n",
       "    <tr>\n",
       "      <th>1882</th>\n",
       "      <td>1.0</td>\n",
       "      <td>0.0</td>\n",
       "      <td>0.0</td>\n",
       "      <td>1.0</td>\n",
       "      <td>0.0</td>\n",
       "      <td>0.0</td>\n",
       "      <td>1.0</td>\n",
       "      <td>0.0</td>\n",
       "      <td>0.0</td>\n",
       "      <td>0.0</td>\n",
       "      <td>...</td>\n",
       "      <td>0.0</td>\n",
       "      <td>0.0</td>\n",
       "      <td>1.0</td>\n",
       "      <td>0.0</td>\n",
       "      <td>0.0</td>\n",
       "      <td>25.0</td>\n",
       "      <td>3.0</td>\n",
       "      <td>6.0</td>\n",
       "      <td>2.0</td>\n",
       "      <td>8.0</td>\n",
       "    </tr>\n",
       "  </tbody>\n",
       "</table>\n",
       "<p>1883 rows × 112 columns</p>\n",
       "</div>"
      ],
      "text/plain": [
       "      one_hot__What_is_your_gender__Female  \\\n",
       "0                                      0.0   \n",
       "1                                      0.0   \n",
       "2                                      1.0   \n",
       "3                                      0.0   \n",
       "4                                      0.0   \n",
       "...                                    ...   \n",
       "1878                                   1.0   \n",
       "1879                                   0.0   \n",
       "1880                                   0.0   \n",
       "1881                                   1.0   \n",
       "1882                                   1.0   \n",
       "\n",
       "      one_hot__What_is_your_gender__Male  \\\n",
       "0                                    1.0   \n",
       "1                                    1.0   \n",
       "2                                    0.0   \n",
       "3                                    1.0   \n",
       "4                                    1.0   \n",
       "...                                  ...   \n",
       "1878                                 0.0   \n",
       "1879                                 1.0   \n",
       "1880                                 1.0   \n",
       "1881                                 0.0   \n",
       "1882                                 0.0   \n",
       "\n",
       "      one_hot__What_is_your_level_of_education__Other  \\\n",
       "0                                                 0.0   \n",
       "1                                                 0.0   \n",
       "2                                                 0.0   \n",
       "3                                                 0.0   \n",
       "4                                                 0.0   \n",
       "...                                               ...   \n",
       "1878                                              1.0   \n",
       "1879                                              0.0   \n",
       "1880                                              0.0   \n",
       "1881                                              0.0   \n",
       "1882                                              0.0   \n",
       "\n",
       "      one_hot__What_is_your_level_of_education__Postgraduate  \\\n",
       "0                                                   0.0        \n",
       "1                                                   1.0        \n",
       "2                                                   1.0        \n",
       "3                                                   0.0        \n",
       "4                                                   0.0        \n",
       "...                                                 ...        \n",
       "1878                                                0.0        \n",
       "1879                                                0.0        \n",
       "1880                                                0.0        \n",
       "1881                                                0.0        \n",
       "1882                                                1.0        \n",
       "\n",
       "      one_hot__What_is_your_level_of_education__Undergraduate  \\\n",
       "0                                                   1.0         \n",
       "1                                                   0.0         \n",
       "2                                                   0.0         \n",
       "3                                                   1.0         \n",
       "4                                                   1.0         \n",
       "...                                                 ...         \n",
       "1878                                                0.0         \n",
       "1879                                                1.0         \n",
       "1880                                                1.0         \n",
       "1881                                                1.0         \n",
       "1882                                                0.0         \n",
       "\n",
       "      one_hot__What_year_of_study_are_you_in__First Year  \\\n",
       "0                                                   1.0    \n",
       "1                                                   1.0    \n",
       "2                                                   0.0    \n",
       "3                                                   0.0    \n",
       "4                                                   0.0    \n",
       "...                                                 ...    \n",
       "1878                                                0.0    \n",
       "1879                                                0.0    \n",
       "1880                                                0.0    \n",
       "1881                                                0.0    \n",
       "1882                                                0.0    \n",
       "\n",
       "      one_hot__What_year_of_study_are_you_in__Fourth year and above  \\\n",
       "0                                                   0.0               \n",
       "1                                                   0.0               \n",
       "2                                                   1.0               \n",
       "3                                                   0.0               \n",
       "4                                                   1.0               \n",
       "...                                                 ...               \n",
       "1878                                                0.0               \n",
       "1879                                                0.0               \n",
       "1880                                                0.0               \n",
       "1881                                                0.0               \n",
       "1882                                                1.0               \n",
       "\n",
       "      one_hot__What_year_of_study_are_you_in__Second year  \\\n",
       "0                                                   0.0     \n",
       "1                                                   0.0     \n",
       "2                                                   0.0     \n",
       "3                                                   0.0     \n",
       "4                                                   0.0     \n",
       "...                                                 ...     \n",
       "1878                                                1.0     \n",
       "1879                                                0.0     \n",
       "1880                                                0.0     \n",
       "1881                                                1.0     \n",
       "1882                                                0.0     \n",
       "\n",
       "      one_hot__What_year_of_study_are_you_in__Third year  \\\n",
       "0                                                   0.0    \n",
       "1                                                   0.0    \n",
       "2                                                   0.0    \n",
       "3                                                   1.0    \n",
       "4                                                   0.0    \n",
       "...                                                 ...    \n",
       "1878                                                0.0    \n",
       "1879                                                1.0    \n",
       "1880                                                1.0    \n",
       "1881                                                0.0    \n",
       "1882                                                0.0    \n",
       "\n",
       "      one_hot__What_is_your_socioeconomic_status__High Income  ...  \\\n",
       "0                                                   1.0        ...   \n",
       "1                                                   1.0        ...   \n",
       "2                                                   0.0        ...   \n",
       "3                                                   0.0        ...   \n",
       "4                                                   1.0        ...   \n",
       "...                                                 ...        ...   \n",
       "1878                                                0.0        ...   \n",
       "1879                                                0.0        ...   \n",
       "1880                                                0.0        ...   \n",
       "1881                                                0.0        ...   \n",
       "1882                                                0.0        ...   \n",
       "\n",
       "      one_hot__How_often_do_you_collaborate_with_classmates_on_projects_or_assignments__Always  \\\n",
       "0                                                   0.0                                          \n",
       "1                                                   0.0                                          \n",
       "2                                                   0.0                                          \n",
       "3                                                   0.0                                          \n",
       "4                                                   0.0                                          \n",
       "...                                                 ...                                          \n",
       "1878                                                1.0                                          \n",
       "1879                                                0.0                                          \n",
       "1880                                                0.0                                          \n",
       "1881                                                0.0                                          \n",
       "1882                                                0.0                                          \n",
       "\n",
       "      one_hot__How_often_do_you_collaborate_with_classmates_on_projects_or_assignments__Never  \\\n",
       "0                                                   0.0                                         \n",
       "1                                                   0.0                                         \n",
       "2                                                   0.0                                         \n",
       "3                                                   1.0                                         \n",
       "4                                                   0.0                                         \n",
       "...                                                 ...                                         \n",
       "1878                                                0.0                                         \n",
       "1879                                                0.0                                         \n",
       "1880                                                0.0                                         \n",
       "1881                                                0.0                                         \n",
       "1882                                                0.0                                         \n",
       "\n",
       "      one_hot__How_often_do_you_collaborate_with_classmates_on_projects_or_assignments__Often  \\\n",
       "0                                                   1.0                                         \n",
       "1                                                   0.0                                         \n",
       "2                                                   1.0                                         \n",
       "3                                                   0.0                                         \n",
       "4                                                   0.0                                         \n",
       "...                                                 ...                                         \n",
       "1878                                                0.0                                         \n",
       "1879                                                0.0                                         \n",
       "1880                                                0.0                                         \n",
       "1881                                                1.0                                         \n",
       "1882                                                1.0                                         \n",
       "\n",
       "      one_hot__How_often_do_you_collaborate_with_classmates_on_projects_or_assignments__Rarely  \\\n",
       "0                                                   0.0                                          \n",
       "1                                                   0.0                                          \n",
       "2                                                   0.0                                          \n",
       "3                                                   0.0                                          \n",
       "4                                                   1.0                                          \n",
       "...                                                 ...                                          \n",
       "1878                                                0.0                                          \n",
       "1879                                                0.0                                          \n",
       "1880                                                1.0                                          \n",
       "1881                                                0.0                                          \n",
       "1882                                                0.0                                          \n",
       "\n",
       "      one_hot__How_often_do_you_collaborate_with_classmates_on_projects_or_assignments__Sometimes  \\\n",
       "0                                                   0.0                                             \n",
       "1                                                   1.0                                             \n",
       "2                                                   0.0                                             \n",
       "3                                                   0.0                                             \n",
       "4                                                   0.0                                             \n",
       "...                                                 ...                                             \n",
       "1878                                                0.0                                             \n",
       "1879                                                1.0                                             \n",
       "1880                                                0.0                                             \n",
       "1881                                                0.0                                             \n",
       "1882                                                0.0                                             \n",
       "\n",
       "      remainder__What_is_your_age_  \\\n",
       "0                             27.0   \n",
       "1                             20.0   \n",
       "2                             38.0   \n",
       "3                             38.0   \n",
       "4                             37.0   \n",
       "...                            ...   \n",
       "1878                          24.0   \n",
       "1879                          22.0   \n",
       "1880                          34.0   \n",
       "1881                          23.0   \n",
       "1882                          25.0   \n",
       "\n",
       "      remainder__On_a_scale_of_1_to_10__how_engaged_are_you_during_classes_  \\\n",
       "0                                                   2.0                       \n",
       "1                                                   9.0                       \n",
       "2                                                   8.0                       \n",
       "3                                                   8.0                       \n",
       "4                                                   5.0                       \n",
       "...                                                 ...                       \n",
       "1878                                               10.0                       \n",
       "1879                                                7.0                       \n",
       "1880                                                1.0                       \n",
       "1881                                                4.0                       \n",
       "1882                                                3.0                       \n",
       "\n",
       "      remainder__What_is_your_average_score_in_assessments___Please_enter_a_score_out_of_100_  \\\n",
       "0                                                  98.0                                         \n",
       "1                                                  86.0                                         \n",
       "2                                                  67.0                                         \n",
       "3                                                  98.0                                         \n",
       "4                                                  98.0                                         \n",
       "...                                                 ...                                         \n",
       "1878                                               20.0                                         \n",
       "1879                                               19.0                                         \n",
       "1880                                               10.0                                         \n",
       "1881                                                8.0                                         \n",
       "1882                                                6.0                                         \n",
       "\n",
       "      remainder__On_a_scale_of_1_to_10__how_much_do_you_use_technology_for_your_studies___1_being_not_at_all__10_being_extensively_  \\\n",
       "0                                                   6.0                                                                               \n",
       "1                                                   3.0                                                                               \n",
       "2                                                   7.0                                                                               \n",
       "3                                                  10.0                                                                               \n",
       "4                                                   9.0                                                                               \n",
       "...                                                 ...                                                                               \n",
       "1878                                                2.0                                                                               \n",
       "1879                                                7.0                                                                               \n",
       "1880                                                8.0                                                                               \n",
       "1881                                                6.0                                                                               \n",
       "1882                                                2.0                                                                               \n",
       "\n",
       "      remainder__On_a_scale_of_1_to_10__how_would_you_rate_your_learning_environment  \n",
       "0                                                   9.0                               \n",
       "1                                                   7.0                               \n",
       "2                                                   5.0                               \n",
       "3                                                  10.0                               \n",
       "4                                                   8.0                               \n",
       "...                                                 ...                               \n",
       "1878                                                2.0                               \n",
       "1879                                                9.0                               \n",
       "1880                                               10.0                               \n",
       "1881                                                5.0                               \n",
       "1882                                                8.0                               \n",
       "\n",
       "[1883 rows x 112 columns]"
      ]
     },
     "execution_count": 1656,
     "metadata": {},
     "output_type": "execute_result"
    }
   ],
   "source": [
    "transformed_x_df"
   ]
  },
  {
   "cell_type": "code",
   "execution_count": 1658,
   "id": "a60a8692-0251-4a7d-83ba-5c2538e486ef",
   "metadata": {},
   "outputs": [
    {
     "data": {
      "text/plain": [
       "((1883, 112), (1883,))"
      ]
     },
     "execution_count": 1658,
     "metadata": {},
     "output_type": "execute_result"
    }
   ],
   "source": [
    "transformed_x_df.shape, y.shape"
   ]
  },
  {
   "cell_type": "code",
   "execution_count": 1660,
   "id": "cf07a2fe-8229-4eef-83a2-239851fc680a",
   "metadata": {},
   "outputs": [],
   "source": [
    "x = transformed_x_df\n",
    "y = y_c\n"
   ]
  },
  {
   "cell_type": "code",
   "execution_count": 1662,
   "id": "ce923e98-1f58-4ad7-b1b6-cf7a565b6041",
   "metadata": {},
   "outputs": [
    {
     "data": {
      "text/html": [
       "<div>\n",
       "<style scoped>\n",
       "    .dataframe tbody tr th:only-of-type {\n",
       "        vertical-align: middle;\n",
       "    }\n",
       "\n",
       "    .dataframe tbody tr th {\n",
       "        vertical-align: top;\n",
       "    }\n",
       "\n",
       "    .dataframe thead th {\n",
       "        text-align: right;\n",
       "    }\n",
       "</style>\n",
       "<table border=\"1\" class=\"dataframe\">\n",
       "  <thead>\n",
       "    <tr style=\"text-align: right;\">\n",
       "      <th></th>\n",
       "      <th>one_hot__What_is_your_gender__Female</th>\n",
       "      <th>one_hot__What_is_your_gender__Male</th>\n",
       "      <th>one_hot__What_is_your_level_of_education__Other</th>\n",
       "      <th>one_hot__What_is_your_level_of_education__Postgraduate</th>\n",
       "      <th>one_hot__What_is_your_level_of_education__Undergraduate</th>\n",
       "      <th>one_hot__What_year_of_study_are_you_in__First Year</th>\n",
       "      <th>one_hot__What_year_of_study_are_you_in__Fourth year and above</th>\n",
       "      <th>one_hot__What_year_of_study_are_you_in__Second year</th>\n",
       "      <th>one_hot__What_year_of_study_are_you_in__Third year</th>\n",
       "      <th>one_hot__What_is_your_socioeconomic_status__High Income</th>\n",
       "      <th>...</th>\n",
       "      <th>one_hot__How_often_do_you_collaborate_with_classmates_on_projects_or_assignments__Always</th>\n",
       "      <th>one_hot__How_often_do_you_collaborate_with_classmates_on_projects_or_assignments__Never</th>\n",
       "      <th>one_hot__How_often_do_you_collaborate_with_classmates_on_projects_or_assignments__Often</th>\n",
       "      <th>one_hot__How_often_do_you_collaborate_with_classmates_on_projects_or_assignments__Rarely</th>\n",
       "      <th>one_hot__How_often_do_you_collaborate_with_classmates_on_projects_or_assignments__Sometimes</th>\n",
       "      <th>remainder__What_is_your_age_</th>\n",
       "      <th>remainder__On_a_scale_of_1_to_10__how_engaged_are_you_during_classes_</th>\n",
       "      <th>remainder__What_is_your_average_score_in_assessments___Please_enter_a_score_out_of_100_</th>\n",
       "      <th>remainder__On_a_scale_of_1_to_10__how_much_do_you_use_technology_for_your_studies___1_being_not_at_all__10_being_extensively_</th>\n",
       "      <th>remainder__On_a_scale_of_1_to_10__how_would_you_rate_your_learning_environment</th>\n",
       "    </tr>\n",
       "  </thead>\n",
       "  <tbody>\n",
       "    <tr>\n",
       "      <th>0</th>\n",
       "      <td>0.0</td>\n",
       "      <td>1.0</td>\n",
       "      <td>0.0</td>\n",
       "      <td>0.0</td>\n",
       "      <td>1.0</td>\n",
       "      <td>1.0</td>\n",
       "      <td>0.0</td>\n",
       "      <td>0.0</td>\n",
       "      <td>0.0</td>\n",
       "      <td>1.0</td>\n",
       "      <td>...</td>\n",
       "      <td>0.0</td>\n",
       "      <td>0.0</td>\n",
       "      <td>1.0</td>\n",
       "      <td>0.0</td>\n",
       "      <td>0.0</td>\n",
       "      <td>27.0</td>\n",
       "      <td>2.0</td>\n",
       "      <td>98.0</td>\n",
       "      <td>6.0</td>\n",
       "      <td>9.0</td>\n",
       "    </tr>\n",
       "    <tr>\n",
       "      <th>1</th>\n",
       "      <td>0.0</td>\n",
       "      <td>1.0</td>\n",
       "      <td>0.0</td>\n",
       "      <td>1.0</td>\n",
       "      <td>0.0</td>\n",
       "      <td>1.0</td>\n",
       "      <td>0.0</td>\n",
       "      <td>0.0</td>\n",
       "      <td>0.0</td>\n",
       "      <td>1.0</td>\n",
       "      <td>...</td>\n",
       "      <td>0.0</td>\n",
       "      <td>0.0</td>\n",
       "      <td>0.0</td>\n",
       "      <td>0.0</td>\n",
       "      <td>1.0</td>\n",
       "      <td>20.0</td>\n",
       "      <td>9.0</td>\n",
       "      <td>86.0</td>\n",
       "      <td>3.0</td>\n",
       "      <td>7.0</td>\n",
       "    </tr>\n",
       "    <tr>\n",
       "      <th>2</th>\n",
       "      <td>1.0</td>\n",
       "      <td>0.0</td>\n",
       "      <td>0.0</td>\n",
       "      <td>1.0</td>\n",
       "      <td>0.0</td>\n",
       "      <td>0.0</td>\n",
       "      <td>1.0</td>\n",
       "      <td>0.0</td>\n",
       "      <td>0.0</td>\n",
       "      <td>0.0</td>\n",
       "      <td>...</td>\n",
       "      <td>0.0</td>\n",
       "      <td>0.0</td>\n",
       "      <td>1.0</td>\n",
       "      <td>0.0</td>\n",
       "      <td>0.0</td>\n",
       "      <td>38.0</td>\n",
       "      <td>8.0</td>\n",
       "      <td>67.0</td>\n",
       "      <td>7.0</td>\n",
       "      <td>5.0</td>\n",
       "    </tr>\n",
       "    <tr>\n",
       "      <th>3</th>\n",
       "      <td>0.0</td>\n",
       "      <td>1.0</td>\n",
       "      <td>0.0</td>\n",
       "      <td>0.0</td>\n",
       "      <td>1.0</td>\n",
       "      <td>0.0</td>\n",
       "      <td>0.0</td>\n",
       "      <td>0.0</td>\n",
       "      <td>1.0</td>\n",
       "      <td>0.0</td>\n",
       "      <td>...</td>\n",
       "      <td>0.0</td>\n",
       "      <td>1.0</td>\n",
       "      <td>0.0</td>\n",
       "      <td>0.0</td>\n",
       "      <td>0.0</td>\n",
       "      <td>38.0</td>\n",
       "      <td>8.0</td>\n",
       "      <td>98.0</td>\n",
       "      <td>10.0</td>\n",
       "      <td>10.0</td>\n",
       "    </tr>\n",
       "    <tr>\n",
       "      <th>4</th>\n",
       "      <td>0.0</td>\n",
       "      <td>1.0</td>\n",
       "      <td>0.0</td>\n",
       "      <td>0.0</td>\n",
       "      <td>1.0</td>\n",
       "      <td>0.0</td>\n",
       "      <td>1.0</td>\n",
       "      <td>0.0</td>\n",
       "      <td>0.0</td>\n",
       "      <td>1.0</td>\n",
       "      <td>...</td>\n",
       "      <td>0.0</td>\n",
       "      <td>0.0</td>\n",
       "      <td>0.0</td>\n",
       "      <td>1.0</td>\n",
       "      <td>0.0</td>\n",
       "      <td>37.0</td>\n",
       "      <td>5.0</td>\n",
       "      <td>98.0</td>\n",
       "      <td>9.0</td>\n",
       "      <td>8.0</td>\n",
       "    </tr>\n",
       "    <tr>\n",
       "      <th>...</th>\n",
       "      <td>...</td>\n",
       "      <td>...</td>\n",
       "      <td>...</td>\n",
       "      <td>...</td>\n",
       "      <td>...</td>\n",
       "      <td>...</td>\n",
       "      <td>...</td>\n",
       "      <td>...</td>\n",
       "      <td>...</td>\n",
       "      <td>...</td>\n",
       "      <td>...</td>\n",
       "      <td>...</td>\n",
       "      <td>...</td>\n",
       "      <td>...</td>\n",
       "      <td>...</td>\n",
       "      <td>...</td>\n",
       "      <td>...</td>\n",
       "      <td>...</td>\n",
       "      <td>...</td>\n",
       "      <td>...</td>\n",
       "      <td>...</td>\n",
       "    </tr>\n",
       "    <tr>\n",
       "      <th>1878</th>\n",
       "      <td>1.0</td>\n",
       "      <td>0.0</td>\n",
       "      <td>1.0</td>\n",
       "      <td>0.0</td>\n",
       "      <td>0.0</td>\n",
       "      <td>0.0</td>\n",
       "      <td>0.0</td>\n",
       "      <td>1.0</td>\n",
       "      <td>0.0</td>\n",
       "      <td>0.0</td>\n",
       "      <td>...</td>\n",
       "      <td>1.0</td>\n",
       "      <td>0.0</td>\n",
       "      <td>0.0</td>\n",
       "      <td>0.0</td>\n",
       "      <td>0.0</td>\n",
       "      <td>24.0</td>\n",
       "      <td>10.0</td>\n",
       "      <td>20.0</td>\n",
       "      <td>2.0</td>\n",
       "      <td>2.0</td>\n",
       "    </tr>\n",
       "    <tr>\n",
       "      <th>1879</th>\n",
       "      <td>0.0</td>\n",
       "      <td>1.0</td>\n",
       "      <td>0.0</td>\n",
       "      <td>0.0</td>\n",
       "      <td>1.0</td>\n",
       "      <td>0.0</td>\n",
       "      <td>0.0</td>\n",
       "      <td>0.0</td>\n",
       "      <td>1.0</td>\n",
       "      <td>0.0</td>\n",
       "      <td>...</td>\n",
       "      <td>0.0</td>\n",
       "      <td>0.0</td>\n",
       "      <td>0.0</td>\n",
       "      <td>0.0</td>\n",
       "      <td>1.0</td>\n",
       "      <td>22.0</td>\n",
       "      <td>7.0</td>\n",
       "      <td>19.0</td>\n",
       "      <td>7.0</td>\n",
       "      <td>9.0</td>\n",
       "    </tr>\n",
       "    <tr>\n",
       "      <th>1880</th>\n",
       "      <td>0.0</td>\n",
       "      <td>1.0</td>\n",
       "      <td>0.0</td>\n",
       "      <td>0.0</td>\n",
       "      <td>1.0</td>\n",
       "      <td>0.0</td>\n",
       "      <td>0.0</td>\n",
       "      <td>0.0</td>\n",
       "      <td>1.0</td>\n",
       "      <td>0.0</td>\n",
       "      <td>...</td>\n",
       "      <td>0.0</td>\n",
       "      <td>0.0</td>\n",
       "      <td>0.0</td>\n",
       "      <td>1.0</td>\n",
       "      <td>0.0</td>\n",
       "      <td>34.0</td>\n",
       "      <td>1.0</td>\n",
       "      <td>10.0</td>\n",
       "      <td>8.0</td>\n",
       "      <td>10.0</td>\n",
       "    </tr>\n",
       "    <tr>\n",
       "      <th>1881</th>\n",
       "      <td>1.0</td>\n",
       "      <td>0.0</td>\n",
       "      <td>0.0</td>\n",
       "      <td>0.0</td>\n",
       "      <td>1.0</td>\n",
       "      <td>0.0</td>\n",
       "      <td>0.0</td>\n",
       "      <td>1.0</td>\n",
       "      <td>0.0</td>\n",
       "      <td>0.0</td>\n",
       "      <td>...</td>\n",
       "      <td>0.0</td>\n",
       "      <td>0.0</td>\n",
       "      <td>1.0</td>\n",
       "      <td>0.0</td>\n",
       "      <td>0.0</td>\n",
       "      <td>23.0</td>\n",
       "      <td>4.0</td>\n",
       "      <td>8.0</td>\n",
       "      <td>6.0</td>\n",
       "      <td>5.0</td>\n",
       "    </tr>\n",
       "    <tr>\n",
       "      <th>1882</th>\n",
       "      <td>1.0</td>\n",
       "      <td>0.0</td>\n",
       "      <td>0.0</td>\n",
       "      <td>1.0</td>\n",
       "      <td>0.0</td>\n",
       "      <td>0.0</td>\n",
       "      <td>1.0</td>\n",
       "      <td>0.0</td>\n",
       "      <td>0.0</td>\n",
       "      <td>0.0</td>\n",
       "      <td>...</td>\n",
       "      <td>0.0</td>\n",
       "      <td>0.0</td>\n",
       "      <td>1.0</td>\n",
       "      <td>0.0</td>\n",
       "      <td>0.0</td>\n",
       "      <td>25.0</td>\n",
       "      <td>3.0</td>\n",
       "      <td>6.0</td>\n",
       "      <td>2.0</td>\n",
       "      <td>8.0</td>\n",
       "    </tr>\n",
       "  </tbody>\n",
       "</table>\n",
       "<p>1883 rows × 112 columns</p>\n",
       "</div>"
      ],
      "text/plain": [
       "      one_hot__What_is_your_gender__Female  \\\n",
       "0                                      0.0   \n",
       "1                                      0.0   \n",
       "2                                      1.0   \n",
       "3                                      0.0   \n",
       "4                                      0.0   \n",
       "...                                    ...   \n",
       "1878                                   1.0   \n",
       "1879                                   0.0   \n",
       "1880                                   0.0   \n",
       "1881                                   1.0   \n",
       "1882                                   1.0   \n",
       "\n",
       "      one_hot__What_is_your_gender__Male  \\\n",
       "0                                    1.0   \n",
       "1                                    1.0   \n",
       "2                                    0.0   \n",
       "3                                    1.0   \n",
       "4                                    1.0   \n",
       "...                                  ...   \n",
       "1878                                 0.0   \n",
       "1879                                 1.0   \n",
       "1880                                 1.0   \n",
       "1881                                 0.0   \n",
       "1882                                 0.0   \n",
       "\n",
       "      one_hot__What_is_your_level_of_education__Other  \\\n",
       "0                                                 0.0   \n",
       "1                                                 0.0   \n",
       "2                                                 0.0   \n",
       "3                                                 0.0   \n",
       "4                                                 0.0   \n",
       "...                                               ...   \n",
       "1878                                              1.0   \n",
       "1879                                              0.0   \n",
       "1880                                              0.0   \n",
       "1881                                              0.0   \n",
       "1882                                              0.0   \n",
       "\n",
       "      one_hot__What_is_your_level_of_education__Postgraduate  \\\n",
       "0                                                   0.0        \n",
       "1                                                   1.0        \n",
       "2                                                   1.0        \n",
       "3                                                   0.0        \n",
       "4                                                   0.0        \n",
       "...                                                 ...        \n",
       "1878                                                0.0        \n",
       "1879                                                0.0        \n",
       "1880                                                0.0        \n",
       "1881                                                0.0        \n",
       "1882                                                1.0        \n",
       "\n",
       "      one_hot__What_is_your_level_of_education__Undergraduate  \\\n",
       "0                                                   1.0         \n",
       "1                                                   0.0         \n",
       "2                                                   0.0         \n",
       "3                                                   1.0         \n",
       "4                                                   1.0         \n",
       "...                                                 ...         \n",
       "1878                                                0.0         \n",
       "1879                                                1.0         \n",
       "1880                                                1.0         \n",
       "1881                                                1.0         \n",
       "1882                                                0.0         \n",
       "\n",
       "      one_hot__What_year_of_study_are_you_in__First Year  \\\n",
       "0                                                   1.0    \n",
       "1                                                   1.0    \n",
       "2                                                   0.0    \n",
       "3                                                   0.0    \n",
       "4                                                   0.0    \n",
       "...                                                 ...    \n",
       "1878                                                0.0    \n",
       "1879                                                0.0    \n",
       "1880                                                0.0    \n",
       "1881                                                0.0    \n",
       "1882                                                0.0    \n",
       "\n",
       "      one_hot__What_year_of_study_are_you_in__Fourth year and above  \\\n",
       "0                                                   0.0               \n",
       "1                                                   0.0               \n",
       "2                                                   1.0               \n",
       "3                                                   0.0               \n",
       "4                                                   1.0               \n",
       "...                                                 ...               \n",
       "1878                                                0.0               \n",
       "1879                                                0.0               \n",
       "1880                                                0.0               \n",
       "1881                                                0.0               \n",
       "1882                                                1.0               \n",
       "\n",
       "      one_hot__What_year_of_study_are_you_in__Second year  \\\n",
       "0                                                   0.0     \n",
       "1                                                   0.0     \n",
       "2                                                   0.0     \n",
       "3                                                   0.0     \n",
       "4                                                   0.0     \n",
       "...                                                 ...     \n",
       "1878                                                1.0     \n",
       "1879                                                0.0     \n",
       "1880                                                0.0     \n",
       "1881                                                1.0     \n",
       "1882                                                0.0     \n",
       "\n",
       "      one_hot__What_year_of_study_are_you_in__Third year  \\\n",
       "0                                                   0.0    \n",
       "1                                                   0.0    \n",
       "2                                                   0.0    \n",
       "3                                                   1.0    \n",
       "4                                                   0.0    \n",
       "...                                                 ...    \n",
       "1878                                                0.0    \n",
       "1879                                                1.0    \n",
       "1880                                                1.0    \n",
       "1881                                                0.0    \n",
       "1882                                                0.0    \n",
       "\n",
       "      one_hot__What_is_your_socioeconomic_status__High Income  ...  \\\n",
       "0                                                   1.0        ...   \n",
       "1                                                   1.0        ...   \n",
       "2                                                   0.0        ...   \n",
       "3                                                   0.0        ...   \n",
       "4                                                   1.0        ...   \n",
       "...                                                 ...        ...   \n",
       "1878                                                0.0        ...   \n",
       "1879                                                0.0        ...   \n",
       "1880                                                0.0        ...   \n",
       "1881                                                0.0        ...   \n",
       "1882                                                0.0        ...   \n",
       "\n",
       "      one_hot__How_often_do_you_collaborate_with_classmates_on_projects_or_assignments__Always  \\\n",
       "0                                                   0.0                                          \n",
       "1                                                   0.0                                          \n",
       "2                                                   0.0                                          \n",
       "3                                                   0.0                                          \n",
       "4                                                   0.0                                          \n",
       "...                                                 ...                                          \n",
       "1878                                                1.0                                          \n",
       "1879                                                0.0                                          \n",
       "1880                                                0.0                                          \n",
       "1881                                                0.0                                          \n",
       "1882                                                0.0                                          \n",
       "\n",
       "      one_hot__How_often_do_you_collaborate_with_classmates_on_projects_or_assignments__Never  \\\n",
       "0                                                   0.0                                         \n",
       "1                                                   0.0                                         \n",
       "2                                                   0.0                                         \n",
       "3                                                   1.0                                         \n",
       "4                                                   0.0                                         \n",
       "...                                                 ...                                         \n",
       "1878                                                0.0                                         \n",
       "1879                                                0.0                                         \n",
       "1880                                                0.0                                         \n",
       "1881                                                0.0                                         \n",
       "1882                                                0.0                                         \n",
       "\n",
       "      one_hot__How_often_do_you_collaborate_with_classmates_on_projects_or_assignments__Often  \\\n",
       "0                                                   1.0                                         \n",
       "1                                                   0.0                                         \n",
       "2                                                   1.0                                         \n",
       "3                                                   0.0                                         \n",
       "4                                                   0.0                                         \n",
       "...                                                 ...                                         \n",
       "1878                                                0.0                                         \n",
       "1879                                                0.0                                         \n",
       "1880                                                0.0                                         \n",
       "1881                                                1.0                                         \n",
       "1882                                                1.0                                         \n",
       "\n",
       "      one_hot__How_often_do_you_collaborate_with_classmates_on_projects_or_assignments__Rarely  \\\n",
       "0                                                   0.0                                          \n",
       "1                                                   0.0                                          \n",
       "2                                                   0.0                                          \n",
       "3                                                   0.0                                          \n",
       "4                                                   1.0                                          \n",
       "...                                                 ...                                          \n",
       "1878                                                0.0                                          \n",
       "1879                                                0.0                                          \n",
       "1880                                                1.0                                          \n",
       "1881                                                0.0                                          \n",
       "1882                                                0.0                                          \n",
       "\n",
       "      one_hot__How_often_do_you_collaborate_with_classmates_on_projects_or_assignments__Sometimes  \\\n",
       "0                                                   0.0                                             \n",
       "1                                                   1.0                                             \n",
       "2                                                   0.0                                             \n",
       "3                                                   0.0                                             \n",
       "4                                                   0.0                                             \n",
       "...                                                 ...                                             \n",
       "1878                                                0.0                                             \n",
       "1879                                                1.0                                             \n",
       "1880                                                0.0                                             \n",
       "1881                                                0.0                                             \n",
       "1882                                                0.0                                             \n",
       "\n",
       "      remainder__What_is_your_age_  \\\n",
       "0                             27.0   \n",
       "1                             20.0   \n",
       "2                             38.0   \n",
       "3                             38.0   \n",
       "4                             37.0   \n",
       "...                            ...   \n",
       "1878                          24.0   \n",
       "1879                          22.0   \n",
       "1880                          34.0   \n",
       "1881                          23.0   \n",
       "1882                          25.0   \n",
       "\n",
       "      remainder__On_a_scale_of_1_to_10__how_engaged_are_you_during_classes_  \\\n",
       "0                                                   2.0                       \n",
       "1                                                   9.0                       \n",
       "2                                                   8.0                       \n",
       "3                                                   8.0                       \n",
       "4                                                   5.0                       \n",
       "...                                                 ...                       \n",
       "1878                                               10.0                       \n",
       "1879                                                7.0                       \n",
       "1880                                                1.0                       \n",
       "1881                                                4.0                       \n",
       "1882                                                3.0                       \n",
       "\n",
       "      remainder__What_is_your_average_score_in_assessments___Please_enter_a_score_out_of_100_  \\\n",
       "0                                                  98.0                                         \n",
       "1                                                  86.0                                         \n",
       "2                                                  67.0                                         \n",
       "3                                                  98.0                                         \n",
       "4                                                  98.0                                         \n",
       "...                                                 ...                                         \n",
       "1878                                               20.0                                         \n",
       "1879                                               19.0                                         \n",
       "1880                                               10.0                                         \n",
       "1881                                                8.0                                         \n",
       "1882                                                6.0                                         \n",
       "\n",
       "      remainder__On_a_scale_of_1_to_10__how_much_do_you_use_technology_for_your_studies___1_being_not_at_all__10_being_extensively_  \\\n",
       "0                                                   6.0                                                                               \n",
       "1                                                   3.0                                                                               \n",
       "2                                                   7.0                                                                               \n",
       "3                                                  10.0                                                                               \n",
       "4                                                   9.0                                                                               \n",
       "...                                                 ...                                                                               \n",
       "1878                                                2.0                                                                               \n",
       "1879                                                7.0                                                                               \n",
       "1880                                                8.0                                                                               \n",
       "1881                                                6.0                                                                               \n",
       "1882                                                2.0                                                                               \n",
       "\n",
       "      remainder__On_a_scale_of_1_to_10__how_would_you_rate_your_learning_environment  \n",
       "0                                                   9.0                               \n",
       "1                                                   7.0                               \n",
       "2                                                   5.0                               \n",
       "3                                                  10.0                               \n",
       "4                                                   8.0                               \n",
       "...                                                 ...                               \n",
       "1878                                                2.0                               \n",
       "1879                                                9.0                               \n",
       "1880                                               10.0                               \n",
       "1881                                                5.0                               \n",
       "1882                                                8.0                               \n",
       "\n",
       "[1883 rows x 112 columns]"
      ]
     },
     "execution_count": 1662,
     "metadata": {},
     "output_type": "execute_result"
    }
   ],
   "source": [
    "x"
   ]
  },
  {
   "cell_type": "code",
   "execution_count": 1664,
   "id": "b1934378-3754-4269-853f-462fa0b0d64c",
   "metadata": {},
   "outputs": [
    {
     "data": {
      "text/plain": [
       "0       1\n",
       "1       1\n",
       "2       1\n",
       "3       0\n",
       "4       0\n",
       "       ..\n",
       "1878    0\n",
       "1879    0\n",
       "1880    0\n",
       "1881    0\n",
       "1882    0\n",
       "Name: What is your cumulative GPA?, Length: 1883, dtype: int64"
      ]
     },
     "execution_count": 1664,
     "metadata": {},
     "output_type": "execute_result"
    }
   ],
   "source": [
    "y_c"
   ]
  },
  {
   "cell_type": "code",
   "execution_count": 1666,
   "id": "b5045fa2-be9e-4899-9121-9dfd19ff75f7",
   "metadata": {},
   "outputs": [
    {
     "data": {
      "text/plain": [
       "((1883, 112), (1883,))"
      ]
     },
     "execution_count": 1666,
     "metadata": {},
     "output_type": "execute_result"
    }
   ],
   "source": [
    "x.shape, y.shape"
   ]
  },
  {
   "cell_type": "markdown",
   "id": "50463cde-4aef-4e41-9a12-ea36e6a5533b",
   "metadata": {},
   "source": [
    "# Splitting our dataset"
   ]
  },
  {
   "cell_type": "code",
   "execution_count": 1669,
   "id": "46b15faa-a831-4f6d-85db-f86a46a7ceef",
   "metadata": {},
   "outputs": [],
   "source": [
    "from sklearn.model_selection import train_test_split"
   ]
  },
  {
   "cell_type": "code",
   "execution_count": 1671,
   "id": "4148d3a9-b2b9-405e-91b5-d9c71f40bd15",
   "metadata": {},
   "outputs": [],
   "source": [
    "x_train, x_test, y_train, y_test = train_test_split(x, y, test_size=0.2, stratify=y, random_state=42)\n"
   ]
  },
  {
   "cell_type": "code",
   "execution_count": 1673,
   "id": "2323b1b0-4256-4408-a845-7d493b10354c",
   "metadata": {},
   "outputs": [
    {
     "data": {
      "text/plain": [
       "((1506, 112), (377, 112), (1506,), (377,))"
      ]
     },
     "execution_count": 1673,
     "metadata": {},
     "output_type": "execute_result"
    }
   ],
   "source": [
    "x_train.shape, x_test.shape, y_train.shape, y_test.shape\n"
   ]
  },
  {
   "cell_type": "markdown",
   "id": "407c6bd2-3b03-460c-89c3-e9b52eaa2938",
   "metadata": {},
   "source": [
    "# Model Training`\n"
   ]
  },
  {
   "cell_type": "code",
   "execution_count": 1676,
   "id": "1b5ccd24-1ace-4f95-80cb-c26731ea09a7",
   "metadata": {},
   "outputs": [
    {
     "name": "stdout",
     "output_type": "stream",
     "text": [
      "{'LogisticRegression': 0.6392572944297082, 'RandomForest': 0.6631299734748011, 'DecisionTree': 0.5172413793103449, 'GradientBoosting': 0.636604774535809, 'KNN': 0.6419098143236074, 'SVM': 0.6710875331564987}\n"
     ]
    }
   ],
   "source": [
    "import numpy as np\n",
    "from sklearn.linear_model import LogisticRegression\n",
    "from sklearn.ensemble import RandomForestClassifier\n",
    "from sklearn.svm import SVC\n",
    "from sklearn.neighbors import KNeighborsClassifier\n",
    "from sklearn.tree import DecisionTreeClassifier\n",
    "from sklearn.ensemble import GradientBoostingClassifier\n",
    "from sklearn.model_selection import train_test_split\n",
    "from sklearn.preprocessing import StandardScaler\n",
    "\n",
    "# Initialize models\n",
    "models = {\n",
    "    'LogisticRegression': LogisticRegression(max_iter=1000),  # Increase max_iter\n",
    "    'RandomForest': RandomForestClassifier(n_estimators=100),\n",
    "    'DecisionTree': DecisionTreeClassifier(),\n",
    "    'GradientBoosting': GradientBoostingClassifier(),\n",
    "    'KNN': KNeighborsClassifier(),\n",
    "    'SVM': SVC(probability=True)\n",
    "}\n",
    "\n",
    "# Split data into train and test sets\n",
    "x_train, x_test, y_train, y_test = train_test_split(x, y, test_size=0.2, random_state=42)\n",
    "\n",
    "# Scale the features\n",
    "scaler = StandardScaler()\n",
    "x_train_scaled = scaler.fit_transform(x_train)\n",
    "x_test_scaled = scaler.transform(x_test)\n",
    "\n",
    "# Function to fit and score the models\n",
    "def fit_and_score(models, x_train, x_test, y_train, y_test):\n",
    "    np.random.seed(42)  # For reproducibility\n",
    "    model_scores = {}\n",
    "    \n",
    "    for name, model in models.items():\n",
    "        # Fit the model on training data\n",
    "        model.fit(x_train, y_train)\n",
    "        \n",
    "        # Evaluate the model\n",
    "        score = model.score(x_test, y_test)  # Accuracy score on the test set\n",
    "        model_scores[name] = score\n",
    "    \n",
    "    return model_scores\n",
    "\n",
    "# Get model scores\n",
    "model_scores = fit_and_score(models, x_train_scaled, x_test_scaled, y_train, y_test)\n",
    "\n",
    "# Print the model scores\n",
    "print(model_scores)\n"
   ]
  },
  {
   "cell_type": "code",
   "execution_count": 1677,
   "id": "e7f11fdc-8811-4914-8108-2015404094bc",
   "metadata": {},
   "outputs": [
    {
     "data": {
      "text/html": [
       "<div>\n",
       "<style scoped>\n",
       "    .dataframe tbody tr th:only-of-type {\n",
       "        vertical-align: middle;\n",
       "    }\n",
       "\n",
       "    .dataframe tbody tr th {\n",
       "        vertical-align: top;\n",
       "    }\n",
       "\n",
       "    .dataframe thead th {\n",
       "        text-align: right;\n",
       "    }\n",
       "</style>\n",
       "<table border=\"1\" class=\"dataframe\">\n",
       "  <thead>\n",
       "    <tr style=\"text-align: right;\">\n",
       "      <th></th>\n",
       "      <th>Score</th>\n",
       "    </tr>\n",
       "  </thead>\n",
       "  <tbody>\n",
       "    <tr>\n",
       "      <th>LogisticRegression</th>\n",
       "      <td>0.639257</td>\n",
       "    </tr>\n",
       "    <tr>\n",
       "      <th>RandomForest</th>\n",
       "      <td>0.663130</td>\n",
       "    </tr>\n",
       "    <tr>\n",
       "      <th>DecisionTree</th>\n",
       "      <td>0.517241</td>\n",
       "    </tr>\n",
       "    <tr>\n",
       "      <th>GradientBoosting</th>\n",
       "      <td>0.636605</td>\n",
       "    </tr>\n",
       "    <tr>\n",
       "      <th>KNN</th>\n",
       "      <td>0.641910</td>\n",
       "    </tr>\n",
       "    <tr>\n",
       "      <th>SVM</th>\n",
       "      <td>0.671088</td>\n",
       "    </tr>\n",
       "  </tbody>\n",
       "</table>\n",
       "</div>"
      ],
      "text/plain": [
       "                       Score\n",
       "LogisticRegression  0.639257\n",
       "RandomForest        0.663130\n",
       "DecisionTree        0.517241\n",
       "GradientBoosting    0.636605\n",
       "KNN                 0.641910\n",
       "SVM                 0.671088"
      ]
     },
     "execution_count": 1677,
     "metadata": {},
     "output_type": "execute_result"
    }
   ],
   "source": [
    "# Create a dataframe from the model_scores dictionary\n",
    "df_scores = pd.DataFrame.from_dict(model_scores, orient='index', columns=['Score'])\n",
    "df_scores"
   ]
  },
  {
   "cell_type": "code",
   "execution_count": 1678,
   "id": "7fa27dba-48d8-43d9-8e45-2e1c5182c4d9",
   "metadata": {},
   "outputs": [],
   "source": [
    "import numpy as np\n",
    "from sklearn.model_selection import train_test_split\n",
    "from sklearn.linear_model import LogisticRegression\n",
    "from sklearn.ensemble import RandomForestClassifier\n",
    "from sklearn.svm import SVC\n",
    "from sklearn.neighbors import KNeighborsClassifier\n",
    "from sklearn.tree import DecisionTreeClassifier\n",
    "from sklearn.ensemble import GradientBoostingClassifier"
   ]
  },
  {
   "cell_type": "code",
   "execution_count": 1679,
   "id": "dced4a84-887a-49d4-941f-52cb0825c677",
   "metadata": {},
   "outputs": [],
   "source": [
    "from sklearn.preprocessing import StandardScaler\n",
    "import pandas as pd\n",
    "from sklearn.model_selection import train_test_split\n",
    "\n",
    "# Assuming x and y are pandas DataFrames (or Series)\n",
    "x_train, x_test, y_train, y_test = train_test_split(x, y, test_size=0.2, stratify=y, random_state=42)\n",
    "\n",
    "scaler = StandardScaler()\n",
    "\n",
    "# Fit and transform the training data\n",
    "x_train_scaled = pd.DataFrame(scaler.fit_transform(x_train), columns=x_train.columns)\n",
    "\n",
    "# Transform the test data\n",
    "x_test_scaled = pd.DataFrame(scaler.transform(x_test), columns=x_test.columns)\n",
    "\n",
    "# Now x_train_scaled and x_test_scaled are DataFrames with the same columns as x_train and x_test"
   ]
  },
  {
   "cell_type": "code",
   "execution_count": 1692,
   "id": "3c238695-6986-480d-b529-28190675106d",
   "metadata": {},
   "outputs": [],
   "source": [
    "# Initialize models\n",
    "models = {\n",
    "    'LogisticRegression': LogisticRegression(),\n",
    "    'RandomForest': RandomForestClassifier(n_estimators=100),\n",
    "    'DecisionTree': DecisionTreeClassifier(),\n",
    "    'GradientBoosting': GradientBoostingClassifier(),\n",
    "    'KNN': KNeighborsClassifier(),\n",
    "    'SVM': SVC(probability=True)\n",
    "}"
   ]
  },
  {
   "cell_type": "code",
   "execution_count": 1694,
   "id": "fad13f15-eef5-45fc-95fb-c08d77d24926",
   "metadata": {},
   "outputs": [],
   "source": [
    "# Train models using scaled data\n",
    "for model_name, model in models.items():\n",
    "    model.fit(x_train_scaled, y_train)"
   ]
  },
  {
   "cell_type": "code",
   "execution_count": 1695,
   "id": "f45cd73e-7ec9-4f69-b321-d3424b354919",
   "metadata": {},
   "outputs": [],
   "source": [
    "# Get predictions for train set and test set\n",
    "base_model_preds_train = []\n",
    "base_model_preds_test = []"
   ]
  },
  {
   "cell_type": "code",
   "execution_count": 1696,
   "id": "94c38c01-e66d-4968-ae7c-cfa2646c399e",
   "metadata": {},
   "outputs": [],
   "source": [
    "for model_name, model in models.items():\n",
    "    if hasattr(model, 'predict_proba'):\n",
    "        # Get the probabilities for each class (we need the second column for binary classification)\n",
    "        train_preds = model.predict_proba(x_train_scaled)[:, 1]\n",
    "        test_preds = model.predict_proba(x_test_scaled)[:, 1]\n",
    "    else:\n",
    "        # For models like DecisionTree that do not have 'predict_proba', use regular prediction\n",
    "        train_preds = model.predict(x_train_scaled)\n",
    "        test_preds = model.predict(x_test_scaled)"
   ]
  },
  {
   "cell_type": "code",
   "execution_count": 1697,
   "id": "54b3e8f8-0efe-4620-8424-cb9c5f7ca003",
   "metadata": {},
   "outputs": [],
   "source": [
    "base_model_preds_train.append(train_preds)\n",
    "base_model_preds_test.append(test_preds)"
   ]
  },
  {
   "cell_type": "code",
   "execution_count": 1698,
   "id": "c36bc119-0c5d-4cbc-8833-ac58818649d5",
   "metadata": {},
   "outputs": [],
   "source": [
    "import numpy as np\n",
    "import pandas as pd\n",
    "from sklearn.linear_model import LogisticRegression\n",
    "from sklearn.metrics import accuracy_score"
   ]
  },
  {
   "cell_type": "code",
   "execution_count": 1699,
   "id": "8ee9685f-38d3-4b42-bd7f-ec4f3825739a",
   "metadata": {},
   "outputs": [],
   "source": [
    "# Convert list of predictions into pandas DataFrames\n",
    "stacked_train = pd.DataFrame(np.column_stack(base_model_preds_train))\n",
    "stacked_test = pd.DataFrame(np.column_stack(base_model_preds_test))"
   ]
  },
  {
   "cell_type": "code",
   "execution_count": 1700,
   "id": "0e8a5df7-6829-4bdb-b0ed-b35f9c5d90e1",
   "metadata": {},
   "outputs": [],
   "source": [
    "# Initialize meta-model (Logistic Regression)\n",
    "meta_model = LogisticRegression()"
   ]
  },
  {
   "cell_type": "code",
   "execution_count": 1701,
   "id": "05f714fc-a0eb-4dab-bfb3-58ac61b5bb6c",
   "metadata": {},
   "outputs": [
    {
     "data": {
      "text/html": [
       "<style>#sk-container-id-12 {\n",
       "  /* Definition of color scheme common for light and dark mode */\n",
       "  --sklearn-color-text: black;\n",
       "  --sklearn-color-line: gray;\n",
       "  /* Definition of color scheme for unfitted estimators */\n",
       "  --sklearn-color-unfitted-level-0: #fff5e6;\n",
       "  --sklearn-color-unfitted-level-1: #f6e4d2;\n",
       "  --sklearn-color-unfitted-level-2: #ffe0b3;\n",
       "  --sklearn-color-unfitted-level-3: chocolate;\n",
       "  /* Definition of color scheme for fitted estimators */\n",
       "  --sklearn-color-fitted-level-0: #f0f8ff;\n",
       "  --sklearn-color-fitted-level-1: #d4ebff;\n",
       "  --sklearn-color-fitted-level-2: #b3dbfd;\n",
       "  --sklearn-color-fitted-level-3: cornflowerblue;\n",
       "\n",
       "  /* Specific color for light theme */\n",
       "  --sklearn-color-text-on-default-background: var(--sg-text-color, var(--theme-code-foreground, var(--jp-content-font-color1, black)));\n",
       "  --sklearn-color-background: var(--sg-background-color, var(--theme-background, var(--jp-layout-color0, white)));\n",
       "  --sklearn-color-border-box: var(--sg-text-color, var(--theme-code-foreground, var(--jp-content-font-color1, black)));\n",
       "  --sklearn-color-icon: #696969;\n",
       "\n",
       "  @media (prefers-color-scheme: dark) {\n",
       "    /* Redefinition of color scheme for dark theme */\n",
       "    --sklearn-color-text-on-default-background: var(--sg-text-color, var(--theme-code-foreground, var(--jp-content-font-color1, white)));\n",
       "    --sklearn-color-background: var(--sg-background-color, var(--theme-background, var(--jp-layout-color0, #111)));\n",
       "    --sklearn-color-border-box: var(--sg-text-color, var(--theme-code-foreground, var(--jp-content-font-color1, white)));\n",
       "    --sklearn-color-icon: #878787;\n",
       "  }\n",
       "}\n",
       "\n",
       "#sk-container-id-12 {\n",
       "  color: var(--sklearn-color-text);\n",
       "}\n",
       "\n",
       "#sk-container-id-12 pre {\n",
       "  padding: 0;\n",
       "}\n",
       "\n",
       "#sk-container-id-12 input.sk-hidden--visually {\n",
       "  border: 0;\n",
       "  clip: rect(1px 1px 1px 1px);\n",
       "  clip: rect(1px, 1px, 1px, 1px);\n",
       "  height: 1px;\n",
       "  margin: -1px;\n",
       "  overflow: hidden;\n",
       "  padding: 0;\n",
       "  position: absolute;\n",
       "  width: 1px;\n",
       "}\n",
       "\n",
       "#sk-container-id-12 div.sk-dashed-wrapped {\n",
       "  border: 1px dashed var(--sklearn-color-line);\n",
       "  margin: 0 0.4em 0.5em 0.4em;\n",
       "  box-sizing: border-box;\n",
       "  padding-bottom: 0.4em;\n",
       "  background-color: var(--sklearn-color-background);\n",
       "}\n",
       "\n",
       "#sk-container-id-12 div.sk-container {\n",
       "  /* jupyter's `normalize.less` sets `[hidden] { display: none; }`\n",
       "     but bootstrap.min.css set `[hidden] { display: none !important; }`\n",
       "     so we also need the `!important` here to be able to override the\n",
       "     default hidden behavior on the sphinx rendered scikit-learn.org.\n",
       "     See: https://github.com/scikit-learn/scikit-learn/issues/21755 */\n",
       "  display: inline-block !important;\n",
       "  position: relative;\n",
       "}\n",
       "\n",
       "#sk-container-id-12 div.sk-text-repr-fallback {\n",
       "  display: none;\n",
       "}\n",
       "\n",
       "div.sk-parallel-item,\n",
       "div.sk-serial,\n",
       "div.sk-item {\n",
       "  /* draw centered vertical line to link estimators */\n",
       "  background-image: linear-gradient(var(--sklearn-color-text-on-default-background), var(--sklearn-color-text-on-default-background));\n",
       "  background-size: 2px 100%;\n",
       "  background-repeat: no-repeat;\n",
       "  background-position: center center;\n",
       "}\n",
       "\n",
       "/* Parallel-specific style estimator block */\n",
       "\n",
       "#sk-container-id-12 div.sk-parallel-item::after {\n",
       "  content: \"\";\n",
       "  width: 100%;\n",
       "  border-bottom: 2px solid var(--sklearn-color-text-on-default-background);\n",
       "  flex-grow: 1;\n",
       "}\n",
       "\n",
       "#sk-container-id-12 div.sk-parallel {\n",
       "  display: flex;\n",
       "  align-items: stretch;\n",
       "  justify-content: center;\n",
       "  background-color: var(--sklearn-color-background);\n",
       "  position: relative;\n",
       "}\n",
       "\n",
       "#sk-container-id-12 div.sk-parallel-item {\n",
       "  display: flex;\n",
       "  flex-direction: column;\n",
       "}\n",
       "\n",
       "#sk-container-id-12 div.sk-parallel-item:first-child::after {\n",
       "  align-self: flex-end;\n",
       "  width: 50%;\n",
       "}\n",
       "\n",
       "#sk-container-id-12 div.sk-parallel-item:last-child::after {\n",
       "  align-self: flex-start;\n",
       "  width: 50%;\n",
       "}\n",
       "\n",
       "#sk-container-id-12 div.sk-parallel-item:only-child::after {\n",
       "  width: 0;\n",
       "}\n",
       "\n",
       "/* Serial-specific style estimator block */\n",
       "\n",
       "#sk-container-id-12 div.sk-serial {\n",
       "  display: flex;\n",
       "  flex-direction: column;\n",
       "  align-items: center;\n",
       "  background-color: var(--sklearn-color-background);\n",
       "  padding-right: 1em;\n",
       "  padding-left: 1em;\n",
       "}\n",
       "\n",
       "\n",
       "/* Toggleable style: style used for estimator/Pipeline/ColumnTransformer box that is\n",
       "clickable and can be expanded/collapsed.\n",
       "- Pipeline and ColumnTransformer use this feature and define the default style\n",
       "- Estimators will overwrite some part of the style using the `sk-estimator` class\n",
       "*/\n",
       "\n",
       "/* Pipeline and ColumnTransformer style (default) */\n",
       "\n",
       "#sk-container-id-12 div.sk-toggleable {\n",
       "  /* Default theme specific background. It is overwritten whether we have a\n",
       "  specific estimator or a Pipeline/ColumnTransformer */\n",
       "  background-color: var(--sklearn-color-background);\n",
       "}\n",
       "\n",
       "/* Toggleable label */\n",
       "#sk-container-id-12 label.sk-toggleable__label {\n",
       "  cursor: pointer;\n",
       "  display: block;\n",
       "  width: 100%;\n",
       "  margin-bottom: 0;\n",
       "  padding: 0.5em;\n",
       "  box-sizing: border-box;\n",
       "  text-align: center;\n",
       "}\n",
       "\n",
       "#sk-container-id-12 label.sk-toggleable__label-arrow:before {\n",
       "  /* Arrow on the left of the label */\n",
       "  content: \"▸\";\n",
       "  float: left;\n",
       "  margin-right: 0.25em;\n",
       "  color: var(--sklearn-color-icon);\n",
       "}\n",
       "\n",
       "#sk-container-id-12 label.sk-toggleable__label-arrow:hover:before {\n",
       "  color: var(--sklearn-color-text);\n",
       "}\n",
       "\n",
       "/* Toggleable content - dropdown */\n",
       "\n",
       "#sk-container-id-12 div.sk-toggleable__content {\n",
       "  max-height: 0;\n",
       "  max-width: 0;\n",
       "  overflow: hidden;\n",
       "  text-align: left;\n",
       "  /* unfitted */\n",
       "  background-color: var(--sklearn-color-unfitted-level-0);\n",
       "}\n",
       "\n",
       "#sk-container-id-12 div.sk-toggleable__content.fitted {\n",
       "  /* fitted */\n",
       "  background-color: var(--sklearn-color-fitted-level-0);\n",
       "}\n",
       "\n",
       "#sk-container-id-12 div.sk-toggleable__content pre {\n",
       "  margin: 0.2em;\n",
       "  border-radius: 0.25em;\n",
       "  color: var(--sklearn-color-text);\n",
       "  /* unfitted */\n",
       "  background-color: var(--sklearn-color-unfitted-level-0);\n",
       "}\n",
       "\n",
       "#sk-container-id-12 div.sk-toggleable__content.fitted pre {\n",
       "  /* unfitted */\n",
       "  background-color: var(--sklearn-color-fitted-level-0);\n",
       "}\n",
       "\n",
       "#sk-container-id-12 input.sk-toggleable__control:checked~div.sk-toggleable__content {\n",
       "  /* Expand drop-down */\n",
       "  max-height: 200px;\n",
       "  max-width: 100%;\n",
       "  overflow: auto;\n",
       "}\n",
       "\n",
       "#sk-container-id-12 input.sk-toggleable__control:checked~label.sk-toggleable__label-arrow:before {\n",
       "  content: \"▾\";\n",
       "}\n",
       "\n",
       "/* Pipeline/ColumnTransformer-specific style */\n",
       "\n",
       "#sk-container-id-12 div.sk-label input.sk-toggleable__control:checked~label.sk-toggleable__label {\n",
       "  color: var(--sklearn-color-text);\n",
       "  background-color: var(--sklearn-color-unfitted-level-2);\n",
       "}\n",
       "\n",
       "#sk-container-id-12 div.sk-label.fitted input.sk-toggleable__control:checked~label.sk-toggleable__label {\n",
       "  background-color: var(--sklearn-color-fitted-level-2);\n",
       "}\n",
       "\n",
       "/* Estimator-specific style */\n",
       "\n",
       "/* Colorize estimator box */\n",
       "#sk-container-id-12 div.sk-estimator input.sk-toggleable__control:checked~label.sk-toggleable__label {\n",
       "  /* unfitted */\n",
       "  background-color: var(--sklearn-color-unfitted-level-2);\n",
       "}\n",
       "\n",
       "#sk-container-id-12 div.sk-estimator.fitted input.sk-toggleable__control:checked~label.sk-toggleable__label {\n",
       "  /* fitted */\n",
       "  background-color: var(--sklearn-color-fitted-level-2);\n",
       "}\n",
       "\n",
       "#sk-container-id-12 div.sk-label label.sk-toggleable__label,\n",
       "#sk-container-id-12 div.sk-label label {\n",
       "  /* The background is the default theme color */\n",
       "  color: var(--sklearn-color-text-on-default-background);\n",
       "}\n",
       "\n",
       "/* On hover, darken the color of the background */\n",
       "#sk-container-id-12 div.sk-label:hover label.sk-toggleable__label {\n",
       "  color: var(--sklearn-color-text);\n",
       "  background-color: var(--sklearn-color-unfitted-level-2);\n",
       "}\n",
       "\n",
       "/* Label box, darken color on hover, fitted */\n",
       "#sk-container-id-12 div.sk-label.fitted:hover label.sk-toggleable__label.fitted {\n",
       "  color: var(--sklearn-color-text);\n",
       "  background-color: var(--sklearn-color-fitted-level-2);\n",
       "}\n",
       "\n",
       "/* Estimator label */\n",
       "\n",
       "#sk-container-id-12 div.sk-label label {\n",
       "  font-family: monospace;\n",
       "  font-weight: bold;\n",
       "  display: inline-block;\n",
       "  line-height: 1.2em;\n",
       "}\n",
       "\n",
       "#sk-container-id-12 div.sk-label-container {\n",
       "  text-align: center;\n",
       "}\n",
       "\n",
       "/* Estimator-specific */\n",
       "#sk-container-id-12 div.sk-estimator {\n",
       "  font-family: monospace;\n",
       "  border: 1px dotted var(--sklearn-color-border-box);\n",
       "  border-radius: 0.25em;\n",
       "  box-sizing: border-box;\n",
       "  margin-bottom: 0.5em;\n",
       "  /* unfitted */\n",
       "  background-color: var(--sklearn-color-unfitted-level-0);\n",
       "}\n",
       "\n",
       "#sk-container-id-12 div.sk-estimator.fitted {\n",
       "  /* fitted */\n",
       "  background-color: var(--sklearn-color-fitted-level-0);\n",
       "}\n",
       "\n",
       "/* on hover */\n",
       "#sk-container-id-12 div.sk-estimator:hover {\n",
       "  /* unfitted */\n",
       "  background-color: var(--sklearn-color-unfitted-level-2);\n",
       "}\n",
       "\n",
       "#sk-container-id-12 div.sk-estimator.fitted:hover {\n",
       "  /* fitted */\n",
       "  background-color: var(--sklearn-color-fitted-level-2);\n",
       "}\n",
       "\n",
       "/* Specification for estimator info (e.g. \"i\" and \"?\") */\n",
       "\n",
       "/* Common style for \"i\" and \"?\" */\n",
       "\n",
       ".sk-estimator-doc-link,\n",
       "a:link.sk-estimator-doc-link,\n",
       "a:visited.sk-estimator-doc-link {\n",
       "  float: right;\n",
       "  font-size: smaller;\n",
       "  line-height: 1em;\n",
       "  font-family: monospace;\n",
       "  background-color: var(--sklearn-color-background);\n",
       "  border-radius: 1em;\n",
       "  height: 1em;\n",
       "  width: 1em;\n",
       "  text-decoration: none !important;\n",
       "  margin-left: 1ex;\n",
       "  /* unfitted */\n",
       "  border: var(--sklearn-color-unfitted-level-1) 1pt solid;\n",
       "  color: var(--sklearn-color-unfitted-level-1);\n",
       "}\n",
       "\n",
       ".sk-estimator-doc-link.fitted,\n",
       "a:link.sk-estimator-doc-link.fitted,\n",
       "a:visited.sk-estimator-doc-link.fitted {\n",
       "  /* fitted */\n",
       "  border: var(--sklearn-color-fitted-level-1) 1pt solid;\n",
       "  color: var(--sklearn-color-fitted-level-1);\n",
       "}\n",
       "\n",
       "/* On hover */\n",
       "div.sk-estimator:hover .sk-estimator-doc-link:hover,\n",
       ".sk-estimator-doc-link:hover,\n",
       "div.sk-label-container:hover .sk-estimator-doc-link:hover,\n",
       ".sk-estimator-doc-link:hover {\n",
       "  /* unfitted */\n",
       "  background-color: var(--sklearn-color-unfitted-level-3);\n",
       "  color: var(--sklearn-color-background);\n",
       "  text-decoration: none;\n",
       "}\n",
       "\n",
       "div.sk-estimator.fitted:hover .sk-estimator-doc-link.fitted:hover,\n",
       ".sk-estimator-doc-link.fitted:hover,\n",
       "div.sk-label-container:hover .sk-estimator-doc-link.fitted:hover,\n",
       ".sk-estimator-doc-link.fitted:hover {\n",
       "  /* fitted */\n",
       "  background-color: var(--sklearn-color-fitted-level-3);\n",
       "  color: var(--sklearn-color-background);\n",
       "  text-decoration: none;\n",
       "}\n",
       "\n",
       "/* Span, style for the box shown on hovering the info icon */\n",
       ".sk-estimator-doc-link span {\n",
       "  display: none;\n",
       "  z-index: 9999;\n",
       "  position: relative;\n",
       "  font-weight: normal;\n",
       "  right: .2ex;\n",
       "  padding: .5ex;\n",
       "  margin: .5ex;\n",
       "  width: min-content;\n",
       "  min-width: 20ex;\n",
       "  max-width: 50ex;\n",
       "  color: var(--sklearn-color-text);\n",
       "  box-shadow: 2pt 2pt 4pt #999;\n",
       "  /* unfitted */\n",
       "  background: var(--sklearn-color-unfitted-level-0);\n",
       "  border: .5pt solid var(--sklearn-color-unfitted-level-3);\n",
       "}\n",
       "\n",
       ".sk-estimator-doc-link.fitted span {\n",
       "  /* fitted */\n",
       "  background: var(--sklearn-color-fitted-level-0);\n",
       "  border: var(--sklearn-color-fitted-level-3);\n",
       "}\n",
       "\n",
       ".sk-estimator-doc-link:hover span {\n",
       "  display: block;\n",
       "}\n",
       "\n",
       "/* \"?\"-specific style due to the `<a>` HTML tag */\n",
       "\n",
       "#sk-container-id-12 a.estimator_doc_link {\n",
       "  float: right;\n",
       "  font-size: 1rem;\n",
       "  line-height: 1em;\n",
       "  font-family: monospace;\n",
       "  background-color: var(--sklearn-color-background);\n",
       "  border-radius: 1rem;\n",
       "  height: 1rem;\n",
       "  width: 1rem;\n",
       "  text-decoration: none;\n",
       "  /* unfitted */\n",
       "  color: var(--sklearn-color-unfitted-level-1);\n",
       "  border: var(--sklearn-color-unfitted-level-1) 1pt solid;\n",
       "}\n",
       "\n",
       "#sk-container-id-12 a.estimator_doc_link.fitted {\n",
       "  /* fitted */\n",
       "  border: var(--sklearn-color-fitted-level-1) 1pt solid;\n",
       "  color: var(--sklearn-color-fitted-level-1);\n",
       "}\n",
       "\n",
       "/* On hover */\n",
       "#sk-container-id-12 a.estimator_doc_link:hover {\n",
       "  /* unfitted */\n",
       "  background-color: var(--sklearn-color-unfitted-level-3);\n",
       "  color: var(--sklearn-color-background);\n",
       "  text-decoration: none;\n",
       "}\n",
       "\n",
       "#sk-container-id-12 a.estimator_doc_link.fitted:hover {\n",
       "  /* fitted */\n",
       "  background-color: var(--sklearn-color-fitted-level-3);\n",
       "}\n",
       "</style><div id=\"sk-container-id-12\" class=\"sk-top-container\"><div class=\"sk-text-repr-fallback\"><pre>LogisticRegression()</pre><b>In a Jupyter environment, please rerun this cell to show the HTML representation or trust the notebook. <br />On GitHub, the HTML representation is unable to render, please try loading this page with nbviewer.org.</b></div><div class=\"sk-container\" hidden><div class=\"sk-item\"><div class=\"sk-estimator fitted sk-toggleable\"><input class=\"sk-toggleable__control sk-hidden--visually\" id=\"sk-estimator-id-32\" type=\"checkbox\" checked><label for=\"sk-estimator-id-32\" class=\"sk-toggleable__label fitted sk-toggleable__label-arrow fitted\">&nbsp;&nbsp;LogisticRegression<a class=\"sk-estimator-doc-link fitted\" rel=\"noreferrer\" target=\"_blank\" href=\"https://scikit-learn.org/1.4/modules/generated/sklearn.linear_model.LogisticRegression.html\">?<span>Documentation for LogisticRegression</span></a><span class=\"sk-estimator-doc-link fitted\">i<span>Fitted</span></span></label><div class=\"sk-toggleable__content fitted\"><pre>LogisticRegression()</pre></div> </div></div></div></div>"
      ],
      "text/plain": [
       "LogisticRegression()"
      ]
     },
     "execution_count": 1701,
     "metadata": {},
     "output_type": "execute_result"
    }
   ],
   "source": [
    "# Train the meta-model on the stacked predictions of the base models\n",
    "meta_model.fit(stacked_train, y_train)"
   ]
  },
  {
   "cell_type": "code",
   "execution_count": 1702,
   "id": "38730eda-3d98-4a59-864c-e81d14c8049a",
   "metadata": {},
   "outputs": [
    {
     "data": {
      "text/plain": [
       "array([1, 0, 0, 0, 0, 0, 0, 0, 0, 0, 0, 1, 0, 0, 0, 1, 0, 0, 0, 0, 0, 0,\n",
       "       0, 0, 1, 1, 0, 1, 0, 0, 0, 0, 0, 0, 1, 1, 1, 0, 1, 1, 0, 0, 0, 0,\n",
       "       0, 0, 1, 0, 0, 0, 0, 0, 0, 1, 0, 0, 0, 1, 0, 0, 0, 1, 0, 0, 0, 0,\n",
       "       0, 0, 1, 1, 0, 1, 0, 0, 0, 0, 0, 0, 1, 0, 1, 0, 1, 1, 0, 0, 0, 0,\n",
       "       0, 0, 0, 1, 0, 0, 0, 0, 0, 1, 0, 0, 0, 0, 1, 0, 0, 0, 0, 1, 0, 0,\n",
       "       1, 0, 0, 1, 1, 0, 0, 0, 0, 1, 0, 0, 1, 0, 0, 0, 1, 1, 1, 1, 0, 0,\n",
       "       1, 0, 1, 1, 0, 0, 0, 1, 0, 0, 0, 1, 0, 0, 1, 0, 1, 1, 0, 0, 1, 0,\n",
       "       1, 1, 0, 0, 0, 0, 1, 0, 0, 0, 0, 1, 0, 1, 0, 0, 0, 0, 1, 1, 1, 0,\n",
       "       0, 1, 0, 0, 1, 0, 0, 0, 0, 1, 0, 0, 0, 1, 0, 0, 1, 0, 0, 0, 0, 1,\n",
       "       0, 0, 0, 0, 0, 0, 1, 0, 0, 0, 0, 1, 0, 0, 0, 0, 1, 0, 0, 1, 0, 0,\n",
       "       0, 0, 1, 0, 0, 0, 1, 0, 1, 0, 1, 1, 0, 1, 0, 0, 0, 1, 0, 0, 0, 0,\n",
       "       0, 1, 0, 0, 1, 0, 0, 0, 1, 0, 0, 0, 0, 1, 0, 1, 0, 0, 0, 0, 0, 0,\n",
       "       0, 0, 0, 1, 0, 0, 0, 0, 0, 1, 0, 0, 1, 0, 1, 0, 0, 0, 0, 0, 0, 0,\n",
       "       0, 0, 0, 1, 0, 0, 0, 0, 0, 0, 0, 1, 0, 0, 0, 0, 1, 0, 1, 0, 1, 1,\n",
       "       0, 0, 1, 0, 0, 1, 1, 0, 0, 0, 0, 1, 1, 1, 0, 0, 0, 1, 1, 1, 0, 0,\n",
       "       0, 0, 0, 0, 0, 0, 0, 1, 1, 0, 0, 0, 0, 0, 0, 0, 1, 0, 0, 0, 1, 0,\n",
       "       0, 0, 1, 0, 0, 1, 0, 0, 0, 0, 0, 0, 0, 0, 0, 0, 0, 1, 0, 0, 1, 0,\n",
       "       0, 0, 1], dtype=int64)"
      ]
     },
     "execution_count": 1702,
     "metadata": {},
     "output_type": "execute_result"
    }
   ],
   "source": [
    "# Get final predictions from the meta-model\n",
    "final_preds = meta_model.predict(stacked_test)\n",
    "final_preds"
   ]
  },
  {
   "cell_type": "code",
   "execution_count": 1704,
   "id": "ec3c9192-7c99-47dd-9878-00963eca21e3",
   "metadata": {},
   "outputs": [
    {
     "name": "stdout",
     "output_type": "stream",
     "text": [
      "Meta-Model Accuracy: 0.6127320954907162\n"
     ]
    }
   ],
   "source": [
    "# Evaluate performance of the meta-model\n",
    "print(\"Meta-Model Accuracy:\", accuracy_score(y_test, final_preds))"
   ]
  },
  {
   "cell_type": "code",
   "execution_count": 1706,
   "id": "0fa3f87c-d38b-440f-9a9c-8b242a95a7fc",
   "metadata": {},
   "outputs": [
    {
     "name": "stdout",
     "output_type": "stream",
     "text": [
      "Stacking Model Accuracy: 0.6153846153846154\n"
     ]
    }
   ],
   "source": [
    "import numpy as np\n",
    "from sklearn.linear_model import LogisticRegression\n",
    "from sklearn.ensemble import RandomForestClassifier, StackingClassifier\n",
    "from sklearn.svm import SVC\n",
    "from sklearn.neighbors import KNeighborsClassifier\n",
    "from sklearn.tree import DecisionTreeClassifier\n",
    "from sklearn.ensemble import GradientBoostingClassifier\n",
    "from sklearn.model_selection import train_test_split\n",
    "from sklearn.preprocessing import StandardScaler\n",
    "\n",
    "# Initialize base models\n",
    "models = [\n",
    "    ('LogisticRegression', LogisticRegression(max_iter=1000)),\n",
    "    ('RandomForest', RandomForestClassifier(n_estimators=100)),\n",
    "    ('DecisionTree', DecisionTreeClassifier()),\n",
    "    ('GradientBoosting', GradientBoostingClassifier()),\n",
    "    ('KNN', KNeighborsClassifier()),\n",
    "    ('SVM', SVC(probability=True))\n",
    "]\n",
    "\n",
    "# Initialize meta-model as RandomForest\n",
    "meta_model = RandomForestClassifier(n_estimators=100)\n",
    "\n",
    "# Create Stacking Classifier\n",
    "stacking_model = StackingClassifier(estimators=models, final_estimator=meta_model)\n",
    "\n",
    "# Split data into train and test sets\n",
    "x_train, x_test, y_train, y_test = train_test_split(x, y, test_size=0.2, random_state=42)\n",
    "\n",
    "# Scale the features\n",
    "scaler = StandardScaler()\n",
    "x_train_scaled = scaler.fit_transform(x_train)\n",
    "x_test_scaled = scaler.transform(x_test)\n",
    "\n",
    "# Fit and evaluate the stacking model\n",
    "stacking_model.fit(x_train_scaled, y_train)\n",
    "\n",
    "# Evaluate the model\n",
    "score = stacking_model.score(x_test_scaled, y_test)\n",
    "\n",
    "# Print the accuracy score\n",
    "print(f'Stacking Model Accuracy: {score}')\n"
   ]
  },
  {
   "cell_type": "code",
   "execution_count": 1707,
   "id": "3a33867c-18ad-4409-8b5a-5d04593fb3ea",
   "metadata": {},
   "outputs": [
    {
     "name": "stdout",
     "output_type": "stream",
     "text": [
      "Stacking Model Accuracy: 0.6551724137931034\n"
     ]
    }
   ],
   "source": [
    "import numpy as np\n",
    "from sklearn.linear_model import LogisticRegression\n",
    "from sklearn.ensemble import StackingClassifier\n",
    "from sklearn.svm import SVC\n",
    "from sklearn.neighbors import KNeighborsClassifier\n",
    "from sklearn.tree import DecisionTreeClassifier\n",
    "from sklearn.ensemble import GradientBoostingClassifier\n",
    "from sklearn.model_selection import train_test_split\n",
    "from sklearn.preprocessing import StandardScaler\n",
    "\n",
    "# Initialize base models\n",
    "models = [\n",
    "    ('LogisticRegression', LogisticRegression(max_iter=1000)),\n",
    "    ('RandomForest', RandomForestClassifier(n_estimators=100)),\n",
    "    ('DecisionTree', DecisionTreeClassifier()),\n",
    "    ('GradientBoosting', GradientBoostingClassifier()),\n",
    "    ('KNN', KNeighborsClassifier()),\n",
    "    ('SVM', SVC(probability=True))\n",
    "]\n",
    "\n",
    "# Initialize meta-model as Logistic Regression\n",
    "meta_model = LogisticRegression(max_iter=1000)\n",
    "\n",
    "# Create Stacking Classifier\n",
    "stacking_model = StackingClassifier(estimators=models, final_estimator=meta_model)\n",
    "\n",
    "# Split data into train and test sets\n",
    "x_train, x_test, y_train, y_test = train_test_split(x, y, test_size=0.2, random_state=42)\n",
    "\n",
    "# Fit and evaluate the stacking model\n",
    "stacking_model.fit(x_train, y_train)\n",
    "\n",
    "# Evaluate the model\n",
    "score = stacking_model.score(x_test, y_test)\n",
    "\n",
    "# Print the accuracy score\n",
    "print(f'Stacking Model Accuracy: {score}')\n"
   ]
  },
  {
   "cell_type": "code",
   "execution_count": 1708,
   "id": "70890406-7789-4042-a16f-c2be8d1be827",
   "metadata": {},
   "outputs": [
    {
     "data": {
      "text/html": [
       "<div>\n",
       "<style scoped>\n",
       "    .dataframe tbody tr th:only-of-type {\n",
       "        vertical-align: middle;\n",
       "    }\n",
       "\n",
       "    .dataframe tbody tr th {\n",
       "        vertical-align: top;\n",
       "    }\n",
       "\n",
       "    .dataframe thead th {\n",
       "        text-align: right;\n",
       "    }\n",
       "</style>\n",
       "<table border=\"1\" class=\"dataframe\">\n",
       "  <thead>\n",
       "    <tr style=\"text-align: right;\">\n",
       "      <th></th>\n",
       "      <th>one_hot__What_is_your_gender__Female</th>\n",
       "      <th>one_hot__What_is_your_gender__Male</th>\n",
       "      <th>one_hot__What_is_your_level_of_education__Other</th>\n",
       "      <th>one_hot__What_is_your_level_of_education__Postgraduate</th>\n",
       "      <th>one_hot__What_is_your_level_of_education__Undergraduate</th>\n",
       "      <th>one_hot__What_year_of_study_are_you_in__First Year</th>\n",
       "      <th>one_hot__What_year_of_study_are_you_in__Fourth year and above</th>\n",
       "      <th>one_hot__What_year_of_study_are_you_in__Second year</th>\n",
       "      <th>one_hot__What_year_of_study_are_you_in__Third year</th>\n",
       "      <th>one_hot__What_is_your_socioeconomic_status__High Income</th>\n",
       "      <th>...</th>\n",
       "      <th>one_hot__How_often_do_you_collaborate_with_classmates_on_projects_or_assignments__Always</th>\n",
       "      <th>one_hot__How_often_do_you_collaborate_with_classmates_on_projects_or_assignments__Never</th>\n",
       "      <th>one_hot__How_often_do_you_collaborate_with_classmates_on_projects_or_assignments__Often</th>\n",
       "      <th>one_hot__How_often_do_you_collaborate_with_classmates_on_projects_or_assignments__Rarely</th>\n",
       "      <th>one_hot__How_often_do_you_collaborate_with_classmates_on_projects_or_assignments__Sometimes</th>\n",
       "      <th>remainder__What_is_your_age_</th>\n",
       "      <th>remainder__On_a_scale_of_1_to_10__how_engaged_are_you_during_classes_</th>\n",
       "      <th>remainder__What_is_your_average_score_in_assessments___Please_enter_a_score_out_of_100_</th>\n",
       "      <th>remainder__On_a_scale_of_1_to_10__how_much_do_you_use_technology_for_your_studies___1_being_not_at_all__10_being_extensively_</th>\n",
       "      <th>remainder__On_a_scale_of_1_to_10__how_would_you_rate_your_learning_environment</th>\n",
       "    </tr>\n",
       "  </thead>\n",
       "  <tbody>\n",
       "    <tr>\n",
       "      <th>1202</th>\n",
       "      <td>1.0</td>\n",
       "      <td>0.0</td>\n",
       "      <td>0.0</td>\n",
       "      <td>1.0</td>\n",
       "      <td>0.0</td>\n",
       "      <td>0.0</td>\n",
       "      <td>1.0</td>\n",
       "      <td>0.0</td>\n",
       "      <td>0.0</td>\n",
       "      <td>0.0</td>\n",
       "      <td>...</td>\n",
       "      <td>0.0</td>\n",
       "      <td>0.0</td>\n",
       "      <td>1.0</td>\n",
       "      <td>0.0</td>\n",
       "      <td>0.0</td>\n",
       "      <td>28.0</td>\n",
       "      <td>3.0</td>\n",
       "      <td>63.0</td>\n",
       "      <td>10.0</td>\n",
       "      <td>4.0</td>\n",
       "    </tr>\n",
       "    <tr>\n",
       "      <th>1736</th>\n",
       "      <td>0.0</td>\n",
       "      <td>1.0</td>\n",
       "      <td>0.0</td>\n",
       "      <td>0.0</td>\n",
       "      <td>1.0</td>\n",
       "      <td>0.0</td>\n",
       "      <td>0.0</td>\n",
       "      <td>0.0</td>\n",
       "      <td>1.0</td>\n",
       "      <td>0.0</td>\n",
       "      <td>...</td>\n",
       "      <td>0.0</td>\n",
       "      <td>0.0</td>\n",
       "      <td>0.0</td>\n",
       "      <td>0.0</td>\n",
       "      <td>1.0</td>\n",
       "      <td>28.0</td>\n",
       "      <td>2.0</td>\n",
       "      <td>50.0</td>\n",
       "      <td>6.0</td>\n",
       "      <td>7.0</td>\n",
       "    </tr>\n",
       "    <tr>\n",
       "      <th>818</th>\n",
       "      <td>1.0</td>\n",
       "      <td>0.0</td>\n",
       "      <td>0.0</td>\n",
       "      <td>0.0</td>\n",
       "      <td>1.0</td>\n",
       "      <td>1.0</td>\n",
       "      <td>0.0</td>\n",
       "      <td>0.0</td>\n",
       "      <td>0.0</td>\n",
       "      <td>0.0</td>\n",
       "      <td>...</td>\n",
       "      <td>0.0</td>\n",
       "      <td>0.0</td>\n",
       "      <td>0.0</td>\n",
       "      <td>0.0</td>\n",
       "      <td>1.0</td>\n",
       "      <td>40.0</td>\n",
       "      <td>8.0</td>\n",
       "      <td>70.0</td>\n",
       "      <td>10.0</td>\n",
       "      <td>9.0</td>\n",
       "    </tr>\n",
       "    <tr>\n",
       "      <th>383</th>\n",
       "      <td>0.0</td>\n",
       "      <td>1.0</td>\n",
       "      <td>0.0</td>\n",
       "      <td>0.0</td>\n",
       "      <td>1.0</td>\n",
       "      <td>0.0</td>\n",
       "      <td>0.0</td>\n",
       "      <td>0.0</td>\n",
       "      <td>1.0</td>\n",
       "      <td>0.0</td>\n",
       "      <td>...</td>\n",
       "      <td>0.0</td>\n",
       "      <td>0.0</td>\n",
       "      <td>0.0</td>\n",
       "      <td>0.0</td>\n",
       "      <td>1.0</td>\n",
       "      <td>42.0</td>\n",
       "      <td>3.0</td>\n",
       "      <td>80.0</td>\n",
       "      <td>4.0</td>\n",
       "      <td>5.0</td>\n",
       "    </tr>\n",
       "    <tr>\n",
       "      <th>271</th>\n",
       "      <td>1.0</td>\n",
       "      <td>0.0</td>\n",
       "      <td>1.0</td>\n",
       "      <td>0.0</td>\n",
       "      <td>0.0</td>\n",
       "      <td>0.0</td>\n",
       "      <td>0.0</td>\n",
       "      <td>1.0</td>\n",
       "      <td>0.0</td>\n",
       "      <td>0.0</td>\n",
       "      <td>...</td>\n",
       "      <td>0.0</td>\n",
       "      <td>1.0</td>\n",
       "      <td>0.0</td>\n",
       "      <td>0.0</td>\n",
       "      <td>0.0</td>\n",
       "      <td>29.0</td>\n",
       "      <td>2.0</td>\n",
       "      <td>84.0</td>\n",
       "      <td>6.0</td>\n",
       "      <td>6.0</td>\n",
       "    </tr>\n",
       "    <tr>\n",
       "      <th>...</th>\n",
       "      <td>...</td>\n",
       "      <td>...</td>\n",
       "      <td>...</td>\n",
       "      <td>...</td>\n",
       "      <td>...</td>\n",
       "      <td>...</td>\n",
       "      <td>...</td>\n",
       "      <td>...</td>\n",
       "      <td>...</td>\n",
       "      <td>...</td>\n",
       "      <td>...</td>\n",
       "      <td>...</td>\n",
       "      <td>...</td>\n",
       "      <td>...</td>\n",
       "      <td>...</td>\n",
       "      <td>...</td>\n",
       "      <td>...</td>\n",
       "      <td>...</td>\n",
       "      <td>...</td>\n",
       "      <td>...</td>\n",
       "      <td>...</td>\n",
       "    </tr>\n",
       "    <tr>\n",
       "      <th>1130</th>\n",
       "      <td>0.0</td>\n",
       "      <td>1.0</td>\n",
       "      <td>0.0</td>\n",
       "      <td>0.0</td>\n",
       "      <td>1.0</td>\n",
       "      <td>0.0</td>\n",
       "      <td>1.0</td>\n",
       "      <td>0.0</td>\n",
       "      <td>0.0</td>\n",
       "      <td>0.0</td>\n",
       "      <td>...</td>\n",
       "      <td>0.0</td>\n",
       "      <td>0.0</td>\n",
       "      <td>1.0</td>\n",
       "      <td>0.0</td>\n",
       "      <td>0.0</td>\n",
       "      <td>26.0</td>\n",
       "      <td>5.0</td>\n",
       "      <td>65.0</td>\n",
       "      <td>6.0</td>\n",
       "      <td>5.0</td>\n",
       "    </tr>\n",
       "    <tr>\n",
       "      <th>1294</th>\n",
       "      <td>0.0</td>\n",
       "      <td>1.0</td>\n",
       "      <td>0.0</td>\n",
       "      <td>0.0</td>\n",
       "      <td>1.0</td>\n",
       "      <td>0.0</td>\n",
       "      <td>1.0</td>\n",
       "      <td>0.0</td>\n",
       "      <td>0.0</td>\n",
       "      <td>0.0</td>\n",
       "      <td>...</td>\n",
       "      <td>0.0</td>\n",
       "      <td>1.0</td>\n",
       "      <td>0.0</td>\n",
       "      <td>0.0</td>\n",
       "      <td>0.0</td>\n",
       "      <td>42.0</td>\n",
       "      <td>10.0</td>\n",
       "      <td>60.0</td>\n",
       "      <td>10.0</td>\n",
       "      <td>10.0</td>\n",
       "    </tr>\n",
       "    <tr>\n",
       "      <th>860</th>\n",
       "      <td>0.0</td>\n",
       "      <td>1.0</td>\n",
       "      <td>0.0</td>\n",
       "      <td>0.0</td>\n",
       "      <td>1.0</td>\n",
       "      <td>0.0</td>\n",
       "      <td>1.0</td>\n",
       "      <td>0.0</td>\n",
       "      <td>0.0</td>\n",
       "      <td>0.0</td>\n",
       "      <td>...</td>\n",
       "      <td>0.0</td>\n",
       "      <td>0.0</td>\n",
       "      <td>1.0</td>\n",
       "      <td>0.0</td>\n",
       "      <td>0.0</td>\n",
       "      <td>27.0</td>\n",
       "      <td>1.0</td>\n",
       "      <td>70.0</td>\n",
       "      <td>3.0</td>\n",
       "      <td>1.0</td>\n",
       "    </tr>\n",
       "    <tr>\n",
       "      <th>1459</th>\n",
       "      <td>1.0</td>\n",
       "      <td>0.0</td>\n",
       "      <td>0.0</td>\n",
       "      <td>0.0</td>\n",
       "      <td>1.0</td>\n",
       "      <td>0.0</td>\n",
       "      <td>0.0</td>\n",
       "      <td>1.0</td>\n",
       "      <td>0.0</td>\n",
       "      <td>0.0</td>\n",
       "      <td>...</td>\n",
       "      <td>0.0</td>\n",
       "      <td>1.0</td>\n",
       "      <td>0.0</td>\n",
       "      <td>0.0</td>\n",
       "      <td>0.0</td>\n",
       "      <td>38.0</td>\n",
       "      <td>6.0</td>\n",
       "      <td>56.0</td>\n",
       "      <td>3.0</td>\n",
       "      <td>2.0</td>\n",
       "    </tr>\n",
       "    <tr>\n",
       "      <th>1126</th>\n",
       "      <td>1.0</td>\n",
       "      <td>0.0</td>\n",
       "      <td>0.0</td>\n",
       "      <td>0.0</td>\n",
       "      <td>1.0</td>\n",
       "      <td>0.0</td>\n",
       "      <td>1.0</td>\n",
       "      <td>0.0</td>\n",
       "      <td>0.0</td>\n",
       "      <td>0.0</td>\n",
       "      <td>...</td>\n",
       "      <td>0.0</td>\n",
       "      <td>0.0</td>\n",
       "      <td>0.0</td>\n",
       "      <td>0.0</td>\n",
       "      <td>1.0</td>\n",
       "      <td>28.0</td>\n",
       "      <td>8.0</td>\n",
       "      <td>65.0</td>\n",
       "      <td>6.0</td>\n",
       "      <td>4.0</td>\n",
       "    </tr>\n",
       "  </tbody>\n",
       "</table>\n",
       "<p>1506 rows × 112 columns</p>\n",
       "</div>"
      ],
      "text/plain": [
       "      one_hot__What_is_your_gender__Female  \\\n",
       "1202                                   1.0   \n",
       "1736                                   0.0   \n",
       "818                                    1.0   \n",
       "383                                    0.0   \n",
       "271                                    1.0   \n",
       "...                                    ...   \n",
       "1130                                   0.0   \n",
       "1294                                   0.0   \n",
       "860                                    0.0   \n",
       "1459                                   1.0   \n",
       "1126                                   1.0   \n",
       "\n",
       "      one_hot__What_is_your_gender__Male  \\\n",
       "1202                                 0.0   \n",
       "1736                                 1.0   \n",
       "818                                  0.0   \n",
       "383                                  1.0   \n",
       "271                                  0.0   \n",
       "...                                  ...   \n",
       "1130                                 1.0   \n",
       "1294                                 1.0   \n",
       "860                                  1.0   \n",
       "1459                                 0.0   \n",
       "1126                                 0.0   \n",
       "\n",
       "      one_hot__What_is_your_level_of_education__Other  \\\n",
       "1202                                              0.0   \n",
       "1736                                              0.0   \n",
       "818                                               0.0   \n",
       "383                                               0.0   \n",
       "271                                               1.0   \n",
       "...                                               ...   \n",
       "1130                                              0.0   \n",
       "1294                                              0.0   \n",
       "860                                               0.0   \n",
       "1459                                              0.0   \n",
       "1126                                              0.0   \n",
       "\n",
       "      one_hot__What_is_your_level_of_education__Postgraduate  \\\n",
       "1202                                                1.0        \n",
       "1736                                                0.0        \n",
       "818                                                 0.0        \n",
       "383                                                 0.0        \n",
       "271                                                 0.0        \n",
       "...                                                 ...        \n",
       "1130                                                0.0        \n",
       "1294                                                0.0        \n",
       "860                                                 0.0        \n",
       "1459                                                0.0        \n",
       "1126                                                0.0        \n",
       "\n",
       "      one_hot__What_is_your_level_of_education__Undergraduate  \\\n",
       "1202                                                0.0         \n",
       "1736                                                1.0         \n",
       "818                                                 1.0         \n",
       "383                                                 1.0         \n",
       "271                                                 0.0         \n",
       "...                                                 ...         \n",
       "1130                                                1.0         \n",
       "1294                                                1.0         \n",
       "860                                                 1.0         \n",
       "1459                                                1.0         \n",
       "1126                                                1.0         \n",
       "\n",
       "      one_hot__What_year_of_study_are_you_in__First Year  \\\n",
       "1202                                                0.0    \n",
       "1736                                                0.0    \n",
       "818                                                 1.0    \n",
       "383                                                 0.0    \n",
       "271                                                 0.0    \n",
       "...                                                 ...    \n",
       "1130                                                0.0    \n",
       "1294                                                0.0    \n",
       "860                                                 0.0    \n",
       "1459                                                0.0    \n",
       "1126                                                0.0    \n",
       "\n",
       "      one_hot__What_year_of_study_are_you_in__Fourth year and above  \\\n",
       "1202                                                1.0               \n",
       "1736                                                0.0               \n",
       "818                                                 0.0               \n",
       "383                                                 0.0               \n",
       "271                                                 0.0               \n",
       "...                                                 ...               \n",
       "1130                                                1.0               \n",
       "1294                                                1.0               \n",
       "860                                                 1.0               \n",
       "1459                                                0.0               \n",
       "1126                                                1.0               \n",
       "\n",
       "      one_hot__What_year_of_study_are_you_in__Second year  \\\n",
       "1202                                                0.0     \n",
       "1736                                                0.0     \n",
       "818                                                 0.0     \n",
       "383                                                 0.0     \n",
       "271                                                 1.0     \n",
       "...                                                 ...     \n",
       "1130                                                0.0     \n",
       "1294                                                0.0     \n",
       "860                                                 0.0     \n",
       "1459                                                1.0     \n",
       "1126                                                0.0     \n",
       "\n",
       "      one_hot__What_year_of_study_are_you_in__Third year  \\\n",
       "1202                                                0.0    \n",
       "1736                                                1.0    \n",
       "818                                                 0.0    \n",
       "383                                                 1.0    \n",
       "271                                                 0.0    \n",
       "...                                                 ...    \n",
       "1130                                                0.0    \n",
       "1294                                                0.0    \n",
       "860                                                 0.0    \n",
       "1459                                                0.0    \n",
       "1126                                                0.0    \n",
       "\n",
       "      one_hot__What_is_your_socioeconomic_status__High Income  ...  \\\n",
       "1202                                                0.0        ...   \n",
       "1736                                                0.0        ...   \n",
       "818                                                 0.0        ...   \n",
       "383                                                 0.0        ...   \n",
       "271                                                 0.0        ...   \n",
       "...                                                 ...        ...   \n",
       "1130                                                0.0        ...   \n",
       "1294                                                0.0        ...   \n",
       "860                                                 0.0        ...   \n",
       "1459                                                0.0        ...   \n",
       "1126                                                0.0        ...   \n",
       "\n",
       "      one_hot__How_often_do_you_collaborate_with_classmates_on_projects_or_assignments__Always  \\\n",
       "1202                                                0.0                                          \n",
       "1736                                                0.0                                          \n",
       "818                                                 0.0                                          \n",
       "383                                                 0.0                                          \n",
       "271                                                 0.0                                          \n",
       "...                                                 ...                                          \n",
       "1130                                                0.0                                          \n",
       "1294                                                0.0                                          \n",
       "860                                                 0.0                                          \n",
       "1459                                                0.0                                          \n",
       "1126                                                0.0                                          \n",
       "\n",
       "      one_hot__How_often_do_you_collaborate_with_classmates_on_projects_or_assignments__Never  \\\n",
       "1202                                                0.0                                         \n",
       "1736                                                0.0                                         \n",
       "818                                                 0.0                                         \n",
       "383                                                 0.0                                         \n",
       "271                                                 1.0                                         \n",
       "...                                                 ...                                         \n",
       "1130                                                0.0                                         \n",
       "1294                                                1.0                                         \n",
       "860                                                 0.0                                         \n",
       "1459                                                1.0                                         \n",
       "1126                                                0.0                                         \n",
       "\n",
       "      one_hot__How_often_do_you_collaborate_with_classmates_on_projects_or_assignments__Often  \\\n",
       "1202                                                1.0                                         \n",
       "1736                                                0.0                                         \n",
       "818                                                 0.0                                         \n",
       "383                                                 0.0                                         \n",
       "271                                                 0.0                                         \n",
       "...                                                 ...                                         \n",
       "1130                                                1.0                                         \n",
       "1294                                                0.0                                         \n",
       "860                                                 1.0                                         \n",
       "1459                                                0.0                                         \n",
       "1126                                                0.0                                         \n",
       "\n",
       "      one_hot__How_often_do_you_collaborate_with_classmates_on_projects_or_assignments__Rarely  \\\n",
       "1202                                                0.0                                          \n",
       "1736                                                0.0                                          \n",
       "818                                                 0.0                                          \n",
       "383                                                 0.0                                          \n",
       "271                                                 0.0                                          \n",
       "...                                                 ...                                          \n",
       "1130                                                0.0                                          \n",
       "1294                                                0.0                                          \n",
       "860                                                 0.0                                          \n",
       "1459                                                0.0                                          \n",
       "1126                                                0.0                                          \n",
       "\n",
       "      one_hot__How_often_do_you_collaborate_with_classmates_on_projects_or_assignments__Sometimes  \\\n",
       "1202                                                0.0                                             \n",
       "1736                                                1.0                                             \n",
       "818                                                 1.0                                             \n",
       "383                                                 1.0                                             \n",
       "271                                                 0.0                                             \n",
       "...                                                 ...                                             \n",
       "1130                                                0.0                                             \n",
       "1294                                                0.0                                             \n",
       "860                                                 0.0                                             \n",
       "1459                                                0.0                                             \n",
       "1126                                                1.0                                             \n",
       "\n",
       "      remainder__What_is_your_age_  \\\n",
       "1202                          28.0   \n",
       "1736                          28.0   \n",
       "818                           40.0   \n",
       "383                           42.0   \n",
       "271                           29.0   \n",
       "...                            ...   \n",
       "1130                          26.0   \n",
       "1294                          42.0   \n",
       "860                           27.0   \n",
       "1459                          38.0   \n",
       "1126                          28.0   \n",
       "\n",
       "      remainder__On_a_scale_of_1_to_10__how_engaged_are_you_during_classes_  \\\n",
       "1202                                                3.0                       \n",
       "1736                                                2.0                       \n",
       "818                                                 8.0                       \n",
       "383                                                 3.0                       \n",
       "271                                                 2.0                       \n",
       "...                                                 ...                       \n",
       "1130                                                5.0                       \n",
       "1294                                               10.0                       \n",
       "860                                                 1.0                       \n",
       "1459                                                6.0                       \n",
       "1126                                                8.0                       \n",
       "\n",
       "      remainder__What_is_your_average_score_in_assessments___Please_enter_a_score_out_of_100_  \\\n",
       "1202                                               63.0                                         \n",
       "1736                                               50.0                                         \n",
       "818                                                70.0                                         \n",
       "383                                                80.0                                         \n",
       "271                                                84.0                                         \n",
       "...                                                 ...                                         \n",
       "1130                                               65.0                                         \n",
       "1294                                               60.0                                         \n",
       "860                                                70.0                                         \n",
       "1459                                               56.0                                         \n",
       "1126                                               65.0                                         \n",
       "\n",
       "      remainder__On_a_scale_of_1_to_10__how_much_do_you_use_technology_for_your_studies___1_being_not_at_all__10_being_extensively_  \\\n",
       "1202                                               10.0                                                                               \n",
       "1736                                                6.0                                                                               \n",
       "818                                                10.0                                                                               \n",
       "383                                                 4.0                                                                               \n",
       "271                                                 6.0                                                                               \n",
       "...                                                 ...                                                                               \n",
       "1130                                                6.0                                                                               \n",
       "1294                                               10.0                                                                               \n",
       "860                                                 3.0                                                                               \n",
       "1459                                                3.0                                                                               \n",
       "1126                                                6.0                                                                               \n",
       "\n",
       "      remainder__On_a_scale_of_1_to_10__how_would_you_rate_your_learning_environment  \n",
       "1202                                                4.0                               \n",
       "1736                                                7.0                               \n",
       "818                                                 9.0                               \n",
       "383                                                 5.0                               \n",
       "271                                                 6.0                               \n",
       "...                                                 ...                               \n",
       "1130                                                5.0                               \n",
       "1294                                               10.0                               \n",
       "860                                                 1.0                               \n",
       "1459                                                2.0                               \n",
       "1126                                                4.0                               \n",
       "\n",
       "[1506 rows x 112 columns]"
      ]
     },
     "execution_count": 1708,
     "metadata": {},
     "output_type": "execute_result"
    }
   ],
   "source": [
    "x_train"
   ]
  },
  {
   "cell_type": "markdown",
   "id": "b3632d88-5cc7-4d33-857e-6e249c617d43",
   "metadata": {},
   "source": [
    "# Evaluating our machine learning model\n"
   ]
  },
  {
   "cell_type": "code",
   "execution_count": 1717,
   "id": "af6a949a-b8bd-4b70-a11c-910725fbc7a2",
   "metadata": {},
   "outputs": [
    {
     "name": "stdout",
     "output_type": "stream",
     "text": [
      "Predictions: [0 0 0 0 0 0 0 0 0 0 0 0 0 0 0 0 0 0 0 0 0 0 0 0 0 0 0 0 0 0 0 0 0 0 0 0 0\n",
      " 0 1 0 0 0 0 0 0 0 0 0 0 0 0 0 0 0 0 0 0 0 0 0 0 0 0 0 0 0 0 0 0 0 0 0 0 0\n",
      " 0 0 0 0 0 0 0 0 0 0 0 0 1 0 0 0 0 0 0 0 0 0 0 0 0 0 0 0 0 0 0 0 0 0 0 0 0\n",
      " 1 0 0 0 0 0 0 0 0 0 0 0 0 0 0 0 0 0 0 0 0 0 0 0 0 0 0 0 0 0 0 0 0 0 0 0 0\n",
      " 1 0 0 0 0 0 0 0 0 0 0 0 0 0 0 0 0 0 0 0 0 0 0 0 0 0 0 0 0 0 1 0 0 0 0 0 0\n",
      " 0 0 0 0 0 0 1 0 0 0 0 0 0 0 0 0 0 0 0 0 0 0 0 0 0 0 0 0 0 0 0 0 0 0 0 0 0\n",
      " 0 0 0 0 0 0 0 0 0 0 0 0 0 0 0 0 0 0 0 0 0 0 0 0 0 0 0 0 0 0 0 0 0 0 0 0 0\n",
      " 0 0 0 0 0 0 0 0 1 0 0 0 1 0 0 0 0 0 0 0 0 0 0 0 0 0 0 0 0 0 0 0 0 0 0 0 0\n",
      " 0 0 0 0 0 0 0 0 0 0 0 0 0 0 1 0 0 0 0 0 0 0 0 0 0 1 0 0 0 0 0 0 0 0 0 0 0\n",
      " 0 0 0 0 0 0 0 0 0 0 0 0 0 0 0 0 0 0 0 0 0 0 0 0 0 0 1 0 0 0 0 0 0 0 0 0 0\n",
      " 0 0 0 0 0 0 0]\n",
      "Predicted Probabilities: [[0.60712679 0.39287321]\n",
      " [0.61528309 0.38471691]\n",
      " [0.55998464 0.44001536]\n",
      " [0.63876589 0.36123411]\n",
      " [0.61201179 0.38798821]\n",
      " [0.55114577 0.44885423]\n",
      " [0.6385709  0.3614291 ]\n",
      " [0.68467714 0.31532286]\n",
      " [0.57357964 0.42642036]\n",
      " [0.66018733 0.33981267]\n",
      " [0.61095419 0.38904581]\n",
      " [0.72804802 0.27195198]\n",
      " [0.69125167 0.30874833]\n",
      " [0.65506814 0.34493186]\n",
      " [0.64133174 0.35866826]\n",
      " [0.6623284  0.3376716 ]\n",
      " [0.6238537  0.3761463 ]\n",
      " [0.70314502 0.29685498]\n",
      " [0.5986984  0.4013016 ]\n",
      " [0.61471211 0.38528789]\n",
      " [0.65944241 0.34055759]\n",
      " [0.61256056 0.38743944]\n",
      " [0.67260933 0.32739067]\n",
      " [0.71076082 0.28923918]\n",
      " [0.5033328  0.4966672 ]\n",
      " [0.53678984 0.46321016]\n",
      " [0.62296417 0.37703583]\n",
      " [0.70962915 0.29037085]\n",
      " [0.54349467 0.45650533]\n",
      " [0.62598477 0.37401523]\n",
      " [0.59970257 0.40029743]\n",
      " [0.56437763 0.43562237]\n",
      " [0.68579089 0.31420911]\n",
      " [0.64409373 0.35590627]\n",
      " [0.72079821 0.27920179]\n",
      " [0.63262002 0.36737998]\n",
      " [0.64829334 0.35170666]\n",
      " [0.51631543 0.48368457]\n",
      " [0.52682212 0.47317788]\n",
      " [0.61286581 0.38713419]\n",
      " [0.65651995 0.34348005]\n",
      " [0.59376095 0.40623905]\n",
      " [0.63885943 0.36114057]\n",
      " [0.63677395 0.36322605]\n",
      " [0.56537012 0.43462988]\n",
      " [0.54193028 0.45806972]\n",
      " [0.60370471 0.39629529]\n",
      " [0.71665591 0.28334409]\n",
      " [0.63733859 0.36266141]\n",
      " [0.55524476 0.44475524]\n",
      " [0.61923743 0.38076257]\n",
      " [0.62942911 0.37057089]\n",
      " [0.64020402 0.35979598]\n",
      " [0.63604455 0.36395545]\n",
      " [0.43054264 0.56945736]\n",
      " [0.65174815 0.34825185]\n",
      " [0.67842545 0.32157455]\n",
      " [0.58663826 0.41336174]\n",
      " [0.60460464 0.39539536]\n",
      " [0.5202102  0.4797898 ]\n",
      " [0.63772762 0.36227238]\n",
      " [0.70416831 0.29583169]\n",
      " [0.60224723 0.39775277]\n",
      " [0.61866025 0.38133975]\n",
      " [0.65024784 0.34975216]\n",
      " [0.60616109 0.39383891]\n",
      " [0.5792808  0.4207192 ]\n",
      " [0.76910348 0.23089652]\n",
      " [0.67407014 0.32592986]\n",
      " [0.61601597 0.38398403]\n",
      " [0.5854469  0.4145531 ]\n",
      " [0.58179379 0.41820621]\n",
      " [0.65329441 0.34670559]\n",
      " [0.62311543 0.37688457]\n",
      " [0.63672765 0.36327235]\n",
      " [0.59651816 0.40348184]\n",
      " [0.57167861 0.42832139]\n",
      " [0.63162349 0.36837651]\n",
      " [0.68082328 0.31917672]\n",
      " [0.60348077 0.39651923]\n",
      " [0.6897601  0.3102399 ]\n",
      " [0.59411444 0.40588556]\n",
      " [0.66049035 0.33950965]\n",
      " [0.67562254 0.32437746]\n",
      " [0.71096373 0.28903627]\n",
      " [0.62746213 0.37253787]\n",
      " [0.51180645 0.48819355]\n",
      " [0.49690126 0.50309874]\n",
      " [0.64751823 0.35248177]\n",
      " [0.53272761 0.46727239]\n",
      " [0.6048122  0.3951878 ]\n",
      " [0.69767994 0.30232006]\n",
      " [0.61657406 0.38342594]\n",
      " [0.62197491 0.37802509]\n",
      " [0.53203291 0.46796709]\n",
      " [0.65618353 0.34381647]\n",
      " [0.65753524 0.34246476]\n",
      " [0.53520497 0.46479503]\n",
      " [0.65388658 0.34611342]\n",
      " [0.5994925  0.4005075 ]\n",
      " [0.64712005 0.35287995]\n",
      " [0.65475579 0.34524421]\n",
      " [0.63268202 0.36731798]\n",
      " [0.70180661 0.29819339]\n",
      " [0.67118096 0.32881904]\n",
      " [0.66469919 0.33530081]\n",
      " [0.62965658 0.37034342]\n",
      " [0.70278907 0.29721093]\n",
      " [0.68528439 0.31471561]\n",
      " [0.73176187 0.26823813]\n",
      " [0.64192793 0.35807207]\n",
      " [0.55498081 0.44501919]\n",
      " [0.67291402 0.32708598]\n",
      " [0.57802797 0.42197203]\n",
      " [0.62426052 0.37573948]\n",
      " [0.67043163 0.32956837]\n",
      " [0.63176805 0.36823195]\n",
      " [0.62015914 0.37984086]\n",
      " [0.68962057 0.31037943]\n",
      " [0.73524635 0.26475365]\n",
      " [0.52512305 0.47487695]\n",
      " [0.68513562 0.31486438]\n",
      " [0.6122717  0.3877283 ]\n",
      " [0.69338853 0.30661147]\n",
      " [0.63644052 0.36355948]\n",
      " [0.59498373 0.40501627]\n",
      " [0.54592169 0.45407831]\n",
      " [0.71096857 0.28903143]\n",
      " [0.65985984 0.34014016]\n",
      " [0.6353309  0.3646691 ]\n",
      " [0.60476399 0.39523601]\n",
      " [0.58602551 0.41397449]\n",
      " [0.64827858 0.35172142]\n",
      " [0.62135963 0.37864037]\n",
      " [0.6647994  0.3352006 ]\n",
      " [0.6251292  0.3748708 ]\n",
      " [0.62479056 0.37520944]\n",
      " [0.59060108 0.40939892]\n",
      " [0.66014108 0.33985892]\n",
      " [0.6298453  0.3701547 ]\n",
      " [0.63119065 0.36880935]\n",
      " [0.64430134 0.35569866]\n",
      " [0.66959049 0.33040951]\n",
      " [0.65658719 0.34341281]\n",
      " [0.64133316 0.35866684]\n",
      " [0.59251343 0.40748657]\n",
      " [0.72991427 0.27008573]\n",
      " [0.59714191 0.40285809]\n",
      " [0.40498058 0.59501942]\n",
      " [0.68457036 0.31542964]\n",
      " [0.58492015 0.41507985]\n",
      " [0.73271786 0.26728214]\n",
      " [0.56397941 0.43602059]\n",
      " [0.64832541 0.35167459]\n",
      " [0.63934841 0.36065159]\n",
      " [0.6462524  0.3537476 ]\n",
      " [0.69227692 0.30772308]\n",
      " [0.62114494 0.37885506]\n",
      " [0.61827772 0.38172228]\n",
      " [0.65108735 0.34891265]\n",
      " [0.58531826 0.41468174]\n",
      " [0.6012563  0.3987437 ]\n",
      " [0.55723428 0.44276572]\n",
      " [0.61943344 0.38056656]\n",
      " [0.66228181 0.33771819]\n",
      " [0.63829152 0.36170848]\n",
      " [0.62933539 0.37066461]\n",
      " [0.60490381 0.39509619]\n",
      " [0.54405177 0.45594823]\n",
      " [0.70058049 0.29941951]\n",
      " [0.63487717 0.36512283]\n",
      " [0.64951539 0.35048461]\n",
      " [0.69935005 0.30064995]\n",
      " [0.61933477 0.38066523]\n",
      " [0.57475895 0.42524105]\n",
      " [0.6612042  0.3387958 ]\n",
      " [0.58108448 0.41891552]\n",
      " [0.62946935 0.37053065]\n",
      " [0.5056619  0.4943381 ]\n",
      " [0.6679219  0.3320781 ]\n",
      " [0.68421528 0.31578472]\n",
      " [0.64616601 0.35383399]\n",
      " [0.6401688  0.3598312 ]\n",
      " [0.63893037 0.36106963]\n",
      " [0.60802591 0.39197409]\n",
      " [0.67615413 0.32384587]\n",
      " [0.63798572 0.36201428]\n",
      " [0.74638883 0.25361117]\n",
      " [0.64445436 0.35554564]\n",
      " [0.66300072 0.33699928]\n",
      " [0.59410793 0.40589207]\n",
      " [0.43841422 0.56158578]\n",
      " [0.62731604 0.37268396]\n",
      " [0.57275933 0.42724067]\n",
      " [0.59797704 0.40202296]\n",
      " [0.66507724 0.33492276]\n",
      " [0.6469678  0.3530322 ]\n",
      " [0.61693703 0.38306297]\n",
      " [0.66108809 0.33891191]\n",
      " [0.6151063  0.3848937 ]\n",
      " [0.54604925 0.45395075]\n",
      " [0.6070673  0.3929327 ]\n",
      " [0.59585565 0.40414435]\n",
      " [0.62359197 0.37640803]\n",
      " [0.58781052 0.41218948]\n",
      " [0.65765609 0.34234391]\n",
      " [0.62134005 0.37865995]\n",
      " [0.63593676 0.36406324]\n",
      " [0.64686353 0.35313647]\n",
      " [0.64330633 0.35669367]\n",
      " [0.58858361 0.41141639]\n",
      " [0.6474864  0.3525136 ]\n",
      " [0.74767951 0.25232049]\n",
      " [0.59346063 0.40653937]\n",
      " [0.62482797 0.37517203]\n",
      " [0.62084374 0.37915626]\n",
      " [0.5914745  0.4085255 ]\n",
      " [0.62417014 0.37582986]\n",
      " [0.5217353  0.4782647 ]\n",
      " [0.60522961 0.39477039]\n",
      " [0.60354852 0.39645148]\n",
      " [0.59696898 0.40303102]\n",
      " [0.50409638 0.49590362]\n",
      " [0.61953253 0.38046747]\n",
      " [0.60970724 0.39029276]\n",
      " [0.57583611 0.42416389]\n",
      " [0.65814746 0.34185254]\n",
      " [0.62506723 0.37493277]\n",
      " [0.61875274 0.38124726]\n",
      " [0.55507965 0.44492035]\n",
      " [0.57612192 0.42387808]\n",
      " [0.70717292 0.29282708]\n",
      " [0.67344021 0.32655979]\n",
      " [0.59309412 0.40690588]\n",
      " [0.72754296 0.27245704]\n",
      " [0.55548187 0.44451813]\n",
      " [0.65226416 0.34773584]\n",
      " [0.54576708 0.45423292]\n",
      " [0.64740623 0.35259377]\n",
      " [0.71382973 0.28617027]\n",
      " [0.63887152 0.36112848]\n",
      " [0.53060676 0.46939324]\n",
      " [0.58958348 0.41041652]\n",
      " [0.69916669 0.30083331]\n",
      " [0.68267566 0.31732434]\n",
      " [0.60709246 0.39290754]\n",
      " [0.51699942 0.48300058]\n",
      " [0.64213709 0.35786291]\n",
      " [0.66121938 0.33878062]\n",
      " [0.56106112 0.43893888]\n",
      " [0.6281236  0.3718764 ]\n",
      " [0.58118058 0.41881942]\n",
      " [0.66697129 0.33302871]\n",
      " [0.59178925 0.40821075]\n",
      " [0.62536247 0.37463753]\n",
      " [0.70608688 0.29391312]\n",
      " [0.60234392 0.39765608]\n",
      " [0.62222138 0.37777862]\n",
      " [0.75807109 0.24192891]\n",
      " [0.64888403 0.35111597]\n",
      " [0.74147411 0.25852589]\n",
      " [0.62605715 0.37394285]\n",
      " [0.5785245  0.4214755 ]\n",
      " [0.61869561 0.38130439]\n",
      " [0.57824411 0.42175589]\n",
      " [0.60614686 0.39385314]\n",
      " [0.72573355 0.27426645]\n",
      " [0.47355686 0.52644314]\n",
      " [0.74027698 0.25972302]\n",
      " [0.55474591 0.44525409]\n",
      " [0.62340348 0.37659652]\n",
      " [0.36917764 0.63082236]\n",
      " [0.72958532 0.27041468]\n",
      " [0.71876552 0.28123448]\n",
      " [0.65745111 0.34254889]\n",
      " [0.65274325 0.34725675]\n",
      " [0.74383815 0.25616185]\n",
      " [0.68317354 0.31682646]\n",
      " [0.51205972 0.48794028]\n",
      " [0.5974852  0.4025148 ]\n",
      " [0.67591663 0.32408337]\n",
      " [0.53523925 0.46476075]\n",
      " [0.68274917 0.31725083]\n",
      " [0.6848843  0.3151157 ]\n",
      " [0.62948345 0.37051655]\n",
      " [0.69448028 0.30551972]\n",
      " [0.60360116 0.39639884]\n",
      " [0.60811316 0.39188684]\n",
      " [0.69001659 0.30998341]\n",
      " [0.64314121 0.35685879]\n",
      " [0.70423734 0.29576266]\n",
      " [0.73499005 0.26500995]\n",
      " [0.63695601 0.36304399]\n",
      " [0.69041864 0.30958136]\n",
      " [0.62486145 0.37513855]\n",
      " [0.57452356 0.42547644]\n",
      " [0.61535712 0.38464288]\n",
      " [0.62194864 0.37805136]\n",
      " [0.66750394 0.33249606]\n",
      " [0.53188289 0.46811711]\n",
      " [0.5633348  0.4366652 ]\n",
      " [0.73501966 0.26498034]\n",
      " [0.57325529 0.42674471]\n",
      " [0.65335659 0.34664341]\n",
      " [0.59993901 0.40006099]\n",
      " [0.60971229 0.39028771]\n",
      " [0.57373332 0.42626668]\n",
      " [0.54198237 0.45801763]\n",
      " [0.65648345 0.34351655]\n",
      " [0.59828096 0.40171904]\n",
      " [0.49284974 0.50715026]\n",
      " [0.62195749 0.37804251]\n",
      " [0.58037174 0.41962826]\n",
      " [0.73399491 0.26600509]\n",
      " [0.60513227 0.39486773]\n",
      " [0.58483953 0.41516047]\n",
      " [0.57040036 0.42959964]\n",
      " [0.7035643  0.2964357 ]\n",
      " [0.66262503 0.33737497]\n",
      " [0.70609285 0.29390715]\n",
      " [0.6103529  0.3896471 ]\n",
      " [0.53085948 0.46914052]\n",
      " [0.63901301 0.36098699]\n",
      " [0.70441958 0.29558042]\n",
      " [0.60313205 0.39686795]\n",
      " [0.59838825 0.40161175]\n",
      " [0.71969051 0.28030949]\n",
      " [0.63405346 0.36594654]\n",
      " [0.58772135 0.41227865]\n",
      " [0.61486748 0.38513252]\n",
      " [0.61005438 0.38994562]\n",
      " [0.58621096 0.41378904]\n",
      " [0.62905538 0.37094462]\n",
      " [0.58039411 0.41960589]\n",
      " [0.63825527 0.36174473]\n",
      " [0.64414882 0.35585118]\n",
      " [0.64431636 0.35568364]\n",
      " [0.59201841 0.40798159]\n",
      " [0.71303393 0.28696607]\n",
      " [0.57749052 0.42250948]\n",
      " [0.55704373 0.44295627]\n",
      " [0.65214849 0.34785151]\n",
      " [0.58212814 0.41787186]\n",
      " [0.59002486 0.40997514]\n",
      " [0.61642031 0.38357969]\n",
      " [0.65394677 0.34605323]\n",
      " [0.57059891 0.42940109]\n",
      " [0.63531545 0.36468455]\n",
      " [0.54002491 0.45997509]\n",
      " [0.61877958 0.38122042]\n",
      " [0.6223655  0.3776345 ]\n",
      " [0.65562178 0.34437822]\n",
      " [0.58508243 0.41491757]\n",
      " [0.55187503 0.44812497]\n",
      " [0.72832015 0.27167985]\n",
      " [0.55568589 0.44431411]\n",
      " [0.65106851 0.34893149]\n",
      " [0.59297507 0.40702493]\n",
      " [0.61904104 0.38095896]\n",
      " [0.41112815 0.58887185]\n",
      " [0.6567325  0.3432675 ]\n",
      " [0.66773601 0.33226399]\n",
      " [0.75652815 0.24347185]\n",
      " [0.53926683 0.46073317]\n",
      " [0.58355735 0.41644265]\n",
      " [0.62156979 0.37843021]\n",
      " [0.59475374 0.40524626]\n",
      " [0.59154699 0.40845301]\n",
      " [0.63073209 0.36926791]\n",
      " [0.64387418 0.35612582]\n",
      " [0.59298581 0.40701419]\n",
      " [0.60986373 0.39013627]\n",
      " [0.59901872 0.40098128]\n",
      " [0.62762514 0.37237486]\n",
      " [0.69430179 0.30569821]\n",
      " [0.58119845 0.41880155]\n",
      " [0.59226567 0.40773433]]\n"
     ]
    }
   ],
   "source": [
    "# If you want to also get the probability of each class, you can use:\n",
    "y_pred_proba = stacking_model.predict_proba(x_test)\n",
    "\n",
    "# Print predictions\n",
    "print(\"Predictions:\", y_pred)\n",
    "\n",
    "# Print predicted probabilities for each class\n",
    "print(\"Predicted Probabilities:\", y_pred_proba)\n"
   ]
  },
  {
   "cell_type": "code",
   "execution_count": 1719,
   "id": "0fc2545a-c68d-493b-b209-83d52501a82a",
   "metadata": {},
   "outputs": [
    {
     "name": "stdout",
     "output_type": "stream",
     "text": [
      "     Predictions  Class_0_Probability  Class_1_Probability\n",
      "0              0             0.607127             0.392873\n",
      "1              0             0.615283             0.384717\n",
      "2              0             0.559985             0.440015\n",
      "3              0             0.638766             0.361234\n",
      "4              0             0.612012             0.387988\n",
      "..           ...                  ...                  ...\n",
      "372            0             0.599019             0.400981\n",
      "373            0             0.627625             0.372375\n",
      "374            0             0.694302             0.305698\n",
      "375            0             0.581198             0.418802\n",
      "376            0             0.592266             0.407734\n",
      "\n",
      "[377 rows x 3 columns]\n"
     ]
    }
   ],
   "source": [
    "import pandas as pd\n",
    "\n",
    "# Get the predictions\n",
    "y_pred = stacking_model.predict(x_test)\n",
    "\n",
    "# Get the predicted probabilities for each class\n",
    "y_pred_proba = stacking_model.predict_proba(x_test)\n",
    "\n",
    "# Create a DataFrame to store both the predictions and probabilities\n",
    "# Assuming the target variable has two classes, you can adjust if there are more classes\n",
    "df_predictions = pd.DataFrame({\n",
    "    'Predictions': y_pred,\n",
    "    'Class_0_Probability': y_pred_proba[:, 0],  # Probabilities for class 0\n",
    "    'Class_1_Probability': y_pred_proba[:, 1]   # Probabilities for class 1\n",
    "})\n",
    "\n",
    "# If you have more than two classes, you'll need to add more columns for each class's probability.\n",
    "\n",
    "# Print the DataFrame\n",
    "print(df_predictions)\n"
   ]
  },
  {
   "cell_type": "markdown",
   "id": "34857187-88d5-40e5-ae26-2e04ae69b50d",
   "metadata": {},
   "source": [
    "# Understanding the Prediction DataFrame\n",
    "\n",
    "The prediction DataFrame contains the predicted class labels along with the predicted probabilities for each class. Below is a breakdown of what each column represents:\n",
    "\n",
    "## Columns in the DataFrame:\n",
    "\n",
    "1. **`Predictions`**:  \n",
    "   - This column represents the predicted class label for each sample. In this case, the values are all `0`, meaning the stacking model predicted class `0` for all the rows in this subset of the data.\n",
    "\n",
    "2. **`Class_0_Probability`**:  \n",
    "   - This column represents the predicted probability that each sample belongs to **class 0**.  \n",
    "   - The value for each row in this column indicates the model's confidence that the sample belongs to class `0`.  \n",
    "   - For example, for the first row (`row 0`), the probability is `0.621918`, meaning the model believes there's a 62.19% chance that the sample belongs to class `0`.\n",
    "\n",
    "3. **`Class_1_Probability`**:  \n",
    "   - This column represents the predicted probability that each sample belongs to **class 1**.  \n",
    "   - The value for each row in this column indicates the model's confidence that the sample belongs to class `1`.  \n",
    "   - For example, for the first row (`row 0`), the probability is `0.378082`, meaning the model believes there's a 37.81% chance that the sample belongs to class `1`.\n",
    "\n",
    "## Key Observations:\n",
    "\n",
    "- **Predictions column**:  \n",
    "  The stacking model has predicted class `0` for all the rows (samples) in your dataset.\n",
    "\n",
    "- **Probabilities**:  \n",
    "  - For each sample, the model assigns a probability for class `0` and a probability for class `1`.  \n",
    "  - Since the model only has two classes, the sum of the probabilities for each row should be close to 1 (i.e., `Class_0_Probability + Class_1_Probability ≈ 1`).\n",
    "\n",
    "## Example Interpretation:\n",
    "\n",
    "- **Row 0**:  \n",
    "  - The model predicted class `0` for the first sample.  \n",
    "  - The predicted probability of class `0` is `0.621918` (62.19% confidence).  \n",
    "  - The predicted probability of class `1` is `0.378082` (37.81% confidence).  \n",
    "  - Since the prediction is `0`, the model is more confident that the sample belongs to class `0`.\n",
    "\n",
    "- **Row 1**:  \n",
    "  - The model predicted class `0` for the second sample.  \n",
    "  - The predicted probability for class `0` is `0.600685` (60.07% confidence).  \n",
    "  - The predicted probability for class `1` is `0.399315` (39.93% confidence).  \n",
    "  - The prediction remains `0`, but the probabilities are closer to 50-50, indicating less certainty.\n",
    "\n",
    "- **Row 2**:  \n",
    "  - Class `0` is predicted with a probability of `0.563375` (56.34%), and the model assigns `43.66%` to class `1`.  \n",
    "  - This means the model is less confident about class `0` compared to the previous rows, but it still predicts class `0`.\n",
    "\n",
    "## General Insights:\n",
    "\n",
    "- The model consistently predicts class `0` across all samples, suggesting that class `0` dominates the dataset\n"
   ]
  },
  {
   "cell_type": "markdown",
   "id": "ed23e5a2-c527-4b2f-ba03-372a33d9f539",
   "metadata": {},
   "source": [
    "# 1. Confusion Matrx"
   ]
  },
  {
   "cell_type": "code",
   "execution_count": 1722,
   "id": "2119ae2f-9ad4-497a-8d97-81ae24796e2f",
   "metadata": {},
   "outputs": [
    {
     "data": {
      "image/png": "[encoded data removed]",
      "text/plain": [
       "<Figure size 640x480 with 2 Axes>"
      ]
     },
     "metadata": {},
     "output_type": "display_data"
    }
   ],
   "source": [
    "from sklearn.metrics import confusion_matrix, ConfusionMatrixDisplay\n",
    "\n",
    "# Assuming y_pred contains the predicted classes and y_test contains the true labels\n",
    "y_pred = stacking_model.predict(x_test)\n",
    "\n",
    "# Generate confusion matrix\n",
    "cm = confusion_matrix(y_test, y_pred)\n",
    "\n",
    "# Display the confusion matrix\n",
    "disp = ConfusionMatrixDisplay(confusion_matrix=cm, display_labels=stacking_model.classes_)\n",
    "disp.plot(cmap='Blues')\n",
    "disp.ax_.set_title('Confusion Matrix');\n"
   ]
  },
  {
   "cell_type": "markdown",
   "id": "c6f612c3-e7a8-4f33-8d35-98fd4ecaa1ae",
   "metadata": {},
   "source": [
    "# Feature Importance"
   ]
  },
  {
   "cell_type": "code",
   "execution_count": 1724,
   "id": "4c579b9c-4870-40d3-adc8-50322fea4b3e",
   "metadata": {},
   "outputs": [
    {
     "name": "stdout",
     "output_type": "stream",
     "text": [
      "Feature importance for base model 1: str\n",
      "This model does not provide feature importance.\n",
      "Feature importance for base model 2: str\n",
      "This model does not provide feature importance.\n",
      "Feature importance for base model 3: str\n",
      "This model does not provide feature importance.\n",
      "Feature importance for base model 4: str\n",
      "This model does not provide feature importance.\n",
      "Feature importance for base model 5: str\n",
      "This model does not provide feature importance.\n",
      "Feature importance for base model 6: str\n",
      "This model does not provide feature importance.\n"
     ]
    }
   ],
   "source": [
    "# Assuming you have already trained your stacking model\n",
    "\n",
    "# Iterate over the base models in the stacking classifier\n",
    "for i, base_model in enumerate(stacking_model.named_estimators_):\n",
    "    print(f\"Feature importance for base model {i + 1}: {base_model.__class__.__name__}\")\n",
    "    \n",
    "    # Check if the base model supports feature importance\n",
    "    if hasattr(base_model, 'coef_'):  # This is for models like Logistic Regression\n",
    "        print(base_model.coef_)\n",
    "    elif hasattr(base_model, 'feature_importances_'):  # This is for tree-based models like RandomForest\n",
    "        print(base_model.feature_importances_)\n",
    "    else:\n",
    "        print(\"This model does not provide feature importance.\")\n"
   ]
  },
  {
   "cell_type": "code",
   "execution_count": 1725,
   "id": "1281dac6-a40e-4376-9338-e6a67be0ce95",
   "metadata": {},
   "outputs": [
    {
     "name": "stdout",
     "output_type": "stream",
     "text": [
      "Final estimator's coefficients: [[ 0.12502521  2.02096149 -0.06818878  0.10794566  0.34372407  0.09594999]]\n"
     ]
    }
   ],
   "source": [
    "# If final estimator supports feature importance\n",
    "if hasattr(stacking_model.final_estimator_, 'coef_'):\n",
    "    print(\"Final estimator's coefficients:\", stacking_model.final_estimator_.coef_)\n",
    "elif hasattr(stacking_model.final_estimator_, 'feature_importances_'):\n",
    "    print(\"Final estimator's feature importances:\", stacking_model.final_estimator_.feature_importances_)\n",
    "else:\n",
    "    print(\"Final estimator does not provide feature importance.\")\n"
   ]
  },
  {
   "cell_type": "code",
   "execution_count": 1726,
   "id": "704c8dfd-7bc0-48c5-9f7e-553c3b911e14",
   "metadata": {},
   "outputs": [
    {
     "name": "stdout",
     "output_type": "stream",
     "text": [
      "Feature Importance (Coefficients):\n",
      "{'What is your age?': 0.1250252091889679, 'What is your gender?': 2.0209614934357063, 'What is your level of education?': -0.06818877593517882, 'What year of study are you in?': 0.10794565657739713, 'What is your socioeconomic status?': 0.3437240745604368, 'What is your current marital status?': 0.0959499868127373}\n"
     ]
    }
   ],
   "source": [
    "# Check if the final estimator supports coef_ (linear model)\n",
    "if hasattr(stacking_model.final_estimator_, 'coef_'):\n",
    "    # Extract the coefficients\n",
    "    coefficients = stacking_model.final_estimator_.coef_[0]  # Coefficients for the first class\n",
    "    # Get the column names (feature names)\n",
    "    feature_names = student_p.columns  # Assuming student_p is your DataFrame with features\n",
    "    # Create a dictionary matching feature names to coefficients\n",
    "    feature_importance = dict(zip(feature_names, coefficients))\n",
    "    \n",
    "    # Print the feature importance (columns with coefficients)\n",
    "    print(\"Feature Importance (Coefficients):\")\n",
    "    print(feature_importance)\n",
    "else:\n",
    "    print(\"Final estimator does not provide coef_ (likely not a linear model).\")\n"
   ]
  },
  {
   "cell_type": "code",
   "execution_count": 1727,
   "id": "8dcab28f-5d1c-4271-89c8-98c4a0ac6da0",
   "metadata": {},
   "outputs": [
    {
     "name": "stdout",
     "output_type": "stream",
     "text": [
      "Feature Importance (Coefficients):\n",
      "                                Feature  Coefficient\n",
      "1                  What is your gender?     2.020961\n",
      "4    What is your socioeconomic status?     0.343724\n",
      "0                     What is your age?     0.125025\n",
      "3        What year of study are you in?     0.107946\n",
      "5  What is your current marital status?     0.095950\n",
      "2      What is your level of education?    -0.068189\n"
     ]
    }
   ],
   "source": [
    "import pandas as pd\n",
    "\n",
    "# Check if the final estimator supports coef_ (linear model)\n",
    "if hasattr(stacking_model.final_estimator_, 'coef_'):\n",
    "    # Extract the coefficients\n",
    "    coefficients = stacking_model.final_estimator_.coef_[0]  # Coefficients for the first class\n",
    "    # Get the column names (feature names)\n",
    "    feature_names = student_p.columns  # Assuming student_p is your DataFrame with features\n",
    "    # Create a dictionary matching feature names to coefficients\n",
    "    feature_importance = dict(zip(feature_names, coefficients))\n",
    "    \n",
    "    # Convert the dictionary to a DataFrame\n",
    "    feature_importance_df = pd.DataFrame(list(feature_importance.items()), columns=['Feature', 'Coefficient'])\n",
    "    \n",
    "    # Sort the DataFrame by coefficients for better readability\n",
    "    feature_importance_df = feature_importance_df.sort_values(by='Coefficient', ascending=False)\n",
    "    \n",
    "    # Print the feature importance DataFrame\n",
    "    print(\"Feature Importance (Coefficients):\")\n",
    "    print(feature_importance_df)\n",
    "else:\n",
    "    print(\"Final estimator does not provide coef_ (likely not a linear model).\")\n"
   ]
  },
  {
   "cell_type": "code",
   "execution_count": 1728,
   "id": "46fd1817-92c2-41f9-bd72-ae31d157abde",
   "metadata": {},
   "outputs": [
    {
     "name": "stdout",
     "output_type": "stream",
     "text": [
      "Feature Importance (Coefficients):\n",
      "                                Feature  Coefficient\n",
      "1                  What is your gender?     2.020961\n",
      "4    What is your socioeconomic status?     0.343724\n",
      "0                     What is your age?     0.125025\n",
      "3        What year of study are you in?     0.107946\n",
      "5  What is your current marital status?     0.095950\n",
      "2      What is your level of education?    -0.068189\n"
     ]
    },
    {
     "data": {
      "image/png": "[encoded data removed]",
      "text/plain": [
       "<Figure size 1000x600 with 1 Axes>"
      ]
     },
     "metadata": {},
     "output_type": "display_data"
    }
   ],
   "source": [
    "import pandas as pd\n",
    "import matplotlib.pyplot as plt\n",
    "\n",
    "# Check if the final estimator supports coef_ (linear model)\n",
    "if hasattr(stacking_model.final_estimator_, 'coef_'):\n",
    "    # Extract the coefficients\n",
    "    coefficients = stacking_model.final_estimator_.coef_[0]  # Coefficients for the first class\n",
    "    # Get the column names (feature names)\n",
    "    feature_names = student_p.columns  # Assuming student_p is your DataFrame with features\n",
    "    # Create a dictionary matching feature names to coefficients\n",
    "    feature_importance = dict(zip(feature_names, coefficients))\n",
    "    \n",
    "    # Convert the dictionary to a DataFrame\n",
    "    feature_importance_df = pd.DataFrame(list(feature_importance.items()), columns=['Feature', 'Coefficient'])\n",
    "    \n",
    "    # Sort the DataFrame by coefficients for better readability\n",
    "    feature_importance_df = feature_importance_df.sort_values(by='Coefficient', ascending=False)\n",
    "    \n",
    "    # Print the feature importance DataFrame\n",
    "    print(\"Feature Importance (Coefficients):\")\n",
    "    print(feature_importance_df)\n",
    "    \n",
    "    # Plotting the feature importances\n",
    "    plt.figure(figsize=(10, 6))\n",
    "    plt.barh(feature_importance_df['Feature'], feature_importance_df['Coefficient'], color='skyblue')\n",
    "    plt.xlabel('Coefficient')\n",
    "    plt.title('Feature Importance (Coefficients) from Stacking Model')\n",
    "    plt.gca().invert_yaxis()  # To display the highest importance at the top\n",
    "    plt.show()\n",
    "\n",
    "else:\n",
    "    print(\"Final estimator does not provide coef_ (likely not a linear model).\")\n"
   ]
  },
  {
   "cell_type": "markdown",
   "id": "5e27aeed-ce09-4ff8-8432-feb2b00bd6fb",
   "metadata": {},
   "source": [
    "## Key Observations\r\n",
    "\r\n",
    "### Class Distribution:\r\n",
    "- **Class 0**: 1,182 samples (majority class).  \r\n",
    "- **Class 1**: 701 samples (minority class).  \r\n",
    "- This is a classic case of an **imbalanced dataset**, where the model is biased toward predicting the majority class (class 0).\r\n",
    "\r\n",
    "---\r\n",
    "\r\n",
    "### Performance on Class 0:\r\n",
    "- The model does an **excellent job predicting class 0**, with:\r\n",
    "  - **242 true negatives**.\r\n",
    "  - Only **1 false positive**.\r\n",
    "- This suggests the model is **heavily skewed toward the majority class**.\r\n",
    "\r\n",
    "---\r\n",
    "\r\n",
    "### Performance on Class 1:\r\n",
    "- The model performs **poorly for the minority class (class 1)**, with:\r\n",
    "  - Only **4 true positives** out of **134 actual class 1 samples**.\r\n",
    "  - Resulting in **low recall** and **low F1-score** for class 1.\r\n",
    "\r\n",
    "---\r\n",
    "\r\n",
    "### Is the Confusion Matrix \"Good\"?\r\n",
    "\r\n",
    "#### **If Class 0 (Low Performance) is More Important**:\r\n",
    "- If your primary goal is to identify low-performance students (class 0), then the model is performing well, as evidenced by:\r\n",
    "  - **High true negatives** (242).\r\n",
    "  - **Extremely low false positives** (1).\r\n",
    "\r\n",
    "#### **If Class 1 (High Performance) is Equally or More Important**:\r\n",
    "- The confusion matrix shows **poor performance for class 1** due to:\r\n",
    "  - **Low recall**: Only 4 out of 134 high-performance students are identified.\r\n",
    "  - **Low precision**: The model’s confidence in predicting class 1 is also questionable.\r\n",
    "- This imbalance would make the model **unsuitable for tasks where identifying high performers is crucial**.\r\n"
   ]
  },
  {
   "cell_type": "markdown",
   "id": "152eec73-2023-4dc7-b955-2531df97d247",
   "metadata": {},
   "source": [
    "# 2. ROC and AUC"
   ]
  },
  {
   "cell_type": "markdown",
   "id": "7db04302-a7e0-403b-aed7-0d0f2a0027ab",
   "metadata": {},
   "source": [
    "# ROC Curve\n",
    "\n",
    "In this ROC curve, the **AUC (Area Under the Curve) is 0.65** Let’s break down what this means:\n",
    "\n",
    "---\n",
    "\n",
    "## 1. What Does an AUC of 0.65 Indicate?\n",
    "\n",
    "- **AUC = 0.65** suggests that the model has a **moderate ability** to distinguish between the positive and negative classes.  \n",
    "- It means that there's a **65% chance** the model will correctly rank a randomly chosen positive instance higher than a randomly chosen negative instance.\n",
    "\n",
    "### Performance Interpretation\n",
    "\n",
    "- **AUC between 0.6 and 0.7**: Acceptable performance, but there's still room for improvement.  \n",
    "- The curve is now clearly **above the diagonal baseline** (random guess line), which indicates a meaningful improvement in predictive power.\n"
   ]
  },
  {
   "cell_type": "code",
   "execution_count": 1732,
   "id": "3261e201-827f-4e8f-a1c5-74dad71e7c21",
   "metadata": {},
   "outputs": [
    {
     "name": "stdout",
     "output_type": "stream",
     "text": [
      "ROC-AUC Score: 0.63\n"
     ]
    },
    {
     "data": {
      "image/png": "[encoded data removed]",
      "text/plain": [
       "<Figure size 800x600 with 1 Axes>"
      ]
     },
     "metadata": {},
     "output_type": "display_data"
    }
   ],
   "source": [
    "from sklearn.metrics import roc_auc_score, roc_curve\n",
    "import matplotlib.pyplot as plt\n",
    "\n",
    "# Calculate the ROC-AUC score\n",
    "roc_auc = roc_auc_score(y_test, y_pred_proba[:, 1])  # Assuming class 1 is the positive class\n",
    "print(f\"ROC-AUC Score: {roc_auc:.2f}\")\n",
    "\n",
    "# Plot the ROC Curve\n",
    "fpr, tpr, thresholds = roc_curve(y_test, y_pred_proba[:, 1])\n",
    "plt.figure(figsize=(8, 6))\n",
    "plt.plot(fpr, tpr, label=f'ROC Curve (AUC = {roc_auc:.2f})', color='blue')\n",
    "plt.plot([0, 1], [0, 1], linestyle='--', color='gray')  # Diagonal line for random guessing\n",
    "plt.xlabel('False Positive Rate')\n",
    "plt.ylabel('True Positive Rate')\n",
    "plt.title('Receiver Operating Characteristic (ROC) Curve')\n",
    "plt.legend()\n",
    "plt.show();\n"
   ]
  },
  {
   "cell_type": "code",
   "execution_count": 1733,
   "id": "b074ebef-47c6-45a9-995c-5168c5a59e6d",
   "metadata": {},
   "outputs": [
    {
     "name": "stdout",
     "output_type": "stream",
     "text": [
      "Classification Report:\n",
      "              precision    recall  f1-score   support\n",
      "\n",
      "     Class 0       0.65      0.99      0.79       243\n",
      "     Class 1       0.75      0.04      0.08       134\n",
      "\n",
      "    accuracy                           0.66       377\n",
      "   macro avg       0.70      0.52      0.44       377\n",
      "weighted avg       0.69      0.66      0.54       377\n",
      "\n"
     ]
    }
   ],
   "source": [
    "from sklearn.metrics import classification_report\n",
    "\n",
    "# Generate classification report\n",
    "print(\"Classification Report:\")\n",
    "print(classification_report(y_test, y_pred, target_names=['Class 0', 'Class 1']))\n"
   ]
  },
  {
   "cell_type": "markdown",
   "id": "b00f6b7a-1d4a-4f1e-b458-8f10421ddbb8",
   "metadata": {},
   "source": [
    "### Key Observations from the Classification Report:\r\n",
    "\r\n",
    "1. **Class 0 (Low Performance):**\r\n",
    "   - **Precision:** 0.65  \r\n",
    "     This indicates that when the model predicts Class 0, 65% of those predictions are correct.\r\n",
    "   - **Recall:** 0.98  \r\n",
    "     The model correctly identifies 98% of all actual Class 0 samples.\r\n",
    "   - **F1-Score:** 0.78  \r\n",
    "     A balanced metric that combines precision and recall. The F1-score for Class 0 is relatively high due to its excellent recall.\r\n",
    "   - **Support:** 243  \r\n",
    "     The number of actual instances of Class 0 in the dataset.\r\n",
    "\r\n",
    "2. **Class 1 (High Performance):**\r\n",
    "   - **Precision:** 0.64  \r\n",
    "     When the model predicts Class 1, 64% of those predictions are correct.\r\n",
    "   - **Recall:** 0.05  \r\n",
    "     The model identifies only 5% of all actual Class 1 samples, indicating poor sensitivity.\r\n",
    "   - **F1-Score:** 0.10  \r\n",
    "     The F1-score is very low due to the imbalance between precision and recall.\r\n",
    "   - **Support:** 134  \r\n",
    "     The number of actual instances of Class 1 in the dataset.\r\n",
    "\r\n",
    "3. **Overall Metrics:**\r\n",
    "   - **Accuracy:** 0.65  \r\n",
    "     The model correctly predicts 65% of the total samples.\r\n",
    "   - **Macro Average:**  \r\n",
    "     - **Precision:** 0.64, **Recall:** 0.52, **F1-Score:** 0.44  \r\n",
    "       The macro average treats both classes equally, without considering class imbalance. The recall and F1-score are lower due to the poor performance on Class 1.\r\n",
    "   - **Weighted Average:**  \r\n",
    "     - **Precision:** 0.65, **Recall:** 0.65, **F1-Score:** 0.54  \r\n",
    "       The weighted average considers class imbalance and assigns more weight to Clasassess performance on the minority class.\r\n"
   ]
  },
  {
   "cell_type": "markdown",
   "id": "4d7eb0ae-83f8-4acb-9aa0-cb8992a9482a",
   "metadata": {},
   "source": [
    "# 1. Oversampling with SMOTE (Synthetic Minority Over-sampling Technique):"
   ]
  },
  {
   "cell_type": "code",
   "execution_count": 1736,
   "id": "3851daa6-a513-4be6-aa3a-f2e0383d1155",
   "metadata": {},
   "outputs": [
    {
     "name": "stdout",
     "output_type": "stream",
     "text": [
      "              precision    recall  f1-score   support\n",
      "\n",
      "     Class 0       0.68      0.80      0.74       243\n",
      "     Class 1       0.47      0.32      0.38       134\n",
      "\n",
      "    accuracy                           0.63       377\n",
      "   macro avg       0.58      0.56      0.56       377\n",
      "weighted avg       0.61      0.63      0.61       377\n",
      "\n"
     ]
    }
   ],
   "source": [
    "from imblearn.over_sampling import SMOTE\n",
    "\n",
    "# Initialize SMOTE\n",
    "smote = SMOTE(random_state=42)\n",
    "\n",
    "# Apply SMOTE to the training data\n",
    "x_train_resampled, y_train_resampled = smote.fit_resample(x_train, y_train)\n",
    "\n",
    "# Now train the model on the resampled data\n",
    "stacking_model.fit(x_train_resampled, y_train_resampled)\n",
    "\n",
    "# Evaluate the model again\n",
    "y_pred_resampled = stacking_model.predict(x_test)\n",
    "y_pred_proba_resampled = stacking_model.predict_proba(x_test)\n",
    "\n",
    "# Print new classification report\n",
    "from sklearn.metrics import classification_report\n",
    "print(classification_report(y_test, y_pred_resampled, target_names=['Class 0', 'Class 1']))\n"
   ]
  },
  {
   "cell_type": "markdown",
   "id": "b9a8af40-feae-4202-bb5d-b6d58345523a",
   "metadata": {},
   "source": [
    "# 2. Undersampling (RandomUnderSampler):"
   ]
  },
  {
   "cell_type": "code",
   "execution_count": 1738,
   "id": "402562d2-1c94-4003-b4dc-76a113f64609",
   "metadata": {},
   "outputs": [
    {
     "name": "stdout",
     "output_type": "stream",
     "text": [
      "              precision    recall  f1-score   support\n",
      "\n",
      "     Class 0       0.72      0.58      0.64       243\n",
      "     Class 1       0.44      0.59      0.50       134\n",
      "\n",
      "    accuracy                           0.58       377\n",
      "   macro avg       0.58      0.58      0.57       377\n",
      "weighted avg       0.62      0.58      0.59       377\n",
      "\n"
     ]
    }
   ],
   "source": [
    "from imblearn.under_sampling import RandomUnderSampler\n",
    "\n",
    "# Initialize RandomUnderSampler\n",
    "undersampler = RandomUnderSampler(random_state=42)\n",
    "\n",
    "# Apply undersampling to the training data\n",
    "x_train_resampled, y_train_resampled = undersampler.fit_resample(x_train, y_train)\n",
    "\n",
    "# Now train the model on the resampled data\n",
    "stacking_model.fit(x_train_resampled, y_train_resampled)\n",
    "\n",
    "# Evaluate the model again\n",
    "y_pred_resampled = stacking_model.predict(x_test)\n",
    "y_pred_proba_resampled = stacking_model.predict_proba(x_test)\n",
    "\n",
    "# Print new classification report\n",
    "from sklearn.metrics import classification_report\n",
    "print(classification_report(y_test, y_pred_resampled, target_names=['Class 0', 'Class 1']))\n"
   ]
  },
  {
   "cell_type": "markdown",
   "id": "02b419fd-d536-4b80-834e-866472970c08",
   "metadata": {},
   "source": [
    "# 3. Using Class Weights (Adjusting Weights in Model):"
   ]
  },
  {
   "cell_type": "code",
   "execution_count": 1740,
   "id": "86e88d8f-88f5-4873-84b6-52ff8a01bece",
   "metadata": {},
   "outputs": [
    {
     "name": "stdout",
     "output_type": "stream",
     "text": [
      "              precision    recall  f1-score   support\n",
      "\n",
      "     Class 0       0.71      0.60      0.65       243\n",
      "     Class 1       0.43      0.56      0.49       134\n",
      "\n",
      "    accuracy                           0.58       377\n",
      "   macro avg       0.57      0.58      0.57       377\n",
      "weighted avg       0.61      0.58      0.59       377\n",
      "\n"
     ]
    }
   ],
   "source": [
    "from sklearn.linear_model import LogisticRegression\n",
    "\n",
    "# Initialize Logistic Regression with increased max_iter\n",
    "log_reg = LogisticRegression(class_weight='balanced', random_state=42, max_iter=1000)\n",
    "\n",
    "# Train the model\n",
    "log_reg.fit(x_train, y_train)\n",
    "\n",
    "# Evaluate the model\n",
    "y_pred = log_reg.predict(x_test)\n",
    "y_pred_proba = log_reg.predict_proba(x_test)\n",
    "\n",
    "# Print classification report\n",
    "from sklearn.metrics import classification_report\n",
    "print(classification_report(y_test, y_pred, target_names=['Class 0', 'Class 1']))\n"
   ]
  },
  {
   "cell_type": "markdown",
   "id": "d1909dc0-9a85-4aab-85f3-1868746b6e95",
   "metadata": {},
   "source": [
    "# 4. Adjusting the Decision Threshold:"
   ]
  },
  {
   "cell_type": "code",
   "execution_count": 1742,
   "id": "1cf051a7-c840-4741-ba35-1e083d3a0bd7",
   "metadata": {},
   "outputs": [
    {
     "name": "stdout",
     "output_type": "stream",
     "text": [
      "              precision    recall  f1-score   support\n",
      "\n",
      "     Class 0       1.00      0.00      0.01       243\n",
      "     Class 1       0.36      1.00      0.53       134\n",
      "\n",
      "    accuracy                           0.36       377\n",
      "   macro avg       0.68      0.50      0.27       377\n",
      "weighted avg       0.77      0.36      0.19       377\n",
      "\n"
     ]
    }
   ],
   "source": [
    "from sklearn.metrics import classification_report\n",
    "\n",
    "# Get the predicted probabilities\n",
    "y_pred_proba = stacking_model.predict_proba(x_test)\n",
    "\n",
    "# Set a custom threshold (e.g., 0.3 instead of 0.5)\n",
    "threshold = 0.3\n",
    "y_pred_custom_threshold = (y_pred_proba[:, 1] >= threshold).astype(int)\n",
    "\n",
    "# Evaluate with the new threshold\n",
    "print(classification_report(y_test, y_pred_custom_threshold, target_names=['Class 0', 'Class 1'], zero_division=1))\n"
   ]
  },
  {
   "cell_type": "markdown",
   "id": "34f60f2c-6614-48b0-8efe-7204c3d0922c",
   "metadata": {},
   "source": [
    "# 5. Cross-validation with Stratified K-Folds:\n",
    "Using stratified k-fold cross-validation ensures that each fold has a similar distribution of classes as the original dataset."
   ]
  },
  {
   "cell_type": "code",
   "execution_count": 1744,
   "id": "72d8358b-d7a5-4c52-8fe2-d4fd4736d410",
   "metadata": {},
   "outputs": [
    {
     "name": "stdout",
     "output_type": "stream",
     "text": [
      "              precision    recall  f1-score   support\n",
      "\n",
      "     Class 0       0.63      0.78      0.70       188\n",
      "     Class 1       0.40      0.24      0.30       114\n",
      "\n",
      "    accuracy                           0.58       302\n",
      "   macro avg       0.51      0.51      0.50       302\n",
      "weighted avg       0.54      0.58      0.55       302\n",
      "\n",
      "              precision    recall  f1-score   support\n",
      "\n",
      "     Class 0       0.61      0.81      0.70       187\n",
      "     Class 1       0.34      0.16      0.22       114\n",
      "\n",
      "    accuracy                           0.56       301\n",
      "   macro avg       0.48      0.49      0.46       301\n",
      "weighted avg       0.51      0.56      0.52       301\n",
      "\n",
      "              precision    recall  f1-score   support\n",
      "\n",
      "     Class 0       0.63      0.80      0.71       188\n",
      "     Class 1       0.39      0.21      0.28       113\n",
      "\n",
      "    accuracy                           0.58       301\n",
      "   macro avg       0.51      0.51      0.49       301\n",
      "weighted avg       0.54      0.58      0.54       301\n",
      "\n",
      "              precision    recall  f1-score   support\n",
      "\n",
      "     Class 0       0.64      0.79      0.71       188\n",
      "     Class 1       0.43      0.27      0.33       113\n",
      "\n",
      "    accuracy                           0.59       301\n",
      "   macro avg       0.53      0.53      0.52       301\n",
      "weighted avg       0.56      0.59      0.56       301\n",
      "\n",
      "              precision    recall  f1-score   support\n",
      "\n",
      "     Class 0       0.63      0.79      0.70       188\n",
      "     Class 1       0.41      0.24      0.30       113\n",
      "\n",
      "    accuracy                           0.58       301\n",
      "   macro avg       0.52      0.52      0.50       301\n",
      "weighted avg       0.55      0.58      0.55       301\n",
      "\n"
     ]
    }
   ],
   "source": [
    "from sklearn.model_selection import StratifiedKFold\n",
    "from sklearn.metrics import classification_report\n",
    "from sklearn.linear_model import LogisticRegression\n",
    "\n",
    "# Define StratifiedKFold cross-validation\n",
    "cv = StratifiedKFold(n_splits=5, random_state=42, shuffle=True)\n",
    "\n",
    "# Logistic Regression with increased max_iter\n",
    "log_reg = LogisticRegression(max_iter=2000, random_state=42)  # Increased iterations\n",
    "\n",
    "# Evaluate model using cross-validation\n",
    "for train_index, test_index in cv.split(x_train, y_train):\n",
    "    # Use .iloc to index the DataFrames\n",
    "    x_train_fold, x_test_fold = x_train.iloc[train_index], x_train.iloc[test_index]\n",
    "    y_train_fold, y_test_fold = y_train.iloc[train_index], y_train.iloc[test_index]\n",
    "    \n",
    "    # Train the model\n",
    "    log_reg.fit(x_train_fold, y_train_fold)\n",
    "    \n",
    "    # Get predictions\n",
    "    y_pred_fold = log_reg.predict(x_test_fold)\n",
    "    \n",
    "    # Print classification report for each fold\n",
    "    print(classification_report(y_test_fold, y_pred_fold, target_names=['Class 0', 'Class 1']))\n"
   ]
  },
  {
   "cell_type": "code",
   "execution_count": 1745,
   "id": "89ff860c-556a-4a2f-b8f3-b18443094fbf",
   "metadata": {},
   "outputs": [
    {
     "name": "stdout",
     "output_type": "stream",
     "text": [
      "              precision    recall  f1-score   support\n",
      "\n",
      "     Class 0       0.63      0.78      0.70       188\n",
      "     Class 1       0.41      0.25      0.31       114\n",
      "\n",
      "    accuracy                           0.58       302\n",
      "   macro avg       0.52      0.51      0.50       302\n",
      "weighted avg       0.55      0.58      0.55       302\n",
      "\n",
      "              precision    recall  f1-score   support\n",
      "\n",
      "     Class 0       0.60      0.79      0.68       187\n",
      "     Class 1       0.31      0.16      0.21       114\n",
      "\n",
      "    accuracy                           0.55       301\n",
      "   macro avg       0.46      0.47      0.45       301\n",
      "weighted avg       0.49      0.55      0.50       301\n",
      "\n",
      "              precision    recall  f1-score   support\n",
      "\n",
      "     Class 0       0.63      0.81      0.71       188\n",
      "     Class 1       0.41      0.22      0.29       113\n",
      "\n",
      "    accuracy                           0.59       301\n",
      "   macro avg       0.52      0.51      0.50       301\n",
      "weighted avg       0.55      0.59      0.55       301\n",
      "\n",
      "              precision    recall  f1-score   support\n",
      "\n",
      "     Class 0       0.64      0.79      0.71       188\n",
      "     Class 1       0.44      0.27      0.34       113\n",
      "\n",
      "    accuracy                           0.59       301\n",
      "   macro avg       0.54      0.53      0.52       301\n",
      "weighted avg       0.57      0.59      0.57       301\n",
      "\n",
      "              precision    recall  f1-score   support\n",
      "\n",
      "     Class 0       0.64      0.79      0.70       188\n",
      "     Class 1       0.41      0.25      0.31       113\n",
      "\n",
      "    accuracy                           0.58       301\n",
      "   macro avg       0.52      0.52      0.51       301\n",
      "weighted avg       0.55      0.58      0.56       301\n",
      "\n"
     ]
    }
   ],
   "source": [
    "from sklearn.model_selection import StratifiedKFold\n",
    "from sklearn.metrics import classification_report\n",
    "from sklearn.linear_model import LogisticRegression\n",
    "from sklearn.preprocessing import StandardScaler\n",
    "\n",
    "# Define StratifiedKFold cross-validation\n",
    "cv = StratifiedKFold(n_splits=5, random_state=42, shuffle=True)\n",
    "\n",
    "# Scale the features\n",
    "scaler = StandardScaler()\n",
    "\n",
    "# Logistic Regression\n",
    "log_reg = LogisticRegression(max_iter=1000, random_state=42)  # Default iterations\n",
    "\n",
    "# Evaluate model using cross-validation\n",
    "for train_index, test_index in cv.split(x_train, y_train):\n",
    "    # Use .iloc to index the DataFrames\n",
    "    x_train_fold, x_test_fold = x_train.iloc[train_index], x_train.iloc[test_index]\n",
    "    y_train_fold, y_test_fold = y_train.iloc[train_index], y_train.iloc[test_index]\n",
    "    \n",
    "    # Scale the training and test data\n",
    "    x_train_fold_scaled = scaler.fit_transform(x_train_fold)\n",
    "    x_test_fold_scaled = scaler.transform(x_test_fold)\n",
    "    \n",
    "    # Train the model\n",
    "    log_reg.fit(x_train_fold_scaled, y_train_fold)\n",
    "    \n",
    "    # Get predictions\n",
    "    y_pred_fold = log_reg.predict(x_test_fold_scaled)\n",
    "    \n",
    "    # Print classification report for each fold\n",
    "    print(classification_report(y_test_fold, y_pred_fold, target_names=['Class 0', 'Class 1']))\n"
   ]
  },
  {
   "cell_type": "code",
   "execution_count": 1746,
   "id": "cfb44233-e33b-4b59-b342-402d5066bd97",
   "metadata": {},
   "outputs": [
    {
     "data": {
      "text/plain": [
       "array([0, 0, 1, 0, 1, 0, 0, 0, 0, 0, 1, 0, 0, 1, 0, 0, 0, 0, 0, 0, 0, 0,\n",
       "       0, 0, 0, 1, 1, 0, 0, 1, 0, 1, 0, 0, 0, 1, 0, 0, 1, 0, 0, 0, 0, 0,\n",
       "       0, 0, 1, 0, 0, 0, 0, 1, 0, 1, 1, 1, 0, 0, 0, 1, 0, 0, 1, 0, 0, 0,\n",
       "       0, 0, 0, 0, 1, 1, 1, 0, 0, 0, 0, 1, 0, 0, 0, 0, 0, 0, 0, 0, 0, 0,\n",
       "       0, 1, 0, 0, 1, 1, 1, 0, 0, 0, 1, 0, 1, 1, 1, 0, 0, 0, 0, 0, 0, 0,\n",
       "       1, 0, 0, 0, 1, 0, 0, 0, 0, 0, 0, 0, 1, 0, 1, 1, 0, 0, 1, 0, 0, 1,\n",
       "       0, 0, 0, 0, 0, 0, 1, 0, 0, 1, 0, 0, 0, 0, 1, 0, 0, 0, 0, 1, 0, 0,\n",
       "       0, 1, 0, 0, 0, 0, 0, 0, 0, 0, 0, 0, 0, 0, 0, 0, 0, 0, 0, 1, 1, 0,\n",
       "       0, 0, 0, 1, 0, 0, 0, 0, 0, 1, 1, 1, 1, 1, 1, 0, 0, 0, 0, 0, 0, 0,\n",
       "       1, 0, 0, 0, 1, 0, 1, 0, 0, 0, 0, 0, 0, 1, 0, 0, 1, 0, 0, 0, 0, 1,\n",
       "       0, 1, 0, 0, 0, 0, 0, 0, 0, 0, 0, 0, 0, 0, 0, 0, 0, 0, 0, 0, 0, 1,\n",
       "       0, 0, 0, 0, 0, 1, 0, 0, 0, 0, 0, 0, 0, 0, 1, 0, 0, 1, 0, 0, 0, 0,\n",
       "       0, 0, 0, 0, 0, 1, 0, 0, 0, 0, 0, 0, 0, 1, 0, 0, 0, 0, 0, 0, 1, 0,\n",
       "       1, 1, 0, 0, 0, 0, 0, 1, 0, 1, 0, 0, 0, 0, 0], dtype=int64)"
      ]
     },
     "execution_count": 1746,
     "metadata": {},
     "output_type": "execute_result"
    }
   ],
   "source": [
    " y_pred_fold"
   ]
  },
  {
   "cell_type": "code",
   "execution_count": 1772,
   "id": "1a0cfdda-9ea1-4bed-a6a6-086bca7877be",
   "metadata": {},
   "outputs": [
    {
     "data": {
      "image/png": "[encoded data removed]",
      "text/plain": [
       "<Figure size 600x500 with 2 Axes>"
      ]
     },
     "metadata": {},
     "output_type": "display_data"
    }
   ],
   "source": [
    "# Generate confusion matrix\n",
    "cm = confusion_matrix(y_test_fold, y_pred_fold)\n",
    "    \n",
    "# Plot confusion matrix\n",
    "plt.figure(figsize=(6, 5))\n",
    "sns.heatmap(cm, annot=True, fmt='d', cmap='Blues', xticklabels=['Class 0', 'Class 1'], yticklabels=['Class 0', 'Class 1'])\n",
    "plt.title('Confusion Matrix for Fold')\n",
    "plt.xlabel('Predicted')\n",
    "plt.ylabel('Actual')\n",
    "plt.show()"
   ]
  },
  {
   "cell_type": "code",
   "execution_count": 1774,
   "id": "ace4f2fc-7741-4325-9bca-38b753c996e0",
   "metadata": {},
   "outputs": [
    {
     "data": {
      "text/html": [
       "<style>#sk-container-id-13 {\n",
       "  /* Definition of color scheme common for light and dark mode */\n",
       "  --sklearn-color-text: black;\n",
       "  --sklearn-color-line: gray;\n",
       "  /* Definition of color scheme for unfitted estimators */\n",
       "  --sklearn-color-unfitted-level-0: #fff5e6;\n",
       "  --sklearn-color-unfitted-level-1: #f6e4d2;\n",
       "  --sklearn-color-unfitted-level-2: #ffe0b3;\n",
       "  --sklearn-color-unfitted-level-3: chocolate;\n",
       "  /* Definition of color scheme for fitted estimators */\n",
       "  --sklearn-color-fitted-level-0: #f0f8ff;\n",
       "  --sklearn-color-fitted-level-1: #d4ebff;\n",
       "  --sklearn-color-fitted-level-2: #b3dbfd;\n",
       "  --sklearn-color-fitted-level-3: cornflowerblue;\n",
       "\n",
       "  /* Specific color for light theme */\n",
       "  --sklearn-color-text-on-default-background: var(--sg-text-color, var(--theme-code-foreground, var(--jp-content-font-color1, black)));\n",
       "  --sklearn-color-background: var(--sg-background-color, var(--theme-background, var(--jp-layout-color0, white)));\n",
       "  --sklearn-color-border-box: var(--sg-text-color, var(--theme-code-foreground, var(--jp-content-font-color1, black)));\n",
       "  --sklearn-color-icon: #696969;\n",
       "\n",
       "  @media (prefers-color-scheme: dark) {\n",
       "    /* Redefinition of color scheme for dark theme */\n",
       "    --sklearn-color-text-on-default-background: var(--sg-text-color, var(--theme-code-foreground, var(--jp-content-font-color1, white)));\n",
       "    --sklearn-color-background: var(--sg-background-color, var(--theme-background, var(--jp-layout-color0, #111)));\n",
       "    --sklearn-color-border-box: var(--sg-text-color, var(--theme-code-foreground, var(--jp-content-font-color1, white)));\n",
       "    --sklearn-color-icon: #878787;\n",
       "  }\n",
       "}\n",
       "\n",
       "#sk-container-id-13 {\n",
       "  color: var(--sklearn-color-text);\n",
       "}\n",
       "\n",
       "#sk-container-id-13 pre {\n",
       "  padding: 0;\n",
       "}\n",
       "\n",
       "#sk-container-id-13 input.sk-hidden--visually {\n",
       "  border: 0;\n",
       "  clip: rect(1px 1px 1px 1px);\n",
       "  clip: rect(1px, 1px, 1px, 1px);\n",
       "  height: 1px;\n",
       "  margin: -1px;\n",
       "  overflow: hidden;\n",
       "  padding: 0;\n",
       "  position: absolute;\n",
       "  width: 1px;\n",
       "}\n",
       "\n",
       "#sk-container-id-13 div.sk-dashed-wrapped {\n",
       "  border: 1px dashed var(--sklearn-color-line);\n",
       "  margin: 0 0.4em 0.5em 0.4em;\n",
       "  box-sizing: border-box;\n",
       "  padding-bottom: 0.4em;\n",
       "  background-color: var(--sklearn-color-background);\n",
       "}\n",
       "\n",
       "#sk-container-id-13 div.sk-container {\n",
       "  /* jupyter's `normalize.less` sets `[hidden] { display: none; }`\n",
       "     but bootstrap.min.css set `[hidden] { display: none !important; }`\n",
       "     so we also need the `!important` here to be able to override the\n",
       "     default hidden behavior on the sphinx rendered scikit-learn.org.\n",
       "     See: https://github.com/scikit-learn/scikit-learn/issues/21755 */\n",
       "  display: inline-block !important;\n",
       "  position: relative;\n",
       "}\n",
       "\n",
       "#sk-container-id-13 div.sk-text-repr-fallback {\n",
       "  display: none;\n",
       "}\n",
       "\n",
       "div.sk-parallel-item,\n",
       "div.sk-serial,\n",
       "div.sk-item {\n",
       "  /* draw centered vertical line to link estimators */\n",
       "  background-image: linear-gradient(var(--sklearn-color-text-on-default-background), var(--sklearn-color-text-on-default-background));\n",
       "  background-size: 2px 100%;\n",
       "  background-repeat: no-repeat;\n",
       "  background-position: center center;\n",
       "}\n",
       "\n",
       "/* Parallel-specific style estimator block */\n",
       "\n",
       "#sk-container-id-13 div.sk-parallel-item::after {\n",
       "  content: \"\";\n",
       "  width: 100%;\n",
       "  border-bottom: 2px solid var(--sklearn-color-text-on-default-background);\n",
       "  flex-grow: 1;\n",
       "}\n",
       "\n",
       "#sk-container-id-13 div.sk-parallel {\n",
       "  display: flex;\n",
       "  align-items: stretch;\n",
       "  justify-content: center;\n",
       "  background-color: var(--sklearn-color-background);\n",
       "  position: relative;\n",
       "}\n",
       "\n",
       "#sk-container-id-13 div.sk-parallel-item {\n",
       "  display: flex;\n",
       "  flex-direction: column;\n",
       "}\n",
       "\n",
       "#sk-container-id-13 div.sk-parallel-item:first-child::after {\n",
       "  align-self: flex-end;\n",
       "  width: 50%;\n",
       "}\n",
       "\n",
       "#sk-container-id-13 div.sk-parallel-item:last-child::after {\n",
       "  align-self: flex-start;\n",
       "  width: 50%;\n",
       "}\n",
       "\n",
       "#sk-container-id-13 div.sk-parallel-item:only-child::after {\n",
       "  width: 0;\n",
       "}\n",
       "\n",
       "/* Serial-specific style estimator block */\n",
       "\n",
       "#sk-container-id-13 div.sk-serial {\n",
       "  display: flex;\n",
       "  flex-direction: column;\n",
       "  align-items: center;\n",
       "  background-color: var(--sklearn-color-background);\n",
       "  padding-right: 1em;\n",
       "  padding-left: 1em;\n",
       "}\n",
       "\n",
       "\n",
       "/* Toggleable style: style used for estimator/Pipeline/ColumnTransformer box that is\n",
       "clickable and can be expanded/collapsed.\n",
       "- Pipeline and ColumnTransformer use this feature and define the default style\n",
       "- Estimators will overwrite some part of the style using the `sk-estimator` class\n",
       "*/\n",
       "\n",
       "/* Pipeline and ColumnTransformer style (default) */\n",
       "\n",
       "#sk-container-id-13 div.sk-toggleable {\n",
       "  /* Default theme specific background. It is overwritten whether we have a\n",
       "  specific estimator or a Pipeline/ColumnTransformer */\n",
       "  background-color: var(--sklearn-color-background);\n",
       "}\n",
       "\n",
       "/* Toggleable label */\n",
       "#sk-container-id-13 label.sk-toggleable__label {\n",
       "  cursor: pointer;\n",
       "  display: block;\n",
       "  width: 100%;\n",
       "  margin-bottom: 0;\n",
       "  padding: 0.5em;\n",
       "  box-sizing: border-box;\n",
       "  text-align: center;\n",
       "}\n",
       "\n",
       "#sk-container-id-13 label.sk-toggleable__label-arrow:before {\n",
       "  /* Arrow on the left of the label */\n",
       "  content: \"▸\";\n",
       "  float: left;\n",
       "  margin-right: 0.25em;\n",
       "  color: var(--sklearn-color-icon);\n",
       "}\n",
       "\n",
       "#sk-container-id-13 label.sk-toggleable__label-arrow:hover:before {\n",
       "  color: var(--sklearn-color-text);\n",
       "}\n",
       "\n",
       "/* Toggleable content - dropdown */\n",
       "\n",
       "#sk-container-id-13 div.sk-toggleable__content {\n",
       "  max-height: 0;\n",
       "  max-width: 0;\n",
       "  overflow: hidden;\n",
       "  text-align: left;\n",
       "  /* unfitted */\n",
       "  background-color: var(--sklearn-color-unfitted-level-0);\n",
       "}\n",
       "\n",
       "#sk-container-id-13 div.sk-toggleable__content.fitted {\n",
       "  /* fitted */\n",
       "  background-color: var(--sklearn-color-fitted-level-0);\n",
       "}\n",
       "\n",
       "#sk-container-id-13 div.sk-toggleable__content pre {\n",
       "  margin: 0.2em;\n",
       "  border-radius: 0.25em;\n",
       "  color: var(--sklearn-color-text);\n",
       "  /* unfitted */\n",
       "  background-color: var(--sklearn-color-unfitted-level-0);\n",
       "}\n",
       "\n",
       "#sk-container-id-13 div.sk-toggleable__content.fitted pre {\n",
       "  /* unfitted */\n",
       "  background-color: var(--sklearn-color-fitted-level-0);\n",
       "}\n",
       "\n",
       "#sk-container-id-13 input.sk-toggleable__control:checked~div.sk-toggleable__content {\n",
       "  /* Expand drop-down */\n",
       "  max-height: 200px;\n",
       "  max-width: 100%;\n",
       "  overflow: auto;\n",
       "}\n",
       "\n",
       "#sk-container-id-13 input.sk-toggleable__control:checked~label.sk-toggleable__label-arrow:before {\n",
       "  content: \"▾\";\n",
       "}\n",
       "\n",
       "/* Pipeline/ColumnTransformer-specific style */\n",
       "\n",
       "#sk-container-id-13 div.sk-label input.sk-toggleable__control:checked~label.sk-toggleable__label {\n",
       "  color: var(--sklearn-color-text);\n",
       "  background-color: var(--sklearn-color-unfitted-level-2);\n",
       "}\n",
       "\n",
       "#sk-container-id-13 div.sk-label.fitted input.sk-toggleable__control:checked~label.sk-toggleable__label {\n",
       "  background-color: var(--sklearn-color-fitted-level-2);\n",
       "}\n",
       "\n",
       "/* Estimator-specific style */\n",
       "\n",
       "/* Colorize estimator box */\n",
       "#sk-container-id-13 div.sk-estimator input.sk-toggleable__control:checked~label.sk-toggleable__label {\n",
       "  /* unfitted */\n",
       "  background-color: var(--sklearn-color-unfitted-level-2);\n",
       "}\n",
       "\n",
       "#sk-container-id-13 div.sk-estimator.fitted input.sk-toggleable__control:checked~label.sk-toggleable__label {\n",
       "  /* fitted */\n",
       "  background-color: var(--sklearn-color-fitted-level-2);\n",
       "}\n",
       "\n",
       "#sk-container-id-13 div.sk-label label.sk-toggleable__label,\n",
       "#sk-container-id-13 div.sk-label label {\n",
       "  /* The background is the default theme color */\n",
       "  color: var(--sklearn-color-text-on-default-background);\n",
       "}\n",
       "\n",
       "/* On hover, darken the color of the background */\n",
       "#sk-container-id-13 div.sk-label:hover label.sk-toggleable__label {\n",
       "  color: var(--sklearn-color-text);\n",
       "  background-color: var(--sklearn-color-unfitted-level-2);\n",
       "}\n",
       "\n",
       "/* Label box, darken color on hover, fitted */\n",
       "#sk-container-id-13 div.sk-label.fitted:hover label.sk-toggleable__label.fitted {\n",
       "  color: var(--sklearn-color-text);\n",
       "  background-color: var(--sklearn-color-fitted-level-2);\n",
       "}\n",
       "\n",
       "/* Estimator label */\n",
       "\n",
       "#sk-container-id-13 div.sk-label label {\n",
       "  font-family: monospace;\n",
       "  font-weight: bold;\n",
       "  display: inline-block;\n",
       "  line-height: 1.2em;\n",
       "}\n",
       "\n",
       "#sk-container-id-13 div.sk-label-container {\n",
       "  text-align: center;\n",
       "}\n",
       "\n",
       "/* Estimator-specific */\n",
       "#sk-container-id-13 div.sk-estimator {\n",
       "  font-family: monospace;\n",
       "  border: 1px dotted var(--sklearn-color-border-box);\n",
       "  border-radius: 0.25em;\n",
       "  box-sizing: border-box;\n",
       "  margin-bottom: 0.5em;\n",
       "  /* unfitted */\n",
       "  background-color: var(--sklearn-color-unfitted-level-0);\n",
       "}\n",
       "\n",
       "#sk-container-id-13 div.sk-estimator.fitted {\n",
       "  /* fitted */\n",
       "  background-color: var(--sklearn-color-fitted-level-0);\n",
       "}\n",
       "\n",
       "/* on hover */\n",
       "#sk-container-id-13 div.sk-estimator:hover {\n",
       "  /* unfitted */\n",
       "  background-color: var(--sklearn-color-unfitted-level-2);\n",
       "}\n",
       "\n",
       "#sk-container-id-13 div.sk-estimator.fitted:hover {\n",
       "  /* fitted */\n",
       "  background-color: var(--sklearn-color-fitted-level-2);\n",
       "}\n",
       "\n",
       "/* Specification for estimator info (e.g. \"i\" and \"?\") */\n",
       "\n",
       "/* Common style for \"i\" and \"?\" */\n",
       "\n",
       ".sk-estimator-doc-link,\n",
       "a:link.sk-estimator-doc-link,\n",
       "a:visited.sk-estimator-doc-link {\n",
       "  float: right;\n",
       "  font-size: smaller;\n",
       "  line-height: 1em;\n",
       "  font-family: monospace;\n",
       "  background-color: var(--sklearn-color-background);\n",
       "  border-radius: 1em;\n",
       "  height: 1em;\n",
       "  width: 1em;\n",
       "  text-decoration: none !important;\n",
       "  margin-left: 1ex;\n",
       "  /* unfitted */\n",
       "  border: var(--sklearn-color-unfitted-level-1) 1pt solid;\n",
       "  color: var(--sklearn-color-unfitted-level-1);\n",
       "}\n",
       "\n",
       ".sk-estimator-doc-link.fitted,\n",
       "a:link.sk-estimator-doc-link.fitted,\n",
       "a:visited.sk-estimator-doc-link.fitted {\n",
       "  /* fitted */\n",
       "  border: var(--sklearn-color-fitted-level-1) 1pt solid;\n",
       "  color: var(--sklearn-color-fitted-level-1);\n",
       "}\n",
       "\n",
       "/* On hover */\n",
       "div.sk-estimator:hover .sk-estimator-doc-link:hover,\n",
       ".sk-estimator-doc-link:hover,\n",
       "div.sk-label-container:hover .sk-estimator-doc-link:hover,\n",
       ".sk-estimator-doc-link:hover {\n",
       "  /* unfitted */\n",
       "  background-color: var(--sklearn-color-unfitted-level-3);\n",
       "  color: var(--sklearn-color-background);\n",
       "  text-decoration: none;\n",
       "}\n",
       "\n",
       "div.sk-estimator.fitted:hover .sk-estimator-doc-link.fitted:hover,\n",
       ".sk-estimator-doc-link.fitted:hover,\n",
       "div.sk-label-container:hover .sk-estimator-doc-link.fitted:hover,\n",
       ".sk-estimator-doc-link.fitted:hover {\n",
       "  /* fitted */\n",
       "  background-color: var(--sklearn-color-fitted-level-3);\n",
       "  color: var(--sklearn-color-background);\n",
       "  text-decoration: none;\n",
       "}\n",
       "\n",
       "/* Span, style for the box shown on hovering the info icon */\n",
       ".sk-estimator-doc-link span {\n",
       "  display: none;\n",
       "  z-index: 9999;\n",
       "  position: relative;\n",
       "  font-weight: normal;\n",
       "  right: .2ex;\n",
       "  padding: .5ex;\n",
       "  margin: .5ex;\n",
       "  width: min-content;\n",
       "  min-width: 20ex;\n",
       "  max-width: 50ex;\n",
       "  color: var(--sklearn-color-text);\n",
       "  box-shadow: 2pt 2pt 4pt #999;\n",
       "  /* unfitted */\n",
       "  background: var(--sklearn-color-unfitted-level-0);\n",
       "  border: .5pt solid var(--sklearn-color-unfitted-level-3);\n",
       "}\n",
       "\n",
       ".sk-estimator-doc-link.fitted span {\n",
       "  /* fitted */\n",
       "  background: var(--sklearn-color-fitted-level-0);\n",
       "  border: var(--sklearn-color-fitted-level-3);\n",
       "}\n",
       "\n",
       ".sk-estimator-doc-link:hover span {\n",
       "  display: block;\n",
       "}\n",
       "\n",
       "/* \"?\"-specific style due to the `<a>` HTML tag */\n",
       "\n",
       "#sk-container-id-13 a.estimator_doc_link {\n",
       "  float: right;\n",
       "  font-size: 1rem;\n",
       "  line-height: 1em;\n",
       "  font-family: monospace;\n",
       "  background-color: var(--sklearn-color-background);\n",
       "  border-radius: 1rem;\n",
       "  height: 1rem;\n",
       "  width: 1rem;\n",
       "  text-decoration: none;\n",
       "  /* unfitted */\n",
       "  color: var(--sklearn-color-unfitted-level-1);\n",
       "  border: var(--sklearn-color-unfitted-level-1) 1pt solid;\n",
       "}\n",
       "\n",
       "#sk-container-id-13 a.estimator_doc_link.fitted {\n",
       "  /* fitted */\n",
       "  border: var(--sklearn-color-fitted-level-1) 1pt solid;\n",
       "  color: var(--sklearn-color-fitted-level-1);\n",
       "}\n",
       "\n",
       "/* On hover */\n",
       "#sk-container-id-13 a.estimator_doc_link:hover {\n",
       "  /* unfitted */\n",
       "  background-color: var(--sklearn-color-unfitted-level-3);\n",
       "  color: var(--sklearn-color-background);\n",
       "  text-decoration: none;\n",
       "}\n",
       "\n",
       "#sk-container-id-13 a.estimator_doc_link.fitted:hover {\n",
       "  /* fitted */\n",
       "  background-color: var(--sklearn-color-fitted-level-3);\n",
       "}\n",
       "</style><div id=\"sk-container-id-13\" class=\"sk-top-container\"><div class=\"sk-text-repr-fallback\"><pre>StackingClassifier(estimators=[(&#x27;lr&#x27;, LogisticRegression()),\n",
       "                               (&#x27;rf&#x27;, RandomForestClassifier()),\n",
       "                               (&#x27;knn&#x27;, KNeighborsClassifier())],\n",
       "                   final_estimator=LogisticRegression())</pre><b>In a Jupyter environment, please rerun this cell to show the HTML representation or trust the notebook. <br />On GitHub, the HTML representation is unable to render, please try loading this page with nbviewer.org.</b></div><div class=\"sk-container\" hidden><div class=\"sk-item sk-dashed-wrapped\"><div class=\"sk-label-container\"><div class=\"sk-label  sk-toggleable\"><input class=\"sk-toggleable__control sk-hidden--visually\" id=\"sk-estimator-id-33\" type=\"checkbox\" ><label for=\"sk-estimator-id-33\" class=\"sk-toggleable__label  sk-toggleable__label-arrow \">&nbsp;&nbsp;StackingClassifier<a class=\"sk-estimator-doc-link \" rel=\"noreferrer\" target=\"_blank\" href=\"https://scikit-learn.org/1.4/modules/generated/sklearn.ensemble.StackingClassifier.html\">?<span>Documentation for StackingClassifier</span></a><span class=\"sk-estimator-doc-link \">i<span>Not fitted</span></span></label><div class=\"sk-toggleable__content \"><pre>StackingClassifier(estimators=[(&#x27;lr&#x27;, LogisticRegression()),\n",
       "                               (&#x27;rf&#x27;, RandomForestClassifier()),\n",
       "                               (&#x27;knn&#x27;, KNeighborsClassifier())],\n",
       "                   final_estimator=LogisticRegression())</pre></div> </div></div><div class=\"sk-serial\"><div class=\"sk-item\"><div class=\"sk-parallel\"><div class=\"sk-parallel-item\"><div class=\"sk-item\"><div class=\"sk-label-container\"><div class=\"sk-label  sk-toggleable\"><label>lr</label></div></div><div class=\"sk-serial\"><div class=\"sk-item\"><div class=\"sk-estimator  sk-toggleable\"><input class=\"sk-toggleable__control sk-hidden--visually\" id=\"sk-estimator-id-34\" type=\"checkbox\" ><label for=\"sk-estimator-id-34\" class=\"sk-toggleable__label  sk-toggleable__label-arrow \">&nbsp;LogisticRegression<a class=\"sk-estimator-doc-link \" rel=\"noreferrer\" target=\"_blank\" href=\"https://scikit-learn.org/1.4/modules/generated/sklearn.linear_model.LogisticRegression.html\">?<span>Documentation for LogisticRegression</span></a></label><div class=\"sk-toggleable__content \"><pre>LogisticRegression()</pre></div> </div></div></div></div></div><div class=\"sk-parallel-item\"><div class=\"sk-item\"><div class=\"sk-label-container\"><div class=\"sk-label  sk-toggleable\"><label>rf</label></div></div><div class=\"sk-serial\"><div class=\"sk-item\"><div class=\"sk-estimator  sk-toggleable\"><input class=\"sk-toggleable__control sk-hidden--visually\" id=\"sk-estimator-id-35\" type=\"checkbox\" ><label for=\"sk-estimator-id-35\" class=\"sk-toggleable__label  sk-toggleable__label-arrow \">&nbsp;RandomForestClassifier<a class=\"sk-estimator-doc-link \" rel=\"noreferrer\" target=\"_blank\" href=\"https://scikit-learn.org/1.4/modules/generated/sklearn.ensemble.RandomForestClassifier.html\">?<span>Documentation for RandomForestClassifier</span></a></label><div class=\"sk-toggleable__content \"><pre>RandomForestClassifier()</pre></div> </div></div></div></div></div><div class=\"sk-parallel-item\"><div class=\"sk-item\"><div class=\"sk-label-container\"><div class=\"sk-label  sk-toggleable\"><label>knn</label></div></div><div class=\"sk-serial\"><div class=\"sk-item\"><div class=\"sk-estimator  sk-toggleable\"><input class=\"sk-toggleable__control sk-hidden--visually\" id=\"sk-estimator-id-36\" type=\"checkbox\" ><label for=\"sk-estimator-id-36\" class=\"sk-toggleable__label  sk-toggleable__label-arrow \">&nbsp;KNeighborsClassifier<a class=\"sk-estimator-doc-link \" rel=\"noreferrer\" target=\"_blank\" href=\"https://scikit-learn.org/1.4/modules/generated/sklearn.neighbors.KNeighborsClassifier.html\">?<span>Documentation for KNeighborsClassifier</span></a></label><div class=\"sk-toggleable__content \"><pre>KNeighborsClassifier()</pre></div> </div></div></div></div></div></div></div><div class=\"sk-item\"><div class=\"sk-parallel\"><div class=\"sk-parallel-item\"><div class=\"sk-item\"><div class=\"sk-label-container\"><div class=\"sk-label  sk-toggleable\"><label>final_estimator</label></div></div><div class=\"sk-serial\"><div class=\"sk-item\"><div class=\"sk-estimator  sk-toggleable\"><input class=\"sk-toggleable__control sk-hidden--visually\" id=\"sk-estimator-id-37\" type=\"checkbox\" ><label for=\"sk-estimator-id-37\" class=\"sk-toggleable__label  sk-toggleable__label-arrow \">&nbsp;LogisticRegression<a class=\"sk-estimator-doc-link \" rel=\"noreferrer\" target=\"_blank\" href=\"https://scikit-learn.org/1.4/modules/generated/sklearn.linear_model.LogisticRegression.html\">?<span>Documentation for LogisticRegression</span></a></label><div class=\"sk-toggleable__content \"><pre>LogisticRegression()</pre></div> </div></div></div></div></div></div></div></div></div></div></div>"
      ],
      "text/plain": [
       "StackingClassifier(estimators=[('lr', LogisticRegression()),\n",
       "                               ('rf', RandomForestClassifier()),\n",
       "                               ('knn', KNeighborsClassifier())],\n",
       "                   final_estimator=LogisticRegression())"
      ]
     },
     "execution_count": 1774,
     "metadata": {},
     "output_type": "execute_result"
    }
   ],
   "source": [
    "from sklearn.linear_model import LogisticRegression\n",
    "from sklearn.ensemble import RandomForestClassifier\n",
    "from sklearn.neighbors import KNeighborsClassifier\n",
    "from sklearn.ensemble import StackingClassifier\n",
    "\n",
    "base_learners = [\n",
    "    ('lr', LogisticRegression()),\n",
    "    ('rf', RandomForestClassifier()),\n",
    "    ('knn', KNeighborsClassifier())\n",
    "]\n",
    "\n",
    "stacking_model = StackingClassifier(estimators=base_learners, final_estimator=LogisticRegression())\n",
    "stacking_model\n",
    "\n",
    "\n",
    "\n",
    "\n",
    "\n"
   ]
  },
  {
   "cell_type": "code",
   "execution_count": null,
   "id": "44d2545c-0399-4875-a650-abd4f540140b",
   "metadata": {},
   "outputs": [],
   "source": []
  }
 ],
 "metadata": {
  "kernelspec": {
   "display_name": "Python 3 (ipykernel)",
   "language": "python",
   "name": "python3"
  },
  "language_info": {
   "codemirror_mode": {
    "name": "ipython",
    "version": 3
   },
   "file_extension": ".py",
   "mimetype": "text/x-python",
   "name": "python",
   "nbconvert_exporter": "python",
   "pygments_lexer": "ipython3",
   "version": "3.12.4"
  }
 },
 "nbformat": 4,
 "nbformat_minor": 5
}
